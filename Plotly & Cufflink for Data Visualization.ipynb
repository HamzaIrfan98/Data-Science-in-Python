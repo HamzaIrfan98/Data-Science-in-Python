{
 "cells": [
  {
   "cell_type": "code",
   "execution_count": 1,
   "metadata": {},
   "outputs": [],
   "source": [
    "import pandas as pd\n",
    "import numpy as np\n",
    "%matplotlib inline"
   ]
  },
  {
   "cell_type": "code",
   "execution_count": 3,
   "metadata": {},
   "outputs": [
    {
     "name": "stdout",
     "output_type": "stream",
     "text": [
      "5.9.0\n"
     ]
    }
   ],
   "source": [
    "from plotly import __version__\n",
    "print(__version__)"
   ]
  },
  {
   "cell_type": "code",
   "execution_count": 4,
   "metadata": {},
   "outputs": [],
   "source": [
    "from plotly.offline import download_plotlyjs, init_notebook_mode, plot, iplot"
   ]
  },
  {
   "cell_type": "code",
   "execution_count": 5,
   "metadata": {},
   "outputs": [],
   "source": [
    "import cufflinks as cf"
   ]
  },
  {
   "cell_type": "code",
   "execution_count": 6,
   "metadata": {},
   "outputs": [
    {
     "data": {
      "text/html": [
       "        <script type=\"text/javascript\">\n",
       "        window.PlotlyConfig = {MathJaxConfig: 'local'};\n",
       "        if (window.MathJax && window.MathJax.Hub && window.MathJax.Hub.Config) {window.MathJax.Hub.Config({SVG: {font: \"STIX-Web\"}});}\n",
       "        if (typeof require !== 'undefined') {\n",
       "        require.undef(\"plotly\");\n",
       "        requirejs.config({\n",
       "            paths: {\n",
       "                'plotly': ['https://cdn.plot.ly/plotly-2.12.1.min']\n",
       "            }\n",
       "        });\n",
       "        require(['plotly'], function(Plotly) {\n",
       "            window._Plotly = Plotly;\n",
       "        });\n",
       "        }\n",
       "        </script>\n",
       "        "
      ]
     },
     "metadata": {},
     "output_type": "display_data"
    }
   ],
   "source": [
    "init_notebook_mode(connected=True)"
   ]
  },
  {
   "cell_type": "code",
   "execution_count": 7,
   "metadata": {},
   "outputs": [
    {
     "data": {
      "text/html": [
       "        <script type=\"text/javascript\">\n",
       "        window.PlotlyConfig = {MathJaxConfig: 'local'};\n",
       "        if (window.MathJax && window.MathJax.Hub && window.MathJax.Hub.Config) {window.MathJax.Hub.Config({SVG: {font: \"STIX-Web\"}});}\n",
       "        if (typeof require !== 'undefined') {\n",
       "        require.undef(\"plotly\");\n",
       "        requirejs.config({\n",
       "            paths: {\n",
       "                'plotly': ['https://cdn.plot.ly/plotly-2.12.1.min']\n",
       "            }\n",
       "        });\n",
       "        require(['plotly'], function(Plotly) {\n",
       "            window._Plotly = Plotly;\n",
       "        });\n",
       "        }\n",
       "        </script>\n",
       "        "
      ]
     },
     "metadata": {},
     "output_type": "display_data"
    }
   ],
   "source": [
    "cf.go_offline()"
   ]
  },
  {
   "cell_type": "code",
   "execution_count": 9,
   "metadata": {},
   "outputs": [],
   "source": [
    "df = pd.DataFrame(np.random.randn(100,4), columns= 'A B C D'.split())"
   ]
  },
  {
   "cell_type": "code",
   "execution_count": 10,
   "metadata": {},
   "outputs": [
    {
     "data": {
      "text/html": [
       "<div>\n",
       "<style scoped>\n",
       "    .dataframe tbody tr th:only-of-type {\n",
       "        vertical-align: middle;\n",
       "    }\n",
       "\n",
       "    .dataframe tbody tr th {\n",
       "        vertical-align: top;\n",
       "    }\n",
       "\n",
       "    .dataframe thead th {\n",
       "        text-align: right;\n",
       "    }\n",
       "</style>\n",
       "<table border=\"1\" class=\"dataframe\">\n",
       "  <thead>\n",
       "    <tr style=\"text-align: right;\">\n",
       "      <th></th>\n",
       "      <th>A</th>\n",
       "      <th>B</th>\n",
       "      <th>C</th>\n",
       "      <th>D</th>\n",
       "    </tr>\n",
       "  </thead>\n",
       "  <tbody>\n",
       "    <tr>\n",
       "      <th>0</th>\n",
       "      <td>0.085484</td>\n",
       "      <td>-0.162405</td>\n",
       "      <td>0.641259</td>\n",
       "      <td>-1.782292</td>\n",
       "    </tr>\n",
       "    <tr>\n",
       "      <th>1</th>\n",
       "      <td>-0.589392</td>\n",
       "      <td>0.980852</td>\n",
       "      <td>1.472568</td>\n",
       "      <td>0.191521</td>\n",
       "    </tr>\n",
       "    <tr>\n",
       "      <th>2</th>\n",
       "      <td>-0.841967</td>\n",
       "      <td>1.626376</td>\n",
       "      <td>-0.268747</td>\n",
       "      <td>-1.146707</td>\n",
       "    </tr>\n",
       "    <tr>\n",
       "      <th>3</th>\n",
       "      <td>1.065329</td>\n",
       "      <td>0.667045</td>\n",
       "      <td>-1.773506</td>\n",
       "      <td>0.306247</td>\n",
       "    </tr>\n",
       "    <tr>\n",
       "      <th>4</th>\n",
       "      <td>-0.304049</td>\n",
       "      <td>0.846391</td>\n",
       "      <td>0.560140</td>\n",
       "      <td>0.032300</td>\n",
       "    </tr>\n",
       "  </tbody>\n",
       "</table>\n",
       "</div>"
      ],
      "text/plain": [
       "          A         B         C         D\n",
       "0  0.085484 -0.162405  0.641259 -1.782292\n",
       "1 -0.589392  0.980852  1.472568  0.191521\n",
       "2 -0.841967  1.626376 -0.268747 -1.146707\n",
       "3  1.065329  0.667045 -1.773506  0.306247\n",
       "4 -0.304049  0.846391  0.560140  0.032300"
      ]
     },
     "execution_count": 10,
     "metadata": {},
     "output_type": "execute_result"
    }
   ],
   "source": [
    "df.head()"
   ]
  },
  {
   "cell_type": "code",
   "execution_count": 11,
   "metadata": {},
   "outputs": [],
   "source": [
    "df2 = pd.DataFrame({'Category' : ['A', 'B', 'C'], 'values':[32,43,50]})"
   ]
  },
  {
   "cell_type": "code",
   "execution_count": 12,
   "metadata": {},
   "outputs": [
    {
     "data": {
      "text/html": [
       "<div>\n",
       "<style scoped>\n",
       "    .dataframe tbody tr th:only-of-type {\n",
       "        vertical-align: middle;\n",
       "    }\n",
       "\n",
       "    .dataframe tbody tr th {\n",
       "        vertical-align: top;\n",
       "    }\n",
       "\n",
       "    .dataframe thead th {\n",
       "        text-align: right;\n",
       "    }\n",
       "</style>\n",
       "<table border=\"1\" class=\"dataframe\">\n",
       "  <thead>\n",
       "    <tr style=\"text-align: right;\">\n",
       "      <th></th>\n",
       "      <th>Category</th>\n",
       "      <th>values</th>\n",
       "    </tr>\n",
       "  </thead>\n",
       "  <tbody>\n",
       "    <tr>\n",
       "      <th>0</th>\n",
       "      <td>A</td>\n",
       "      <td>32</td>\n",
       "    </tr>\n",
       "    <tr>\n",
       "      <th>1</th>\n",
       "      <td>B</td>\n",
       "      <td>43</td>\n",
       "    </tr>\n",
       "    <tr>\n",
       "      <th>2</th>\n",
       "      <td>C</td>\n",
       "      <td>50</td>\n",
       "    </tr>\n",
       "  </tbody>\n",
       "</table>\n",
       "</div>"
      ],
      "text/plain": [
       "  Category  values\n",
       "0        A      32\n",
       "1        B      43\n",
       "2        C      50"
      ]
     },
     "execution_count": 12,
     "metadata": {},
     "output_type": "execute_result"
    }
   ],
   "source": [
    "df2.head()"
   ]
  },
  {
   "cell_type": "code",
   "execution_count": 13,
   "metadata": {},
   "outputs": [
    {
     "data": {
      "text/plain": [
       "<AxesSubplot:>"
      ]
     },
     "execution_count": 13,
     "metadata": {},
     "output_type": "execute_result"
    },
    {
     "data": {
      "image/png": "[encoded data removed]",
      "text/plain": [
       "<Figure size 432x288 with 1 Axes>"
      ]
     },
     "metadata": {
      "needs_background": "light"
     },
     "output_type": "display_data"
    }
   ],
   "source": [
    "df.plot()"
   ]
  },
  {
   "cell_type": "code",
   "execution_count": 14,
   "metadata": {},
   "outputs": [
    {
     "data": {
      "application/vnd.plotly.v1+json": {
       "config": {
        "linkText": "Export to plot.ly",
        "plotlyServerURL": "https://plot.ly",
        "showLink": true
       },
       "data": [
        {
         "line": {
          "color": "rgba(255, 153, 51, 1.0)",
          "dash": "solid",
          "shape": "linear",
          "width": 1.3
         },
         "mode": "lines",
         "name": "A",
         "text": "",
         "type": "scatter",
         "x": [
          0,
          1,
          2,
          3,
          4,
          5,
          6,
          7,
          8,
          9,
          10,
          11,
          12,
          13,
          14,
          15,
          16,
          17,
          18,
          19,
          20,
          21,
          22,
          23,
          24,
          25,
          26,
          27,
          28,
          29,
          30,
          31,
          32,
          33,
          34,
          35,
          36,
          37,
          38,
          39,
          40,
          41,
          42,
          43,
          44,
          45,
          46,
          47,
          48,
          49,
          50,
          51,
          52,
          53,
          54,
          55,
          56,
          57,
          58,
          59,
          60,
          61,
          62,
          63,
          64,
          65,
          66,
          67,
          68,
          69,
          70,
          71,
          72,
          73,
          74,
          75,
          76,
          77,
          78,
          79,
          80,
          81,
          82,
          83,
          84,
          85,
          86,
          87,
          88,
          89,
          90,
          91,
          92,
          93,
          94,
          95,
          96,
          97,
          98,
          99
         ],
         "y": [
          0.08548394392684941,
          -0.5893916978546746,
          -0.8419665667833715,
          1.0653294037412206,
          -0.30404866925348994,
          0.3220582584509832,
          1.1049131997268444,
          0.32518021155482785,
          2.7803713071535303,
          -0.6512650673063205,
          0.49199825674186487,
          -0.08508963549565635,
          0.5726425435043762,
          2.1386501290862214,
          -0.9950235584665907,
          2.0052327231453364,
          1.9086945678707794,
          -0.4672730441548413,
          0.09809372512041015,
          0.20776175313101258,
          -0.13008291273505135,
          -0.213716607920109,
          -0.752971396659258,
          -0.8856345833042678,
          -0.21828897744131906,
          -1.5221842260642924,
          1.7597176132531838,
          0.368692867252797,
          0.012002423023914443,
          -0.3300847199674508,
          -1.174027326022618,
          0.27669897261410636,
          0.9022235975340244,
          0.1237670623846236,
          0.27474926924742754,
          -1.2318138433306547,
          -0.9291362405434669,
          0.2581841484670674,
          -0.35557870411472275,
          0.31329107322223737,
          -0.10998911435349933,
          -0.6056942752510703,
          0.5496119520128204,
          0.7217212678834122,
          1.1080438778814063,
          1.194652068448999,
          1.9452460051287748,
          -1.0096690093450156,
          0.06886112821121931,
          -0.22386569878334348,
          0.3722266141668129,
          2.3949425017894628,
          -1.5415993206560856,
          0.31051517323586425,
          -0.9007115672683569,
          -0.37250269015414444,
          0.12892868685879072,
          -2.093099841220505,
          0.19281052497404821,
          -0.14026793411748828,
          0.7202355995317967,
          1.9985914284907331,
          -0.024224308482236806,
          0.01896759967272472,
          -1.5884383627946148,
          0.14382833009913976,
          0.8208787993291673,
          0.11647492827936208,
          0.8148442245171553,
          -0.9944542791659978,
          -1.5826860570144032,
          -1.0027608392246807,
          0.6405945754015209,
          -1.2307004748798553,
          -0.9114975696364512,
          1.37764411838987,
          0.5203887980053448,
          -0.6308501093425088,
          -0.04108239600910254,
          -0.14803345522911654,
          0.27240046321175776,
          -0.0984268942816003,
          -0.7917134062519374,
          -0.6755333627675957,
          0.5021187599504238,
          -1.489214963700235,
          0.08552835376163205,
          -1.8220289030449843,
          1.3610498831089615,
          -1.5377662111236543,
          0.4413929766677556,
          1.1406361331627282,
          1.7219831491686641,
          -0.154773148802657,
          -0.2652967487886054,
          1.0404378705960964,
          -0.9175907022603449,
          -0.8622776172416078,
          -1.3999208590790715,
          0.09066006069192459
         ]
        },
        {
         "line": {
          "color": "rgba(55, 128, 191, 1.0)",
          "dash": "solid",
          "shape": "linear",
          "width": 1.3
         },
         "mode": "lines",
         "name": "B",
         "text": "",
         "type": "scatter",
         "x": [
          0,
          1,
          2,
          3,
          4,
          5,
          6,
          7,
          8,
          9,
          10,
          11,
          12,
          13,
          14,
          15,
          16,
          17,
          18,
          19,
          20,
          21,
          22,
          23,
          24,
          25,
          26,
          27,
          28,
          29,
          30,
          31,
          32,
          33,
          34,
          35,
          36,
          37,
          38,
          39,
          40,
          41,
          42,
          43,
          44,
          45,
          46,
          47,
          48,
          49,
          50,
          51,
          52,
          53,
          54,
          55,
          56,
          57,
          58,
          59,
          60,
          61,
          62,
          63,
          64,
          65,
          66,
          67,
          68,
          69,
          70,
          71,
          72,
          73,
          74,
          75,
          76,
          77,
          78,
          79,
          80,
          81,
          82,
          83,
          84,
          85,
          86,
          87,
          88,
          89,
          90,
          91,
          92,
          93,
          94,
          95,
          96,
          97,
          98,
          99
         ],
         "y": [
          -0.1624050135760886,
          0.980851981664618,
          1.6263758604043954,
          0.6670449829300747,
          0.8463914642614553,
          -0.5557547356556708,
          1.3335019465823352,
          -0.30360500311515876,
          -0.5572485277306021,
          1.7923193575265437,
          0.5230714474292316,
          1.3962847654068788,
          0.5454202975825965,
          0.8220066168038932,
          0.1333294140157902,
          -0.4580923125178034,
          -1.8702657688987048,
          0.19165599638946365,
          -1.5441476695946914,
          1.489985153554788,
          0.08513682537748908,
          0.5884943933265148,
          -0.37527778093043845,
          -1.2420986135906638,
          -0.09359385888729599,
          -0.8993751877593811,
          0.9038336626818552,
          0.19897941905376915,
          -0.3499682664519889,
          -0.813255283672789,
          -0.761601608488013,
          0.6852647594122985,
          0.7444146965136054,
          -0.10824902571549988,
          1.0343766589925962,
          0.6794742299814396,
          -1.377108827556193,
          -0.9198084554974598,
          1.2754158682756254,
          -0.6805171783915703,
          1.6295186194490634,
          1.3058104975166638,
          -0.008015691590719798,
          0.37945370182803906,
          -0.9344148723391815,
          0.33642615175310187,
          -1.117113472484452,
          1.2098097732957693,
          1.890729615247962,
          -0.3020317509780135,
          -0.795391429211958,
          0.5145436162551661,
          -1.17644678201426,
          0.011191592090796853,
          -2.664750053974455,
          -0.7052058747591703,
          0.4318577646237392,
          0.3482634341301973,
          0.6748205565464416,
          -0.34169023793862807,
          -0.07989141803255546,
          -0.1006525565267022,
          0.7334329357689917,
          0.8392098396231535,
          -0.4553307130666966,
          -0.7064260571420193,
          0.15230984770640202,
          0.6237041195854198,
          0.5318919831274378,
          0.5221352231397314,
          -0.8174059688720081,
          2.4389763497413726,
          -0.1242766171971954,
          1.9621837956400514,
          -0.09450483861151593,
          -0.27813013860092584,
          1.8763100787933222,
          -1.149197127466469,
          -0.33071258304144435,
          -0.903204616889579,
          -0.38847979647058817,
          -1.1896469966014003,
          -0.20764447487221024,
          1.243884872816924,
          -0.5090636362684436,
          -1.0423055947393969,
          -0.06350848782566847,
          -0.715011626851832,
          -0.004311390566099713,
          0.35968046038437906,
          0.3482155214518224,
          1.5642585538961675,
          0.05372460015033393,
          0.26927859988825925,
          0.9459316001975121,
          -1.3231038977865164,
          -0.13177750479968495,
          2.894936439883955,
          1.2620145095169104,
          -2.673128848304644
         ]
        },
        {
         "line": {
          "color": "rgba(50, 171, 96, 1.0)",
          "dash": "solid",
          "shape": "linear",
          "width": 1.3
         },
         "mode": "lines",
         "name": "C",
         "text": "",
         "type": "scatter",
         "x": [
          0,
          1,
          2,
          3,
          4,
          5,
          6,
          7,
          8,
          9,
          10,
          11,
          12,
          13,
          14,
          15,
          16,
          17,
          18,
          19,
          20,
          21,
          22,
          23,
          24,
          25,
          26,
          27,
          28,
          29,
          30,
          31,
          32,
          33,
          34,
          35,
          36,
          37,
          38,
          39,
          40,
          41,
          42,
          43,
          44,
          45,
          46,
          47,
          48,
          49,
          50,
          51,
          52,
          53,
          54,
          55,
          56,
          57,
          58,
          59,
          60,
          61,
          62,
          63,
          64,
          65,
          66,
          67,
          68,
          69,
          70,
          71,
          72,
          73,
          74,
          75,
          76,
          77,
          78,
          79,
          80,
          81,
          82,
          83,
          84,
          85,
          86,
          87,
          88,
          89,
          90,
          91,
          92,
          93,
          94,
          95,
          96,
          97,
          98,
          99
         ],
         "y": [
          0.6412589089125755,
          1.472567741037022,
          -0.2687466186269782,
          -1.7735064924519603,
          0.5601400122075234,
          0.25217416536870757,
          -1.3215997730280071,
          -1.7262086242966832,
          -0.9738853524478275,
          1.2500283602315663,
          0.5249984551350043,
          -1.502163493955724,
          0.9113486982285866,
          0.6796501710359869,
          -0.635856076990072,
          -1.5901119656069276,
          -0.7904035535920758,
          0.34955478363036163,
          -0.6636661473619723,
          1.1783113790227202,
          -1.2808617434642788,
          1.2370923961343416,
          0.4925215168066359,
          1.0590414161745894,
          0.3818303607994144,
          0.3309854097822343,
          0.16466632880907464,
          0.15742594633466814,
          0.24139038536893875,
          0.20974639260906272,
          -0.4376340808291526,
          0.45307155889739953,
          -0.1195415538869707,
          0.7050934558410267,
          -0.16505543858861943,
          -0.0744610225167786,
          -1.5359055532970263,
          -0.3179748445068104,
          -0.9355433150515867,
          0.7763428615270302,
          -0.7570288525819087,
          -0.5232076867983879,
          -1.052788698551844,
          -1.2789749060079498,
          2.1658442574234646,
          0.6516143243986185,
          -0.46556438374990194,
          -0.2868044646248472,
          0.44127415645197704,
          -1.292478675144893,
          0.02701392480956382,
          1.1674132319349262,
          -0.34019771545061356,
          0.9321924054092174,
          -0.7928124486847574,
          -0.16498525070646566,
          1.2217990862318404,
          0.44302455085292114,
          -1.6612556202937296,
          -0.47056999434915275,
          0.7476295398312772,
          0.2122729890849066,
          -0.6474087501116943,
          -1.498408832541912,
          0.6061541873041607,
          -0.46516793267155004,
          0.6289680770835141,
          -0.46396714401992867,
          0.3091540300280098,
          -1.049917603902546,
          1.1484605009911824,
          -0.7755442675016427,
          -0.16128609405326352,
          0.5540049239205772,
          -0.6041047593824724,
          0.6312424861158306,
          -1.7140095898951782,
          -0.27122334414049487,
          -1.7643029354927504,
          -1.2568226575240087,
          -0.8211420844568663,
          0.7368746723538686,
          0.41721452554864924,
          0.07562441066740945,
          0.676921980063291,
          0.43084182319755937,
          -0.04001504424991739,
          -0.11533662855753606,
          0.04023772431325562,
          0.11617110860078872,
          2.1731346128638154,
          0.445067331245984,
          -1.0448362291742717,
          0.24246137636291806,
          1.0033335882793126,
          -0.844881667918056,
          1.1021227464217307,
          0.47606015853335476,
          -0.06914169012261069,
          -1.0479609140632111
         ]
        },
        {
         "line": {
          "color": "rgba(128, 0, 128, 1.0)",
          "dash": "solid",
          "shape": "linear",
          "width": 1.3
         },
         "mode": "lines",
         "name": "D",
         "text": "",
         "type": "scatter",
         "x": [
          0,
          1,
          2,
          3,
          4,
          5,
          6,
          7,
          8,
          9,
          10,
          11,
          12,
          13,
          14,
          15,
          16,
          17,
          18,
          19,
          20,
          21,
          22,
          23,
          24,
          25,
          26,
          27,
          28,
          29,
          30,
          31,
          32,
          33,
          34,
          35,
          36,
          37,
          38,
          39,
          40,
          41,
          42,
          43,
          44,
          45,
          46,
          47,
          48,
          49,
          50,
          51,
          52,
          53,
          54,
          55,
          56,
          57,
          58,
          59,
          60,
          61,
          62,
          63,
          64,
          65,
          66,
          67,
          68,
          69,
          70,
          71,
          72,
          73,
          74,
          75,
          76,
          77,
          78,
          79,
          80,
          81,
          82,
          83,
          84,
          85,
          86,
          87,
          88,
          89,
          90,
          91,
          92,
          93,
          94,
          95,
          96,
          97,
          98,
          99
         ],
         "y": [
          -1.7822917875091935,
          0.1915208695213333,
          -1.1467068976703902,
          0.30624681099494816,
          0.03229961002316076,
          -0.41019555202988855,
          0.9234459150834765,
          0.6845490151314748,
          1.3976402216500794,
          0.34078001060667357,
          -0.04312938263882135,
          1.1579173247188355,
          -0.24375085798034005,
          0.6635410586107904,
          -0.41214106415805,
          0.20783347409624986,
          1.9778035277350121,
          1.8035219152401591,
          0.8672718446751185,
          1.1225593110805672,
          1.3585885827802862,
          0.09615802852056259,
          -2.1654458285904705,
          0.801827621288512,
          1.0912870409177637,
          -0.47755874710532253,
          0.8669663674008047,
          1.4450890511468257,
          0.020537975107899877,
          -1.1305545949149578,
          -1.4042787535845844,
          -1.047192049958398,
          -1.7062430433981837,
          1.0406748783313535,
          2.603230292200818,
          -0.45588335299079275,
          1.0172306316579824,
          -0.693019405978078,
          0.3229610115017036,
          -0.1277257660468025,
          -0.1807752695669388,
          -0.27881021294072755,
          -0.507580865896411,
          0.5046709690440891,
          0.05779397036814958,
          -0.8739310677129855,
          -1.5171668436546109,
          0.2103284547817714,
          -0.2876494863559525,
          -0.27380897287263584,
          -0.39468103443361874,
          1.2138186670235764,
          -1.1763908107905696,
          -0.6905409504347623,
          0.06320490997305743,
          -0.7156225632534614,
          -1.5693393310807464,
          1.3000718895120567,
          -0.8974172400966365,
          -1.1879501225629767,
          0.11384289484320421,
          -0.0650235497763702,
          -0.17192387639926812,
          0.1822730143198839,
          -1.2890501348396302,
          -0.08631434729283817,
          0.9314827288196189,
          -0.343699859315308,
          0.3321520635968143,
          -0.2792076671860723,
          0.5902727958788655,
          -0.9797952884959037,
          1.3233738189549666,
          -0.9833479609096336,
          -0.824933730173071,
          -0.2900561002124916,
          0.98159145364883,
          1.7616843811085157,
          0.9194420221106,
          -2.678004829352987,
          1.7157153410166455,
          -1.3658609547855702,
          -0.5917148213076168,
          -1.113407552973405,
          1.5438265040803627,
          0.0916017762288628,
          -1.3891670183006424,
          -0.06210004705111074,
          -0.10160228286509329,
          -0.10034150180669871,
          2.098253749252335,
          -1.9136082063618318,
          2.2509058712518946,
          0.8327274034959132,
          0.3033332957175999,
          2.6833417001980493,
          0.7576534733306034,
          0.9500571946556061,
          0.04208920924634037,
          0.8425203307201007
         ]
        }
       ],
       "layout": {
        "legend": {
         "bgcolor": "#F5F6F9",
         "font": {
          "color": "#4D5663"
         }
        },
        "paper_bgcolor": "#F5F6F9",
        "plot_bgcolor": "#F5F6F9",
        "template": {
         "data": {
          "bar": [
           {
            "error_x": {
             "color": "#2a3f5f"
            },
            "error_y": {
             "color": "#2a3f5f"
            },
            "marker": {
             "line": {
              "color": "#E5ECF6",
              "width": 0.5
             },
             "pattern": {
              "fillmode": "overlay",
              "size": 10,
              "solidity": 0.2
             }
            },
            "type": "bar"
           }
          ],
          "barpolar": [
           {
            "marker": {
             "line": {
              "color": "#E5ECF6",
              "width": 0.5
             },
             "pattern": {
              "fillmode": "overlay",
              "size": 10,
              "solidity": 0.2
             }
            },
            "type": "barpolar"
           }
          ],
          "carpet": [
           {
            "aaxis": {
             "endlinecolor": "#2a3f5f",
             "gridcolor": "white",
             "linecolor": "white",
             "minorgridcolor": "white",
             "startlinecolor": "#2a3f5f"
            },
            "baxis": {
             "endlinecolor": "#2a3f5f",
             "gridcolor": "white",
             "linecolor": "white",
             "minorgridcolor": "white",
             "startlinecolor": "#2a3f5f"
            },
            "type": "carpet"
           }
          ],
          "choropleth": [
           {
            "colorbar": {
             "outlinewidth": 0,
             "ticks": ""
            },
            "type": "choropleth"
           }
          ],
          "contour": [
           {
            "colorbar": {
             "outlinewidth": 0,
             "ticks": ""
            },
            "colorscale": [
             [
              0,
              "#0d0887"
             ],
             [
              0.1111111111111111,
              "#46039f"
             ],
             [
              0.2222222222222222,
              "#7201a8"
             ],
             [
              0.3333333333333333,
              "#9c179e"
             ],
             [
              0.4444444444444444,
              "#bd3786"
             ],
             [
              0.5555555555555556,
              "#d8576b"
             ],
             [
              0.6666666666666666,
              "#ed7953"
             ],
             [
              0.7777777777777778,
              "#fb9f3a"
             ],
             [
              0.8888888888888888,
              "#fdca26"
             ],
             [
              1,
              "#f0f921"
             ]
            ],
            "type": "contour"
           }
          ],
          "contourcarpet": [
           {
            "colorbar": {
             "outlinewidth": 0,
             "ticks": ""
            },
            "type": "contourcarpet"
           }
          ],
          "heatmap": [
           {
            "colorbar": {
             "outlinewidth": 0,
             "ticks": ""
            },
            "colorscale": [
             [
              0,
              "#0d0887"
             ],
             [
              0.1111111111111111,
              "#46039f"
             ],
             [
              0.2222222222222222,
              "#7201a8"
             ],
             [
              0.3333333333333333,
              "#9c179e"
             ],
             [
              0.4444444444444444,
              "#bd3786"
             ],
             [
              0.5555555555555556,
              "#d8576b"
             ],
             [
              0.6666666666666666,
              "#ed7953"
             ],
             [
              0.7777777777777778,
              "#fb9f3a"
             ],
             [
              0.8888888888888888,
              "#fdca26"
             ],
             [
              1,
              "#f0f921"
             ]
            ],
            "type": "heatmap"
           }
          ],
          "heatmapgl": [
           {
            "colorbar": {
             "outlinewidth": 0,
             "ticks": ""
            },
            "colorscale": [
             [
              0,
              "#0d0887"
             ],
             [
              0.1111111111111111,
              "#46039f"
             ],
             [
              0.2222222222222222,
              "#7201a8"
             ],
             [
              0.3333333333333333,
              "#9c179e"
             ],
             [
              0.4444444444444444,
              "#bd3786"
             ],
             [
              0.5555555555555556,
              "#d8576b"
             ],
             [
              0.6666666666666666,
              "#ed7953"
             ],
             [
              0.7777777777777778,
              "#fb9f3a"
             ],
             [
              0.8888888888888888,
              "#fdca26"
             ],
             [
              1,
              "#f0f921"
             ]
            ],
            "type": "heatmapgl"
           }
          ],
          "histogram": [
           {
            "marker": {
             "pattern": {
              "fillmode": "overlay",
              "size": 10,
              "solidity": 0.2
             }
            },
            "type": "histogram"
           }
          ],
          "histogram2d": [
           {
            "colorbar": {
             "outlinewidth": 0,
             "ticks": ""
            },
            "colorscale": [
             [
              0,
              "#0d0887"
             ],
             [
              0.1111111111111111,
              "#46039f"
             ],
             [
              0.2222222222222222,
              "#7201a8"
             ],
             [
              0.3333333333333333,
              "#9c179e"
             ],
             [
              0.4444444444444444,
              "#bd3786"
             ],
             [
              0.5555555555555556,
              "#d8576b"
             ],
             [
              0.6666666666666666,
              "#ed7953"
             ],
             [
              0.7777777777777778,
              "#fb9f3a"
             ],
             [
              0.8888888888888888,
              "#fdca26"
             ],
             [
              1,
              "#f0f921"
             ]
            ],
            "type": "histogram2d"
           }
          ],
          "histogram2dcontour": [
           {
            "colorbar": {
             "outlinewidth": 0,
             "ticks": ""
            },
            "colorscale": [
             [
              0,
              "#0d0887"
             ],
             [
              0.1111111111111111,
              "#46039f"
             ],
             [
              0.2222222222222222,
              "#7201a8"
             ],
             [
              0.3333333333333333,
              "#9c179e"
             ],
             [
              0.4444444444444444,
              "#bd3786"
             ],
             [
              0.5555555555555556,
              "#d8576b"
             ],
             [
              0.6666666666666666,
              "#ed7953"
             ],
             [
              0.7777777777777778,
              "#fb9f3a"
             ],
             [
              0.8888888888888888,
              "#fdca26"
             ],
             [
              1,
              "#f0f921"
             ]
            ],
            "type": "histogram2dcontour"
           }
          ],
          "mesh3d": [
           {
            "colorbar": {
             "outlinewidth": 0,
             "ticks": ""
            },
            "type": "mesh3d"
           }
          ],
          "parcoords": [
           {
            "line": {
             "colorbar": {
              "outlinewidth": 0,
              "ticks": ""
             }
            },
            "type": "parcoords"
           }
          ],
          "pie": [
           {
            "automargin": true,
            "type": "pie"
           }
          ],
          "scatter": [
           {
            "fillpattern": {
             "fillmode": "overlay",
             "size": 10,
             "solidity": 0.2
            },
            "type": "scatter"
           }
          ],
          "scatter3d": [
           {
            "line": {
             "colorbar": {
              "outlinewidth": 0,
              "ticks": ""
             }
            },
            "marker": {
             "colorbar": {
              "outlinewidth": 0,
              "ticks": ""
             }
            },
            "type": "scatter3d"
           }
          ],
          "scattercarpet": [
           {
            "marker": {
             "colorbar": {
              "outlinewidth": 0,
              "ticks": ""
             }
            },
            "type": "scattercarpet"
           }
          ],
          "scattergeo": [
           {
            "marker": {
             "colorbar": {
              "outlinewidth": 0,
              "ticks": ""
             }
            },
            "type": "scattergeo"
           }
          ],
          "scattergl": [
           {
            "marker": {
             "colorbar": {
              "outlinewidth": 0,
              "ticks": ""
             }
            },
            "type": "scattergl"
           }
          ],
          "scattermapbox": [
           {
            "marker": {
             "colorbar": {
              "outlinewidth": 0,
              "ticks": ""
             }
            },
            "type": "scattermapbox"
           }
          ],
          "scatterpolar": [
           {
            "marker": {
             "colorbar": {
              "outlinewidth": 0,
              "ticks": ""
             }
            },
            "type": "scatterpolar"
           }
          ],
          "scatterpolargl": [
           {
            "marker": {
             "colorbar": {
              "outlinewidth": 0,
              "ticks": ""
             }
            },
            "type": "scatterpolargl"
           }
          ],
          "scatterternary": [
           {
            "marker": {
             "colorbar": {
              "outlinewidth": 0,
              "ticks": ""
             }
            },
            "type": "scatterternary"
           }
          ],
          "surface": [
           {
            "colorbar": {
             "outlinewidth": 0,
             "ticks": ""
            },
            "colorscale": [
             [
              0,
              "#0d0887"
             ],
             [
              0.1111111111111111,
              "#46039f"
             ],
             [
              0.2222222222222222,
              "#7201a8"
             ],
             [
              0.3333333333333333,
              "#9c179e"
             ],
             [
              0.4444444444444444,
              "#bd3786"
             ],
             [
              0.5555555555555556,
              "#d8576b"
             ],
             [
              0.6666666666666666,
              "#ed7953"
             ],
             [
              0.7777777777777778,
              "#fb9f3a"
             ],
             [
              0.8888888888888888,
              "#fdca26"
             ],
             [
              1,
              "#f0f921"
             ]
            ],
            "type": "surface"
           }
          ],
          "table": [
           {
            "cells": {
             "fill": {
              "color": "#EBF0F8"
             },
             "line": {
              "color": "white"
             }
            },
            "header": {
             "fill": {
              "color": "#C8D4E3"
             },
             "line": {
              "color": "white"
             }
            },
            "type": "table"
           }
          ]
         },
         "layout": {
          "annotationdefaults": {
           "arrowcolor": "#2a3f5f",
           "arrowhead": 0,
           "arrowwidth": 1
          },
          "autotypenumbers": "strict",
          "coloraxis": {
           "colorbar": {
            "outlinewidth": 0,
            "ticks": ""
           }
          },
          "colorscale": {
           "diverging": [
            [
             0,
             "#8e0152"
            ],
            [
             0.1,
             "#c51b7d"
            ],
            [
             0.2,
             "#de77ae"
            ],
            [
             0.3,
             "#f1b6da"
            ],
            [
             0.4,
             "#fde0ef"
            ],
            [
             0.5,
             "#f7f7f7"
            ],
            [
             0.6,
             "#e6f5d0"
            ],
            [
             0.7,
             "#b8e186"
            ],
            [
             0.8,
             "#7fbc41"
            ],
            [
             0.9,
             "#4d9221"
            ],
            [
             1,
             "#276419"
            ]
           ],
           "sequential": [
            [
             0,
             "#0d0887"
            ],
            [
             0.1111111111111111,
             "#46039f"
            ],
            [
             0.2222222222222222,
             "#7201a8"
            ],
            [
             0.3333333333333333,
             "#9c179e"
            ],
            [
             0.4444444444444444,
             "#bd3786"
            ],
            [
             0.5555555555555556,
             "#d8576b"
            ],
            [
             0.6666666666666666,
             "#ed7953"
            ],
            [
             0.7777777777777778,
             "#fb9f3a"
            ],
            [
             0.8888888888888888,
             "#fdca26"
            ],
            [
             1,
             "#f0f921"
            ]
           ],
           "sequentialminus": [
            [
             0,
             "#0d0887"
            ],
            [
             0.1111111111111111,
             "#46039f"
            ],
            [
             0.2222222222222222,
             "#7201a8"
            ],
            [
             0.3333333333333333,
             "#9c179e"
            ],
            [
             0.4444444444444444,
             "#bd3786"
            ],
            [
             0.5555555555555556,
             "#d8576b"
            ],
            [
             0.6666666666666666,
             "#ed7953"
            ],
            [
             0.7777777777777778,
             "#fb9f3a"
            ],
            [
             0.8888888888888888,
             "#fdca26"
            ],
            [
             1,
             "#f0f921"
            ]
           ]
          },
          "colorway": [
           "#636efa",
           "#EF553B",
           "#00cc96",
           "#ab63fa",
           "#FFA15A",
           "#19d3f3",
           "#FF6692",
           "#B6E880",
           "#FF97FF",
           "#FECB52"
          ],
          "font": {
           "color": "#2a3f5f"
          },
          "geo": {
           "bgcolor": "white",
           "lakecolor": "white",
           "landcolor": "#E5ECF6",
           "showlakes": true,
           "showland": true,
           "subunitcolor": "white"
          },
          "hoverlabel": {
           "align": "left"
          },
          "hovermode": "closest",
          "mapbox": {
           "style": "light"
          },
          "paper_bgcolor": "white",
          "plot_bgcolor": "#E5ECF6",
          "polar": {
           "angularaxis": {
            "gridcolor": "white",
            "linecolor": "white",
            "ticks": ""
           },
           "bgcolor": "#E5ECF6",
           "radialaxis": {
            "gridcolor": "white",
            "linecolor": "white",
            "ticks": ""
           }
          },
          "scene": {
           "xaxis": {
            "backgroundcolor": "#E5ECF6",
            "gridcolor": "white",
            "gridwidth": 2,
            "linecolor": "white",
            "showbackground": true,
            "ticks": "",
            "zerolinecolor": "white"
           },
           "yaxis": {
            "backgroundcolor": "#E5ECF6",
            "gridcolor": "white",
            "gridwidth": 2,
            "linecolor": "white",
            "showbackground": true,
            "ticks": "",
            "zerolinecolor": "white"
           },
           "zaxis": {
            "backgroundcolor": "#E5ECF6",
            "gridcolor": "white",
            "gridwidth": 2,
            "linecolor": "white",
            "showbackground": true,
            "ticks": "",
            "zerolinecolor": "white"
           }
          },
          "shapedefaults": {
           "line": {
            "color": "#2a3f5f"
           }
          },
          "ternary": {
           "aaxis": {
            "gridcolor": "white",
            "linecolor": "white",
            "ticks": ""
           },
           "baxis": {
            "gridcolor": "white",
            "linecolor": "white",
            "ticks": ""
           },
           "bgcolor": "#E5ECF6",
           "caxis": {
            "gridcolor": "white",
            "linecolor": "white",
            "ticks": ""
           }
          },
          "title": {
           "x": 0.05
          },
          "xaxis": {
           "automargin": true,
           "gridcolor": "white",
           "linecolor": "white",
           "ticks": "",
           "title": {
            "standoff": 15
           },
           "zerolinecolor": "white",
           "zerolinewidth": 2
          },
          "yaxis": {
           "automargin": true,
           "gridcolor": "white",
           "linecolor": "white",
           "ticks": "",
           "title": {
            "standoff": 15
           },
           "zerolinecolor": "white",
           "zerolinewidth": 2
          }
         }
        },
        "title": {
         "font": {
          "color": "#4D5663"
         }
        },
        "xaxis": {
         "gridcolor": "#E1E5ED",
         "showgrid": true,
         "tickfont": {
          "color": "#4D5663"
         },
         "title": {
          "font": {
           "color": "#4D5663"
          },
          "text": ""
         },
         "zerolinecolor": "#E1E5ED"
        },
        "yaxis": {
         "gridcolor": "#E1E5ED",
         "showgrid": true,
         "tickfont": {
          "color": "#4D5663"
         },
         "title": {
          "font": {
           "color": "#4D5663"
          },
          "text": ""
         },
         "zerolinecolor": "#E1E5ED"
        }
       }
      },
      "text/html": [
       "<div>                            <div id=\"770abd8d-cad3-4789-9e15-f367f376842e\" class=\"plotly-graph-div\" style=\"height:525px; width:100%;\"></div>            <script type=\"text/javascript\">                require([\"plotly\"], function(Plotly) {                    window.PLOTLYENV=window.PLOTLYENV || {};\n",
       "                    window.PLOTLYENV.BASE_URL='https://plot.ly';                                    if (document.getElementById(\"770abd8d-cad3-4789-9e15-f367f376842e\")) {                    Plotly.newPlot(                        \"770abd8d-cad3-4789-9e15-f367f376842e\",                        [{\"line\":{\"color\":\"rgba(255, 153, 51, 1.0)\",\"dash\":\"solid\",\"shape\":\"linear\",\"width\":1.3},\"mode\":\"lines\",\"name\":\"A\",\"text\":\"\",\"x\":[0,1,2,3,4,5,6,7,8,9,10,11,12,13,14,15,16,17,18,19,20,21,22,23,24,25,26,27,28,29,30,31,32,33,34,35,36,37,38,39,40,41,42,43,44,45,46,47,48,49,50,51,52,53,54,55,56,57,58,59,60,61,62,63,64,65,66,67,68,69,70,71,72,73,74,75,76,77,78,79,80,81,82,83,84,85,86,87,88,89,90,91,92,93,94,95,96,97,98,99],\"y\":[0.08548394392684941,-0.5893916978546746,-0.8419665667833715,1.0653294037412206,-0.30404866925348994,0.3220582584509832,1.1049131997268444,0.32518021155482785,2.7803713071535303,-0.6512650673063205,0.49199825674186487,-0.08508963549565635,0.5726425435043762,2.1386501290862214,-0.9950235584665907,2.0052327231453364,1.9086945678707794,-0.4672730441548413,0.09809372512041015,0.20776175313101258,-0.13008291273505135,-0.213716607920109,-0.752971396659258,-0.8856345833042678,-0.21828897744131906,-1.5221842260642924,1.7597176132531838,0.368692867252797,0.012002423023914443,-0.3300847199674508,-1.174027326022618,0.27669897261410636,0.9022235975340244,0.1237670623846236,0.27474926924742754,-1.2318138433306547,-0.9291362405434669,0.2581841484670674,-0.35557870411472275,0.31329107322223737,-0.10998911435349933,-0.6056942752510703,0.5496119520128204,0.7217212678834122,1.1080438778814063,1.194652068448999,1.9452460051287748,-1.0096690093450156,0.06886112821121931,-0.22386569878334348,0.3722266141668129,2.3949425017894628,-1.5415993206560856,0.31051517323586425,-0.9007115672683569,-0.37250269015414444,0.12892868685879072,-2.093099841220505,0.19281052497404821,-0.14026793411748828,0.7202355995317967,1.9985914284907331,-0.024224308482236806,0.01896759967272472,-1.5884383627946148,0.14382833009913976,0.8208787993291673,0.11647492827936208,0.8148442245171553,-0.9944542791659978,-1.5826860570144032,-1.0027608392246807,0.6405945754015209,-1.2307004748798553,-0.9114975696364512,1.37764411838987,0.5203887980053448,-0.6308501093425088,-0.04108239600910254,-0.14803345522911654,0.27240046321175776,-0.0984268942816003,-0.7917134062519374,-0.6755333627675957,0.5021187599504238,-1.489214963700235,0.08552835376163205,-1.8220289030449843,1.3610498831089615,-1.5377662111236543,0.4413929766677556,1.1406361331627282,1.7219831491686641,-0.154773148802657,-0.2652967487886054,1.0404378705960964,-0.9175907022603449,-0.8622776172416078,-1.3999208590790715,0.09066006069192459],\"type\":\"scatter\"},{\"line\":{\"color\":\"rgba(55, 128, 191, 1.0)\",\"dash\":\"solid\",\"shape\":\"linear\",\"width\":1.3},\"mode\":\"lines\",\"name\":\"B\",\"text\":\"\",\"x\":[0,1,2,3,4,5,6,7,8,9,10,11,12,13,14,15,16,17,18,19,20,21,22,23,24,25,26,27,28,29,30,31,32,33,34,35,36,37,38,39,40,41,42,43,44,45,46,47,48,49,50,51,52,53,54,55,56,57,58,59,60,61,62,63,64,65,66,67,68,69,70,71,72,73,74,75,76,77,78,79,80,81,82,83,84,85,86,87,88,89,90,91,92,93,94,95,96,97,98,99],\"y\":[-0.1624050135760886,0.980851981664618,1.6263758604043954,0.6670449829300747,0.8463914642614553,-0.5557547356556708,1.3335019465823352,-0.30360500311515876,-0.5572485277306021,1.7923193575265437,0.5230714474292316,1.3962847654068788,0.5454202975825965,0.8220066168038932,0.1333294140157902,-0.4580923125178034,-1.8702657688987048,0.19165599638946365,-1.5441476695946914,1.489985153554788,0.08513682537748908,0.5884943933265148,-0.37527778093043845,-1.2420986135906638,-0.09359385888729599,-0.8993751877593811,0.9038336626818552,0.19897941905376915,-0.3499682664519889,-0.813255283672789,-0.761601608488013,0.6852647594122985,0.7444146965136054,-0.10824902571549988,1.0343766589925962,0.6794742299814396,-1.377108827556193,-0.9198084554974598,1.2754158682756254,-0.6805171783915703,1.6295186194490634,1.3058104975166638,-0.008015691590719798,0.37945370182803906,-0.9344148723391815,0.33642615175310187,-1.117113472484452,1.2098097732957693,1.890729615247962,-0.3020317509780135,-0.795391429211958,0.5145436162551661,-1.17644678201426,0.011191592090796853,-2.664750053974455,-0.7052058747591703,0.4318577646237392,0.3482634341301973,0.6748205565464416,-0.34169023793862807,-0.07989141803255546,-0.1006525565267022,0.7334329357689917,0.8392098396231535,-0.4553307130666966,-0.7064260571420193,0.15230984770640202,0.6237041195854198,0.5318919831274378,0.5221352231397314,-0.8174059688720081,2.4389763497413726,-0.1242766171971954,1.9621837956400514,-0.09450483861151593,-0.27813013860092584,1.8763100787933222,-1.149197127466469,-0.33071258304144435,-0.903204616889579,-0.38847979647058817,-1.1896469966014003,-0.20764447487221024,1.243884872816924,-0.5090636362684436,-1.0423055947393969,-0.06350848782566847,-0.715011626851832,-0.004311390566099713,0.35968046038437906,0.3482155214518224,1.5642585538961675,0.05372460015033393,0.26927859988825925,0.9459316001975121,-1.3231038977865164,-0.13177750479968495,2.894936439883955,1.2620145095169104,-2.673128848304644],\"type\":\"scatter\"},{\"line\":{\"color\":\"rgba(50, 171, 96, 1.0)\",\"dash\":\"solid\",\"shape\":\"linear\",\"width\":1.3},\"mode\":\"lines\",\"name\":\"C\",\"text\":\"\",\"x\":[0,1,2,3,4,5,6,7,8,9,10,11,12,13,14,15,16,17,18,19,20,21,22,23,24,25,26,27,28,29,30,31,32,33,34,35,36,37,38,39,40,41,42,43,44,45,46,47,48,49,50,51,52,53,54,55,56,57,58,59,60,61,62,63,64,65,66,67,68,69,70,71,72,73,74,75,76,77,78,79,80,81,82,83,84,85,86,87,88,89,90,91,92,93,94,95,96,97,98,99],\"y\":[0.6412589089125755,1.472567741037022,-0.2687466186269782,-1.7735064924519603,0.5601400122075234,0.25217416536870757,-1.3215997730280071,-1.7262086242966832,-0.9738853524478275,1.2500283602315663,0.5249984551350043,-1.502163493955724,0.9113486982285866,0.6796501710359869,-0.635856076990072,-1.5901119656069276,-0.7904035535920758,0.34955478363036163,-0.6636661473619723,1.1783113790227202,-1.2808617434642788,1.2370923961343416,0.4925215168066359,1.0590414161745894,0.3818303607994144,0.3309854097822343,0.16466632880907464,0.15742594633466814,0.24139038536893875,0.20974639260906272,-0.4376340808291526,0.45307155889739953,-0.1195415538869707,0.7050934558410267,-0.16505543858861943,-0.0744610225167786,-1.5359055532970263,-0.3179748445068104,-0.9355433150515867,0.7763428615270302,-0.7570288525819087,-0.5232076867983879,-1.052788698551844,-1.2789749060079498,2.1658442574234646,0.6516143243986185,-0.46556438374990194,-0.2868044646248472,0.44127415645197704,-1.292478675144893,0.02701392480956382,1.1674132319349262,-0.34019771545061356,0.9321924054092174,-0.7928124486847574,-0.16498525070646566,1.2217990862318404,0.44302455085292114,-1.6612556202937296,-0.47056999434915275,0.7476295398312772,0.2122729890849066,-0.6474087501116943,-1.498408832541912,0.6061541873041607,-0.46516793267155004,0.6289680770835141,-0.46396714401992867,0.3091540300280098,-1.049917603902546,1.1484605009911824,-0.7755442675016427,-0.16128609405326352,0.5540049239205772,-0.6041047593824724,0.6312424861158306,-1.7140095898951782,-0.27122334414049487,-1.7643029354927504,-1.2568226575240087,-0.8211420844568663,0.7368746723538686,0.41721452554864924,0.07562441066740945,0.676921980063291,0.43084182319755937,-0.04001504424991739,-0.11533662855753606,0.04023772431325562,0.11617110860078872,2.1731346128638154,0.445067331245984,-1.0448362291742717,0.24246137636291806,1.0033335882793126,-0.844881667918056,1.1021227464217307,0.47606015853335476,-0.06914169012261069,-1.0479609140632111],\"type\":\"scatter\"},{\"line\":{\"color\":\"rgba(128, 0, 128, 1.0)\",\"dash\":\"solid\",\"shape\":\"linear\",\"width\":1.3},\"mode\":\"lines\",\"name\":\"D\",\"text\":\"\",\"x\":[0,1,2,3,4,5,6,7,8,9,10,11,12,13,14,15,16,17,18,19,20,21,22,23,24,25,26,27,28,29,30,31,32,33,34,35,36,37,38,39,40,41,42,43,44,45,46,47,48,49,50,51,52,53,54,55,56,57,58,59,60,61,62,63,64,65,66,67,68,69,70,71,72,73,74,75,76,77,78,79,80,81,82,83,84,85,86,87,88,89,90,91,92,93,94,95,96,97,98,99],\"y\":[-1.7822917875091935,0.1915208695213333,-1.1467068976703902,0.30624681099494816,0.03229961002316076,-0.41019555202988855,0.9234459150834765,0.6845490151314748,1.3976402216500794,0.34078001060667357,-0.04312938263882135,1.1579173247188355,-0.24375085798034005,0.6635410586107904,-0.41214106415805,0.20783347409624986,1.9778035277350121,1.8035219152401591,0.8672718446751185,1.1225593110805672,1.3585885827802862,0.09615802852056259,-2.1654458285904705,0.801827621288512,1.0912870409177637,-0.47755874710532253,0.8669663674008047,1.4450890511468257,0.020537975107899877,-1.1305545949149578,-1.4042787535845844,-1.047192049958398,-1.7062430433981837,1.0406748783313535,2.603230292200818,-0.45588335299079275,1.0172306316579824,-0.693019405978078,0.3229610115017036,-0.1277257660468025,-0.1807752695669388,-0.27881021294072755,-0.507580865896411,0.5046709690440891,0.05779397036814958,-0.8739310677129855,-1.5171668436546109,0.2103284547817714,-0.2876494863559525,-0.27380897287263584,-0.39468103443361874,1.2138186670235764,-1.1763908107905696,-0.6905409504347623,0.06320490997305743,-0.7156225632534614,-1.5693393310807464,1.3000718895120567,-0.8974172400966365,-1.1879501225629767,0.11384289484320421,-0.0650235497763702,-0.17192387639926812,0.1822730143198839,-1.2890501348396302,-0.08631434729283817,0.9314827288196189,-0.343699859315308,0.3321520635968143,-0.2792076671860723,0.5902727958788655,-0.9797952884959037,1.3233738189549666,-0.9833479609096336,-0.824933730173071,-0.2900561002124916,0.98159145364883,1.7616843811085157,0.9194420221106,-2.678004829352987,1.7157153410166455,-1.3658609547855702,-0.5917148213076168,-1.113407552973405,1.5438265040803627,0.0916017762288628,-1.3891670183006424,-0.06210004705111074,-0.10160228286509329,-0.10034150180669871,2.098253749252335,-1.9136082063618318,2.2509058712518946,0.8327274034959132,0.3033332957175999,2.6833417001980493,0.7576534733306034,0.9500571946556061,0.04208920924634037,0.8425203307201007],\"type\":\"scatter\"}],                        {\"legend\":{\"bgcolor\":\"#F5F6F9\",\"font\":{\"color\":\"#4D5663\"}},\"paper_bgcolor\":\"#F5F6F9\",\"plot_bgcolor\":\"#F5F6F9\",\"template\":{\"data\":{\"barpolar\":[{\"marker\":{\"line\":{\"color\":\"#E5ECF6\",\"width\":0.5},\"pattern\":{\"fillmode\":\"overlay\",\"size\":10,\"solidity\":0.2}},\"type\":\"barpolar\"}],\"bar\":[{\"error_x\":{\"color\":\"#2a3f5f\"},\"error_y\":{\"color\":\"#2a3f5f\"},\"marker\":{\"line\":{\"color\":\"#E5ECF6\",\"width\":0.5},\"pattern\":{\"fillmode\":\"overlay\",\"size\":10,\"solidity\":0.2}},\"type\":\"bar\"}],\"carpet\":[{\"aaxis\":{\"endlinecolor\":\"#2a3f5f\",\"gridcolor\":\"white\",\"linecolor\":\"white\",\"minorgridcolor\":\"white\",\"startlinecolor\":\"#2a3f5f\"},\"baxis\":{\"endlinecolor\":\"#2a3f5f\",\"gridcolor\":\"white\",\"linecolor\":\"white\",\"minorgridcolor\":\"white\",\"startlinecolor\":\"#2a3f5f\"},\"type\":\"carpet\"}],\"choropleth\":[{\"colorbar\":{\"outlinewidth\":0,\"ticks\":\"\"},\"type\":\"choropleth\"}],\"contourcarpet\":[{\"colorbar\":{\"outlinewidth\":0,\"ticks\":\"\"},\"type\":\"contourcarpet\"}],\"contour\":[{\"colorbar\":{\"outlinewidth\":0,\"ticks\":\"\"},\"colorscale\":[[0.0,\"#0d0887\"],[0.1111111111111111,\"#46039f\"],[0.2222222222222222,\"#7201a8\"],[0.3333333333333333,\"#9c179e\"],[0.4444444444444444,\"#bd3786\"],[0.5555555555555556,\"#d8576b\"],[0.6666666666666666,\"#ed7953\"],[0.7777777777777778,\"#fb9f3a\"],[0.8888888888888888,\"#fdca26\"],[1.0,\"#f0f921\"]],\"type\":\"contour\"}],\"heatmapgl\":[{\"colorbar\":{\"outlinewidth\":0,\"ticks\":\"\"},\"colorscale\":[[0.0,\"#0d0887\"],[0.1111111111111111,\"#46039f\"],[0.2222222222222222,\"#7201a8\"],[0.3333333333333333,\"#9c179e\"],[0.4444444444444444,\"#bd3786\"],[0.5555555555555556,\"#d8576b\"],[0.6666666666666666,\"#ed7953\"],[0.7777777777777778,\"#fb9f3a\"],[0.8888888888888888,\"#fdca26\"],[1.0,\"#f0f921\"]],\"type\":\"heatmapgl\"}],\"heatmap\":[{\"colorbar\":{\"outlinewidth\":0,\"ticks\":\"\"},\"colorscale\":[[0.0,\"#0d0887\"],[0.1111111111111111,\"#46039f\"],[0.2222222222222222,\"#7201a8\"],[0.3333333333333333,\"#9c179e\"],[0.4444444444444444,\"#bd3786\"],[0.5555555555555556,\"#d8576b\"],[0.6666666666666666,\"#ed7953\"],[0.7777777777777778,\"#fb9f3a\"],[0.8888888888888888,\"#fdca26\"],[1.0,\"#f0f921\"]],\"type\":\"heatmap\"}],\"histogram2dcontour\":[{\"colorbar\":{\"outlinewidth\":0,\"ticks\":\"\"},\"colorscale\":[[0.0,\"#0d0887\"],[0.1111111111111111,\"#46039f\"],[0.2222222222222222,\"#7201a8\"],[0.3333333333333333,\"#9c179e\"],[0.4444444444444444,\"#bd3786\"],[0.5555555555555556,\"#d8576b\"],[0.6666666666666666,\"#ed7953\"],[0.7777777777777778,\"#fb9f3a\"],[0.8888888888888888,\"#fdca26\"],[1.0,\"#f0f921\"]],\"type\":\"histogram2dcontour\"}],\"histogram2d\":[{\"colorbar\":{\"outlinewidth\":0,\"ticks\":\"\"},\"colorscale\":[[0.0,\"#0d0887\"],[0.1111111111111111,\"#46039f\"],[0.2222222222222222,\"#7201a8\"],[0.3333333333333333,\"#9c179e\"],[0.4444444444444444,\"#bd3786\"],[0.5555555555555556,\"#d8576b\"],[0.6666666666666666,\"#ed7953\"],[0.7777777777777778,\"#fb9f3a\"],[0.8888888888888888,\"#fdca26\"],[1.0,\"#f0f921\"]],\"type\":\"histogram2d\"}],\"histogram\":[{\"marker\":{\"pattern\":{\"fillmode\":\"overlay\",\"size\":10,\"solidity\":0.2}},\"type\":\"histogram\"}],\"mesh3d\":[{\"colorbar\":{\"outlinewidth\":0,\"ticks\":\"\"},\"type\":\"mesh3d\"}],\"parcoords\":[{\"line\":{\"colorbar\":{\"outlinewidth\":0,\"ticks\":\"\"}},\"type\":\"parcoords\"}],\"pie\":[{\"automargin\":true,\"type\":\"pie\"}],\"scatter3d\":[{\"line\":{\"colorbar\":{\"outlinewidth\":0,\"ticks\":\"\"}},\"marker\":{\"colorbar\":{\"outlinewidth\":0,\"ticks\":\"\"}},\"type\":\"scatter3d\"}],\"scattercarpet\":[{\"marker\":{\"colorbar\":{\"outlinewidth\":0,\"ticks\":\"\"}},\"type\":\"scattercarpet\"}],\"scattergeo\":[{\"marker\":{\"colorbar\":{\"outlinewidth\":0,\"ticks\":\"\"}},\"type\":\"scattergeo\"}],\"scattergl\":[{\"marker\":{\"colorbar\":{\"outlinewidth\":0,\"ticks\":\"\"}},\"type\":\"scattergl\"}],\"scattermapbox\":[{\"marker\":{\"colorbar\":{\"outlinewidth\":0,\"ticks\":\"\"}},\"type\":\"scattermapbox\"}],\"scatterpolargl\":[{\"marker\":{\"colorbar\":{\"outlinewidth\":0,\"ticks\":\"\"}},\"type\":\"scatterpolargl\"}],\"scatterpolar\":[{\"marker\":{\"colorbar\":{\"outlinewidth\":0,\"ticks\":\"\"}},\"type\":\"scatterpolar\"}],\"scatter\":[{\"fillpattern\":{\"fillmode\":\"overlay\",\"size\":10,\"solidity\":0.2},\"type\":\"scatter\"}],\"scatterternary\":[{\"marker\":{\"colorbar\":{\"outlinewidth\":0,\"ticks\":\"\"}},\"type\":\"scatterternary\"}],\"surface\":[{\"colorbar\":{\"outlinewidth\":0,\"ticks\":\"\"},\"colorscale\":[[0.0,\"#0d0887\"],[0.1111111111111111,\"#46039f\"],[0.2222222222222222,\"#7201a8\"],[0.3333333333333333,\"#9c179e\"],[0.4444444444444444,\"#bd3786\"],[0.5555555555555556,\"#d8576b\"],[0.6666666666666666,\"#ed7953\"],[0.7777777777777778,\"#fb9f3a\"],[0.8888888888888888,\"#fdca26\"],[1.0,\"#f0f921\"]],\"type\":\"surface\"}],\"table\":[{\"cells\":{\"fill\":{\"color\":\"#EBF0F8\"},\"line\":{\"color\":\"white\"}},\"header\":{\"fill\":{\"color\":\"#C8D4E3\"},\"line\":{\"color\":\"white\"}},\"type\":\"table\"}]},\"layout\":{\"annotationdefaults\":{\"arrowcolor\":\"#2a3f5f\",\"arrowhead\":0,\"arrowwidth\":1},\"autotypenumbers\":\"strict\",\"coloraxis\":{\"colorbar\":{\"outlinewidth\":0,\"ticks\":\"\"}},\"colorscale\":{\"diverging\":[[0,\"#8e0152\"],[0.1,\"#c51b7d\"],[0.2,\"#de77ae\"],[0.3,\"#f1b6da\"],[0.4,\"#fde0ef\"],[0.5,\"#f7f7f7\"],[0.6,\"#e6f5d0\"],[0.7,\"#b8e186\"],[0.8,\"#7fbc41\"],[0.9,\"#4d9221\"],[1,\"#276419\"]],\"sequential\":[[0.0,\"#0d0887\"],[0.1111111111111111,\"#46039f\"],[0.2222222222222222,\"#7201a8\"],[0.3333333333333333,\"#9c179e\"],[0.4444444444444444,\"#bd3786\"],[0.5555555555555556,\"#d8576b\"],[0.6666666666666666,\"#ed7953\"],[0.7777777777777778,\"#fb9f3a\"],[0.8888888888888888,\"#fdca26\"],[1.0,\"#f0f921\"]],\"sequentialminus\":[[0.0,\"#0d0887\"],[0.1111111111111111,\"#46039f\"],[0.2222222222222222,\"#7201a8\"],[0.3333333333333333,\"#9c179e\"],[0.4444444444444444,\"#bd3786\"],[0.5555555555555556,\"#d8576b\"],[0.6666666666666666,\"#ed7953\"],[0.7777777777777778,\"#fb9f3a\"],[0.8888888888888888,\"#fdca26\"],[1.0,\"#f0f921\"]]},\"colorway\":[\"#636efa\",\"#EF553B\",\"#00cc96\",\"#ab63fa\",\"#FFA15A\",\"#19d3f3\",\"#FF6692\",\"#B6E880\",\"#FF97FF\",\"#FECB52\"],\"font\":{\"color\":\"#2a3f5f\"},\"geo\":{\"bgcolor\":\"white\",\"lakecolor\":\"white\",\"landcolor\":\"#E5ECF6\",\"showlakes\":true,\"showland\":true,\"subunitcolor\":\"white\"},\"hoverlabel\":{\"align\":\"left\"},\"hovermode\":\"closest\",\"mapbox\":{\"style\":\"light\"},\"paper_bgcolor\":\"white\",\"plot_bgcolor\":\"#E5ECF6\",\"polar\":{\"angularaxis\":{\"gridcolor\":\"white\",\"linecolor\":\"white\",\"ticks\":\"\"},\"bgcolor\":\"#E5ECF6\",\"radialaxis\":{\"gridcolor\":\"white\",\"linecolor\":\"white\",\"ticks\":\"\"}},\"scene\":{\"xaxis\":{\"backgroundcolor\":\"#E5ECF6\",\"gridcolor\":\"white\",\"gridwidth\":2,\"linecolor\":\"white\",\"showbackground\":true,\"ticks\":\"\",\"zerolinecolor\":\"white\"},\"yaxis\":{\"backgroundcolor\":\"#E5ECF6\",\"gridcolor\":\"white\",\"gridwidth\":2,\"linecolor\":\"white\",\"showbackground\":true,\"ticks\":\"\",\"zerolinecolor\":\"white\"},\"zaxis\":{\"backgroundcolor\":\"#E5ECF6\",\"gridcolor\":\"white\",\"gridwidth\":2,\"linecolor\":\"white\",\"showbackground\":true,\"ticks\":\"\",\"zerolinecolor\":\"white\"}},\"shapedefaults\":{\"line\":{\"color\":\"#2a3f5f\"}},\"ternary\":{\"aaxis\":{\"gridcolor\":\"white\",\"linecolor\":\"white\",\"ticks\":\"\"},\"baxis\":{\"gridcolor\":\"white\",\"linecolor\":\"white\",\"ticks\":\"\"},\"bgcolor\":\"#E5ECF6\",\"caxis\":{\"gridcolor\":\"white\",\"linecolor\":\"white\",\"ticks\":\"\"}},\"title\":{\"x\":0.05},\"xaxis\":{\"automargin\":true,\"gridcolor\":\"white\",\"linecolor\":\"white\",\"ticks\":\"\",\"title\":{\"standoff\":15},\"zerolinecolor\":\"white\",\"zerolinewidth\":2},\"yaxis\":{\"automargin\":true,\"gridcolor\":\"white\",\"linecolor\":\"white\",\"ticks\":\"\",\"title\":{\"standoff\":15},\"zerolinecolor\":\"white\",\"zerolinewidth\":2}}},\"title\":{\"font\":{\"color\":\"#4D5663\"}},\"xaxis\":{\"gridcolor\":\"#E1E5ED\",\"showgrid\":true,\"tickfont\":{\"color\":\"#4D5663\"},\"title\":{\"font\":{\"color\":\"#4D5663\"},\"text\":\"\"},\"zerolinecolor\":\"#E1E5ED\"},\"yaxis\":{\"gridcolor\":\"#E1E5ED\",\"showgrid\":true,\"tickfont\":{\"color\":\"#4D5663\"},\"title\":{\"font\":{\"color\":\"#4D5663\"},\"text\":\"\"},\"zerolinecolor\":\"#E1E5ED\"}},                        {\"showLink\": true, \"linkText\": \"Export to plot.ly\", \"plotlyServerURL\": \"https://plot.ly\", \"responsive\": true}                    ).then(function(){\n",
       "                            \n",
       "var gd = document.getElementById('770abd8d-cad3-4789-9e15-f367f376842e');\n",
       "var x = new MutationObserver(function (mutations, observer) {{\n",
       "        var display = window.getComputedStyle(gd).display;\n",
       "        if (!display || display === 'none') {{\n",
       "            console.log([gd, 'removed!']);\n",
       "            Plotly.purge(gd);\n",
       "            observer.disconnect();\n",
       "        }}\n",
       "}});\n",
       "\n",
       "// Listen for the removal of the full notebook cells\n",
       "var notebookContainer = gd.closest('#notebook-container');\n",
       "if (notebookContainer) {{\n",
       "    x.observe(notebookContainer, {childList: true});\n",
       "}}\n",
       "\n",
       "// Listen for the clearing of the current output cell\n",
       "var outputEl = gd.closest('.output');\n",
       "if (outputEl) {{\n",
       "    x.observe(outputEl, {childList: true});\n",
       "}}\n",
       "\n",
       "                        })                };                });            </script>        </div>"
      ]
     },
     "metadata": {},
     "output_type": "display_data"
    }
   ],
   "source": [
    "df.iplot()"
   ]
  },
  {
   "cell_type": "code",
   "execution_count": 15,
   "metadata": {},
   "outputs": [
    {
     "data": {
      "application/vnd.plotly.v1+json": {
       "config": {
        "linkText": "Export to plot.ly",
        "plotlyServerURL": "https://plot.ly",
        "showLink": true
       },
       "data": [
        {
         "line": {
          "color": "rgba(255, 153, 51, 1.0)",
          "dash": "solid",
          "shape": "linear",
          "width": 1.3
         },
         "marker": {
          "size": 10,
          "symbol": "circle"
         },
         "mode": "markers",
         "name": "B",
         "text": "",
         "type": "scatter",
         "x": [
          0.08548394392684941,
          -0.5893916978546746,
          -0.8419665667833715,
          1.0653294037412206,
          -0.30404866925348994,
          0.3220582584509832,
          1.1049131997268444,
          0.32518021155482785,
          2.7803713071535303,
          -0.6512650673063205,
          0.49199825674186487,
          -0.08508963549565635,
          0.5726425435043762,
          2.1386501290862214,
          -0.9950235584665907,
          2.0052327231453364,
          1.9086945678707794,
          -0.4672730441548413,
          0.09809372512041015,
          0.20776175313101258,
          -0.13008291273505135,
          -0.213716607920109,
          -0.752971396659258,
          -0.8856345833042678,
          -0.21828897744131906,
          -1.5221842260642924,
          1.7597176132531838,
          0.368692867252797,
          0.012002423023914443,
          -0.3300847199674508,
          -1.174027326022618,
          0.27669897261410636,
          0.9022235975340244,
          0.1237670623846236,
          0.27474926924742754,
          -1.2318138433306547,
          -0.9291362405434669,
          0.2581841484670674,
          -0.35557870411472275,
          0.31329107322223737,
          -0.10998911435349933,
          -0.6056942752510703,
          0.5496119520128204,
          0.7217212678834122,
          1.1080438778814063,
          1.194652068448999,
          1.9452460051287748,
          -1.0096690093450156,
          0.06886112821121931,
          -0.22386569878334348,
          0.3722266141668129,
          2.3949425017894628,
          -1.5415993206560856,
          0.31051517323586425,
          -0.9007115672683569,
          -0.37250269015414444,
          0.12892868685879072,
          -2.093099841220505,
          0.19281052497404821,
          -0.14026793411748828,
          0.7202355995317967,
          1.9985914284907331,
          -0.024224308482236806,
          0.01896759967272472,
          -1.5884383627946148,
          0.14382833009913976,
          0.8208787993291673,
          0.11647492827936208,
          0.8148442245171553,
          -0.9944542791659978,
          -1.5826860570144032,
          -1.0027608392246807,
          0.6405945754015209,
          -1.2307004748798553,
          -0.9114975696364512,
          1.37764411838987,
          0.5203887980053448,
          -0.6308501093425088,
          -0.04108239600910254,
          -0.14803345522911654,
          0.27240046321175776,
          -0.0984268942816003,
          -0.7917134062519374,
          -0.6755333627675957,
          0.5021187599504238,
          -1.489214963700235,
          0.08552835376163205,
          -1.8220289030449843,
          1.3610498831089615,
          -1.5377662111236543,
          0.4413929766677556,
          1.1406361331627282,
          1.7219831491686641,
          -0.154773148802657,
          -0.2652967487886054,
          1.0404378705960964,
          -0.9175907022603449,
          -0.8622776172416078,
          -1.3999208590790715,
          0.09066006069192459
         ],
         "y": [
          -0.1624050135760886,
          0.980851981664618,
          1.6263758604043954,
          0.6670449829300747,
          0.8463914642614553,
          -0.5557547356556708,
          1.3335019465823352,
          -0.30360500311515876,
          -0.5572485277306021,
          1.7923193575265437,
          0.5230714474292316,
          1.3962847654068788,
          0.5454202975825965,
          0.8220066168038932,
          0.1333294140157902,
          -0.4580923125178034,
          -1.8702657688987048,
          0.19165599638946365,
          -1.5441476695946914,
          1.489985153554788,
          0.08513682537748908,
          0.5884943933265148,
          -0.37527778093043845,
          -1.2420986135906638,
          -0.09359385888729599,
          -0.8993751877593811,
          0.9038336626818552,
          0.19897941905376915,
          -0.3499682664519889,
          -0.813255283672789,
          -0.761601608488013,
          0.6852647594122985,
          0.7444146965136054,
          -0.10824902571549988,
          1.0343766589925962,
          0.6794742299814396,
          -1.377108827556193,
          -0.9198084554974598,
          1.2754158682756254,
          -0.6805171783915703,
          1.6295186194490634,
          1.3058104975166638,
          -0.008015691590719798,
          0.37945370182803906,
          -0.9344148723391815,
          0.33642615175310187,
          -1.117113472484452,
          1.2098097732957693,
          1.890729615247962,
          -0.3020317509780135,
          -0.795391429211958,
          0.5145436162551661,
          -1.17644678201426,
          0.011191592090796853,
          -2.664750053974455,
          -0.7052058747591703,
          0.4318577646237392,
          0.3482634341301973,
          0.6748205565464416,
          -0.34169023793862807,
          -0.07989141803255546,
          -0.1006525565267022,
          0.7334329357689917,
          0.8392098396231535,
          -0.4553307130666966,
          -0.7064260571420193,
          0.15230984770640202,
          0.6237041195854198,
          0.5318919831274378,
          0.5221352231397314,
          -0.8174059688720081,
          2.4389763497413726,
          -0.1242766171971954,
          1.9621837956400514,
          -0.09450483861151593,
          -0.27813013860092584,
          1.8763100787933222,
          -1.149197127466469,
          -0.33071258304144435,
          -0.903204616889579,
          -0.38847979647058817,
          -1.1896469966014003,
          -0.20764447487221024,
          1.243884872816924,
          -0.5090636362684436,
          -1.0423055947393969,
          -0.06350848782566847,
          -0.715011626851832,
          -0.004311390566099713,
          0.35968046038437906,
          0.3482155214518224,
          1.5642585538961675,
          0.05372460015033393,
          0.26927859988825925,
          0.9459316001975121,
          -1.3231038977865164,
          -0.13177750479968495,
          2.894936439883955,
          1.2620145095169104,
          -2.673128848304644
         ]
        }
       ],
       "layout": {
        "legend": {
         "bgcolor": "#F5F6F9",
         "font": {
          "color": "#4D5663"
         }
        },
        "paper_bgcolor": "#F5F6F9",
        "plot_bgcolor": "#F5F6F9",
        "template": {
         "data": {
          "bar": [
           {
            "error_x": {
             "color": "#2a3f5f"
            },
            "error_y": {
             "color": "#2a3f5f"
            },
            "marker": {
             "line": {
              "color": "#E5ECF6",
              "width": 0.5
             },
             "pattern": {
              "fillmode": "overlay",
              "size": 10,
              "solidity": 0.2
             }
            },
            "type": "bar"
           }
          ],
          "barpolar": [
           {
            "marker": {
             "line": {
              "color": "#E5ECF6",
              "width": 0.5
             },
             "pattern": {
              "fillmode": "overlay",
              "size": 10,
              "solidity": 0.2
             }
            },
            "type": "barpolar"
           }
          ],
          "carpet": [
           {
            "aaxis": {
             "endlinecolor": "#2a3f5f",
             "gridcolor": "white",
             "linecolor": "white",
             "minorgridcolor": "white",
             "startlinecolor": "#2a3f5f"
            },
            "baxis": {
             "endlinecolor": "#2a3f5f",
             "gridcolor": "white",
             "linecolor": "white",
             "minorgridcolor": "white",
             "startlinecolor": "#2a3f5f"
            },
            "type": "carpet"
           }
          ],
          "choropleth": [
           {
            "colorbar": {
             "outlinewidth": 0,
             "ticks": ""
            },
            "type": "choropleth"
           }
          ],
          "contour": [
           {
            "colorbar": {
             "outlinewidth": 0,
             "ticks": ""
            },
            "colorscale": [
             [
              0,
              "#0d0887"
             ],
             [
              0.1111111111111111,
              "#46039f"
             ],
             [
              0.2222222222222222,
              "#7201a8"
             ],
             [
              0.3333333333333333,
              "#9c179e"
             ],
             [
              0.4444444444444444,
              "#bd3786"
             ],
             [
              0.5555555555555556,
              "#d8576b"
             ],
             [
              0.6666666666666666,
              "#ed7953"
             ],
             [
              0.7777777777777778,
              "#fb9f3a"
             ],
             [
              0.8888888888888888,
              "#fdca26"
             ],
             [
              1,
              "#f0f921"
             ]
            ],
            "type": "contour"
           }
          ],
          "contourcarpet": [
           {
            "colorbar": {
             "outlinewidth": 0,
             "ticks": ""
            },
            "type": "contourcarpet"
           }
          ],
          "heatmap": [
           {
            "colorbar": {
             "outlinewidth": 0,
             "ticks": ""
            },
            "colorscale": [
             [
              0,
              "#0d0887"
             ],
             [
              0.1111111111111111,
              "#46039f"
             ],
             [
              0.2222222222222222,
              "#7201a8"
             ],
             [
              0.3333333333333333,
              "#9c179e"
             ],
             [
              0.4444444444444444,
              "#bd3786"
             ],
             [
              0.5555555555555556,
              "#d8576b"
             ],
             [
              0.6666666666666666,
              "#ed7953"
             ],
             [
              0.7777777777777778,
              "#fb9f3a"
             ],
             [
              0.8888888888888888,
              "#fdca26"
             ],
             [
              1,
              "#f0f921"
             ]
            ],
            "type": "heatmap"
           }
          ],
          "heatmapgl": [
           {
            "colorbar": {
             "outlinewidth": 0,
             "ticks": ""
            },
            "colorscale": [
             [
              0,
              "#0d0887"
             ],
             [
              0.1111111111111111,
              "#46039f"
             ],
             [
              0.2222222222222222,
              "#7201a8"
             ],
             [
              0.3333333333333333,
              "#9c179e"
             ],
             [
              0.4444444444444444,
              "#bd3786"
             ],
             [
              0.5555555555555556,
              "#d8576b"
             ],
             [
              0.6666666666666666,
              "#ed7953"
             ],
             [
              0.7777777777777778,
              "#fb9f3a"
             ],
             [
              0.8888888888888888,
              "#fdca26"
             ],
             [
              1,
              "#f0f921"
             ]
            ],
            "type": "heatmapgl"
           }
          ],
          "histogram": [
           {
            "marker": {
             "pattern": {
              "fillmode": "overlay",
              "size": 10,
              "solidity": 0.2
             }
            },
            "type": "histogram"
           }
          ],
          "histogram2d": [
           {
            "colorbar": {
             "outlinewidth": 0,
             "ticks": ""
            },
            "colorscale": [
             [
              0,
              "#0d0887"
             ],
             [
              0.1111111111111111,
              "#46039f"
             ],
             [
              0.2222222222222222,
              "#7201a8"
             ],
             [
              0.3333333333333333,
              "#9c179e"
             ],
             [
              0.4444444444444444,
              "#bd3786"
             ],
             [
              0.5555555555555556,
              "#d8576b"
             ],
             [
              0.6666666666666666,
              "#ed7953"
             ],
             [
              0.7777777777777778,
              "#fb9f3a"
             ],
             [
              0.8888888888888888,
              "#fdca26"
             ],
             [
              1,
              "#f0f921"
             ]
            ],
            "type": "histogram2d"
           }
          ],
          "histogram2dcontour": [
           {
            "colorbar": {
             "outlinewidth": 0,
             "ticks": ""
            },
            "colorscale": [
             [
              0,
              "#0d0887"
             ],
             [
              0.1111111111111111,
              "#46039f"
             ],
             [
              0.2222222222222222,
              "#7201a8"
             ],
             [
              0.3333333333333333,
              "#9c179e"
             ],
             [
              0.4444444444444444,
              "#bd3786"
             ],
             [
              0.5555555555555556,
              "#d8576b"
             ],
             [
              0.6666666666666666,
              "#ed7953"
             ],
             [
              0.7777777777777778,
              "#fb9f3a"
             ],
             [
              0.8888888888888888,
              "#fdca26"
             ],
             [
              1,
              "#f0f921"
             ]
            ],
            "type": "histogram2dcontour"
           }
          ],
          "mesh3d": [
           {
            "colorbar": {
             "outlinewidth": 0,
             "ticks": ""
            },
            "type": "mesh3d"
           }
          ],
          "parcoords": [
           {
            "line": {
             "colorbar": {
              "outlinewidth": 0,
              "ticks": ""
             }
            },
            "type": "parcoords"
           }
          ],
          "pie": [
           {
            "automargin": true,
            "type": "pie"
           }
          ],
          "scatter": [
           {
            "fillpattern": {
             "fillmode": "overlay",
             "size": 10,
             "solidity": 0.2
            },
            "type": "scatter"
           }
          ],
          "scatter3d": [
           {
            "line": {
             "colorbar": {
              "outlinewidth": 0,
              "ticks": ""
             }
            },
            "marker": {
             "colorbar": {
              "outlinewidth": 0,
              "ticks": ""
             }
            },
            "type": "scatter3d"
           }
          ],
          "scattercarpet": [
           {
            "marker": {
             "colorbar": {
              "outlinewidth": 0,
              "ticks": ""
             }
            },
            "type": "scattercarpet"
           }
          ],
          "scattergeo": [
           {
            "marker": {
             "colorbar": {
              "outlinewidth": 0,
              "ticks": ""
             }
            },
            "type": "scattergeo"
           }
          ],
          "scattergl": [
           {
            "marker": {
             "colorbar": {
              "outlinewidth": 0,
              "ticks": ""
             }
            },
            "type": "scattergl"
           }
          ],
          "scattermapbox": [
           {
            "marker": {
             "colorbar": {
              "outlinewidth": 0,
              "ticks": ""
             }
            },
            "type": "scattermapbox"
           }
          ],
          "scatterpolar": [
           {
            "marker": {
             "colorbar": {
              "outlinewidth": 0,
              "ticks": ""
             }
            },
            "type": "scatterpolar"
           }
          ],
          "scatterpolargl": [
           {
            "marker": {
             "colorbar": {
              "outlinewidth": 0,
              "ticks": ""
             }
            },
            "type": "scatterpolargl"
           }
          ],
          "scatterternary": [
           {
            "marker": {
             "colorbar": {
              "outlinewidth": 0,
              "ticks": ""
             }
            },
            "type": "scatterternary"
           }
          ],
          "surface": [
           {
            "colorbar": {
             "outlinewidth": 0,
             "ticks": ""
            },
            "colorscale": [
             [
              0,
              "#0d0887"
             ],
             [
              0.1111111111111111,
              "#46039f"
             ],
             [
              0.2222222222222222,
              "#7201a8"
             ],
             [
              0.3333333333333333,
              "#9c179e"
             ],
             [
              0.4444444444444444,
              "#bd3786"
             ],
             [
              0.5555555555555556,
              "#d8576b"
             ],
             [
              0.6666666666666666,
              "#ed7953"
             ],
             [
              0.7777777777777778,
              "#fb9f3a"
             ],
             [
              0.8888888888888888,
              "#fdca26"
             ],
             [
              1,
              "#f0f921"
             ]
            ],
            "type": "surface"
           }
          ],
          "table": [
           {
            "cells": {
             "fill": {
              "color": "#EBF0F8"
             },
             "line": {
              "color": "white"
             }
            },
            "header": {
             "fill": {
              "color": "#C8D4E3"
             },
             "line": {
              "color": "white"
             }
            },
            "type": "table"
           }
          ]
         },
         "layout": {
          "annotationdefaults": {
           "arrowcolor": "#2a3f5f",
           "arrowhead": 0,
           "arrowwidth": 1
          },
          "autotypenumbers": "strict",
          "coloraxis": {
           "colorbar": {
            "outlinewidth": 0,
            "ticks": ""
           }
          },
          "colorscale": {
           "diverging": [
            [
             0,
             "#8e0152"
            ],
            [
             0.1,
             "#c51b7d"
            ],
            [
             0.2,
             "#de77ae"
            ],
            [
             0.3,
             "#f1b6da"
            ],
            [
             0.4,
             "#fde0ef"
            ],
            [
             0.5,
             "#f7f7f7"
            ],
            [
             0.6,
             "#e6f5d0"
            ],
            [
             0.7,
             "#b8e186"
            ],
            [
             0.8,
             "#7fbc41"
            ],
            [
             0.9,
             "#4d9221"
            ],
            [
             1,
             "#276419"
            ]
           ],
           "sequential": [
            [
             0,
             "#0d0887"
            ],
            [
             0.1111111111111111,
             "#46039f"
            ],
            [
             0.2222222222222222,
             "#7201a8"
            ],
            [
             0.3333333333333333,
             "#9c179e"
            ],
            [
             0.4444444444444444,
             "#bd3786"
            ],
            [
             0.5555555555555556,
             "#d8576b"
            ],
            [
             0.6666666666666666,
             "#ed7953"
            ],
            [
             0.7777777777777778,
             "#fb9f3a"
            ],
            [
             0.8888888888888888,
             "#fdca26"
            ],
            [
             1,
             "#f0f921"
            ]
           ],
           "sequentialminus": [
            [
             0,
             "#0d0887"
            ],
            [
             0.1111111111111111,
             "#46039f"
            ],
            [
             0.2222222222222222,
             "#7201a8"
            ],
            [
             0.3333333333333333,
             "#9c179e"
            ],
            [
             0.4444444444444444,
             "#bd3786"
            ],
            [
             0.5555555555555556,
             "#d8576b"
            ],
            [
             0.6666666666666666,
             "#ed7953"
            ],
            [
             0.7777777777777778,
             "#fb9f3a"
            ],
            [
             0.8888888888888888,
             "#fdca26"
            ],
            [
             1,
             "#f0f921"
            ]
           ]
          },
          "colorway": [
           "#636efa",
           "#EF553B",
           "#00cc96",
           "#ab63fa",
           "#FFA15A",
           "#19d3f3",
           "#FF6692",
           "#B6E880",
           "#FF97FF",
           "#FECB52"
          ],
          "font": {
           "color": "#2a3f5f"
          },
          "geo": {
           "bgcolor": "white",
           "lakecolor": "white",
           "landcolor": "#E5ECF6",
           "showlakes": true,
           "showland": true,
           "subunitcolor": "white"
          },
          "hoverlabel": {
           "align": "left"
          },
          "hovermode": "closest",
          "mapbox": {
           "style": "light"
          },
          "paper_bgcolor": "white",
          "plot_bgcolor": "#E5ECF6",
          "polar": {
           "angularaxis": {
            "gridcolor": "white",
            "linecolor": "white",
            "ticks": ""
           },
           "bgcolor": "#E5ECF6",
           "radialaxis": {
            "gridcolor": "white",
            "linecolor": "white",
            "ticks": ""
           }
          },
          "scene": {
           "xaxis": {
            "backgroundcolor": "#E5ECF6",
            "gridcolor": "white",
            "gridwidth": 2,
            "linecolor": "white",
            "showbackground": true,
            "ticks": "",
            "zerolinecolor": "white"
           },
           "yaxis": {
            "backgroundcolor": "#E5ECF6",
            "gridcolor": "white",
            "gridwidth": 2,
            "linecolor": "white",
            "showbackground": true,
            "ticks": "",
            "zerolinecolor": "white"
           },
           "zaxis": {
            "backgroundcolor": "#E5ECF6",
            "gridcolor": "white",
            "gridwidth": 2,
            "linecolor": "white",
            "showbackground": true,
            "ticks": "",
            "zerolinecolor": "white"
           }
          },
          "shapedefaults": {
           "line": {
            "color": "#2a3f5f"
           }
          },
          "ternary": {
           "aaxis": {
            "gridcolor": "white",
            "linecolor": "white",
            "ticks": ""
           },
           "baxis": {
            "gridcolor": "white",
            "linecolor": "white",
            "ticks": ""
           },
           "bgcolor": "#E5ECF6",
           "caxis": {
            "gridcolor": "white",
            "linecolor": "white",
            "ticks": ""
           }
          },
          "title": {
           "x": 0.05
          },
          "xaxis": {
           "automargin": true,
           "gridcolor": "white",
           "linecolor": "white",
           "ticks": "",
           "title": {
            "standoff": 15
           },
           "zerolinecolor": "white",
           "zerolinewidth": 2
          },
          "yaxis": {
           "automargin": true,
           "gridcolor": "white",
           "linecolor": "white",
           "ticks": "",
           "title": {
            "standoff": 15
           },
           "zerolinecolor": "white",
           "zerolinewidth": 2
          }
         }
        },
        "title": {
         "font": {
          "color": "#4D5663"
         }
        },
        "xaxis": {
         "gridcolor": "#E1E5ED",
         "showgrid": true,
         "tickfont": {
          "color": "#4D5663"
         },
         "title": {
          "font": {
           "color": "#4D5663"
          },
          "text": ""
         },
         "zerolinecolor": "#E1E5ED"
        },
        "yaxis": {
         "gridcolor": "#E1E5ED",
         "showgrid": true,
         "tickfont": {
          "color": "#4D5663"
         },
         "title": {
          "font": {
           "color": "#4D5663"
          },
          "text": ""
         },
         "zerolinecolor": "#E1E5ED"
        }
       }
      },
      "text/html": [
       "<div>                            <div id=\"6d42752d-9e26-4f07-b0b1-1e943062fc9e\" class=\"plotly-graph-div\" style=\"height:525px; width:100%;\"></div>            <script type=\"text/javascript\">                require([\"plotly\"], function(Plotly) {                    window.PLOTLYENV=window.PLOTLYENV || {};\n",
       "                    window.PLOTLYENV.BASE_URL='https://plot.ly';                                    if (document.getElementById(\"6d42752d-9e26-4f07-b0b1-1e943062fc9e\")) {                    Plotly.newPlot(                        \"6d42752d-9e26-4f07-b0b1-1e943062fc9e\",                        [{\"line\":{\"color\":\"rgba(255, 153, 51, 1.0)\",\"dash\":\"solid\",\"shape\":\"linear\",\"width\":1.3},\"marker\":{\"size\":10,\"symbol\":\"circle\"},\"mode\":\"markers\",\"name\":\"B\",\"text\":\"\",\"x\":[0.08548394392684941,-0.5893916978546746,-0.8419665667833715,1.0653294037412206,-0.30404866925348994,0.3220582584509832,1.1049131997268444,0.32518021155482785,2.7803713071535303,-0.6512650673063205,0.49199825674186487,-0.08508963549565635,0.5726425435043762,2.1386501290862214,-0.9950235584665907,2.0052327231453364,1.9086945678707794,-0.4672730441548413,0.09809372512041015,0.20776175313101258,-0.13008291273505135,-0.213716607920109,-0.752971396659258,-0.8856345833042678,-0.21828897744131906,-1.5221842260642924,1.7597176132531838,0.368692867252797,0.012002423023914443,-0.3300847199674508,-1.174027326022618,0.27669897261410636,0.9022235975340244,0.1237670623846236,0.27474926924742754,-1.2318138433306547,-0.9291362405434669,0.2581841484670674,-0.35557870411472275,0.31329107322223737,-0.10998911435349933,-0.6056942752510703,0.5496119520128204,0.7217212678834122,1.1080438778814063,1.194652068448999,1.9452460051287748,-1.0096690093450156,0.06886112821121931,-0.22386569878334348,0.3722266141668129,2.3949425017894628,-1.5415993206560856,0.31051517323586425,-0.9007115672683569,-0.37250269015414444,0.12892868685879072,-2.093099841220505,0.19281052497404821,-0.14026793411748828,0.7202355995317967,1.9985914284907331,-0.024224308482236806,0.01896759967272472,-1.5884383627946148,0.14382833009913976,0.8208787993291673,0.11647492827936208,0.8148442245171553,-0.9944542791659978,-1.5826860570144032,-1.0027608392246807,0.6405945754015209,-1.2307004748798553,-0.9114975696364512,1.37764411838987,0.5203887980053448,-0.6308501093425088,-0.04108239600910254,-0.14803345522911654,0.27240046321175776,-0.0984268942816003,-0.7917134062519374,-0.6755333627675957,0.5021187599504238,-1.489214963700235,0.08552835376163205,-1.8220289030449843,1.3610498831089615,-1.5377662111236543,0.4413929766677556,1.1406361331627282,1.7219831491686641,-0.154773148802657,-0.2652967487886054,1.0404378705960964,-0.9175907022603449,-0.8622776172416078,-1.3999208590790715,0.09066006069192459],\"y\":[-0.1624050135760886,0.980851981664618,1.6263758604043954,0.6670449829300747,0.8463914642614553,-0.5557547356556708,1.3335019465823352,-0.30360500311515876,-0.5572485277306021,1.7923193575265437,0.5230714474292316,1.3962847654068788,0.5454202975825965,0.8220066168038932,0.1333294140157902,-0.4580923125178034,-1.8702657688987048,0.19165599638946365,-1.5441476695946914,1.489985153554788,0.08513682537748908,0.5884943933265148,-0.37527778093043845,-1.2420986135906638,-0.09359385888729599,-0.8993751877593811,0.9038336626818552,0.19897941905376915,-0.3499682664519889,-0.813255283672789,-0.761601608488013,0.6852647594122985,0.7444146965136054,-0.10824902571549988,1.0343766589925962,0.6794742299814396,-1.377108827556193,-0.9198084554974598,1.2754158682756254,-0.6805171783915703,1.6295186194490634,1.3058104975166638,-0.008015691590719798,0.37945370182803906,-0.9344148723391815,0.33642615175310187,-1.117113472484452,1.2098097732957693,1.890729615247962,-0.3020317509780135,-0.795391429211958,0.5145436162551661,-1.17644678201426,0.011191592090796853,-2.664750053974455,-0.7052058747591703,0.4318577646237392,0.3482634341301973,0.6748205565464416,-0.34169023793862807,-0.07989141803255546,-0.1006525565267022,0.7334329357689917,0.8392098396231535,-0.4553307130666966,-0.7064260571420193,0.15230984770640202,0.6237041195854198,0.5318919831274378,0.5221352231397314,-0.8174059688720081,2.4389763497413726,-0.1242766171971954,1.9621837956400514,-0.09450483861151593,-0.27813013860092584,1.8763100787933222,-1.149197127466469,-0.33071258304144435,-0.903204616889579,-0.38847979647058817,-1.1896469966014003,-0.20764447487221024,1.243884872816924,-0.5090636362684436,-1.0423055947393969,-0.06350848782566847,-0.715011626851832,-0.004311390566099713,0.35968046038437906,0.3482155214518224,1.5642585538961675,0.05372460015033393,0.26927859988825925,0.9459316001975121,-1.3231038977865164,-0.13177750479968495,2.894936439883955,1.2620145095169104,-2.673128848304644],\"type\":\"scatter\"}],                        {\"legend\":{\"bgcolor\":\"#F5F6F9\",\"font\":{\"color\":\"#4D5663\"}},\"paper_bgcolor\":\"#F5F6F9\",\"plot_bgcolor\":\"#F5F6F9\",\"template\":{\"data\":{\"barpolar\":[{\"marker\":{\"line\":{\"color\":\"#E5ECF6\",\"width\":0.5},\"pattern\":{\"fillmode\":\"overlay\",\"size\":10,\"solidity\":0.2}},\"type\":\"barpolar\"}],\"bar\":[{\"error_x\":{\"color\":\"#2a3f5f\"},\"error_y\":{\"color\":\"#2a3f5f\"},\"marker\":{\"line\":{\"color\":\"#E5ECF6\",\"width\":0.5},\"pattern\":{\"fillmode\":\"overlay\",\"size\":10,\"solidity\":0.2}},\"type\":\"bar\"}],\"carpet\":[{\"aaxis\":{\"endlinecolor\":\"#2a3f5f\",\"gridcolor\":\"white\",\"linecolor\":\"white\",\"minorgridcolor\":\"white\",\"startlinecolor\":\"#2a3f5f\"},\"baxis\":{\"endlinecolor\":\"#2a3f5f\",\"gridcolor\":\"white\",\"linecolor\":\"white\",\"minorgridcolor\":\"white\",\"startlinecolor\":\"#2a3f5f\"},\"type\":\"carpet\"}],\"choropleth\":[{\"colorbar\":{\"outlinewidth\":0,\"ticks\":\"\"},\"type\":\"choropleth\"}],\"contourcarpet\":[{\"colorbar\":{\"outlinewidth\":0,\"ticks\":\"\"},\"type\":\"contourcarpet\"}],\"contour\":[{\"colorbar\":{\"outlinewidth\":0,\"ticks\":\"\"},\"colorscale\":[[0.0,\"#0d0887\"],[0.1111111111111111,\"#46039f\"],[0.2222222222222222,\"#7201a8\"],[0.3333333333333333,\"#9c179e\"],[0.4444444444444444,\"#bd3786\"],[0.5555555555555556,\"#d8576b\"],[0.6666666666666666,\"#ed7953\"],[0.7777777777777778,\"#fb9f3a\"],[0.8888888888888888,\"#fdca26\"],[1.0,\"#f0f921\"]],\"type\":\"contour\"}],\"heatmapgl\":[{\"colorbar\":{\"outlinewidth\":0,\"ticks\":\"\"},\"colorscale\":[[0.0,\"#0d0887\"],[0.1111111111111111,\"#46039f\"],[0.2222222222222222,\"#7201a8\"],[0.3333333333333333,\"#9c179e\"],[0.4444444444444444,\"#bd3786\"],[0.5555555555555556,\"#d8576b\"],[0.6666666666666666,\"#ed7953\"],[0.7777777777777778,\"#fb9f3a\"],[0.8888888888888888,\"#fdca26\"],[1.0,\"#f0f921\"]],\"type\":\"heatmapgl\"}],\"heatmap\":[{\"colorbar\":{\"outlinewidth\":0,\"ticks\":\"\"},\"colorscale\":[[0.0,\"#0d0887\"],[0.1111111111111111,\"#46039f\"],[0.2222222222222222,\"#7201a8\"],[0.3333333333333333,\"#9c179e\"],[0.4444444444444444,\"#bd3786\"],[0.5555555555555556,\"#d8576b\"],[0.6666666666666666,\"#ed7953\"],[0.7777777777777778,\"#fb9f3a\"],[0.8888888888888888,\"#fdca26\"],[1.0,\"#f0f921\"]],\"type\":\"heatmap\"}],\"histogram2dcontour\":[{\"colorbar\":{\"outlinewidth\":0,\"ticks\":\"\"},\"colorscale\":[[0.0,\"#0d0887\"],[0.1111111111111111,\"#46039f\"],[0.2222222222222222,\"#7201a8\"],[0.3333333333333333,\"#9c179e\"],[0.4444444444444444,\"#bd3786\"],[0.5555555555555556,\"#d8576b\"],[0.6666666666666666,\"#ed7953\"],[0.7777777777777778,\"#fb9f3a\"],[0.8888888888888888,\"#fdca26\"],[1.0,\"#f0f921\"]],\"type\":\"histogram2dcontour\"}],\"histogram2d\":[{\"colorbar\":{\"outlinewidth\":0,\"ticks\":\"\"},\"colorscale\":[[0.0,\"#0d0887\"],[0.1111111111111111,\"#46039f\"],[0.2222222222222222,\"#7201a8\"],[0.3333333333333333,\"#9c179e\"],[0.4444444444444444,\"#bd3786\"],[0.5555555555555556,\"#d8576b\"],[0.6666666666666666,\"#ed7953\"],[0.7777777777777778,\"#fb9f3a\"],[0.8888888888888888,\"#fdca26\"],[1.0,\"#f0f921\"]],\"type\":\"histogram2d\"}],\"histogram\":[{\"marker\":{\"pattern\":{\"fillmode\":\"overlay\",\"size\":10,\"solidity\":0.2}},\"type\":\"histogram\"}],\"mesh3d\":[{\"colorbar\":{\"outlinewidth\":0,\"ticks\":\"\"},\"type\":\"mesh3d\"}],\"parcoords\":[{\"line\":{\"colorbar\":{\"outlinewidth\":0,\"ticks\":\"\"}},\"type\":\"parcoords\"}],\"pie\":[{\"automargin\":true,\"type\":\"pie\"}],\"scatter3d\":[{\"line\":{\"colorbar\":{\"outlinewidth\":0,\"ticks\":\"\"}},\"marker\":{\"colorbar\":{\"outlinewidth\":0,\"ticks\":\"\"}},\"type\":\"scatter3d\"}],\"scattercarpet\":[{\"marker\":{\"colorbar\":{\"outlinewidth\":0,\"ticks\":\"\"}},\"type\":\"scattercarpet\"}],\"scattergeo\":[{\"marker\":{\"colorbar\":{\"outlinewidth\":0,\"ticks\":\"\"}},\"type\":\"scattergeo\"}],\"scattergl\":[{\"marker\":{\"colorbar\":{\"outlinewidth\":0,\"ticks\":\"\"}},\"type\":\"scattergl\"}],\"scattermapbox\":[{\"marker\":{\"colorbar\":{\"outlinewidth\":0,\"ticks\":\"\"}},\"type\":\"scattermapbox\"}],\"scatterpolargl\":[{\"marker\":{\"colorbar\":{\"outlinewidth\":0,\"ticks\":\"\"}},\"type\":\"scatterpolargl\"}],\"scatterpolar\":[{\"marker\":{\"colorbar\":{\"outlinewidth\":0,\"ticks\":\"\"}},\"type\":\"scatterpolar\"}],\"scatter\":[{\"fillpattern\":{\"fillmode\":\"overlay\",\"size\":10,\"solidity\":0.2},\"type\":\"scatter\"}],\"scatterternary\":[{\"marker\":{\"colorbar\":{\"outlinewidth\":0,\"ticks\":\"\"}},\"type\":\"scatterternary\"}],\"surface\":[{\"colorbar\":{\"outlinewidth\":0,\"ticks\":\"\"},\"colorscale\":[[0.0,\"#0d0887\"],[0.1111111111111111,\"#46039f\"],[0.2222222222222222,\"#7201a8\"],[0.3333333333333333,\"#9c179e\"],[0.4444444444444444,\"#bd3786\"],[0.5555555555555556,\"#d8576b\"],[0.6666666666666666,\"#ed7953\"],[0.7777777777777778,\"#fb9f3a\"],[0.8888888888888888,\"#fdca26\"],[1.0,\"#f0f921\"]],\"type\":\"surface\"}],\"table\":[{\"cells\":{\"fill\":{\"color\":\"#EBF0F8\"},\"line\":{\"color\":\"white\"}},\"header\":{\"fill\":{\"color\":\"#C8D4E3\"},\"line\":{\"color\":\"white\"}},\"type\":\"table\"}]},\"layout\":{\"annotationdefaults\":{\"arrowcolor\":\"#2a3f5f\",\"arrowhead\":0,\"arrowwidth\":1},\"autotypenumbers\":\"strict\",\"coloraxis\":{\"colorbar\":{\"outlinewidth\":0,\"ticks\":\"\"}},\"colorscale\":{\"diverging\":[[0,\"#8e0152\"],[0.1,\"#c51b7d\"],[0.2,\"#de77ae\"],[0.3,\"#f1b6da\"],[0.4,\"#fde0ef\"],[0.5,\"#f7f7f7\"],[0.6,\"#e6f5d0\"],[0.7,\"#b8e186\"],[0.8,\"#7fbc41\"],[0.9,\"#4d9221\"],[1,\"#276419\"]],\"sequential\":[[0.0,\"#0d0887\"],[0.1111111111111111,\"#46039f\"],[0.2222222222222222,\"#7201a8\"],[0.3333333333333333,\"#9c179e\"],[0.4444444444444444,\"#bd3786\"],[0.5555555555555556,\"#d8576b\"],[0.6666666666666666,\"#ed7953\"],[0.7777777777777778,\"#fb9f3a\"],[0.8888888888888888,\"#fdca26\"],[1.0,\"#f0f921\"]],\"sequentialminus\":[[0.0,\"#0d0887\"],[0.1111111111111111,\"#46039f\"],[0.2222222222222222,\"#7201a8\"],[0.3333333333333333,\"#9c179e\"],[0.4444444444444444,\"#bd3786\"],[0.5555555555555556,\"#d8576b\"],[0.6666666666666666,\"#ed7953\"],[0.7777777777777778,\"#fb9f3a\"],[0.8888888888888888,\"#fdca26\"],[1.0,\"#f0f921\"]]},\"colorway\":[\"#636efa\",\"#EF553B\",\"#00cc96\",\"#ab63fa\",\"#FFA15A\",\"#19d3f3\",\"#FF6692\",\"#B6E880\",\"#FF97FF\",\"#FECB52\"],\"font\":{\"color\":\"#2a3f5f\"},\"geo\":{\"bgcolor\":\"white\",\"lakecolor\":\"white\",\"landcolor\":\"#E5ECF6\",\"showlakes\":true,\"showland\":true,\"subunitcolor\":\"white\"},\"hoverlabel\":{\"align\":\"left\"},\"hovermode\":\"closest\",\"mapbox\":{\"style\":\"light\"},\"paper_bgcolor\":\"white\",\"plot_bgcolor\":\"#E5ECF6\",\"polar\":{\"angularaxis\":{\"gridcolor\":\"white\",\"linecolor\":\"white\",\"ticks\":\"\"},\"bgcolor\":\"#E5ECF6\",\"radialaxis\":{\"gridcolor\":\"white\",\"linecolor\":\"white\",\"ticks\":\"\"}},\"scene\":{\"xaxis\":{\"backgroundcolor\":\"#E5ECF6\",\"gridcolor\":\"white\",\"gridwidth\":2,\"linecolor\":\"white\",\"showbackground\":true,\"ticks\":\"\",\"zerolinecolor\":\"white\"},\"yaxis\":{\"backgroundcolor\":\"#E5ECF6\",\"gridcolor\":\"white\",\"gridwidth\":2,\"linecolor\":\"white\",\"showbackground\":true,\"ticks\":\"\",\"zerolinecolor\":\"white\"},\"zaxis\":{\"backgroundcolor\":\"#E5ECF6\",\"gridcolor\":\"white\",\"gridwidth\":2,\"linecolor\":\"white\",\"showbackground\":true,\"ticks\":\"\",\"zerolinecolor\":\"white\"}},\"shapedefaults\":{\"line\":{\"color\":\"#2a3f5f\"}},\"ternary\":{\"aaxis\":{\"gridcolor\":\"white\",\"linecolor\":\"white\",\"ticks\":\"\"},\"baxis\":{\"gridcolor\":\"white\",\"linecolor\":\"white\",\"ticks\":\"\"},\"bgcolor\":\"#E5ECF6\",\"caxis\":{\"gridcolor\":\"white\",\"linecolor\":\"white\",\"ticks\":\"\"}},\"title\":{\"x\":0.05},\"xaxis\":{\"automargin\":true,\"gridcolor\":\"white\",\"linecolor\":\"white\",\"ticks\":\"\",\"title\":{\"standoff\":15},\"zerolinecolor\":\"white\",\"zerolinewidth\":2},\"yaxis\":{\"automargin\":true,\"gridcolor\":\"white\",\"linecolor\":\"white\",\"ticks\":\"\",\"title\":{\"standoff\":15},\"zerolinecolor\":\"white\",\"zerolinewidth\":2}}},\"title\":{\"font\":{\"color\":\"#4D5663\"}},\"xaxis\":{\"gridcolor\":\"#E1E5ED\",\"showgrid\":true,\"tickfont\":{\"color\":\"#4D5663\"},\"title\":{\"font\":{\"color\":\"#4D5663\"},\"text\":\"\"},\"zerolinecolor\":\"#E1E5ED\"},\"yaxis\":{\"gridcolor\":\"#E1E5ED\",\"showgrid\":true,\"tickfont\":{\"color\":\"#4D5663\"},\"title\":{\"font\":{\"color\":\"#4D5663\"},\"text\":\"\"},\"zerolinecolor\":\"#E1E5ED\"}},                        {\"showLink\": true, \"linkText\": \"Export to plot.ly\", \"plotlyServerURL\": \"https://plot.ly\", \"responsive\": true}                    ).then(function(){\n",
       "                            \n",
       "var gd = document.getElementById('6d42752d-9e26-4f07-b0b1-1e943062fc9e');\n",
       "var x = new MutationObserver(function (mutations, observer) {{\n",
       "        var display = window.getComputedStyle(gd).display;\n",
       "        if (!display || display === 'none') {{\n",
       "            console.log([gd, 'removed!']);\n",
       "            Plotly.purge(gd);\n",
       "            observer.disconnect();\n",
       "        }}\n",
       "}});\n",
       "\n",
       "// Listen for the removal of the full notebook cells\n",
       "var notebookContainer = gd.closest('#notebook-container');\n",
       "if (notebookContainer) {{\n",
       "    x.observe(notebookContainer, {childList: true});\n",
       "}}\n",
       "\n",
       "// Listen for the clearing of the current output cell\n",
       "var outputEl = gd.closest('.output');\n",
       "if (outputEl) {{\n",
       "    x.observe(outputEl, {childList: true});\n",
       "}}\n",
       "\n",
       "                        })                };                });            </script>        </div>"
      ]
     },
     "metadata": {},
     "output_type": "display_data"
    }
   ],
   "source": [
    "df.iplot(kind='scatter', x='A', y='B', mode='markers', size=10)"
   ]
  },
  {
   "cell_type": "code",
   "execution_count": 16,
   "metadata": {},
   "outputs": [
    {
     "data": {
      "application/vnd.plotly.v1+json": {
       "config": {
        "linkText": "Export to plot.ly",
        "plotlyServerURL": "https://plot.ly",
        "showLink": true
       },
       "data": [
        {
         "marker": {
          "color": "rgba(255, 153, 51, 0.6)",
          "line": {
           "color": "rgba(255, 153, 51, 1.0)",
           "width": 1
          }
         },
         "name": "values",
         "orientation": "v",
         "text": "",
         "type": "bar",
         "x": [
          "A",
          "B",
          "C"
         ],
         "y": [
          32,
          43,
          50
         ]
        }
       ],
       "layout": {
        "legend": {
         "bgcolor": "#F5F6F9",
         "font": {
          "color": "#4D5663"
         }
        },
        "paper_bgcolor": "#F5F6F9",
        "plot_bgcolor": "#F5F6F9",
        "template": {
         "data": {
          "bar": [
           {
            "error_x": {
             "color": "#2a3f5f"
            },
            "error_y": {
             "color": "#2a3f5f"
            },
            "marker": {
             "line": {
              "color": "#E5ECF6",
              "width": 0.5
             },
             "pattern": {
              "fillmode": "overlay",
              "size": 10,
              "solidity": 0.2
             }
            },
            "type": "bar"
           }
          ],
          "barpolar": [
           {
            "marker": {
             "line": {
              "color": "#E5ECF6",
              "width": 0.5
             },
             "pattern": {
              "fillmode": "overlay",
              "size": 10,
              "solidity": 0.2
             }
            },
            "type": "barpolar"
           }
          ],
          "carpet": [
           {
            "aaxis": {
             "endlinecolor": "#2a3f5f",
             "gridcolor": "white",
             "linecolor": "white",
             "minorgridcolor": "white",
             "startlinecolor": "#2a3f5f"
            },
            "baxis": {
             "endlinecolor": "#2a3f5f",
             "gridcolor": "white",
             "linecolor": "white",
             "minorgridcolor": "white",
             "startlinecolor": "#2a3f5f"
            },
            "type": "carpet"
           }
          ],
          "choropleth": [
           {
            "colorbar": {
             "outlinewidth": 0,
             "ticks": ""
            },
            "type": "choropleth"
           }
          ],
          "contour": [
           {
            "colorbar": {
             "outlinewidth": 0,
             "ticks": ""
            },
            "colorscale": [
             [
              0,
              "#0d0887"
             ],
             [
              0.1111111111111111,
              "#46039f"
             ],
             [
              0.2222222222222222,
              "#7201a8"
             ],
             [
              0.3333333333333333,
              "#9c179e"
             ],
             [
              0.4444444444444444,
              "#bd3786"
             ],
             [
              0.5555555555555556,
              "#d8576b"
             ],
             [
              0.6666666666666666,
              "#ed7953"
             ],
             [
              0.7777777777777778,
              "#fb9f3a"
             ],
             [
              0.8888888888888888,
              "#fdca26"
             ],
             [
              1,
              "#f0f921"
             ]
            ],
            "type": "contour"
           }
          ],
          "contourcarpet": [
           {
            "colorbar": {
             "outlinewidth": 0,
             "ticks": ""
            },
            "type": "contourcarpet"
           }
          ],
          "heatmap": [
           {
            "colorbar": {
             "outlinewidth": 0,
             "ticks": ""
            },
            "colorscale": [
             [
              0,
              "#0d0887"
             ],
             [
              0.1111111111111111,
              "#46039f"
             ],
             [
              0.2222222222222222,
              "#7201a8"
             ],
             [
              0.3333333333333333,
              "#9c179e"
             ],
             [
              0.4444444444444444,
              "#bd3786"
             ],
             [
              0.5555555555555556,
              "#d8576b"
             ],
             [
              0.6666666666666666,
              "#ed7953"
             ],
             [
              0.7777777777777778,
              "#fb9f3a"
             ],
             [
              0.8888888888888888,
              "#fdca26"
             ],
             [
              1,
              "#f0f921"
             ]
            ],
            "type": "heatmap"
           }
          ],
          "heatmapgl": [
           {
            "colorbar": {
             "outlinewidth": 0,
             "ticks": ""
            },
            "colorscale": [
             [
              0,
              "#0d0887"
             ],
             [
              0.1111111111111111,
              "#46039f"
             ],
             [
              0.2222222222222222,
              "#7201a8"
             ],
             [
              0.3333333333333333,
              "#9c179e"
             ],
             [
              0.4444444444444444,
              "#bd3786"
             ],
             [
              0.5555555555555556,
              "#d8576b"
             ],
             [
              0.6666666666666666,
              "#ed7953"
             ],
             [
              0.7777777777777778,
              "#fb9f3a"
             ],
             [
              0.8888888888888888,
              "#fdca26"
             ],
             [
              1,
              "#f0f921"
             ]
            ],
            "type": "heatmapgl"
           }
          ],
          "histogram": [
           {
            "marker": {
             "pattern": {
              "fillmode": "overlay",
              "size": 10,
              "solidity": 0.2
             }
            },
            "type": "histogram"
           }
          ],
          "histogram2d": [
           {
            "colorbar": {
             "outlinewidth": 0,
             "ticks": ""
            },
            "colorscale": [
             [
              0,
              "#0d0887"
             ],
             [
              0.1111111111111111,
              "#46039f"
             ],
             [
              0.2222222222222222,
              "#7201a8"
             ],
             [
              0.3333333333333333,
              "#9c179e"
             ],
             [
              0.4444444444444444,
              "#bd3786"
             ],
             [
              0.5555555555555556,
              "#d8576b"
             ],
             [
              0.6666666666666666,
              "#ed7953"
             ],
             [
              0.7777777777777778,
              "#fb9f3a"
             ],
             [
              0.8888888888888888,
              "#fdca26"
             ],
             [
              1,
              "#f0f921"
             ]
            ],
            "type": "histogram2d"
           }
          ],
          "histogram2dcontour": [
           {
            "colorbar": {
             "outlinewidth": 0,
             "ticks": ""
            },
            "colorscale": [
             [
              0,
              "#0d0887"
             ],
             [
              0.1111111111111111,
              "#46039f"
             ],
             [
              0.2222222222222222,
              "#7201a8"
             ],
             [
              0.3333333333333333,
              "#9c179e"
             ],
             [
              0.4444444444444444,
              "#bd3786"
             ],
             [
              0.5555555555555556,
              "#d8576b"
             ],
             [
              0.6666666666666666,
              "#ed7953"
             ],
             [
              0.7777777777777778,
              "#fb9f3a"
             ],
             [
              0.8888888888888888,
              "#fdca26"
             ],
             [
              1,
              "#f0f921"
             ]
            ],
            "type": "histogram2dcontour"
           }
          ],
          "mesh3d": [
           {
            "colorbar": {
             "outlinewidth": 0,
             "ticks": ""
            },
            "type": "mesh3d"
           }
          ],
          "parcoords": [
           {
            "line": {
             "colorbar": {
              "outlinewidth": 0,
              "ticks": ""
             }
            },
            "type": "parcoords"
           }
          ],
          "pie": [
           {
            "automargin": true,
            "type": "pie"
           }
          ],
          "scatter": [
           {
            "fillpattern": {
             "fillmode": "overlay",
             "size": 10,
             "solidity": 0.2
            },
            "type": "scatter"
           }
          ],
          "scatter3d": [
           {
            "line": {
             "colorbar": {
              "outlinewidth": 0,
              "ticks": ""
             }
            },
            "marker": {
             "colorbar": {
              "outlinewidth": 0,
              "ticks": ""
             }
            },
            "type": "scatter3d"
           }
          ],
          "scattercarpet": [
           {
            "marker": {
             "colorbar": {
              "outlinewidth": 0,
              "ticks": ""
             }
            },
            "type": "scattercarpet"
           }
          ],
          "scattergeo": [
           {
            "marker": {
             "colorbar": {
              "outlinewidth": 0,
              "ticks": ""
             }
            },
            "type": "scattergeo"
           }
          ],
          "scattergl": [
           {
            "marker": {
             "colorbar": {
              "outlinewidth": 0,
              "ticks": ""
             }
            },
            "type": "scattergl"
           }
          ],
          "scattermapbox": [
           {
            "marker": {
             "colorbar": {
              "outlinewidth": 0,
              "ticks": ""
             }
            },
            "type": "scattermapbox"
           }
          ],
          "scatterpolar": [
           {
            "marker": {
             "colorbar": {
              "outlinewidth": 0,
              "ticks": ""
             }
            },
            "type": "scatterpolar"
           }
          ],
          "scatterpolargl": [
           {
            "marker": {
             "colorbar": {
              "outlinewidth": 0,
              "ticks": ""
             }
            },
            "type": "scatterpolargl"
           }
          ],
          "scatterternary": [
           {
            "marker": {
             "colorbar": {
              "outlinewidth": 0,
              "ticks": ""
             }
            },
            "type": "scatterternary"
           }
          ],
          "surface": [
           {
            "colorbar": {
             "outlinewidth": 0,
             "ticks": ""
            },
            "colorscale": [
             [
              0,
              "#0d0887"
             ],
             [
              0.1111111111111111,
              "#46039f"
             ],
             [
              0.2222222222222222,
              "#7201a8"
             ],
             [
              0.3333333333333333,
              "#9c179e"
             ],
             [
              0.4444444444444444,
              "#bd3786"
             ],
             [
              0.5555555555555556,
              "#d8576b"
             ],
             [
              0.6666666666666666,
              "#ed7953"
             ],
             [
              0.7777777777777778,
              "#fb9f3a"
             ],
             [
              0.8888888888888888,
              "#fdca26"
             ],
             [
              1,
              "#f0f921"
             ]
            ],
            "type": "surface"
           }
          ],
          "table": [
           {
            "cells": {
             "fill": {
              "color": "#EBF0F8"
             },
             "line": {
              "color": "white"
             }
            },
            "header": {
             "fill": {
              "color": "#C8D4E3"
             },
             "line": {
              "color": "white"
             }
            },
            "type": "table"
           }
          ]
         },
         "layout": {
          "annotationdefaults": {
           "arrowcolor": "#2a3f5f",
           "arrowhead": 0,
           "arrowwidth": 1
          },
          "autotypenumbers": "strict",
          "coloraxis": {
           "colorbar": {
            "outlinewidth": 0,
            "ticks": ""
           }
          },
          "colorscale": {
           "diverging": [
            [
             0,
             "#8e0152"
            ],
            [
             0.1,
             "#c51b7d"
            ],
            [
             0.2,
             "#de77ae"
            ],
            [
             0.3,
             "#f1b6da"
            ],
            [
             0.4,
             "#fde0ef"
            ],
            [
             0.5,
             "#f7f7f7"
            ],
            [
             0.6,
             "#e6f5d0"
            ],
            [
             0.7,
             "#b8e186"
            ],
            [
             0.8,
             "#7fbc41"
            ],
            [
             0.9,
             "#4d9221"
            ],
            [
             1,
             "#276419"
            ]
           ],
           "sequential": [
            [
             0,
             "#0d0887"
            ],
            [
             0.1111111111111111,
             "#46039f"
            ],
            [
             0.2222222222222222,
             "#7201a8"
            ],
            [
             0.3333333333333333,
             "#9c179e"
            ],
            [
             0.4444444444444444,
             "#bd3786"
            ],
            [
             0.5555555555555556,
             "#d8576b"
            ],
            [
             0.6666666666666666,
             "#ed7953"
            ],
            [
             0.7777777777777778,
             "#fb9f3a"
            ],
            [
             0.8888888888888888,
             "#fdca26"
            ],
            [
             1,
             "#f0f921"
            ]
           ],
           "sequentialminus": [
            [
             0,
             "#0d0887"
            ],
            [
             0.1111111111111111,
             "#46039f"
            ],
            [
             0.2222222222222222,
             "#7201a8"
            ],
            [
             0.3333333333333333,
             "#9c179e"
            ],
            [
             0.4444444444444444,
             "#bd3786"
            ],
            [
             0.5555555555555556,
             "#d8576b"
            ],
            [
             0.6666666666666666,
             "#ed7953"
            ],
            [
             0.7777777777777778,
             "#fb9f3a"
            ],
            [
             0.8888888888888888,
             "#fdca26"
            ],
            [
             1,
             "#f0f921"
            ]
           ]
          },
          "colorway": [
           "#636efa",
           "#EF553B",
           "#00cc96",
           "#ab63fa",
           "#FFA15A",
           "#19d3f3",
           "#FF6692",
           "#B6E880",
           "#FF97FF",
           "#FECB52"
          ],
          "font": {
           "color": "#2a3f5f"
          },
          "geo": {
           "bgcolor": "white",
           "lakecolor": "white",
           "landcolor": "#E5ECF6",
           "showlakes": true,
           "showland": true,
           "subunitcolor": "white"
          },
          "hoverlabel": {
           "align": "left"
          },
          "hovermode": "closest",
          "mapbox": {
           "style": "light"
          },
          "paper_bgcolor": "white",
          "plot_bgcolor": "#E5ECF6",
          "polar": {
           "angularaxis": {
            "gridcolor": "white",
            "linecolor": "white",
            "ticks": ""
           },
           "bgcolor": "#E5ECF6",
           "radialaxis": {
            "gridcolor": "white",
            "linecolor": "white",
            "ticks": ""
           }
          },
          "scene": {
           "xaxis": {
            "backgroundcolor": "#E5ECF6",
            "gridcolor": "white",
            "gridwidth": 2,
            "linecolor": "white",
            "showbackground": true,
            "ticks": "",
            "zerolinecolor": "white"
           },
           "yaxis": {
            "backgroundcolor": "#E5ECF6",
            "gridcolor": "white",
            "gridwidth": 2,
            "linecolor": "white",
            "showbackground": true,
            "ticks": "",
            "zerolinecolor": "white"
           },
           "zaxis": {
            "backgroundcolor": "#E5ECF6",
            "gridcolor": "white",
            "gridwidth": 2,
            "linecolor": "white",
            "showbackground": true,
            "ticks": "",
            "zerolinecolor": "white"
           }
          },
          "shapedefaults": {
           "line": {
            "color": "#2a3f5f"
           }
          },
          "ternary": {
           "aaxis": {
            "gridcolor": "white",
            "linecolor": "white",
            "ticks": ""
           },
           "baxis": {
            "gridcolor": "white",
            "linecolor": "white",
            "ticks": ""
           },
           "bgcolor": "#E5ECF6",
           "caxis": {
            "gridcolor": "white",
            "linecolor": "white",
            "ticks": ""
           }
          },
          "title": {
           "x": 0.05
          },
          "xaxis": {
           "automargin": true,
           "gridcolor": "white",
           "linecolor": "white",
           "ticks": "",
           "title": {
            "standoff": 15
           },
           "zerolinecolor": "white",
           "zerolinewidth": 2
          },
          "yaxis": {
           "automargin": true,
           "gridcolor": "white",
           "linecolor": "white",
           "ticks": "",
           "title": {
            "standoff": 15
           },
           "zerolinecolor": "white",
           "zerolinewidth": 2
          }
         }
        },
        "title": {
         "font": {
          "color": "#4D5663"
         }
        },
        "xaxis": {
         "gridcolor": "#E1E5ED",
         "showgrid": true,
         "tickfont": {
          "color": "#4D5663"
         },
         "title": {
          "font": {
           "color": "#4D5663"
          },
          "text": ""
         },
         "zerolinecolor": "#E1E5ED"
        },
        "yaxis": {
         "gridcolor": "#E1E5ED",
         "showgrid": true,
         "tickfont": {
          "color": "#4D5663"
         },
         "title": {
          "font": {
           "color": "#4D5663"
          },
          "text": ""
         },
         "zerolinecolor": "#E1E5ED"
        }
       }
      },
      "text/html": [
       "<div>                            <div id=\"76d0e35a-78e1-41a0-8779-0be5e80381c5\" class=\"plotly-graph-div\" style=\"height:525px; width:100%;\"></div>            <script type=\"text/javascript\">                require([\"plotly\"], function(Plotly) {                    window.PLOTLYENV=window.PLOTLYENV || {};\n",
       "                    window.PLOTLYENV.BASE_URL='https://plot.ly';                                    if (document.getElementById(\"76d0e35a-78e1-41a0-8779-0be5e80381c5\")) {                    Plotly.newPlot(                        \"76d0e35a-78e1-41a0-8779-0be5e80381c5\",                        [{\"marker\":{\"color\":\"rgba(255, 153, 51, 0.6)\",\"line\":{\"color\":\"rgba(255, 153, 51, 1.0)\",\"width\":1}},\"name\":\"values\",\"orientation\":\"v\",\"text\":\"\",\"x\":[\"A\",\"B\",\"C\"],\"y\":[32,43,50],\"type\":\"bar\"}],                        {\"legend\":{\"bgcolor\":\"#F5F6F9\",\"font\":{\"color\":\"#4D5663\"}},\"paper_bgcolor\":\"#F5F6F9\",\"plot_bgcolor\":\"#F5F6F9\",\"template\":{\"data\":{\"barpolar\":[{\"marker\":{\"line\":{\"color\":\"#E5ECF6\",\"width\":0.5},\"pattern\":{\"fillmode\":\"overlay\",\"size\":10,\"solidity\":0.2}},\"type\":\"barpolar\"}],\"bar\":[{\"error_x\":{\"color\":\"#2a3f5f\"},\"error_y\":{\"color\":\"#2a3f5f\"},\"marker\":{\"line\":{\"color\":\"#E5ECF6\",\"width\":0.5},\"pattern\":{\"fillmode\":\"overlay\",\"size\":10,\"solidity\":0.2}},\"type\":\"bar\"}],\"carpet\":[{\"aaxis\":{\"endlinecolor\":\"#2a3f5f\",\"gridcolor\":\"white\",\"linecolor\":\"white\",\"minorgridcolor\":\"white\",\"startlinecolor\":\"#2a3f5f\"},\"baxis\":{\"endlinecolor\":\"#2a3f5f\",\"gridcolor\":\"white\",\"linecolor\":\"white\",\"minorgridcolor\":\"white\",\"startlinecolor\":\"#2a3f5f\"},\"type\":\"carpet\"}],\"choropleth\":[{\"colorbar\":{\"outlinewidth\":0,\"ticks\":\"\"},\"type\":\"choropleth\"}],\"contourcarpet\":[{\"colorbar\":{\"outlinewidth\":0,\"ticks\":\"\"},\"type\":\"contourcarpet\"}],\"contour\":[{\"colorbar\":{\"outlinewidth\":0,\"ticks\":\"\"},\"colorscale\":[[0.0,\"#0d0887\"],[0.1111111111111111,\"#46039f\"],[0.2222222222222222,\"#7201a8\"],[0.3333333333333333,\"#9c179e\"],[0.4444444444444444,\"#bd3786\"],[0.5555555555555556,\"#d8576b\"],[0.6666666666666666,\"#ed7953\"],[0.7777777777777778,\"#fb9f3a\"],[0.8888888888888888,\"#fdca26\"],[1.0,\"#f0f921\"]],\"type\":\"contour\"}],\"heatmapgl\":[{\"colorbar\":{\"outlinewidth\":0,\"ticks\":\"\"},\"colorscale\":[[0.0,\"#0d0887\"],[0.1111111111111111,\"#46039f\"],[0.2222222222222222,\"#7201a8\"],[0.3333333333333333,\"#9c179e\"],[0.4444444444444444,\"#bd3786\"],[0.5555555555555556,\"#d8576b\"],[0.6666666666666666,\"#ed7953\"],[0.7777777777777778,\"#fb9f3a\"],[0.8888888888888888,\"#fdca26\"],[1.0,\"#f0f921\"]],\"type\":\"heatmapgl\"}],\"heatmap\":[{\"colorbar\":{\"outlinewidth\":0,\"ticks\":\"\"},\"colorscale\":[[0.0,\"#0d0887\"],[0.1111111111111111,\"#46039f\"],[0.2222222222222222,\"#7201a8\"],[0.3333333333333333,\"#9c179e\"],[0.4444444444444444,\"#bd3786\"],[0.5555555555555556,\"#d8576b\"],[0.6666666666666666,\"#ed7953\"],[0.7777777777777778,\"#fb9f3a\"],[0.8888888888888888,\"#fdca26\"],[1.0,\"#f0f921\"]],\"type\":\"heatmap\"}],\"histogram2dcontour\":[{\"colorbar\":{\"outlinewidth\":0,\"ticks\":\"\"},\"colorscale\":[[0.0,\"#0d0887\"],[0.1111111111111111,\"#46039f\"],[0.2222222222222222,\"#7201a8\"],[0.3333333333333333,\"#9c179e\"],[0.4444444444444444,\"#bd3786\"],[0.5555555555555556,\"#d8576b\"],[0.6666666666666666,\"#ed7953\"],[0.7777777777777778,\"#fb9f3a\"],[0.8888888888888888,\"#fdca26\"],[1.0,\"#f0f921\"]],\"type\":\"histogram2dcontour\"}],\"histogram2d\":[{\"colorbar\":{\"outlinewidth\":0,\"ticks\":\"\"},\"colorscale\":[[0.0,\"#0d0887\"],[0.1111111111111111,\"#46039f\"],[0.2222222222222222,\"#7201a8\"],[0.3333333333333333,\"#9c179e\"],[0.4444444444444444,\"#bd3786\"],[0.5555555555555556,\"#d8576b\"],[0.6666666666666666,\"#ed7953\"],[0.7777777777777778,\"#fb9f3a\"],[0.8888888888888888,\"#fdca26\"],[1.0,\"#f0f921\"]],\"type\":\"histogram2d\"}],\"histogram\":[{\"marker\":{\"pattern\":{\"fillmode\":\"overlay\",\"size\":10,\"solidity\":0.2}},\"type\":\"histogram\"}],\"mesh3d\":[{\"colorbar\":{\"outlinewidth\":0,\"ticks\":\"\"},\"type\":\"mesh3d\"}],\"parcoords\":[{\"line\":{\"colorbar\":{\"outlinewidth\":0,\"ticks\":\"\"}},\"type\":\"parcoords\"}],\"pie\":[{\"automargin\":true,\"type\":\"pie\"}],\"scatter3d\":[{\"line\":{\"colorbar\":{\"outlinewidth\":0,\"ticks\":\"\"}},\"marker\":{\"colorbar\":{\"outlinewidth\":0,\"ticks\":\"\"}},\"type\":\"scatter3d\"}],\"scattercarpet\":[{\"marker\":{\"colorbar\":{\"outlinewidth\":0,\"ticks\":\"\"}},\"type\":\"scattercarpet\"}],\"scattergeo\":[{\"marker\":{\"colorbar\":{\"outlinewidth\":0,\"ticks\":\"\"}},\"type\":\"scattergeo\"}],\"scattergl\":[{\"marker\":{\"colorbar\":{\"outlinewidth\":0,\"ticks\":\"\"}},\"type\":\"scattergl\"}],\"scattermapbox\":[{\"marker\":{\"colorbar\":{\"outlinewidth\":0,\"ticks\":\"\"}},\"type\":\"scattermapbox\"}],\"scatterpolargl\":[{\"marker\":{\"colorbar\":{\"outlinewidth\":0,\"ticks\":\"\"}},\"type\":\"scatterpolargl\"}],\"scatterpolar\":[{\"marker\":{\"colorbar\":{\"outlinewidth\":0,\"ticks\":\"\"}},\"type\":\"scatterpolar\"}],\"scatter\":[{\"fillpattern\":{\"fillmode\":\"overlay\",\"size\":10,\"solidity\":0.2},\"type\":\"scatter\"}],\"scatterternary\":[{\"marker\":{\"colorbar\":{\"outlinewidth\":0,\"ticks\":\"\"}},\"type\":\"scatterternary\"}],\"surface\":[{\"colorbar\":{\"outlinewidth\":0,\"ticks\":\"\"},\"colorscale\":[[0.0,\"#0d0887\"],[0.1111111111111111,\"#46039f\"],[0.2222222222222222,\"#7201a8\"],[0.3333333333333333,\"#9c179e\"],[0.4444444444444444,\"#bd3786\"],[0.5555555555555556,\"#d8576b\"],[0.6666666666666666,\"#ed7953\"],[0.7777777777777778,\"#fb9f3a\"],[0.8888888888888888,\"#fdca26\"],[1.0,\"#f0f921\"]],\"type\":\"surface\"}],\"table\":[{\"cells\":{\"fill\":{\"color\":\"#EBF0F8\"},\"line\":{\"color\":\"white\"}},\"header\":{\"fill\":{\"color\":\"#C8D4E3\"},\"line\":{\"color\":\"white\"}},\"type\":\"table\"}]},\"layout\":{\"annotationdefaults\":{\"arrowcolor\":\"#2a3f5f\",\"arrowhead\":0,\"arrowwidth\":1},\"autotypenumbers\":\"strict\",\"coloraxis\":{\"colorbar\":{\"outlinewidth\":0,\"ticks\":\"\"}},\"colorscale\":{\"diverging\":[[0,\"#8e0152\"],[0.1,\"#c51b7d\"],[0.2,\"#de77ae\"],[0.3,\"#f1b6da\"],[0.4,\"#fde0ef\"],[0.5,\"#f7f7f7\"],[0.6,\"#e6f5d0\"],[0.7,\"#b8e186\"],[0.8,\"#7fbc41\"],[0.9,\"#4d9221\"],[1,\"#276419\"]],\"sequential\":[[0.0,\"#0d0887\"],[0.1111111111111111,\"#46039f\"],[0.2222222222222222,\"#7201a8\"],[0.3333333333333333,\"#9c179e\"],[0.4444444444444444,\"#bd3786\"],[0.5555555555555556,\"#d8576b\"],[0.6666666666666666,\"#ed7953\"],[0.7777777777777778,\"#fb9f3a\"],[0.8888888888888888,\"#fdca26\"],[1.0,\"#f0f921\"]],\"sequentialminus\":[[0.0,\"#0d0887\"],[0.1111111111111111,\"#46039f\"],[0.2222222222222222,\"#7201a8\"],[0.3333333333333333,\"#9c179e\"],[0.4444444444444444,\"#bd3786\"],[0.5555555555555556,\"#d8576b\"],[0.6666666666666666,\"#ed7953\"],[0.7777777777777778,\"#fb9f3a\"],[0.8888888888888888,\"#fdca26\"],[1.0,\"#f0f921\"]]},\"colorway\":[\"#636efa\",\"#EF553B\",\"#00cc96\",\"#ab63fa\",\"#FFA15A\",\"#19d3f3\",\"#FF6692\",\"#B6E880\",\"#FF97FF\",\"#FECB52\"],\"font\":{\"color\":\"#2a3f5f\"},\"geo\":{\"bgcolor\":\"white\",\"lakecolor\":\"white\",\"landcolor\":\"#E5ECF6\",\"showlakes\":true,\"showland\":true,\"subunitcolor\":\"white\"},\"hoverlabel\":{\"align\":\"left\"},\"hovermode\":\"closest\",\"mapbox\":{\"style\":\"light\"},\"paper_bgcolor\":\"white\",\"plot_bgcolor\":\"#E5ECF6\",\"polar\":{\"angularaxis\":{\"gridcolor\":\"white\",\"linecolor\":\"white\",\"ticks\":\"\"},\"bgcolor\":\"#E5ECF6\",\"radialaxis\":{\"gridcolor\":\"white\",\"linecolor\":\"white\",\"ticks\":\"\"}},\"scene\":{\"xaxis\":{\"backgroundcolor\":\"#E5ECF6\",\"gridcolor\":\"white\",\"gridwidth\":2,\"linecolor\":\"white\",\"showbackground\":true,\"ticks\":\"\",\"zerolinecolor\":\"white\"},\"yaxis\":{\"backgroundcolor\":\"#E5ECF6\",\"gridcolor\":\"white\",\"gridwidth\":2,\"linecolor\":\"white\",\"showbackground\":true,\"ticks\":\"\",\"zerolinecolor\":\"white\"},\"zaxis\":{\"backgroundcolor\":\"#E5ECF6\",\"gridcolor\":\"white\",\"gridwidth\":2,\"linecolor\":\"white\",\"showbackground\":true,\"ticks\":\"\",\"zerolinecolor\":\"white\"}},\"shapedefaults\":{\"line\":{\"color\":\"#2a3f5f\"}},\"ternary\":{\"aaxis\":{\"gridcolor\":\"white\",\"linecolor\":\"white\",\"ticks\":\"\"},\"baxis\":{\"gridcolor\":\"white\",\"linecolor\":\"white\",\"ticks\":\"\"},\"bgcolor\":\"#E5ECF6\",\"caxis\":{\"gridcolor\":\"white\",\"linecolor\":\"white\",\"ticks\":\"\"}},\"title\":{\"x\":0.05},\"xaxis\":{\"automargin\":true,\"gridcolor\":\"white\",\"linecolor\":\"white\",\"ticks\":\"\",\"title\":{\"standoff\":15},\"zerolinecolor\":\"white\",\"zerolinewidth\":2},\"yaxis\":{\"automargin\":true,\"gridcolor\":\"white\",\"linecolor\":\"white\",\"ticks\":\"\",\"title\":{\"standoff\":15},\"zerolinecolor\":\"white\",\"zerolinewidth\":2}}},\"title\":{\"font\":{\"color\":\"#4D5663\"}},\"xaxis\":{\"gridcolor\":\"#E1E5ED\",\"showgrid\":true,\"tickfont\":{\"color\":\"#4D5663\"},\"title\":{\"font\":{\"color\":\"#4D5663\"},\"text\":\"\"},\"zerolinecolor\":\"#E1E5ED\"},\"yaxis\":{\"gridcolor\":\"#E1E5ED\",\"showgrid\":true,\"tickfont\":{\"color\":\"#4D5663\"},\"title\":{\"font\":{\"color\":\"#4D5663\"},\"text\":\"\"},\"zerolinecolor\":\"#E1E5ED\"}},                        {\"showLink\": true, \"linkText\": \"Export to plot.ly\", \"plotlyServerURL\": \"https://plot.ly\", \"responsive\": true}                    ).then(function(){\n",
       "                            \n",
       "var gd = document.getElementById('76d0e35a-78e1-41a0-8779-0be5e80381c5');\n",
       "var x = new MutationObserver(function (mutations, observer) {{\n",
       "        var display = window.getComputedStyle(gd).display;\n",
       "        if (!display || display === 'none') {{\n",
       "            console.log([gd, 'removed!']);\n",
       "            Plotly.purge(gd);\n",
       "            observer.disconnect();\n",
       "        }}\n",
       "}});\n",
       "\n",
       "// Listen for the removal of the full notebook cells\n",
       "var notebookContainer = gd.closest('#notebook-container');\n",
       "if (notebookContainer) {{\n",
       "    x.observe(notebookContainer, {childList: true});\n",
       "}}\n",
       "\n",
       "// Listen for the clearing of the current output cell\n",
       "var outputEl = gd.closest('.output');\n",
       "if (outputEl) {{\n",
       "    x.observe(outputEl, {childList: true});\n",
       "}}\n",
       "\n",
       "                        })                };                });            </script>        </div>"
      ]
     },
     "metadata": {},
     "output_type": "display_data"
    }
   ],
   "source": [
    "df2.iplot(kind='bar', x='Category', y='values')"
   ]
  },
  {
   "cell_type": "code",
   "execution_count": 18,
   "metadata": {},
   "outputs": [
    {
     "data": {
      "application/vnd.plotly.v1+json": {
       "config": {
        "linkText": "Export to plot.ly",
        "plotlyServerURL": "https://plot.ly",
        "showLink": true
       },
       "data": [
        {
         "marker": {
          "color": "rgba(255, 153, 51, 0.6)",
          "line": {
           "color": "rgba(255, 153, 51, 1.0)",
           "width": 1
          }
         },
         "name": "None",
         "orientation": "v",
         "text": "",
         "type": "bar",
         "x": [
          "A",
          "B",
          "C",
          "D"
         ],
         "y": [
          100,
          100,
          100,
          100
         ]
        }
       ],
       "layout": {
        "legend": {
         "bgcolor": "#F5F6F9",
         "font": {
          "color": "#4D5663"
         }
        },
        "paper_bgcolor": "#F5F6F9",
        "plot_bgcolor": "#F5F6F9",
        "template": {
         "data": {
          "bar": [
           {
            "error_x": {
             "color": "#2a3f5f"
            },
            "error_y": {
             "color": "#2a3f5f"
            },
            "marker": {
             "line": {
              "color": "#E5ECF6",
              "width": 0.5
             },
             "pattern": {
              "fillmode": "overlay",
              "size": 10,
              "solidity": 0.2
             }
            },
            "type": "bar"
           }
          ],
          "barpolar": [
           {
            "marker": {
             "line": {
              "color": "#E5ECF6",
              "width": 0.5
             },
             "pattern": {
              "fillmode": "overlay",
              "size": 10,
              "solidity": 0.2
             }
            },
            "type": "barpolar"
           }
          ],
          "carpet": [
           {
            "aaxis": {
             "endlinecolor": "#2a3f5f",
             "gridcolor": "white",
             "linecolor": "white",
             "minorgridcolor": "white",
             "startlinecolor": "#2a3f5f"
            },
            "baxis": {
             "endlinecolor": "#2a3f5f",
             "gridcolor": "white",
             "linecolor": "white",
             "minorgridcolor": "white",
             "startlinecolor": "#2a3f5f"
            },
            "type": "carpet"
           }
          ],
          "choropleth": [
           {
            "colorbar": {
             "outlinewidth": 0,
             "ticks": ""
            },
            "type": "choropleth"
           }
          ],
          "contour": [
           {
            "colorbar": {
             "outlinewidth": 0,
             "ticks": ""
            },
            "colorscale": [
             [
              0,
              "#0d0887"
             ],
             [
              0.1111111111111111,
              "#46039f"
             ],
             [
              0.2222222222222222,
              "#7201a8"
             ],
             [
              0.3333333333333333,
              "#9c179e"
             ],
             [
              0.4444444444444444,
              "#bd3786"
             ],
             [
              0.5555555555555556,
              "#d8576b"
             ],
             [
              0.6666666666666666,
              "#ed7953"
             ],
             [
              0.7777777777777778,
              "#fb9f3a"
             ],
             [
              0.8888888888888888,
              "#fdca26"
             ],
             [
              1,
              "#f0f921"
             ]
            ],
            "type": "contour"
           }
          ],
          "contourcarpet": [
           {
            "colorbar": {
             "outlinewidth": 0,
             "ticks": ""
            },
            "type": "contourcarpet"
           }
          ],
          "heatmap": [
           {
            "colorbar": {
             "outlinewidth": 0,
             "ticks": ""
            },
            "colorscale": [
             [
              0,
              "#0d0887"
             ],
             [
              0.1111111111111111,
              "#46039f"
             ],
             [
              0.2222222222222222,
              "#7201a8"
             ],
             [
              0.3333333333333333,
              "#9c179e"
             ],
             [
              0.4444444444444444,
              "#bd3786"
             ],
             [
              0.5555555555555556,
              "#d8576b"
             ],
             [
              0.6666666666666666,
              "#ed7953"
             ],
             [
              0.7777777777777778,
              "#fb9f3a"
             ],
             [
              0.8888888888888888,
              "#fdca26"
             ],
             [
              1,
              "#f0f921"
             ]
            ],
            "type": "heatmap"
           }
          ],
          "heatmapgl": [
           {
            "colorbar": {
             "outlinewidth": 0,
             "ticks": ""
            },
            "colorscale": [
             [
              0,
              "#0d0887"
             ],
             [
              0.1111111111111111,
              "#46039f"
             ],
             [
              0.2222222222222222,
              "#7201a8"
             ],
             [
              0.3333333333333333,
              "#9c179e"
             ],
             [
              0.4444444444444444,
              "#bd3786"
             ],
             [
              0.5555555555555556,
              "#d8576b"
             ],
             [
              0.6666666666666666,
              "#ed7953"
             ],
             [
              0.7777777777777778,
              "#fb9f3a"
             ],
             [
              0.8888888888888888,
              "#fdca26"
             ],
             [
              1,
              "#f0f921"
             ]
            ],
            "type": "heatmapgl"
           }
          ],
          "histogram": [
           {
            "marker": {
             "pattern": {
              "fillmode": "overlay",
              "size": 10,
              "solidity": 0.2
             }
            },
            "type": "histogram"
           }
          ],
          "histogram2d": [
           {
            "colorbar": {
             "outlinewidth": 0,
             "ticks": ""
            },
            "colorscale": [
             [
              0,
              "#0d0887"
             ],
             [
              0.1111111111111111,
              "#46039f"
             ],
             [
              0.2222222222222222,
              "#7201a8"
             ],
             [
              0.3333333333333333,
              "#9c179e"
             ],
             [
              0.4444444444444444,
              "#bd3786"
             ],
             [
              0.5555555555555556,
              "#d8576b"
             ],
             [
              0.6666666666666666,
              "#ed7953"
             ],
             [
              0.7777777777777778,
              "#fb9f3a"
             ],
             [
              0.8888888888888888,
              "#fdca26"
             ],
             [
              1,
              "#f0f921"
             ]
            ],
            "type": "histogram2d"
           }
          ],
          "histogram2dcontour": [
           {
            "colorbar": {
             "outlinewidth": 0,
             "ticks": ""
            },
            "colorscale": [
             [
              0,
              "#0d0887"
             ],
             [
              0.1111111111111111,
              "#46039f"
             ],
             [
              0.2222222222222222,
              "#7201a8"
             ],
             [
              0.3333333333333333,
              "#9c179e"
             ],
             [
              0.4444444444444444,
              "#bd3786"
             ],
             [
              0.5555555555555556,
              "#d8576b"
             ],
             [
              0.6666666666666666,
              "#ed7953"
             ],
             [
              0.7777777777777778,
              "#fb9f3a"
             ],
             [
              0.8888888888888888,
              "#fdca26"
             ],
             [
              1,
              "#f0f921"
             ]
            ],
            "type": "histogram2dcontour"
           }
          ],
          "mesh3d": [
           {
            "colorbar": {
             "outlinewidth": 0,
             "ticks": ""
            },
            "type": "mesh3d"
           }
          ],
          "parcoords": [
           {
            "line": {
             "colorbar": {
              "outlinewidth": 0,
              "ticks": ""
             }
            },
            "type": "parcoords"
           }
          ],
          "pie": [
           {
            "automargin": true,
            "type": "pie"
           }
          ],
          "scatter": [
           {
            "fillpattern": {
             "fillmode": "overlay",
             "size": 10,
             "solidity": 0.2
            },
            "type": "scatter"
           }
          ],
          "scatter3d": [
           {
            "line": {
             "colorbar": {
              "outlinewidth": 0,
              "ticks": ""
             }
            },
            "marker": {
             "colorbar": {
              "outlinewidth": 0,
              "ticks": ""
             }
            },
            "type": "scatter3d"
           }
          ],
          "scattercarpet": [
           {
            "marker": {
             "colorbar": {
              "outlinewidth": 0,
              "ticks": ""
             }
            },
            "type": "scattercarpet"
           }
          ],
          "scattergeo": [
           {
            "marker": {
             "colorbar": {
              "outlinewidth": 0,
              "ticks": ""
             }
            },
            "type": "scattergeo"
           }
          ],
          "scattergl": [
           {
            "marker": {
             "colorbar": {
              "outlinewidth": 0,
              "ticks": ""
             }
            },
            "type": "scattergl"
           }
          ],
          "scattermapbox": [
           {
            "marker": {
             "colorbar": {
              "outlinewidth": 0,
              "ticks": ""
             }
            },
            "type": "scattermapbox"
           }
          ],
          "scatterpolar": [
           {
            "marker": {
             "colorbar": {
              "outlinewidth": 0,
              "ticks": ""
             }
            },
            "type": "scatterpolar"
           }
          ],
          "scatterpolargl": [
           {
            "marker": {
             "colorbar": {
              "outlinewidth": 0,
              "ticks": ""
             }
            },
            "type": "scatterpolargl"
           }
          ],
          "scatterternary": [
           {
            "marker": {
             "colorbar": {
              "outlinewidth": 0,
              "ticks": ""
             }
            },
            "type": "scatterternary"
           }
          ],
          "surface": [
           {
            "colorbar": {
             "outlinewidth": 0,
             "ticks": ""
            },
            "colorscale": [
             [
              0,
              "#0d0887"
             ],
             [
              0.1111111111111111,
              "#46039f"
             ],
             [
              0.2222222222222222,
              "#7201a8"
             ],
             [
              0.3333333333333333,
              "#9c179e"
             ],
             [
              0.4444444444444444,
              "#bd3786"
             ],
             [
              0.5555555555555556,
              "#d8576b"
             ],
             [
              0.6666666666666666,
              "#ed7953"
             ],
             [
              0.7777777777777778,
              "#fb9f3a"
             ],
             [
              0.8888888888888888,
              "#fdca26"
             ],
             [
              1,
              "#f0f921"
             ]
            ],
            "type": "surface"
           }
          ],
          "table": [
           {
            "cells": {
             "fill": {
              "color": "#EBF0F8"
             },
             "line": {
              "color": "white"
             }
            },
            "header": {
             "fill": {
              "color": "#C8D4E3"
             },
             "line": {
              "color": "white"
             }
            },
            "type": "table"
           }
          ]
         },
         "layout": {
          "annotationdefaults": {
           "arrowcolor": "#2a3f5f",
           "arrowhead": 0,
           "arrowwidth": 1
          },
          "autotypenumbers": "strict",
          "coloraxis": {
           "colorbar": {
            "outlinewidth": 0,
            "ticks": ""
           }
          },
          "colorscale": {
           "diverging": [
            [
             0,
             "#8e0152"
            ],
            [
             0.1,
             "#c51b7d"
            ],
            [
             0.2,
             "#de77ae"
            ],
            [
             0.3,
             "#f1b6da"
            ],
            [
             0.4,
             "#fde0ef"
            ],
            [
             0.5,
             "#f7f7f7"
            ],
            [
             0.6,
             "#e6f5d0"
            ],
            [
             0.7,
             "#b8e186"
            ],
            [
             0.8,
             "#7fbc41"
            ],
            [
             0.9,
             "#4d9221"
            ],
            [
             1,
             "#276419"
            ]
           ],
           "sequential": [
            [
             0,
             "#0d0887"
            ],
            [
             0.1111111111111111,
             "#46039f"
            ],
            [
             0.2222222222222222,
             "#7201a8"
            ],
            [
             0.3333333333333333,
             "#9c179e"
            ],
            [
             0.4444444444444444,
             "#bd3786"
            ],
            [
             0.5555555555555556,
             "#d8576b"
            ],
            [
             0.6666666666666666,
             "#ed7953"
            ],
            [
             0.7777777777777778,
             "#fb9f3a"
            ],
            [
             0.8888888888888888,
             "#fdca26"
            ],
            [
             1,
             "#f0f921"
            ]
           ],
           "sequentialminus": [
            [
             0,
             "#0d0887"
            ],
            [
             0.1111111111111111,
             "#46039f"
            ],
            [
             0.2222222222222222,
             "#7201a8"
            ],
            [
             0.3333333333333333,
             "#9c179e"
            ],
            [
             0.4444444444444444,
             "#bd3786"
            ],
            [
             0.5555555555555556,
             "#d8576b"
            ],
            [
             0.6666666666666666,
             "#ed7953"
            ],
            [
             0.7777777777777778,
             "#fb9f3a"
            ],
            [
             0.8888888888888888,
             "#fdca26"
            ],
            [
             1,
             "#f0f921"
            ]
           ]
          },
          "colorway": [
           "#636efa",
           "#EF553B",
           "#00cc96",
           "#ab63fa",
           "#FFA15A",
           "#19d3f3",
           "#FF6692",
           "#B6E880",
           "#FF97FF",
           "#FECB52"
          ],
          "font": {
           "color": "#2a3f5f"
          },
          "geo": {
           "bgcolor": "white",
           "lakecolor": "white",
           "landcolor": "#E5ECF6",
           "showlakes": true,
           "showland": true,
           "subunitcolor": "white"
          },
          "hoverlabel": {
           "align": "left"
          },
          "hovermode": "closest",
          "mapbox": {
           "style": "light"
          },
          "paper_bgcolor": "white",
          "plot_bgcolor": "#E5ECF6",
          "polar": {
           "angularaxis": {
            "gridcolor": "white",
            "linecolor": "white",
            "ticks": ""
           },
           "bgcolor": "#E5ECF6",
           "radialaxis": {
            "gridcolor": "white",
            "linecolor": "white",
            "ticks": ""
           }
          },
          "scene": {
           "xaxis": {
            "backgroundcolor": "#E5ECF6",
            "gridcolor": "white",
            "gridwidth": 2,
            "linecolor": "white",
            "showbackground": true,
            "ticks": "",
            "zerolinecolor": "white"
           },
           "yaxis": {
            "backgroundcolor": "#E5ECF6",
            "gridcolor": "white",
            "gridwidth": 2,
            "linecolor": "white",
            "showbackground": true,
            "ticks": "",
            "zerolinecolor": "white"
           },
           "zaxis": {
            "backgroundcolor": "#E5ECF6",
            "gridcolor": "white",
            "gridwidth": 2,
            "linecolor": "white",
            "showbackground": true,
            "ticks": "",
            "zerolinecolor": "white"
           }
          },
          "shapedefaults": {
           "line": {
            "color": "#2a3f5f"
           }
          },
          "ternary": {
           "aaxis": {
            "gridcolor": "white",
            "linecolor": "white",
            "ticks": ""
           },
           "baxis": {
            "gridcolor": "white",
            "linecolor": "white",
            "ticks": ""
           },
           "bgcolor": "#E5ECF6",
           "caxis": {
            "gridcolor": "white",
            "linecolor": "white",
            "ticks": ""
           }
          },
          "title": {
           "x": 0.05
          },
          "xaxis": {
           "automargin": true,
           "gridcolor": "white",
           "linecolor": "white",
           "ticks": "",
           "title": {
            "standoff": 15
           },
           "zerolinecolor": "white",
           "zerolinewidth": 2
          },
          "yaxis": {
           "automargin": true,
           "gridcolor": "white",
           "linecolor": "white",
           "ticks": "",
           "title": {
            "standoff": 15
           },
           "zerolinecolor": "white",
           "zerolinewidth": 2
          }
         }
        },
        "title": {
         "font": {
          "color": "#4D5663"
         }
        },
        "xaxis": {
         "gridcolor": "#E1E5ED",
         "showgrid": true,
         "tickfont": {
          "color": "#4D5663"
         },
         "title": {
          "font": {
           "color": "#4D5663"
          },
          "text": ""
         },
         "zerolinecolor": "#E1E5ED"
        },
        "yaxis": {
         "gridcolor": "#E1E5ED",
         "showgrid": true,
         "tickfont": {
          "color": "#4D5663"
         },
         "title": {
          "font": {
           "color": "#4D5663"
          },
          "text": ""
         },
         "zerolinecolor": "#E1E5ED"
        }
       }
      },
      "text/html": [
       "<div>                            <div id=\"b08caf48-3562-4a22-b17b-38ca1d8b5efa\" class=\"plotly-graph-div\" style=\"height:525px; width:100%;\"></div>            <script type=\"text/javascript\">                require([\"plotly\"], function(Plotly) {                    window.PLOTLYENV=window.PLOTLYENV || {};\n",
       "                    window.PLOTLYENV.BASE_URL='https://plot.ly';                                    if (document.getElementById(\"b08caf48-3562-4a22-b17b-38ca1d8b5efa\")) {                    Plotly.newPlot(                        \"b08caf48-3562-4a22-b17b-38ca1d8b5efa\",                        [{\"marker\":{\"color\":\"rgba(255, 153, 51, 0.6)\",\"line\":{\"color\":\"rgba(255, 153, 51, 1.0)\",\"width\":1}},\"name\":\"None\",\"orientation\":\"v\",\"text\":\"\",\"x\":[\"A\",\"B\",\"C\",\"D\"],\"y\":[100,100,100,100],\"type\":\"bar\"}],                        {\"legend\":{\"bgcolor\":\"#F5F6F9\",\"font\":{\"color\":\"#4D5663\"}},\"paper_bgcolor\":\"#F5F6F9\",\"plot_bgcolor\":\"#F5F6F9\",\"template\":{\"data\":{\"barpolar\":[{\"marker\":{\"line\":{\"color\":\"#E5ECF6\",\"width\":0.5},\"pattern\":{\"fillmode\":\"overlay\",\"size\":10,\"solidity\":0.2}},\"type\":\"barpolar\"}],\"bar\":[{\"error_x\":{\"color\":\"#2a3f5f\"},\"error_y\":{\"color\":\"#2a3f5f\"},\"marker\":{\"line\":{\"color\":\"#E5ECF6\",\"width\":0.5},\"pattern\":{\"fillmode\":\"overlay\",\"size\":10,\"solidity\":0.2}},\"type\":\"bar\"}],\"carpet\":[{\"aaxis\":{\"endlinecolor\":\"#2a3f5f\",\"gridcolor\":\"white\",\"linecolor\":\"white\",\"minorgridcolor\":\"white\",\"startlinecolor\":\"#2a3f5f\"},\"baxis\":{\"endlinecolor\":\"#2a3f5f\",\"gridcolor\":\"white\",\"linecolor\":\"white\",\"minorgridcolor\":\"white\",\"startlinecolor\":\"#2a3f5f\"},\"type\":\"carpet\"}],\"choropleth\":[{\"colorbar\":{\"outlinewidth\":0,\"ticks\":\"\"},\"type\":\"choropleth\"}],\"contourcarpet\":[{\"colorbar\":{\"outlinewidth\":0,\"ticks\":\"\"},\"type\":\"contourcarpet\"}],\"contour\":[{\"colorbar\":{\"outlinewidth\":0,\"ticks\":\"\"},\"colorscale\":[[0.0,\"#0d0887\"],[0.1111111111111111,\"#46039f\"],[0.2222222222222222,\"#7201a8\"],[0.3333333333333333,\"#9c179e\"],[0.4444444444444444,\"#bd3786\"],[0.5555555555555556,\"#d8576b\"],[0.6666666666666666,\"#ed7953\"],[0.7777777777777778,\"#fb9f3a\"],[0.8888888888888888,\"#fdca26\"],[1.0,\"#f0f921\"]],\"type\":\"contour\"}],\"heatmapgl\":[{\"colorbar\":{\"outlinewidth\":0,\"ticks\":\"\"},\"colorscale\":[[0.0,\"#0d0887\"],[0.1111111111111111,\"#46039f\"],[0.2222222222222222,\"#7201a8\"],[0.3333333333333333,\"#9c179e\"],[0.4444444444444444,\"#bd3786\"],[0.5555555555555556,\"#d8576b\"],[0.6666666666666666,\"#ed7953\"],[0.7777777777777778,\"#fb9f3a\"],[0.8888888888888888,\"#fdca26\"],[1.0,\"#f0f921\"]],\"type\":\"heatmapgl\"}],\"heatmap\":[{\"colorbar\":{\"outlinewidth\":0,\"ticks\":\"\"},\"colorscale\":[[0.0,\"#0d0887\"],[0.1111111111111111,\"#46039f\"],[0.2222222222222222,\"#7201a8\"],[0.3333333333333333,\"#9c179e\"],[0.4444444444444444,\"#bd3786\"],[0.5555555555555556,\"#d8576b\"],[0.6666666666666666,\"#ed7953\"],[0.7777777777777778,\"#fb9f3a\"],[0.8888888888888888,\"#fdca26\"],[1.0,\"#f0f921\"]],\"type\":\"heatmap\"}],\"histogram2dcontour\":[{\"colorbar\":{\"outlinewidth\":0,\"ticks\":\"\"},\"colorscale\":[[0.0,\"#0d0887\"],[0.1111111111111111,\"#46039f\"],[0.2222222222222222,\"#7201a8\"],[0.3333333333333333,\"#9c179e\"],[0.4444444444444444,\"#bd3786\"],[0.5555555555555556,\"#d8576b\"],[0.6666666666666666,\"#ed7953\"],[0.7777777777777778,\"#fb9f3a\"],[0.8888888888888888,\"#fdca26\"],[1.0,\"#f0f921\"]],\"type\":\"histogram2dcontour\"}],\"histogram2d\":[{\"colorbar\":{\"outlinewidth\":0,\"ticks\":\"\"},\"colorscale\":[[0.0,\"#0d0887\"],[0.1111111111111111,\"#46039f\"],[0.2222222222222222,\"#7201a8\"],[0.3333333333333333,\"#9c179e\"],[0.4444444444444444,\"#bd3786\"],[0.5555555555555556,\"#d8576b\"],[0.6666666666666666,\"#ed7953\"],[0.7777777777777778,\"#fb9f3a\"],[0.8888888888888888,\"#fdca26\"],[1.0,\"#f0f921\"]],\"type\":\"histogram2d\"}],\"histogram\":[{\"marker\":{\"pattern\":{\"fillmode\":\"overlay\",\"size\":10,\"solidity\":0.2}},\"type\":\"histogram\"}],\"mesh3d\":[{\"colorbar\":{\"outlinewidth\":0,\"ticks\":\"\"},\"type\":\"mesh3d\"}],\"parcoords\":[{\"line\":{\"colorbar\":{\"outlinewidth\":0,\"ticks\":\"\"}},\"type\":\"parcoords\"}],\"pie\":[{\"automargin\":true,\"type\":\"pie\"}],\"scatter3d\":[{\"line\":{\"colorbar\":{\"outlinewidth\":0,\"ticks\":\"\"}},\"marker\":{\"colorbar\":{\"outlinewidth\":0,\"ticks\":\"\"}},\"type\":\"scatter3d\"}],\"scattercarpet\":[{\"marker\":{\"colorbar\":{\"outlinewidth\":0,\"ticks\":\"\"}},\"type\":\"scattercarpet\"}],\"scattergeo\":[{\"marker\":{\"colorbar\":{\"outlinewidth\":0,\"ticks\":\"\"}},\"type\":\"scattergeo\"}],\"scattergl\":[{\"marker\":{\"colorbar\":{\"outlinewidth\":0,\"ticks\":\"\"}},\"type\":\"scattergl\"}],\"scattermapbox\":[{\"marker\":{\"colorbar\":{\"outlinewidth\":0,\"ticks\":\"\"}},\"type\":\"scattermapbox\"}],\"scatterpolargl\":[{\"marker\":{\"colorbar\":{\"outlinewidth\":0,\"ticks\":\"\"}},\"type\":\"scatterpolargl\"}],\"scatterpolar\":[{\"marker\":{\"colorbar\":{\"outlinewidth\":0,\"ticks\":\"\"}},\"type\":\"scatterpolar\"}],\"scatter\":[{\"fillpattern\":{\"fillmode\":\"overlay\",\"size\":10,\"solidity\":0.2},\"type\":\"scatter\"}],\"scatterternary\":[{\"marker\":{\"colorbar\":{\"outlinewidth\":0,\"ticks\":\"\"}},\"type\":\"scatterternary\"}],\"surface\":[{\"colorbar\":{\"outlinewidth\":0,\"ticks\":\"\"},\"colorscale\":[[0.0,\"#0d0887\"],[0.1111111111111111,\"#46039f\"],[0.2222222222222222,\"#7201a8\"],[0.3333333333333333,\"#9c179e\"],[0.4444444444444444,\"#bd3786\"],[0.5555555555555556,\"#d8576b\"],[0.6666666666666666,\"#ed7953\"],[0.7777777777777778,\"#fb9f3a\"],[0.8888888888888888,\"#fdca26\"],[1.0,\"#f0f921\"]],\"type\":\"surface\"}],\"table\":[{\"cells\":{\"fill\":{\"color\":\"#EBF0F8\"},\"line\":{\"color\":\"white\"}},\"header\":{\"fill\":{\"color\":\"#C8D4E3\"},\"line\":{\"color\":\"white\"}},\"type\":\"table\"}]},\"layout\":{\"annotationdefaults\":{\"arrowcolor\":\"#2a3f5f\",\"arrowhead\":0,\"arrowwidth\":1},\"autotypenumbers\":\"strict\",\"coloraxis\":{\"colorbar\":{\"outlinewidth\":0,\"ticks\":\"\"}},\"colorscale\":{\"diverging\":[[0,\"#8e0152\"],[0.1,\"#c51b7d\"],[0.2,\"#de77ae\"],[0.3,\"#f1b6da\"],[0.4,\"#fde0ef\"],[0.5,\"#f7f7f7\"],[0.6,\"#e6f5d0\"],[0.7,\"#b8e186\"],[0.8,\"#7fbc41\"],[0.9,\"#4d9221\"],[1,\"#276419\"]],\"sequential\":[[0.0,\"#0d0887\"],[0.1111111111111111,\"#46039f\"],[0.2222222222222222,\"#7201a8\"],[0.3333333333333333,\"#9c179e\"],[0.4444444444444444,\"#bd3786\"],[0.5555555555555556,\"#d8576b\"],[0.6666666666666666,\"#ed7953\"],[0.7777777777777778,\"#fb9f3a\"],[0.8888888888888888,\"#fdca26\"],[1.0,\"#f0f921\"]],\"sequentialminus\":[[0.0,\"#0d0887\"],[0.1111111111111111,\"#46039f\"],[0.2222222222222222,\"#7201a8\"],[0.3333333333333333,\"#9c179e\"],[0.4444444444444444,\"#bd3786\"],[0.5555555555555556,\"#d8576b\"],[0.6666666666666666,\"#ed7953\"],[0.7777777777777778,\"#fb9f3a\"],[0.8888888888888888,\"#fdca26\"],[1.0,\"#f0f921\"]]},\"colorway\":[\"#636efa\",\"#EF553B\",\"#00cc96\",\"#ab63fa\",\"#FFA15A\",\"#19d3f3\",\"#FF6692\",\"#B6E880\",\"#FF97FF\",\"#FECB52\"],\"font\":{\"color\":\"#2a3f5f\"},\"geo\":{\"bgcolor\":\"white\",\"lakecolor\":\"white\",\"landcolor\":\"#E5ECF6\",\"showlakes\":true,\"showland\":true,\"subunitcolor\":\"white\"},\"hoverlabel\":{\"align\":\"left\"},\"hovermode\":\"closest\",\"mapbox\":{\"style\":\"light\"},\"paper_bgcolor\":\"white\",\"plot_bgcolor\":\"#E5ECF6\",\"polar\":{\"angularaxis\":{\"gridcolor\":\"white\",\"linecolor\":\"white\",\"ticks\":\"\"},\"bgcolor\":\"#E5ECF6\",\"radialaxis\":{\"gridcolor\":\"white\",\"linecolor\":\"white\",\"ticks\":\"\"}},\"scene\":{\"xaxis\":{\"backgroundcolor\":\"#E5ECF6\",\"gridcolor\":\"white\",\"gridwidth\":2,\"linecolor\":\"white\",\"showbackground\":true,\"ticks\":\"\",\"zerolinecolor\":\"white\"},\"yaxis\":{\"backgroundcolor\":\"#E5ECF6\",\"gridcolor\":\"white\",\"gridwidth\":2,\"linecolor\":\"white\",\"showbackground\":true,\"ticks\":\"\",\"zerolinecolor\":\"white\"},\"zaxis\":{\"backgroundcolor\":\"#E5ECF6\",\"gridcolor\":\"white\",\"gridwidth\":2,\"linecolor\":\"white\",\"showbackground\":true,\"ticks\":\"\",\"zerolinecolor\":\"white\"}},\"shapedefaults\":{\"line\":{\"color\":\"#2a3f5f\"}},\"ternary\":{\"aaxis\":{\"gridcolor\":\"white\",\"linecolor\":\"white\",\"ticks\":\"\"},\"baxis\":{\"gridcolor\":\"white\",\"linecolor\":\"white\",\"ticks\":\"\"},\"bgcolor\":\"#E5ECF6\",\"caxis\":{\"gridcolor\":\"white\",\"linecolor\":\"white\",\"ticks\":\"\"}},\"title\":{\"x\":0.05},\"xaxis\":{\"automargin\":true,\"gridcolor\":\"white\",\"linecolor\":\"white\",\"ticks\":\"\",\"title\":{\"standoff\":15},\"zerolinecolor\":\"white\",\"zerolinewidth\":2},\"yaxis\":{\"automargin\":true,\"gridcolor\":\"white\",\"linecolor\":\"white\",\"ticks\":\"\",\"title\":{\"standoff\":15},\"zerolinecolor\":\"white\",\"zerolinewidth\":2}}},\"title\":{\"font\":{\"color\":\"#4D5663\"}},\"xaxis\":{\"gridcolor\":\"#E1E5ED\",\"showgrid\":true,\"tickfont\":{\"color\":\"#4D5663\"},\"title\":{\"font\":{\"color\":\"#4D5663\"},\"text\":\"\"},\"zerolinecolor\":\"#E1E5ED\"},\"yaxis\":{\"gridcolor\":\"#E1E5ED\",\"showgrid\":true,\"tickfont\":{\"color\":\"#4D5663\"},\"title\":{\"font\":{\"color\":\"#4D5663\"},\"text\":\"\"},\"zerolinecolor\":\"#E1E5ED\"}},                        {\"showLink\": true, \"linkText\": \"Export to plot.ly\", \"plotlyServerURL\": \"https://plot.ly\", \"responsive\": true}                    ).then(function(){\n",
       "                            \n",
       "var gd = document.getElementById('b08caf48-3562-4a22-b17b-38ca1d8b5efa');\n",
       "var x = new MutationObserver(function (mutations, observer) {{\n",
       "        var display = window.getComputedStyle(gd).display;\n",
       "        if (!display || display === 'none') {{\n",
       "            console.log([gd, 'removed!']);\n",
       "            Plotly.purge(gd);\n",
       "            observer.disconnect();\n",
       "        }}\n",
       "}});\n",
       "\n",
       "// Listen for the removal of the full notebook cells\n",
       "var notebookContainer = gd.closest('#notebook-container');\n",
       "if (notebookContainer) {{\n",
       "    x.observe(notebookContainer, {childList: true});\n",
       "}}\n",
       "\n",
       "// Listen for the clearing of the current output cell\n",
       "var outputEl = gd.closest('.output');\n",
       "if (outputEl) {{\n",
       "    x.observe(outputEl, {childList: true});\n",
       "}}\n",
       "\n",
       "                        })                };                });            </script>        </div>"
      ]
     },
     "metadata": {},
     "output_type": "display_data"
    }
   ],
   "source": [
    "df.count().iplot(kind='bar')"
   ]
  },
  {
   "cell_type": "code",
   "execution_count": 19,
   "metadata": {},
   "outputs": [
    {
     "data": {
      "application/vnd.plotly.v1+json": {
       "config": {
        "linkText": "Export to plot.ly",
        "plotlyServerURL": "https://plot.ly",
        "showLink": true
       },
       "data": [
        {
         "boxpoints": false,
         "line": {
          "width": 1.3
         },
         "marker": {
          "color": "rgba(255, 153, 51, 1.0)"
         },
         "name": "A",
         "orientation": "v",
         "type": "box",
         "y": [
          0.08548394392684941,
          -0.5893916978546746,
          -0.8419665667833715,
          1.0653294037412206,
          -0.30404866925348994,
          0.3220582584509832,
          1.1049131997268444,
          0.32518021155482785,
          2.7803713071535303,
          -0.6512650673063205,
          0.49199825674186487,
          -0.08508963549565635,
          0.5726425435043762,
          2.1386501290862214,
          -0.9950235584665907,
          2.0052327231453364,
          1.9086945678707794,
          -0.4672730441548413,
          0.09809372512041015,
          0.20776175313101258,
          -0.13008291273505135,
          -0.213716607920109,
          -0.752971396659258,
          -0.8856345833042678,
          -0.21828897744131906,
          -1.5221842260642924,
          1.7597176132531838,
          0.368692867252797,
          0.012002423023914443,
          -0.3300847199674508,
          -1.174027326022618,
          0.27669897261410636,
          0.9022235975340244,
          0.1237670623846236,
          0.27474926924742754,
          -1.2318138433306547,
          -0.9291362405434669,
          0.2581841484670674,
          -0.35557870411472275,
          0.31329107322223737,
          -0.10998911435349933,
          -0.6056942752510703,
          0.5496119520128204,
          0.7217212678834122,
          1.1080438778814063,
          1.194652068448999,
          1.9452460051287748,
          -1.0096690093450156,
          0.06886112821121931,
          -0.22386569878334348,
          0.3722266141668129,
          2.3949425017894628,
          -1.5415993206560856,
          0.31051517323586425,
          -0.9007115672683569,
          -0.37250269015414444,
          0.12892868685879072,
          -2.093099841220505,
          0.19281052497404821,
          -0.14026793411748828,
          0.7202355995317967,
          1.9985914284907331,
          -0.024224308482236806,
          0.01896759967272472,
          -1.5884383627946148,
          0.14382833009913976,
          0.8208787993291673,
          0.11647492827936208,
          0.8148442245171553,
          -0.9944542791659978,
          -1.5826860570144032,
          -1.0027608392246807,
          0.6405945754015209,
          -1.2307004748798553,
          -0.9114975696364512,
          1.37764411838987,
          0.5203887980053448,
          -0.6308501093425088,
          -0.04108239600910254,
          -0.14803345522911654,
          0.27240046321175776,
          -0.0984268942816003,
          -0.7917134062519374,
          -0.6755333627675957,
          0.5021187599504238,
          -1.489214963700235,
          0.08552835376163205,
          -1.8220289030449843,
          1.3610498831089615,
          -1.5377662111236543,
          0.4413929766677556,
          1.1406361331627282,
          1.7219831491686641,
          -0.154773148802657,
          -0.2652967487886054,
          1.0404378705960964,
          -0.9175907022603449,
          -0.8622776172416078,
          -1.3999208590790715,
          0.09066006069192459
         ]
        },
        {
         "boxpoints": false,
         "line": {
          "width": 1.3
         },
         "marker": {
          "color": "rgba(55, 128, 191, 1.0)"
         },
         "name": "B",
         "orientation": "v",
         "type": "box",
         "y": [
          -0.1624050135760886,
          0.980851981664618,
          1.6263758604043954,
          0.6670449829300747,
          0.8463914642614553,
          -0.5557547356556708,
          1.3335019465823352,
          -0.30360500311515876,
          -0.5572485277306021,
          1.7923193575265437,
          0.5230714474292316,
          1.3962847654068788,
          0.5454202975825965,
          0.8220066168038932,
          0.1333294140157902,
          -0.4580923125178034,
          -1.8702657688987048,
          0.19165599638946365,
          -1.5441476695946914,
          1.489985153554788,
          0.08513682537748908,
          0.5884943933265148,
          -0.37527778093043845,
          -1.2420986135906638,
          -0.09359385888729599,
          -0.8993751877593811,
          0.9038336626818552,
          0.19897941905376915,
          -0.3499682664519889,
          -0.813255283672789,
          -0.761601608488013,
          0.6852647594122985,
          0.7444146965136054,
          -0.10824902571549988,
          1.0343766589925962,
          0.6794742299814396,
          -1.377108827556193,
          -0.9198084554974598,
          1.2754158682756254,
          -0.6805171783915703,
          1.6295186194490634,
          1.3058104975166638,
          -0.008015691590719798,
          0.37945370182803906,
          -0.9344148723391815,
          0.33642615175310187,
          -1.117113472484452,
          1.2098097732957693,
          1.890729615247962,
          -0.3020317509780135,
          -0.795391429211958,
          0.5145436162551661,
          -1.17644678201426,
          0.011191592090796853,
          -2.664750053974455,
          -0.7052058747591703,
          0.4318577646237392,
          0.3482634341301973,
          0.6748205565464416,
          -0.34169023793862807,
          -0.07989141803255546,
          -0.1006525565267022,
          0.7334329357689917,
          0.8392098396231535,
          -0.4553307130666966,
          -0.7064260571420193,
          0.15230984770640202,
          0.6237041195854198,
          0.5318919831274378,
          0.5221352231397314,
          -0.8174059688720081,
          2.4389763497413726,
          -0.1242766171971954,
          1.9621837956400514,
          -0.09450483861151593,
          -0.27813013860092584,
          1.8763100787933222,
          -1.149197127466469,
          -0.33071258304144435,
          -0.903204616889579,
          -0.38847979647058817,
          -1.1896469966014003,
          -0.20764447487221024,
          1.243884872816924,
          -0.5090636362684436,
          -1.0423055947393969,
          -0.06350848782566847,
          -0.715011626851832,
          -0.004311390566099713,
          0.35968046038437906,
          0.3482155214518224,
          1.5642585538961675,
          0.05372460015033393,
          0.26927859988825925,
          0.9459316001975121,
          -1.3231038977865164,
          -0.13177750479968495,
          2.894936439883955,
          1.2620145095169104,
          -2.673128848304644
         ]
        },
        {
         "boxpoints": false,
         "line": {
          "width": 1.3
         },
         "marker": {
          "color": "rgba(50, 171, 96, 1.0)"
         },
         "name": "C",
         "orientation": "v",
         "type": "box",
         "y": [
          0.6412589089125755,
          1.472567741037022,
          -0.2687466186269782,
          -1.7735064924519603,
          0.5601400122075234,
          0.25217416536870757,
          -1.3215997730280071,
          -1.7262086242966832,
          -0.9738853524478275,
          1.2500283602315663,
          0.5249984551350043,
          -1.502163493955724,
          0.9113486982285866,
          0.6796501710359869,
          -0.635856076990072,
          -1.5901119656069276,
          -0.7904035535920758,
          0.34955478363036163,
          -0.6636661473619723,
          1.1783113790227202,
          -1.2808617434642788,
          1.2370923961343416,
          0.4925215168066359,
          1.0590414161745894,
          0.3818303607994144,
          0.3309854097822343,
          0.16466632880907464,
          0.15742594633466814,
          0.24139038536893875,
          0.20974639260906272,
          -0.4376340808291526,
          0.45307155889739953,
          -0.1195415538869707,
          0.7050934558410267,
          -0.16505543858861943,
          -0.0744610225167786,
          -1.5359055532970263,
          -0.3179748445068104,
          -0.9355433150515867,
          0.7763428615270302,
          -0.7570288525819087,
          -0.5232076867983879,
          -1.052788698551844,
          -1.2789749060079498,
          2.1658442574234646,
          0.6516143243986185,
          -0.46556438374990194,
          -0.2868044646248472,
          0.44127415645197704,
          -1.292478675144893,
          0.02701392480956382,
          1.1674132319349262,
          -0.34019771545061356,
          0.9321924054092174,
          -0.7928124486847574,
          -0.16498525070646566,
          1.2217990862318404,
          0.44302455085292114,
          -1.6612556202937296,
          -0.47056999434915275,
          0.7476295398312772,
          0.2122729890849066,
          -0.6474087501116943,
          -1.498408832541912,
          0.6061541873041607,
          -0.46516793267155004,
          0.6289680770835141,
          -0.46396714401992867,
          0.3091540300280098,
          -1.049917603902546,
          1.1484605009911824,
          -0.7755442675016427,
          -0.16128609405326352,
          0.5540049239205772,
          -0.6041047593824724,
          0.6312424861158306,
          -1.7140095898951782,
          -0.27122334414049487,
          -1.7643029354927504,
          -1.2568226575240087,
          -0.8211420844568663,
          0.7368746723538686,
          0.41721452554864924,
          0.07562441066740945,
          0.676921980063291,
          0.43084182319755937,
          -0.04001504424991739,
          -0.11533662855753606,
          0.04023772431325562,
          0.11617110860078872,
          2.1731346128638154,
          0.445067331245984,
          -1.0448362291742717,
          0.24246137636291806,
          1.0033335882793126,
          -0.844881667918056,
          1.1021227464217307,
          0.47606015853335476,
          -0.06914169012261069,
          -1.0479609140632111
         ]
        },
        {
         "boxpoints": false,
         "line": {
          "width": 1.3
         },
         "marker": {
          "color": "rgba(128, 0, 128, 1.0)"
         },
         "name": "D",
         "orientation": "v",
         "type": "box",
         "y": [
          -1.7822917875091935,
          0.1915208695213333,
          -1.1467068976703902,
          0.30624681099494816,
          0.03229961002316076,
          -0.41019555202988855,
          0.9234459150834765,
          0.6845490151314748,
          1.3976402216500794,
          0.34078001060667357,
          -0.04312938263882135,
          1.1579173247188355,
          -0.24375085798034005,
          0.6635410586107904,
          -0.41214106415805,
          0.20783347409624986,
          1.9778035277350121,
          1.8035219152401591,
          0.8672718446751185,
          1.1225593110805672,
          1.3585885827802862,
          0.09615802852056259,
          -2.1654458285904705,
          0.801827621288512,
          1.0912870409177637,
          -0.47755874710532253,
          0.8669663674008047,
          1.4450890511468257,
          0.020537975107899877,
          -1.1305545949149578,
          -1.4042787535845844,
          -1.047192049958398,
          -1.7062430433981837,
          1.0406748783313535,
          2.603230292200818,
          -0.45588335299079275,
          1.0172306316579824,
          -0.693019405978078,
          0.3229610115017036,
          -0.1277257660468025,
          -0.1807752695669388,
          -0.27881021294072755,
          -0.507580865896411,
          0.5046709690440891,
          0.05779397036814958,
          -0.8739310677129855,
          -1.5171668436546109,
          0.2103284547817714,
          -0.2876494863559525,
          -0.27380897287263584,
          -0.39468103443361874,
          1.2138186670235764,
          -1.1763908107905696,
          -0.6905409504347623,
          0.06320490997305743,
          -0.7156225632534614,
          -1.5693393310807464,
          1.3000718895120567,
          -0.8974172400966365,
          -1.1879501225629767,
          0.11384289484320421,
          -0.0650235497763702,
          -0.17192387639926812,
          0.1822730143198839,
          -1.2890501348396302,
          -0.08631434729283817,
          0.9314827288196189,
          -0.343699859315308,
          0.3321520635968143,
          -0.2792076671860723,
          0.5902727958788655,
          -0.9797952884959037,
          1.3233738189549666,
          -0.9833479609096336,
          -0.824933730173071,
          -0.2900561002124916,
          0.98159145364883,
          1.7616843811085157,
          0.9194420221106,
          -2.678004829352987,
          1.7157153410166455,
          -1.3658609547855702,
          -0.5917148213076168,
          -1.113407552973405,
          1.5438265040803627,
          0.0916017762288628,
          -1.3891670183006424,
          -0.06210004705111074,
          -0.10160228286509329,
          -0.10034150180669871,
          2.098253749252335,
          -1.9136082063618318,
          2.2509058712518946,
          0.8327274034959132,
          0.3033332957175999,
          2.6833417001980493,
          0.7576534733306034,
          0.9500571946556061,
          0.04208920924634037,
          0.8425203307201007
         ]
        }
       ],
       "layout": {
        "legend": {
         "bgcolor": "#F5F6F9",
         "font": {
          "color": "#4D5663"
         }
        },
        "paper_bgcolor": "#F5F6F9",
        "plot_bgcolor": "#F5F6F9",
        "template": {
         "data": {
          "bar": [
           {
            "error_x": {
             "color": "#2a3f5f"
            },
            "error_y": {
             "color": "#2a3f5f"
            },
            "marker": {
             "line": {
              "color": "#E5ECF6",
              "width": 0.5
             },
             "pattern": {
              "fillmode": "overlay",
              "size": 10,
              "solidity": 0.2
             }
            },
            "type": "bar"
           }
          ],
          "barpolar": [
           {
            "marker": {
             "line": {
              "color": "#E5ECF6",
              "width": 0.5
             },
             "pattern": {
              "fillmode": "overlay",
              "size": 10,
              "solidity": 0.2
             }
            },
            "type": "barpolar"
           }
          ],
          "carpet": [
           {
            "aaxis": {
             "endlinecolor": "#2a3f5f",
             "gridcolor": "white",
             "linecolor": "white",
             "minorgridcolor": "white",
             "startlinecolor": "#2a3f5f"
            },
            "baxis": {
             "endlinecolor": "#2a3f5f",
             "gridcolor": "white",
             "linecolor": "white",
             "minorgridcolor": "white",
             "startlinecolor": "#2a3f5f"
            },
            "type": "carpet"
           }
          ],
          "choropleth": [
           {
            "colorbar": {
             "outlinewidth": 0,
             "ticks": ""
            },
            "type": "choropleth"
           }
          ],
          "contour": [
           {
            "colorbar": {
             "outlinewidth": 0,
             "ticks": ""
            },
            "colorscale": [
             [
              0,
              "#0d0887"
             ],
             [
              0.1111111111111111,
              "#46039f"
             ],
             [
              0.2222222222222222,
              "#7201a8"
             ],
             [
              0.3333333333333333,
              "#9c179e"
             ],
             [
              0.4444444444444444,
              "#bd3786"
             ],
             [
              0.5555555555555556,
              "#d8576b"
             ],
             [
              0.6666666666666666,
              "#ed7953"
             ],
             [
              0.7777777777777778,
              "#fb9f3a"
             ],
             [
              0.8888888888888888,
              "#fdca26"
             ],
             [
              1,
              "#f0f921"
             ]
            ],
            "type": "contour"
           }
          ],
          "contourcarpet": [
           {
            "colorbar": {
             "outlinewidth": 0,
             "ticks": ""
            },
            "type": "contourcarpet"
           }
          ],
          "heatmap": [
           {
            "colorbar": {
             "outlinewidth": 0,
             "ticks": ""
            },
            "colorscale": [
             [
              0,
              "#0d0887"
             ],
             [
              0.1111111111111111,
              "#46039f"
             ],
             [
              0.2222222222222222,
              "#7201a8"
             ],
             [
              0.3333333333333333,
              "#9c179e"
             ],
             [
              0.4444444444444444,
              "#bd3786"
             ],
             [
              0.5555555555555556,
              "#d8576b"
             ],
             [
              0.6666666666666666,
              "#ed7953"
             ],
             [
              0.7777777777777778,
              "#fb9f3a"
             ],
             [
              0.8888888888888888,
              "#fdca26"
             ],
             [
              1,
              "#f0f921"
             ]
            ],
            "type": "heatmap"
           }
          ],
          "heatmapgl": [
           {
            "colorbar": {
             "outlinewidth": 0,
             "ticks": ""
            },
            "colorscale": [
             [
              0,
              "#0d0887"
             ],
             [
              0.1111111111111111,
              "#46039f"
             ],
             [
              0.2222222222222222,
              "#7201a8"
             ],
             [
              0.3333333333333333,
              "#9c179e"
             ],
             [
              0.4444444444444444,
              "#bd3786"
             ],
             [
              0.5555555555555556,
              "#d8576b"
             ],
             [
              0.6666666666666666,
              "#ed7953"
             ],
             [
              0.7777777777777778,
              "#fb9f3a"
             ],
             [
              0.8888888888888888,
              "#fdca26"
             ],
             [
              1,
              "#f0f921"
             ]
            ],
            "type": "heatmapgl"
           }
          ],
          "histogram": [
           {
            "marker": {
             "pattern": {
              "fillmode": "overlay",
              "size": 10,
              "solidity": 0.2
             }
            },
            "type": "histogram"
           }
          ],
          "histogram2d": [
           {
            "colorbar": {
             "outlinewidth": 0,
             "ticks": ""
            },
            "colorscale": [
             [
              0,
              "#0d0887"
             ],
             [
              0.1111111111111111,
              "#46039f"
             ],
             [
              0.2222222222222222,
              "#7201a8"
             ],
             [
              0.3333333333333333,
              "#9c179e"
             ],
             [
              0.4444444444444444,
              "#bd3786"
             ],
             [
              0.5555555555555556,
              "#d8576b"
             ],
             [
              0.6666666666666666,
              "#ed7953"
             ],
             [
              0.7777777777777778,
              "#fb9f3a"
             ],
             [
              0.8888888888888888,
              "#fdca26"
             ],
             [
              1,
              "#f0f921"
             ]
            ],
            "type": "histogram2d"
           }
          ],
          "histogram2dcontour": [
           {
            "colorbar": {
             "outlinewidth": 0,
             "ticks": ""
            },
            "colorscale": [
             [
              0,
              "#0d0887"
             ],
             [
              0.1111111111111111,
              "#46039f"
             ],
             [
              0.2222222222222222,
              "#7201a8"
             ],
             [
              0.3333333333333333,
              "#9c179e"
             ],
             [
              0.4444444444444444,
              "#bd3786"
             ],
             [
              0.5555555555555556,
              "#d8576b"
             ],
             [
              0.6666666666666666,
              "#ed7953"
             ],
             [
              0.7777777777777778,
              "#fb9f3a"
             ],
             [
              0.8888888888888888,
              "#fdca26"
             ],
             [
              1,
              "#f0f921"
             ]
            ],
            "type": "histogram2dcontour"
           }
          ],
          "mesh3d": [
           {
            "colorbar": {
             "outlinewidth": 0,
             "ticks": ""
            },
            "type": "mesh3d"
           }
          ],
          "parcoords": [
           {
            "line": {
             "colorbar": {
              "outlinewidth": 0,
              "ticks": ""
             }
            },
            "type": "parcoords"
           }
          ],
          "pie": [
           {
            "automargin": true,
            "type": "pie"
           }
          ],
          "scatter": [
           {
            "fillpattern": {
             "fillmode": "overlay",
             "size": 10,
             "solidity": 0.2
            },
            "type": "scatter"
           }
          ],
          "scatter3d": [
           {
            "line": {
             "colorbar": {
              "outlinewidth": 0,
              "ticks": ""
             }
            },
            "marker": {
             "colorbar": {
              "outlinewidth": 0,
              "ticks": ""
             }
            },
            "type": "scatter3d"
           }
          ],
          "scattercarpet": [
           {
            "marker": {
             "colorbar": {
              "outlinewidth": 0,
              "ticks": ""
             }
            },
            "type": "scattercarpet"
           }
          ],
          "scattergeo": [
           {
            "marker": {
             "colorbar": {
              "outlinewidth": 0,
              "ticks": ""
             }
            },
            "type": "scattergeo"
           }
          ],
          "scattergl": [
           {
            "marker": {
             "colorbar": {
              "outlinewidth": 0,
              "ticks": ""
             }
            },
            "type": "scattergl"
           }
          ],
          "scattermapbox": [
           {
            "marker": {
             "colorbar": {
              "outlinewidth": 0,
              "ticks": ""
             }
            },
            "type": "scattermapbox"
           }
          ],
          "scatterpolar": [
           {
            "marker": {
             "colorbar": {
              "outlinewidth": 0,
              "ticks": ""
             }
            },
            "type": "scatterpolar"
           }
          ],
          "scatterpolargl": [
           {
            "marker": {
             "colorbar": {
              "outlinewidth": 0,
              "ticks": ""
             }
            },
            "type": "scatterpolargl"
           }
          ],
          "scatterternary": [
           {
            "marker": {
             "colorbar": {
              "outlinewidth": 0,
              "ticks": ""
             }
            },
            "type": "scatterternary"
           }
          ],
          "surface": [
           {
            "colorbar": {
             "outlinewidth": 0,
             "ticks": ""
            },
            "colorscale": [
             [
              0,
              "#0d0887"
             ],
             [
              0.1111111111111111,
              "#46039f"
             ],
             [
              0.2222222222222222,
              "#7201a8"
             ],
             [
              0.3333333333333333,
              "#9c179e"
             ],
             [
              0.4444444444444444,
              "#bd3786"
             ],
             [
              0.5555555555555556,
              "#d8576b"
             ],
             [
              0.6666666666666666,
              "#ed7953"
             ],
             [
              0.7777777777777778,
              "#fb9f3a"
             ],
             [
              0.8888888888888888,
              "#fdca26"
             ],
             [
              1,
              "#f0f921"
             ]
            ],
            "type": "surface"
           }
          ],
          "table": [
           {
            "cells": {
             "fill": {
              "color": "#EBF0F8"
             },
             "line": {
              "color": "white"
             }
            },
            "header": {
             "fill": {
              "color": "#C8D4E3"
             },
             "line": {
              "color": "white"
             }
            },
            "type": "table"
           }
          ]
         },
         "layout": {
          "annotationdefaults": {
           "arrowcolor": "#2a3f5f",
           "arrowhead": 0,
           "arrowwidth": 1
          },
          "autotypenumbers": "strict",
          "coloraxis": {
           "colorbar": {
            "outlinewidth": 0,
            "ticks": ""
           }
          },
          "colorscale": {
           "diverging": [
            [
             0,
             "#8e0152"
            ],
            [
             0.1,
             "#c51b7d"
            ],
            [
             0.2,
             "#de77ae"
            ],
            [
             0.3,
             "#f1b6da"
            ],
            [
             0.4,
             "#fde0ef"
            ],
            [
             0.5,
             "#f7f7f7"
            ],
            [
             0.6,
             "#e6f5d0"
            ],
            [
             0.7,
             "#b8e186"
            ],
            [
             0.8,
             "#7fbc41"
            ],
            [
             0.9,
             "#4d9221"
            ],
            [
             1,
             "#276419"
            ]
           ],
           "sequential": [
            [
             0,
             "#0d0887"
            ],
            [
             0.1111111111111111,
             "#46039f"
            ],
            [
             0.2222222222222222,
             "#7201a8"
            ],
            [
             0.3333333333333333,
             "#9c179e"
            ],
            [
             0.4444444444444444,
             "#bd3786"
            ],
            [
             0.5555555555555556,
             "#d8576b"
            ],
            [
             0.6666666666666666,
             "#ed7953"
            ],
            [
             0.7777777777777778,
             "#fb9f3a"
            ],
            [
             0.8888888888888888,
             "#fdca26"
            ],
            [
             1,
             "#f0f921"
            ]
           ],
           "sequentialminus": [
            [
             0,
             "#0d0887"
            ],
            [
             0.1111111111111111,
             "#46039f"
            ],
            [
             0.2222222222222222,
             "#7201a8"
            ],
            [
             0.3333333333333333,
             "#9c179e"
            ],
            [
             0.4444444444444444,
             "#bd3786"
            ],
            [
             0.5555555555555556,
             "#d8576b"
            ],
            [
             0.6666666666666666,
             "#ed7953"
            ],
            [
             0.7777777777777778,
             "#fb9f3a"
            ],
            [
             0.8888888888888888,
             "#fdca26"
            ],
            [
             1,
             "#f0f921"
            ]
           ]
          },
          "colorway": [
           "#636efa",
           "#EF553B",
           "#00cc96",
           "#ab63fa",
           "#FFA15A",
           "#19d3f3",
           "#FF6692",
           "#B6E880",
           "#FF97FF",
           "#FECB52"
          ],
          "font": {
           "color": "#2a3f5f"
          },
          "geo": {
           "bgcolor": "white",
           "lakecolor": "white",
           "landcolor": "#E5ECF6",
           "showlakes": true,
           "showland": true,
           "subunitcolor": "white"
          },
          "hoverlabel": {
           "align": "left"
          },
          "hovermode": "closest",
          "mapbox": {
           "style": "light"
          },
          "paper_bgcolor": "white",
          "plot_bgcolor": "#E5ECF6",
          "polar": {
           "angularaxis": {
            "gridcolor": "white",
            "linecolor": "white",
            "ticks": ""
           },
           "bgcolor": "#E5ECF6",
           "radialaxis": {
            "gridcolor": "white",
            "linecolor": "white",
            "ticks": ""
           }
          },
          "scene": {
           "xaxis": {
            "backgroundcolor": "#E5ECF6",
            "gridcolor": "white",
            "gridwidth": 2,
            "linecolor": "white",
            "showbackground": true,
            "ticks": "",
            "zerolinecolor": "white"
           },
           "yaxis": {
            "backgroundcolor": "#E5ECF6",
            "gridcolor": "white",
            "gridwidth": 2,
            "linecolor": "white",
            "showbackground": true,
            "ticks": "",
            "zerolinecolor": "white"
           },
           "zaxis": {
            "backgroundcolor": "#E5ECF6",
            "gridcolor": "white",
            "gridwidth": 2,
            "linecolor": "white",
            "showbackground": true,
            "ticks": "",
            "zerolinecolor": "white"
           }
          },
          "shapedefaults": {
           "line": {
            "color": "#2a3f5f"
           }
          },
          "ternary": {
           "aaxis": {
            "gridcolor": "white",
            "linecolor": "white",
            "ticks": ""
           },
           "baxis": {
            "gridcolor": "white",
            "linecolor": "white",
            "ticks": ""
           },
           "bgcolor": "#E5ECF6",
           "caxis": {
            "gridcolor": "white",
            "linecolor": "white",
            "ticks": ""
           }
          },
          "title": {
           "x": 0.05
          },
          "xaxis": {
           "automargin": true,
           "gridcolor": "white",
           "linecolor": "white",
           "ticks": "",
           "title": {
            "standoff": 15
           },
           "zerolinecolor": "white",
           "zerolinewidth": 2
          },
          "yaxis": {
           "automargin": true,
           "gridcolor": "white",
           "linecolor": "white",
           "ticks": "",
           "title": {
            "standoff": 15
           },
           "zerolinecolor": "white",
           "zerolinewidth": 2
          }
         }
        },
        "title": {
         "font": {
          "color": "#4D5663"
         }
        },
        "xaxis": {
         "gridcolor": "#E1E5ED",
         "showgrid": true,
         "tickfont": {
          "color": "#4D5663"
         },
         "title": {
          "font": {
           "color": "#4D5663"
          },
          "text": ""
         },
         "zerolinecolor": "#E1E5ED"
        },
        "yaxis": {
         "gridcolor": "#E1E5ED",
         "showgrid": true,
         "tickfont": {
          "color": "#4D5663"
         },
         "title": {
          "font": {
           "color": "#4D5663"
          },
          "text": ""
         },
         "zerolinecolor": "#E1E5ED"
        }
       }
      },
      "text/html": [
       "<div>                            <div id=\"cbb1ba9b-f165-4203-80ba-dbbb3e383e71\" class=\"plotly-graph-div\" style=\"height:525px; width:100%;\"></div>            <script type=\"text/javascript\">                require([\"plotly\"], function(Plotly) {                    window.PLOTLYENV=window.PLOTLYENV || {};\n",
       "                    window.PLOTLYENV.BASE_URL='https://plot.ly';                                    if (document.getElementById(\"cbb1ba9b-f165-4203-80ba-dbbb3e383e71\")) {                    Plotly.newPlot(                        \"cbb1ba9b-f165-4203-80ba-dbbb3e383e71\",                        [{\"boxpoints\":false,\"line\":{\"width\":1.3},\"marker\":{\"color\":\"rgba(255, 153, 51, 1.0)\"},\"name\":\"A\",\"orientation\":\"v\",\"y\":[0.08548394392684941,-0.5893916978546746,-0.8419665667833715,1.0653294037412206,-0.30404866925348994,0.3220582584509832,1.1049131997268444,0.32518021155482785,2.7803713071535303,-0.6512650673063205,0.49199825674186487,-0.08508963549565635,0.5726425435043762,2.1386501290862214,-0.9950235584665907,2.0052327231453364,1.9086945678707794,-0.4672730441548413,0.09809372512041015,0.20776175313101258,-0.13008291273505135,-0.213716607920109,-0.752971396659258,-0.8856345833042678,-0.21828897744131906,-1.5221842260642924,1.7597176132531838,0.368692867252797,0.012002423023914443,-0.3300847199674508,-1.174027326022618,0.27669897261410636,0.9022235975340244,0.1237670623846236,0.27474926924742754,-1.2318138433306547,-0.9291362405434669,0.2581841484670674,-0.35557870411472275,0.31329107322223737,-0.10998911435349933,-0.6056942752510703,0.5496119520128204,0.7217212678834122,1.1080438778814063,1.194652068448999,1.9452460051287748,-1.0096690093450156,0.06886112821121931,-0.22386569878334348,0.3722266141668129,2.3949425017894628,-1.5415993206560856,0.31051517323586425,-0.9007115672683569,-0.37250269015414444,0.12892868685879072,-2.093099841220505,0.19281052497404821,-0.14026793411748828,0.7202355995317967,1.9985914284907331,-0.024224308482236806,0.01896759967272472,-1.5884383627946148,0.14382833009913976,0.8208787993291673,0.11647492827936208,0.8148442245171553,-0.9944542791659978,-1.5826860570144032,-1.0027608392246807,0.6405945754015209,-1.2307004748798553,-0.9114975696364512,1.37764411838987,0.5203887980053448,-0.6308501093425088,-0.04108239600910254,-0.14803345522911654,0.27240046321175776,-0.0984268942816003,-0.7917134062519374,-0.6755333627675957,0.5021187599504238,-1.489214963700235,0.08552835376163205,-1.8220289030449843,1.3610498831089615,-1.5377662111236543,0.4413929766677556,1.1406361331627282,1.7219831491686641,-0.154773148802657,-0.2652967487886054,1.0404378705960964,-0.9175907022603449,-0.8622776172416078,-1.3999208590790715,0.09066006069192459],\"type\":\"box\"},{\"boxpoints\":false,\"line\":{\"width\":1.3},\"marker\":{\"color\":\"rgba(55, 128, 191, 1.0)\"},\"name\":\"B\",\"orientation\":\"v\",\"y\":[-0.1624050135760886,0.980851981664618,1.6263758604043954,0.6670449829300747,0.8463914642614553,-0.5557547356556708,1.3335019465823352,-0.30360500311515876,-0.5572485277306021,1.7923193575265437,0.5230714474292316,1.3962847654068788,0.5454202975825965,0.8220066168038932,0.1333294140157902,-0.4580923125178034,-1.8702657688987048,0.19165599638946365,-1.5441476695946914,1.489985153554788,0.08513682537748908,0.5884943933265148,-0.37527778093043845,-1.2420986135906638,-0.09359385888729599,-0.8993751877593811,0.9038336626818552,0.19897941905376915,-0.3499682664519889,-0.813255283672789,-0.761601608488013,0.6852647594122985,0.7444146965136054,-0.10824902571549988,1.0343766589925962,0.6794742299814396,-1.377108827556193,-0.9198084554974598,1.2754158682756254,-0.6805171783915703,1.6295186194490634,1.3058104975166638,-0.008015691590719798,0.37945370182803906,-0.9344148723391815,0.33642615175310187,-1.117113472484452,1.2098097732957693,1.890729615247962,-0.3020317509780135,-0.795391429211958,0.5145436162551661,-1.17644678201426,0.011191592090796853,-2.664750053974455,-0.7052058747591703,0.4318577646237392,0.3482634341301973,0.6748205565464416,-0.34169023793862807,-0.07989141803255546,-0.1006525565267022,0.7334329357689917,0.8392098396231535,-0.4553307130666966,-0.7064260571420193,0.15230984770640202,0.6237041195854198,0.5318919831274378,0.5221352231397314,-0.8174059688720081,2.4389763497413726,-0.1242766171971954,1.9621837956400514,-0.09450483861151593,-0.27813013860092584,1.8763100787933222,-1.149197127466469,-0.33071258304144435,-0.903204616889579,-0.38847979647058817,-1.1896469966014003,-0.20764447487221024,1.243884872816924,-0.5090636362684436,-1.0423055947393969,-0.06350848782566847,-0.715011626851832,-0.004311390566099713,0.35968046038437906,0.3482155214518224,1.5642585538961675,0.05372460015033393,0.26927859988825925,0.9459316001975121,-1.3231038977865164,-0.13177750479968495,2.894936439883955,1.2620145095169104,-2.673128848304644],\"type\":\"box\"},{\"boxpoints\":false,\"line\":{\"width\":1.3},\"marker\":{\"color\":\"rgba(50, 171, 96, 1.0)\"},\"name\":\"C\",\"orientation\":\"v\",\"y\":[0.6412589089125755,1.472567741037022,-0.2687466186269782,-1.7735064924519603,0.5601400122075234,0.25217416536870757,-1.3215997730280071,-1.7262086242966832,-0.9738853524478275,1.2500283602315663,0.5249984551350043,-1.502163493955724,0.9113486982285866,0.6796501710359869,-0.635856076990072,-1.5901119656069276,-0.7904035535920758,0.34955478363036163,-0.6636661473619723,1.1783113790227202,-1.2808617434642788,1.2370923961343416,0.4925215168066359,1.0590414161745894,0.3818303607994144,0.3309854097822343,0.16466632880907464,0.15742594633466814,0.24139038536893875,0.20974639260906272,-0.4376340808291526,0.45307155889739953,-0.1195415538869707,0.7050934558410267,-0.16505543858861943,-0.0744610225167786,-1.5359055532970263,-0.3179748445068104,-0.9355433150515867,0.7763428615270302,-0.7570288525819087,-0.5232076867983879,-1.052788698551844,-1.2789749060079498,2.1658442574234646,0.6516143243986185,-0.46556438374990194,-0.2868044646248472,0.44127415645197704,-1.292478675144893,0.02701392480956382,1.1674132319349262,-0.34019771545061356,0.9321924054092174,-0.7928124486847574,-0.16498525070646566,1.2217990862318404,0.44302455085292114,-1.6612556202937296,-0.47056999434915275,0.7476295398312772,0.2122729890849066,-0.6474087501116943,-1.498408832541912,0.6061541873041607,-0.46516793267155004,0.6289680770835141,-0.46396714401992867,0.3091540300280098,-1.049917603902546,1.1484605009911824,-0.7755442675016427,-0.16128609405326352,0.5540049239205772,-0.6041047593824724,0.6312424861158306,-1.7140095898951782,-0.27122334414049487,-1.7643029354927504,-1.2568226575240087,-0.8211420844568663,0.7368746723538686,0.41721452554864924,0.07562441066740945,0.676921980063291,0.43084182319755937,-0.04001504424991739,-0.11533662855753606,0.04023772431325562,0.11617110860078872,2.1731346128638154,0.445067331245984,-1.0448362291742717,0.24246137636291806,1.0033335882793126,-0.844881667918056,1.1021227464217307,0.47606015853335476,-0.06914169012261069,-1.0479609140632111],\"type\":\"box\"},{\"boxpoints\":false,\"line\":{\"width\":1.3},\"marker\":{\"color\":\"rgba(128, 0, 128, 1.0)\"},\"name\":\"D\",\"orientation\":\"v\",\"y\":[-1.7822917875091935,0.1915208695213333,-1.1467068976703902,0.30624681099494816,0.03229961002316076,-0.41019555202988855,0.9234459150834765,0.6845490151314748,1.3976402216500794,0.34078001060667357,-0.04312938263882135,1.1579173247188355,-0.24375085798034005,0.6635410586107904,-0.41214106415805,0.20783347409624986,1.9778035277350121,1.8035219152401591,0.8672718446751185,1.1225593110805672,1.3585885827802862,0.09615802852056259,-2.1654458285904705,0.801827621288512,1.0912870409177637,-0.47755874710532253,0.8669663674008047,1.4450890511468257,0.020537975107899877,-1.1305545949149578,-1.4042787535845844,-1.047192049958398,-1.7062430433981837,1.0406748783313535,2.603230292200818,-0.45588335299079275,1.0172306316579824,-0.693019405978078,0.3229610115017036,-0.1277257660468025,-0.1807752695669388,-0.27881021294072755,-0.507580865896411,0.5046709690440891,0.05779397036814958,-0.8739310677129855,-1.5171668436546109,0.2103284547817714,-0.2876494863559525,-0.27380897287263584,-0.39468103443361874,1.2138186670235764,-1.1763908107905696,-0.6905409504347623,0.06320490997305743,-0.7156225632534614,-1.5693393310807464,1.3000718895120567,-0.8974172400966365,-1.1879501225629767,0.11384289484320421,-0.0650235497763702,-0.17192387639926812,0.1822730143198839,-1.2890501348396302,-0.08631434729283817,0.9314827288196189,-0.343699859315308,0.3321520635968143,-0.2792076671860723,0.5902727958788655,-0.9797952884959037,1.3233738189549666,-0.9833479609096336,-0.824933730173071,-0.2900561002124916,0.98159145364883,1.7616843811085157,0.9194420221106,-2.678004829352987,1.7157153410166455,-1.3658609547855702,-0.5917148213076168,-1.113407552973405,1.5438265040803627,0.0916017762288628,-1.3891670183006424,-0.06210004705111074,-0.10160228286509329,-0.10034150180669871,2.098253749252335,-1.9136082063618318,2.2509058712518946,0.8327274034959132,0.3033332957175999,2.6833417001980493,0.7576534733306034,0.9500571946556061,0.04208920924634037,0.8425203307201007],\"type\":\"box\"}],                        {\"legend\":{\"bgcolor\":\"#F5F6F9\",\"font\":{\"color\":\"#4D5663\"}},\"paper_bgcolor\":\"#F5F6F9\",\"plot_bgcolor\":\"#F5F6F9\",\"template\":{\"data\":{\"barpolar\":[{\"marker\":{\"line\":{\"color\":\"#E5ECF6\",\"width\":0.5},\"pattern\":{\"fillmode\":\"overlay\",\"size\":10,\"solidity\":0.2}},\"type\":\"barpolar\"}],\"bar\":[{\"error_x\":{\"color\":\"#2a3f5f\"},\"error_y\":{\"color\":\"#2a3f5f\"},\"marker\":{\"line\":{\"color\":\"#E5ECF6\",\"width\":0.5},\"pattern\":{\"fillmode\":\"overlay\",\"size\":10,\"solidity\":0.2}},\"type\":\"bar\"}],\"carpet\":[{\"aaxis\":{\"endlinecolor\":\"#2a3f5f\",\"gridcolor\":\"white\",\"linecolor\":\"white\",\"minorgridcolor\":\"white\",\"startlinecolor\":\"#2a3f5f\"},\"baxis\":{\"endlinecolor\":\"#2a3f5f\",\"gridcolor\":\"white\",\"linecolor\":\"white\",\"minorgridcolor\":\"white\",\"startlinecolor\":\"#2a3f5f\"},\"type\":\"carpet\"}],\"choropleth\":[{\"colorbar\":{\"outlinewidth\":0,\"ticks\":\"\"},\"type\":\"choropleth\"}],\"contourcarpet\":[{\"colorbar\":{\"outlinewidth\":0,\"ticks\":\"\"},\"type\":\"contourcarpet\"}],\"contour\":[{\"colorbar\":{\"outlinewidth\":0,\"ticks\":\"\"},\"colorscale\":[[0.0,\"#0d0887\"],[0.1111111111111111,\"#46039f\"],[0.2222222222222222,\"#7201a8\"],[0.3333333333333333,\"#9c179e\"],[0.4444444444444444,\"#bd3786\"],[0.5555555555555556,\"#d8576b\"],[0.6666666666666666,\"#ed7953\"],[0.7777777777777778,\"#fb9f3a\"],[0.8888888888888888,\"#fdca26\"],[1.0,\"#f0f921\"]],\"type\":\"contour\"}],\"heatmapgl\":[{\"colorbar\":{\"outlinewidth\":0,\"ticks\":\"\"},\"colorscale\":[[0.0,\"#0d0887\"],[0.1111111111111111,\"#46039f\"],[0.2222222222222222,\"#7201a8\"],[0.3333333333333333,\"#9c179e\"],[0.4444444444444444,\"#bd3786\"],[0.5555555555555556,\"#d8576b\"],[0.6666666666666666,\"#ed7953\"],[0.7777777777777778,\"#fb9f3a\"],[0.8888888888888888,\"#fdca26\"],[1.0,\"#f0f921\"]],\"type\":\"heatmapgl\"}],\"heatmap\":[{\"colorbar\":{\"outlinewidth\":0,\"ticks\":\"\"},\"colorscale\":[[0.0,\"#0d0887\"],[0.1111111111111111,\"#46039f\"],[0.2222222222222222,\"#7201a8\"],[0.3333333333333333,\"#9c179e\"],[0.4444444444444444,\"#bd3786\"],[0.5555555555555556,\"#d8576b\"],[0.6666666666666666,\"#ed7953\"],[0.7777777777777778,\"#fb9f3a\"],[0.8888888888888888,\"#fdca26\"],[1.0,\"#f0f921\"]],\"type\":\"heatmap\"}],\"histogram2dcontour\":[{\"colorbar\":{\"outlinewidth\":0,\"ticks\":\"\"},\"colorscale\":[[0.0,\"#0d0887\"],[0.1111111111111111,\"#46039f\"],[0.2222222222222222,\"#7201a8\"],[0.3333333333333333,\"#9c179e\"],[0.4444444444444444,\"#bd3786\"],[0.5555555555555556,\"#d8576b\"],[0.6666666666666666,\"#ed7953\"],[0.7777777777777778,\"#fb9f3a\"],[0.8888888888888888,\"#fdca26\"],[1.0,\"#f0f921\"]],\"type\":\"histogram2dcontour\"}],\"histogram2d\":[{\"colorbar\":{\"outlinewidth\":0,\"ticks\":\"\"},\"colorscale\":[[0.0,\"#0d0887\"],[0.1111111111111111,\"#46039f\"],[0.2222222222222222,\"#7201a8\"],[0.3333333333333333,\"#9c179e\"],[0.4444444444444444,\"#bd3786\"],[0.5555555555555556,\"#d8576b\"],[0.6666666666666666,\"#ed7953\"],[0.7777777777777778,\"#fb9f3a\"],[0.8888888888888888,\"#fdca26\"],[1.0,\"#f0f921\"]],\"type\":\"histogram2d\"}],\"histogram\":[{\"marker\":{\"pattern\":{\"fillmode\":\"overlay\",\"size\":10,\"solidity\":0.2}},\"type\":\"histogram\"}],\"mesh3d\":[{\"colorbar\":{\"outlinewidth\":0,\"ticks\":\"\"},\"type\":\"mesh3d\"}],\"parcoords\":[{\"line\":{\"colorbar\":{\"outlinewidth\":0,\"ticks\":\"\"}},\"type\":\"parcoords\"}],\"pie\":[{\"automargin\":true,\"type\":\"pie\"}],\"scatter3d\":[{\"line\":{\"colorbar\":{\"outlinewidth\":0,\"ticks\":\"\"}},\"marker\":{\"colorbar\":{\"outlinewidth\":0,\"ticks\":\"\"}},\"type\":\"scatter3d\"}],\"scattercarpet\":[{\"marker\":{\"colorbar\":{\"outlinewidth\":0,\"ticks\":\"\"}},\"type\":\"scattercarpet\"}],\"scattergeo\":[{\"marker\":{\"colorbar\":{\"outlinewidth\":0,\"ticks\":\"\"}},\"type\":\"scattergeo\"}],\"scattergl\":[{\"marker\":{\"colorbar\":{\"outlinewidth\":0,\"ticks\":\"\"}},\"type\":\"scattergl\"}],\"scattermapbox\":[{\"marker\":{\"colorbar\":{\"outlinewidth\":0,\"ticks\":\"\"}},\"type\":\"scattermapbox\"}],\"scatterpolargl\":[{\"marker\":{\"colorbar\":{\"outlinewidth\":0,\"ticks\":\"\"}},\"type\":\"scatterpolargl\"}],\"scatterpolar\":[{\"marker\":{\"colorbar\":{\"outlinewidth\":0,\"ticks\":\"\"}},\"type\":\"scatterpolar\"}],\"scatter\":[{\"fillpattern\":{\"fillmode\":\"overlay\",\"size\":10,\"solidity\":0.2},\"type\":\"scatter\"}],\"scatterternary\":[{\"marker\":{\"colorbar\":{\"outlinewidth\":0,\"ticks\":\"\"}},\"type\":\"scatterternary\"}],\"surface\":[{\"colorbar\":{\"outlinewidth\":0,\"ticks\":\"\"},\"colorscale\":[[0.0,\"#0d0887\"],[0.1111111111111111,\"#46039f\"],[0.2222222222222222,\"#7201a8\"],[0.3333333333333333,\"#9c179e\"],[0.4444444444444444,\"#bd3786\"],[0.5555555555555556,\"#d8576b\"],[0.6666666666666666,\"#ed7953\"],[0.7777777777777778,\"#fb9f3a\"],[0.8888888888888888,\"#fdca26\"],[1.0,\"#f0f921\"]],\"type\":\"surface\"}],\"table\":[{\"cells\":{\"fill\":{\"color\":\"#EBF0F8\"},\"line\":{\"color\":\"white\"}},\"header\":{\"fill\":{\"color\":\"#C8D4E3\"},\"line\":{\"color\":\"white\"}},\"type\":\"table\"}]},\"layout\":{\"annotationdefaults\":{\"arrowcolor\":\"#2a3f5f\",\"arrowhead\":0,\"arrowwidth\":1},\"autotypenumbers\":\"strict\",\"coloraxis\":{\"colorbar\":{\"outlinewidth\":0,\"ticks\":\"\"}},\"colorscale\":{\"diverging\":[[0,\"#8e0152\"],[0.1,\"#c51b7d\"],[0.2,\"#de77ae\"],[0.3,\"#f1b6da\"],[0.4,\"#fde0ef\"],[0.5,\"#f7f7f7\"],[0.6,\"#e6f5d0\"],[0.7,\"#b8e186\"],[0.8,\"#7fbc41\"],[0.9,\"#4d9221\"],[1,\"#276419\"]],\"sequential\":[[0.0,\"#0d0887\"],[0.1111111111111111,\"#46039f\"],[0.2222222222222222,\"#7201a8\"],[0.3333333333333333,\"#9c179e\"],[0.4444444444444444,\"#bd3786\"],[0.5555555555555556,\"#d8576b\"],[0.6666666666666666,\"#ed7953\"],[0.7777777777777778,\"#fb9f3a\"],[0.8888888888888888,\"#fdca26\"],[1.0,\"#f0f921\"]],\"sequentialminus\":[[0.0,\"#0d0887\"],[0.1111111111111111,\"#46039f\"],[0.2222222222222222,\"#7201a8\"],[0.3333333333333333,\"#9c179e\"],[0.4444444444444444,\"#bd3786\"],[0.5555555555555556,\"#d8576b\"],[0.6666666666666666,\"#ed7953\"],[0.7777777777777778,\"#fb9f3a\"],[0.8888888888888888,\"#fdca26\"],[1.0,\"#f0f921\"]]},\"colorway\":[\"#636efa\",\"#EF553B\",\"#00cc96\",\"#ab63fa\",\"#FFA15A\",\"#19d3f3\",\"#FF6692\",\"#B6E880\",\"#FF97FF\",\"#FECB52\"],\"font\":{\"color\":\"#2a3f5f\"},\"geo\":{\"bgcolor\":\"white\",\"lakecolor\":\"white\",\"landcolor\":\"#E5ECF6\",\"showlakes\":true,\"showland\":true,\"subunitcolor\":\"white\"},\"hoverlabel\":{\"align\":\"left\"},\"hovermode\":\"closest\",\"mapbox\":{\"style\":\"light\"},\"paper_bgcolor\":\"white\",\"plot_bgcolor\":\"#E5ECF6\",\"polar\":{\"angularaxis\":{\"gridcolor\":\"white\",\"linecolor\":\"white\",\"ticks\":\"\"},\"bgcolor\":\"#E5ECF6\",\"radialaxis\":{\"gridcolor\":\"white\",\"linecolor\":\"white\",\"ticks\":\"\"}},\"scene\":{\"xaxis\":{\"backgroundcolor\":\"#E5ECF6\",\"gridcolor\":\"white\",\"gridwidth\":2,\"linecolor\":\"white\",\"showbackground\":true,\"ticks\":\"\",\"zerolinecolor\":\"white\"},\"yaxis\":{\"backgroundcolor\":\"#E5ECF6\",\"gridcolor\":\"white\",\"gridwidth\":2,\"linecolor\":\"white\",\"showbackground\":true,\"ticks\":\"\",\"zerolinecolor\":\"white\"},\"zaxis\":{\"backgroundcolor\":\"#E5ECF6\",\"gridcolor\":\"white\",\"gridwidth\":2,\"linecolor\":\"white\",\"showbackground\":true,\"ticks\":\"\",\"zerolinecolor\":\"white\"}},\"shapedefaults\":{\"line\":{\"color\":\"#2a3f5f\"}},\"ternary\":{\"aaxis\":{\"gridcolor\":\"white\",\"linecolor\":\"white\",\"ticks\":\"\"},\"baxis\":{\"gridcolor\":\"white\",\"linecolor\":\"white\",\"ticks\":\"\"},\"bgcolor\":\"#E5ECF6\",\"caxis\":{\"gridcolor\":\"white\",\"linecolor\":\"white\",\"ticks\":\"\"}},\"title\":{\"x\":0.05},\"xaxis\":{\"automargin\":true,\"gridcolor\":\"white\",\"linecolor\":\"white\",\"ticks\":\"\",\"title\":{\"standoff\":15},\"zerolinecolor\":\"white\",\"zerolinewidth\":2},\"yaxis\":{\"automargin\":true,\"gridcolor\":\"white\",\"linecolor\":\"white\",\"ticks\":\"\",\"title\":{\"standoff\":15},\"zerolinecolor\":\"white\",\"zerolinewidth\":2}}},\"title\":{\"font\":{\"color\":\"#4D5663\"}},\"xaxis\":{\"gridcolor\":\"#E1E5ED\",\"showgrid\":true,\"tickfont\":{\"color\":\"#4D5663\"},\"title\":{\"font\":{\"color\":\"#4D5663\"},\"text\":\"\"},\"zerolinecolor\":\"#E1E5ED\"},\"yaxis\":{\"gridcolor\":\"#E1E5ED\",\"showgrid\":true,\"tickfont\":{\"color\":\"#4D5663\"},\"title\":{\"font\":{\"color\":\"#4D5663\"},\"text\":\"\"},\"zerolinecolor\":\"#E1E5ED\"}},                        {\"showLink\": true, \"linkText\": \"Export to plot.ly\", \"plotlyServerURL\": \"https://plot.ly\", \"responsive\": true}                    ).then(function(){\n",
       "                            \n",
       "var gd = document.getElementById('cbb1ba9b-f165-4203-80ba-dbbb3e383e71');\n",
       "var x = new MutationObserver(function (mutations, observer) {{\n",
       "        var display = window.getComputedStyle(gd).display;\n",
       "        if (!display || display === 'none') {{\n",
       "            console.log([gd, 'removed!']);\n",
       "            Plotly.purge(gd);\n",
       "            observer.disconnect();\n",
       "        }}\n",
       "}});\n",
       "\n",
       "// Listen for the removal of the full notebook cells\n",
       "var notebookContainer = gd.closest('#notebook-container');\n",
       "if (notebookContainer) {{\n",
       "    x.observe(notebookContainer, {childList: true});\n",
       "}}\n",
       "\n",
       "// Listen for the clearing of the current output cell\n",
       "var outputEl = gd.closest('.output');\n",
       "if (outputEl) {{\n",
       "    x.observe(outputEl, {childList: true});\n",
       "}}\n",
       "\n",
       "                        })                };                });            </script>        </div>"
      ]
     },
     "metadata": {},
     "output_type": "display_data"
    }
   ],
   "source": [
    "df.iplot(kind='box')"
   ]
  },
  {
   "cell_type": "code",
   "execution_count": 20,
   "metadata": {},
   "outputs": [],
   "source": [
    "df3 = pd.DataFrame({'x':[1,2,3,4,5], 'y':[10,20,30,40,50], 'z':[5,4,3,2,1]})"
   ]
  },
  {
   "cell_type": "code",
   "execution_count": 21,
   "metadata": {},
   "outputs": [
    {
     "data": {
      "application/vnd.plotly.v1+json": {
       "config": {
        "linkText": "Export to plot.ly",
        "plotlyServerURL": "https://plot.ly",
        "showLink": true
       },
       "data": [
        {
         "colorscale": [
          [
           0,
           "rgb(165,0,38)"
          ],
          [
           0.1,
           "rgb(215,48,39)"
          ],
          [
           0.2,
           "rgb(244,109,67)"
          ],
          [
           0.3,
           "rgb(253,174,97)"
          ],
          [
           0.4,
           "rgb(254,224,144)"
          ],
          [
           0.5,
           "rgb(255,255,191)"
          ],
          [
           0.6,
           "rgb(224,243,248)"
          ],
          [
           0.7,
           "rgb(171,217,233)"
          ],
          [
           0.8,
           "rgb(116,173,209)"
          ],
          [
           0.9,
           "rgb(69,117,180)"
          ],
          [
           1,
           "rgb(49,54,149)"
          ]
         ],
         "type": "surface",
         "x": [
          0,
          1,
          2,
          3,
          4
         ],
         "y": [
          "x",
          "y",
          "z"
         ],
         "z": [
          [
           1,
           2,
           3,
           4,
           5
          ],
          [
           10,
           20,
           30,
           40,
           50
          ],
          [
           5,
           4,
           3,
           2,
           1
          ]
         ]
        }
       ],
       "layout": {
        "legend": {
         "bgcolor": "#F5F6F9",
         "font": {
          "color": "#4D5663"
         }
        },
        "paper_bgcolor": "#F5F6F9",
        "plot_bgcolor": "#F5F6F9",
        "template": {
         "data": {
          "bar": [
           {
            "error_x": {
             "color": "#2a3f5f"
            },
            "error_y": {
             "color": "#2a3f5f"
            },
            "marker": {
             "line": {
              "color": "#E5ECF6",
              "width": 0.5
             },
             "pattern": {
              "fillmode": "overlay",
              "size": 10,
              "solidity": 0.2
             }
            },
            "type": "bar"
           }
          ],
          "barpolar": [
           {
            "marker": {
             "line": {
              "color": "#E5ECF6",
              "width": 0.5
             },
             "pattern": {
              "fillmode": "overlay",
              "size": 10,
              "solidity": 0.2
             }
            },
            "type": "barpolar"
           }
          ],
          "carpet": [
           {
            "aaxis": {
             "endlinecolor": "#2a3f5f",
             "gridcolor": "white",
             "linecolor": "white",
             "minorgridcolor": "white",
             "startlinecolor": "#2a3f5f"
            },
            "baxis": {
             "endlinecolor": "#2a3f5f",
             "gridcolor": "white",
             "linecolor": "white",
             "minorgridcolor": "white",
             "startlinecolor": "#2a3f5f"
            },
            "type": "carpet"
           }
          ],
          "choropleth": [
           {
            "colorbar": {
             "outlinewidth": 0,
             "ticks": ""
            },
            "type": "choropleth"
           }
          ],
          "contour": [
           {
            "colorbar": {
             "outlinewidth": 0,
             "ticks": ""
            },
            "colorscale": [
             [
              0,
              "#0d0887"
             ],
             [
              0.1111111111111111,
              "#46039f"
             ],
             [
              0.2222222222222222,
              "#7201a8"
             ],
             [
              0.3333333333333333,
              "#9c179e"
             ],
             [
              0.4444444444444444,
              "#bd3786"
             ],
             [
              0.5555555555555556,
              "#d8576b"
             ],
             [
              0.6666666666666666,
              "#ed7953"
             ],
             [
              0.7777777777777778,
              "#fb9f3a"
             ],
             [
              0.8888888888888888,
              "#fdca26"
             ],
             [
              1,
              "#f0f921"
             ]
            ],
            "type": "contour"
           }
          ],
          "contourcarpet": [
           {
            "colorbar": {
             "outlinewidth": 0,
             "ticks": ""
            },
            "type": "contourcarpet"
           }
          ],
          "heatmap": [
           {
            "colorbar": {
             "outlinewidth": 0,
             "ticks": ""
            },
            "colorscale": [
             [
              0,
              "#0d0887"
             ],
             [
              0.1111111111111111,
              "#46039f"
             ],
             [
              0.2222222222222222,
              "#7201a8"
             ],
             [
              0.3333333333333333,
              "#9c179e"
             ],
             [
              0.4444444444444444,
              "#bd3786"
             ],
             [
              0.5555555555555556,
              "#d8576b"
             ],
             [
              0.6666666666666666,
              "#ed7953"
             ],
             [
              0.7777777777777778,
              "#fb9f3a"
             ],
             [
              0.8888888888888888,
              "#fdca26"
             ],
             [
              1,
              "#f0f921"
             ]
            ],
            "type": "heatmap"
           }
          ],
          "heatmapgl": [
           {
            "colorbar": {
             "outlinewidth": 0,
             "ticks": ""
            },
            "colorscale": [
             [
              0,
              "#0d0887"
             ],
             [
              0.1111111111111111,
              "#46039f"
             ],
             [
              0.2222222222222222,
              "#7201a8"
             ],
             [
              0.3333333333333333,
              "#9c179e"
             ],
             [
              0.4444444444444444,
              "#bd3786"
             ],
             [
              0.5555555555555556,
              "#d8576b"
             ],
             [
              0.6666666666666666,
              "#ed7953"
             ],
             [
              0.7777777777777778,
              "#fb9f3a"
             ],
             [
              0.8888888888888888,
              "#fdca26"
             ],
             [
              1,
              "#f0f921"
             ]
            ],
            "type": "heatmapgl"
           }
          ],
          "histogram": [
           {
            "marker": {
             "pattern": {
              "fillmode": "overlay",
              "size": 10,
              "solidity": 0.2
             }
            },
            "type": "histogram"
           }
          ],
          "histogram2d": [
           {
            "colorbar": {
             "outlinewidth": 0,
             "ticks": ""
            },
            "colorscale": [
             [
              0,
              "#0d0887"
             ],
             [
              0.1111111111111111,
              "#46039f"
             ],
             [
              0.2222222222222222,
              "#7201a8"
             ],
             [
              0.3333333333333333,
              "#9c179e"
             ],
             [
              0.4444444444444444,
              "#bd3786"
             ],
             [
              0.5555555555555556,
              "#d8576b"
             ],
             [
              0.6666666666666666,
              "#ed7953"
             ],
             [
              0.7777777777777778,
              "#fb9f3a"
             ],
             [
              0.8888888888888888,
              "#fdca26"
             ],
             [
              1,
              "#f0f921"
             ]
            ],
            "type": "histogram2d"
           }
          ],
          "histogram2dcontour": [
           {
            "colorbar": {
             "outlinewidth": 0,
             "ticks": ""
            },
            "colorscale": [
             [
              0,
              "#0d0887"
             ],
             [
              0.1111111111111111,
              "#46039f"
             ],
             [
              0.2222222222222222,
              "#7201a8"
             ],
             [
              0.3333333333333333,
              "#9c179e"
             ],
             [
              0.4444444444444444,
              "#bd3786"
             ],
             [
              0.5555555555555556,
              "#d8576b"
             ],
             [
              0.6666666666666666,
              "#ed7953"
             ],
             [
              0.7777777777777778,
              "#fb9f3a"
             ],
             [
              0.8888888888888888,
              "#fdca26"
             ],
             [
              1,
              "#f0f921"
             ]
            ],
            "type": "histogram2dcontour"
           }
          ],
          "mesh3d": [
           {
            "colorbar": {
             "outlinewidth": 0,
             "ticks": ""
            },
            "type": "mesh3d"
           }
          ],
          "parcoords": [
           {
            "line": {
             "colorbar": {
              "outlinewidth": 0,
              "ticks": ""
             }
            },
            "type": "parcoords"
           }
          ],
          "pie": [
           {
            "automargin": true,
            "type": "pie"
           }
          ],
          "scatter": [
           {
            "fillpattern": {
             "fillmode": "overlay",
             "size": 10,
             "solidity": 0.2
            },
            "type": "scatter"
           }
          ],
          "scatter3d": [
           {
            "line": {
             "colorbar": {
              "outlinewidth": 0,
              "ticks": ""
             }
            },
            "marker": {
             "colorbar": {
              "outlinewidth": 0,
              "ticks": ""
             }
            },
            "type": "scatter3d"
           }
          ],
          "scattercarpet": [
           {
            "marker": {
             "colorbar": {
              "outlinewidth": 0,
              "ticks": ""
             }
            },
            "type": "scattercarpet"
           }
          ],
          "scattergeo": [
           {
            "marker": {
             "colorbar": {
              "outlinewidth": 0,
              "ticks": ""
             }
            },
            "type": "scattergeo"
           }
          ],
          "scattergl": [
           {
            "marker": {
             "colorbar": {
              "outlinewidth": 0,
              "ticks": ""
             }
            },
            "type": "scattergl"
           }
          ],
          "scattermapbox": [
           {
            "marker": {
             "colorbar": {
              "outlinewidth": 0,
              "ticks": ""
             }
            },
            "type": "scattermapbox"
           }
          ],
          "scatterpolar": [
           {
            "marker": {
             "colorbar": {
              "outlinewidth": 0,
              "ticks": ""
             }
            },
            "type": "scatterpolar"
           }
          ],
          "scatterpolargl": [
           {
            "marker": {
             "colorbar": {
              "outlinewidth": 0,
              "ticks": ""
             }
            },
            "type": "scatterpolargl"
           }
          ],
          "scatterternary": [
           {
            "marker": {
             "colorbar": {
              "outlinewidth": 0,
              "ticks": ""
             }
            },
            "type": "scatterternary"
           }
          ],
          "surface": [
           {
            "colorbar": {
             "outlinewidth": 0,
             "ticks": ""
            },
            "colorscale": [
             [
              0,
              "#0d0887"
             ],
             [
              0.1111111111111111,
              "#46039f"
             ],
             [
              0.2222222222222222,
              "#7201a8"
             ],
             [
              0.3333333333333333,
              "#9c179e"
             ],
             [
              0.4444444444444444,
              "#bd3786"
             ],
             [
              0.5555555555555556,
              "#d8576b"
             ],
             [
              0.6666666666666666,
              "#ed7953"
             ],
             [
              0.7777777777777778,
              "#fb9f3a"
             ],
             [
              0.8888888888888888,
              "#fdca26"
             ],
             [
              1,
              "#f0f921"
             ]
            ],
            "type": "surface"
           }
          ],
          "table": [
           {
            "cells": {
             "fill": {
              "color": "#EBF0F8"
             },
             "line": {
              "color": "white"
             }
            },
            "header": {
             "fill": {
              "color": "#C8D4E3"
             },
             "line": {
              "color": "white"
             }
            },
            "type": "table"
           }
          ]
         },
         "layout": {
          "annotationdefaults": {
           "arrowcolor": "#2a3f5f",
           "arrowhead": 0,
           "arrowwidth": 1
          },
          "autotypenumbers": "strict",
          "coloraxis": {
           "colorbar": {
            "outlinewidth": 0,
            "ticks": ""
           }
          },
          "colorscale": {
           "diverging": [
            [
             0,
             "#8e0152"
            ],
            [
             0.1,
             "#c51b7d"
            ],
            [
             0.2,
             "#de77ae"
            ],
            [
             0.3,
             "#f1b6da"
            ],
            [
             0.4,
             "#fde0ef"
            ],
            [
             0.5,
             "#f7f7f7"
            ],
            [
             0.6,
             "#e6f5d0"
            ],
            [
             0.7,
             "#b8e186"
            ],
            [
             0.8,
             "#7fbc41"
            ],
            [
             0.9,
             "#4d9221"
            ],
            [
             1,
             "#276419"
            ]
           ],
           "sequential": [
            [
             0,
             "#0d0887"
            ],
            [
             0.1111111111111111,
             "#46039f"
            ],
            [
             0.2222222222222222,
             "#7201a8"
            ],
            [
             0.3333333333333333,
             "#9c179e"
            ],
            [
             0.4444444444444444,
             "#bd3786"
            ],
            [
             0.5555555555555556,
             "#d8576b"
            ],
            [
             0.6666666666666666,
             "#ed7953"
            ],
            [
             0.7777777777777778,
             "#fb9f3a"
            ],
            [
             0.8888888888888888,
             "#fdca26"
            ],
            [
             1,
             "#f0f921"
            ]
           ],
           "sequentialminus": [
            [
             0,
             "#0d0887"
            ],
            [
             0.1111111111111111,
             "#46039f"
            ],
            [
             0.2222222222222222,
             "#7201a8"
            ],
            [
             0.3333333333333333,
             "#9c179e"
            ],
            [
             0.4444444444444444,
             "#bd3786"
            ],
            [
             0.5555555555555556,
             "#d8576b"
            ],
            [
             0.6666666666666666,
             "#ed7953"
            ],
            [
             0.7777777777777778,
             "#fb9f3a"
            ],
            [
             0.8888888888888888,
             "#fdca26"
            ],
            [
             1,
             "#f0f921"
            ]
           ]
          },
          "colorway": [
           "#636efa",
           "#EF553B",
           "#00cc96",
           "#ab63fa",
           "#FFA15A",
           "#19d3f3",
           "#FF6692",
           "#B6E880",
           "#FF97FF",
           "#FECB52"
          ],
          "font": {
           "color": "#2a3f5f"
          },
          "geo": {
           "bgcolor": "white",
           "lakecolor": "white",
           "landcolor": "#E5ECF6",
           "showlakes": true,
           "showland": true,
           "subunitcolor": "white"
          },
          "hoverlabel": {
           "align": "left"
          },
          "hovermode": "closest",
          "mapbox": {
           "style": "light"
          },
          "paper_bgcolor": "white",
          "plot_bgcolor": "#E5ECF6",
          "polar": {
           "angularaxis": {
            "gridcolor": "white",
            "linecolor": "white",
            "ticks": ""
           },
           "bgcolor": "#E5ECF6",
           "radialaxis": {
            "gridcolor": "white",
            "linecolor": "white",
            "ticks": ""
           }
          },
          "scene": {
           "xaxis": {
            "backgroundcolor": "#E5ECF6",
            "gridcolor": "white",
            "gridwidth": 2,
            "linecolor": "white",
            "showbackground": true,
            "ticks": "",
            "zerolinecolor": "white"
           },
           "yaxis": {
            "backgroundcolor": "#E5ECF6",
            "gridcolor": "white",
            "gridwidth": 2,
            "linecolor": "white",
            "showbackground": true,
            "ticks": "",
            "zerolinecolor": "white"
           },
           "zaxis": {
            "backgroundcolor": "#E5ECF6",
            "gridcolor": "white",
            "gridwidth": 2,
            "linecolor": "white",
            "showbackground": true,
            "ticks": "",
            "zerolinecolor": "white"
           }
          },
          "shapedefaults": {
           "line": {
            "color": "#2a3f5f"
           }
          },
          "ternary": {
           "aaxis": {
            "gridcolor": "white",
            "linecolor": "white",
            "ticks": ""
           },
           "baxis": {
            "gridcolor": "white",
            "linecolor": "white",
            "ticks": ""
           },
           "bgcolor": "#E5ECF6",
           "caxis": {
            "gridcolor": "white",
            "linecolor": "white",
            "ticks": ""
           }
          },
          "title": {
           "x": 0.05
          },
          "xaxis": {
           "automargin": true,
           "gridcolor": "white",
           "linecolor": "white",
           "ticks": "",
           "title": {
            "standoff": 15
           },
           "zerolinecolor": "white",
           "zerolinewidth": 2
          },
          "yaxis": {
           "automargin": true,
           "gridcolor": "white",
           "linecolor": "white",
           "ticks": "",
           "title": {
            "standoff": 15
           },
           "zerolinecolor": "white",
           "zerolinewidth": 2
          }
         }
        },
        "title": {
         "font": {
          "color": "#4D5663"
         }
        },
        "xaxis": {
         "gridcolor": "#E1E5ED",
         "showgrid": true,
         "tickfont": {
          "color": "#4D5663"
         },
         "title": {
          "font": {
           "color": "#4D5663"
          },
          "text": ""
         },
         "zerolinecolor": "#E1E5ED"
        },
        "yaxis": {
         "gridcolor": "#E1E5ED",
         "showgrid": true,
         "tickfont": {
          "color": "#4D5663"
         },
         "title": {
          "font": {
           "color": "#4D5663"
          },
          "text": ""
         },
         "zerolinecolor": "#E1E5ED"
        }
       }
      },
      "text/html": [
       "<div>                            <div id=\"309aade4-8be2-4070-bb56-bbe320ed9a22\" class=\"plotly-graph-div\" style=\"height:525px; width:100%;\"></div>            <script type=\"text/javascript\">                require([\"plotly\"], function(Plotly) {                    window.PLOTLYENV=window.PLOTLYENV || {};\n",
       "                    window.PLOTLYENV.BASE_URL='https://plot.ly';                                    if (document.getElementById(\"309aade4-8be2-4070-bb56-bbe320ed9a22\")) {                    Plotly.newPlot(                        \"309aade4-8be2-4070-bb56-bbe320ed9a22\",                        [{\"colorscale\":[[0.0,\"rgb(165,0,38)\"],[0.1,\"rgb(215,48,39)\"],[0.2,\"rgb(244,109,67)\"],[0.3,\"rgb(253,174,97)\"],[0.4,\"rgb(254,224,144)\"],[0.5,\"rgb(255,255,191)\"],[0.6,\"rgb(224,243,248)\"],[0.7,\"rgb(171,217,233)\"],[0.8,\"rgb(116,173,209)\"],[0.9,\"rgb(69,117,180)\"],[1.0,\"rgb(49,54,149)\"]],\"x\":[0,1,2,3,4],\"y\":[\"x\",\"y\",\"z\"],\"z\":[[1,2,3,4,5],[10,20,30,40,50],[5,4,3,2,1]],\"type\":\"surface\"}],                        {\"legend\":{\"bgcolor\":\"#F5F6F9\",\"font\":{\"color\":\"#4D5663\"}},\"paper_bgcolor\":\"#F5F6F9\",\"plot_bgcolor\":\"#F5F6F9\",\"template\":{\"data\":{\"barpolar\":[{\"marker\":{\"line\":{\"color\":\"#E5ECF6\",\"width\":0.5},\"pattern\":{\"fillmode\":\"overlay\",\"size\":10,\"solidity\":0.2}},\"type\":\"barpolar\"}],\"bar\":[{\"error_x\":{\"color\":\"#2a3f5f\"},\"error_y\":{\"color\":\"#2a3f5f\"},\"marker\":{\"line\":{\"color\":\"#E5ECF6\",\"width\":0.5},\"pattern\":{\"fillmode\":\"overlay\",\"size\":10,\"solidity\":0.2}},\"type\":\"bar\"}],\"carpet\":[{\"aaxis\":{\"endlinecolor\":\"#2a3f5f\",\"gridcolor\":\"white\",\"linecolor\":\"white\",\"minorgridcolor\":\"white\",\"startlinecolor\":\"#2a3f5f\"},\"baxis\":{\"endlinecolor\":\"#2a3f5f\",\"gridcolor\":\"white\",\"linecolor\":\"white\",\"minorgridcolor\":\"white\",\"startlinecolor\":\"#2a3f5f\"},\"type\":\"carpet\"}],\"choropleth\":[{\"colorbar\":{\"outlinewidth\":0,\"ticks\":\"\"},\"type\":\"choropleth\"}],\"contourcarpet\":[{\"colorbar\":{\"outlinewidth\":0,\"ticks\":\"\"},\"type\":\"contourcarpet\"}],\"contour\":[{\"colorbar\":{\"outlinewidth\":0,\"ticks\":\"\"},\"colorscale\":[[0.0,\"#0d0887\"],[0.1111111111111111,\"#46039f\"],[0.2222222222222222,\"#7201a8\"],[0.3333333333333333,\"#9c179e\"],[0.4444444444444444,\"#bd3786\"],[0.5555555555555556,\"#d8576b\"],[0.6666666666666666,\"#ed7953\"],[0.7777777777777778,\"#fb9f3a\"],[0.8888888888888888,\"#fdca26\"],[1.0,\"#f0f921\"]],\"type\":\"contour\"}],\"heatmapgl\":[{\"colorbar\":{\"outlinewidth\":0,\"ticks\":\"\"},\"colorscale\":[[0.0,\"#0d0887\"],[0.1111111111111111,\"#46039f\"],[0.2222222222222222,\"#7201a8\"],[0.3333333333333333,\"#9c179e\"],[0.4444444444444444,\"#bd3786\"],[0.5555555555555556,\"#d8576b\"],[0.6666666666666666,\"#ed7953\"],[0.7777777777777778,\"#fb9f3a\"],[0.8888888888888888,\"#fdca26\"],[1.0,\"#f0f921\"]],\"type\":\"heatmapgl\"}],\"heatmap\":[{\"colorbar\":{\"outlinewidth\":0,\"ticks\":\"\"},\"colorscale\":[[0.0,\"#0d0887\"],[0.1111111111111111,\"#46039f\"],[0.2222222222222222,\"#7201a8\"],[0.3333333333333333,\"#9c179e\"],[0.4444444444444444,\"#bd3786\"],[0.5555555555555556,\"#d8576b\"],[0.6666666666666666,\"#ed7953\"],[0.7777777777777778,\"#fb9f3a\"],[0.8888888888888888,\"#fdca26\"],[1.0,\"#f0f921\"]],\"type\":\"heatmap\"}],\"histogram2dcontour\":[{\"colorbar\":{\"outlinewidth\":0,\"ticks\":\"\"},\"colorscale\":[[0.0,\"#0d0887\"],[0.1111111111111111,\"#46039f\"],[0.2222222222222222,\"#7201a8\"],[0.3333333333333333,\"#9c179e\"],[0.4444444444444444,\"#bd3786\"],[0.5555555555555556,\"#d8576b\"],[0.6666666666666666,\"#ed7953\"],[0.7777777777777778,\"#fb9f3a\"],[0.8888888888888888,\"#fdca26\"],[1.0,\"#f0f921\"]],\"type\":\"histogram2dcontour\"}],\"histogram2d\":[{\"colorbar\":{\"outlinewidth\":0,\"ticks\":\"\"},\"colorscale\":[[0.0,\"#0d0887\"],[0.1111111111111111,\"#46039f\"],[0.2222222222222222,\"#7201a8\"],[0.3333333333333333,\"#9c179e\"],[0.4444444444444444,\"#bd3786\"],[0.5555555555555556,\"#d8576b\"],[0.6666666666666666,\"#ed7953\"],[0.7777777777777778,\"#fb9f3a\"],[0.8888888888888888,\"#fdca26\"],[1.0,\"#f0f921\"]],\"type\":\"histogram2d\"}],\"histogram\":[{\"marker\":{\"pattern\":{\"fillmode\":\"overlay\",\"size\":10,\"solidity\":0.2}},\"type\":\"histogram\"}],\"mesh3d\":[{\"colorbar\":{\"outlinewidth\":0,\"ticks\":\"\"},\"type\":\"mesh3d\"}],\"parcoords\":[{\"line\":{\"colorbar\":{\"outlinewidth\":0,\"ticks\":\"\"}},\"type\":\"parcoords\"}],\"pie\":[{\"automargin\":true,\"type\":\"pie\"}],\"scatter3d\":[{\"line\":{\"colorbar\":{\"outlinewidth\":0,\"ticks\":\"\"}},\"marker\":{\"colorbar\":{\"outlinewidth\":0,\"ticks\":\"\"}},\"type\":\"scatter3d\"}],\"scattercarpet\":[{\"marker\":{\"colorbar\":{\"outlinewidth\":0,\"ticks\":\"\"}},\"type\":\"scattercarpet\"}],\"scattergeo\":[{\"marker\":{\"colorbar\":{\"outlinewidth\":0,\"ticks\":\"\"}},\"type\":\"scattergeo\"}],\"scattergl\":[{\"marker\":{\"colorbar\":{\"outlinewidth\":0,\"ticks\":\"\"}},\"type\":\"scattergl\"}],\"scattermapbox\":[{\"marker\":{\"colorbar\":{\"outlinewidth\":0,\"ticks\":\"\"}},\"type\":\"scattermapbox\"}],\"scatterpolargl\":[{\"marker\":{\"colorbar\":{\"outlinewidth\":0,\"ticks\":\"\"}},\"type\":\"scatterpolargl\"}],\"scatterpolar\":[{\"marker\":{\"colorbar\":{\"outlinewidth\":0,\"ticks\":\"\"}},\"type\":\"scatterpolar\"}],\"scatter\":[{\"fillpattern\":{\"fillmode\":\"overlay\",\"size\":10,\"solidity\":0.2},\"type\":\"scatter\"}],\"scatterternary\":[{\"marker\":{\"colorbar\":{\"outlinewidth\":0,\"ticks\":\"\"}},\"type\":\"scatterternary\"}],\"surface\":[{\"colorbar\":{\"outlinewidth\":0,\"ticks\":\"\"},\"colorscale\":[[0.0,\"#0d0887\"],[0.1111111111111111,\"#46039f\"],[0.2222222222222222,\"#7201a8\"],[0.3333333333333333,\"#9c179e\"],[0.4444444444444444,\"#bd3786\"],[0.5555555555555556,\"#d8576b\"],[0.6666666666666666,\"#ed7953\"],[0.7777777777777778,\"#fb9f3a\"],[0.8888888888888888,\"#fdca26\"],[1.0,\"#f0f921\"]],\"type\":\"surface\"}],\"table\":[{\"cells\":{\"fill\":{\"color\":\"#EBF0F8\"},\"line\":{\"color\":\"white\"}},\"header\":{\"fill\":{\"color\":\"#C8D4E3\"},\"line\":{\"color\":\"white\"}},\"type\":\"table\"}]},\"layout\":{\"annotationdefaults\":{\"arrowcolor\":\"#2a3f5f\",\"arrowhead\":0,\"arrowwidth\":1},\"autotypenumbers\":\"strict\",\"coloraxis\":{\"colorbar\":{\"outlinewidth\":0,\"ticks\":\"\"}},\"colorscale\":{\"diverging\":[[0,\"#8e0152\"],[0.1,\"#c51b7d\"],[0.2,\"#de77ae\"],[0.3,\"#f1b6da\"],[0.4,\"#fde0ef\"],[0.5,\"#f7f7f7\"],[0.6,\"#e6f5d0\"],[0.7,\"#b8e186\"],[0.8,\"#7fbc41\"],[0.9,\"#4d9221\"],[1,\"#276419\"]],\"sequential\":[[0.0,\"#0d0887\"],[0.1111111111111111,\"#46039f\"],[0.2222222222222222,\"#7201a8\"],[0.3333333333333333,\"#9c179e\"],[0.4444444444444444,\"#bd3786\"],[0.5555555555555556,\"#d8576b\"],[0.6666666666666666,\"#ed7953\"],[0.7777777777777778,\"#fb9f3a\"],[0.8888888888888888,\"#fdca26\"],[1.0,\"#f0f921\"]],\"sequentialminus\":[[0.0,\"#0d0887\"],[0.1111111111111111,\"#46039f\"],[0.2222222222222222,\"#7201a8\"],[0.3333333333333333,\"#9c179e\"],[0.4444444444444444,\"#bd3786\"],[0.5555555555555556,\"#d8576b\"],[0.6666666666666666,\"#ed7953\"],[0.7777777777777778,\"#fb9f3a\"],[0.8888888888888888,\"#fdca26\"],[1.0,\"#f0f921\"]]},\"colorway\":[\"#636efa\",\"#EF553B\",\"#00cc96\",\"#ab63fa\",\"#FFA15A\",\"#19d3f3\",\"#FF6692\",\"#B6E880\",\"#FF97FF\",\"#FECB52\"],\"font\":{\"color\":\"#2a3f5f\"},\"geo\":{\"bgcolor\":\"white\",\"lakecolor\":\"white\",\"landcolor\":\"#E5ECF6\",\"showlakes\":true,\"showland\":true,\"subunitcolor\":\"white\"},\"hoverlabel\":{\"align\":\"left\"},\"hovermode\":\"closest\",\"mapbox\":{\"style\":\"light\"},\"paper_bgcolor\":\"white\",\"plot_bgcolor\":\"#E5ECF6\",\"polar\":{\"angularaxis\":{\"gridcolor\":\"white\",\"linecolor\":\"white\",\"ticks\":\"\"},\"bgcolor\":\"#E5ECF6\",\"radialaxis\":{\"gridcolor\":\"white\",\"linecolor\":\"white\",\"ticks\":\"\"}},\"scene\":{\"xaxis\":{\"backgroundcolor\":\"#E5ECF6\",\"gridcolor\":\"white\",\"gridwidth\":2,\"linecolor\":\"white\",\"showbackground\":true,\"ticks\":\"\",\"zerolinecolor\":\"white\"},\"yaxis\":{\"backgroundcolor\":\"#E5ECF6\",\"gridcolor\":\"white\",\"gridwidth\":2,\"linecolor\":\"white\",\"showbackground\":true,\"ticks\":\"\",\"zerolinecolor\":\"white\"},\"zaxis\":{\"backgroundcolor\":\"#E5ECF6\",\"gridcolor\":\"white\",\"gridwidth\":2,\"linecolor\":\"white\",\"showbackground\":true,\"ticks\":\"\",\"zerolinecolor\":\"white\"}},\"shapedefaults\":{\"line\":{\"color\":\"#2a3f5f\"}},\"ternary\":{\"aaxis\":{\"gridcolor\":\"white\",\"linecolor\":\"white\",\"ticks\":\"\"},\"baxis\":{\"gridcolor\":\"white\",\"linecolor\":\"white\",\"ticks\":\"\"},\"bgcolor\":\"#E5ECF6\",\"caxis\":{\"gridcolor\":\"white\",\"linecolor\":\"white\",\"ticks\":\"\"}},\"title\":{\"x\":0.05},\"xaxis\":{\"automargin\":true,\"gridcolor\":\"white\",\"linecolor\":\"white\",\"ticks\":\"\",\"title\":{\"standoff\":15},\"zerolinecolor\":\"white\",\"zerolinewidth\":2},\"yaxis\":{\"automargin\":true,\"gridcolor\":\"white\",\"linecolor\":\"white\",\"ticks\":\"\",\"title\":{\"standoff\":15},\"zerolinecolor\":\"white\",\"zerolinewidth\":2}}},\"title\":{\"font\":{\"color\":\"#4D5663\"}},\"xaxis\":{\"gridcolor\":\"#E1E5ED\",\"showgrid\":true,\"tickfont\":{\"color\":\"#4D5663\"},\"title\":{\"font\":{\"color\":\"#4D5663\"},\"text\":\"\"},\"zerolinecolor\":\"#E1E5ED\"},\"yaxis\":{\"gridcolor\":\"#E1E5ED\",\"showgrid\":true,\"tickfont\":{\"color\":\"#4D5663\"},\"title\":{\"font\":{\"color\":\"#4D5663\"},\"text\":\"\"},\"zerolinecolor\":\"#E1E5ED\"}},                        {\"showLink\": true, \"linkText\": \"Export to plot.ly\", \"plotlyServerURL\": \"https://plot.ly\", \"responsive\": true}                    ).then(function(){\n",
       "                            \n",
       "var gd = document.getElementById('309aade4-8be2-4070-bb56-bbe320ed9a22');\n",
       "var x = new MutationObserver(function (mutations, observer) {{\n",
       "        var display = window.getComputedStyle(gd).display;\n",
       "        if (!display || display === 'none') {{\n",
       "            console.log([gd, 'removed!']);\n",
       "            Plotly.purge(gd);\n",
       "            observer.disconnect();\n",
       "        }}\n",
       "}});\n",
       "\n",
       "// Listen for the removal of the full notebook cells\n",
       "var notebookContainer = gd.closest('#notebook-container');\n",
       "if (notebookContainer) {{\n",
       "    x.observe(notebookContainer, {childList: true});\n",
       "}}\n",
       "\n",
       "// Listen for the clearing of the current output cell\n",
       "var outputEl = gd.closest('.output');\n",
       "if (outputEl) {{\n",
       "    x.observe(outputEl, {childList: true});\n",
       "}}\n",
       "\n",
       "                        })                };                });            </script>        </div>"
      ]
     },
     "metadata": {},
     "output_type": "display_data"
    }
   ],
   "source": [
    "df3.iplot(kind='surface', colorscale='rdylbu')"
   ]
  },
  {
   "cell_type": "code",
   "execution_count": 22,
   "metadata": {},
   "outputs": [
    {
     "name": "stderr",
     "output_type": "stream",
     "text": [
      "C:\\Users\\hamza\\anaconda3\\lib\\site-packages\\cufflinks\\plotlytools.py:849: FutureWarning:\n",
      "\n",
      "The pandas.np module is deprecated and will be removed from pandas in a future version. Import numpy directly instead\n",
      "\n",
      "C:\\Users\\hamza\\anaconda3\\lib\\site-packages\\cufflinks\\plotlytools.py:850: FutureWarning:\n",
      "\n",
      "The pandas.np module is deprecated and will be removed from pandas in a future version. Import numpy directly instead\n",
      "\n"
     ]
    },
    {
     "data": {
      "application/vnd.plotly.v1+json": {
       "config": {
        "linkText": "Export to plot.ly",
        "plotlyServerURL": "https://plot.ly",
        "showLink": true
       },
       "data": [
        {
         "line": {
          "color": "rgba(255, 153, 51, 1.0)",
          "dash": "solid",
          "shape": "linear",
          "width": 1.3
         },
         "mode": "lines",
         "name": "A",
         "text": "",
         "type": "scatter",
         "x": [
          0,
          1,
          2,
          3,
          4,
          5,
          6,
          7,
          8,
          9,
          10,
          11,
          12,
          13,
          14,
          15,
          16,
          17,
          18,
          19,
          20,
          21,
          22,
          23,
          24,
          25,
          26,
          27,
          28,
          29,
          30,
          31,
          32,
          33,
          34,
          35,
          36,
          37,
          38,
          39,
          40,
          41,
          42,
          43,
          44,
          45,
          46,
          47,
          48,
          49,
          50,
          51,
          52,
          53,
          54,
          55,
          56,
          57,
          58,
          59,
          60,
          61,
          62,
          63,
          64,
          65,
          66,
          67,
          68,
          69,
          70,
          71,
          72,
          73,
          74,
          75,
          76,
          77,
          78,
          79,
          80,
          81,
          82,
          83,
          84,
          85,
          86,
          87,
          88,
          89,
          90,
          91,
          92,
          93,
          94,
          95,
          96,
          97,
          98,
          99
         ],
         "y": [
          0.08548394392684941,
          -0.5893916978546746,
          -0.8419665667833715,
          1.0653294037412206,
          -0.30404866925348994,
          0.3220582584509832,
          1.1049131997268444,
          0.32518021155482785,
          2.7803713071535303,
          -0.6512650673063205,
          0.49199825674186487,
          -0.08508963549565635,
          0.5726425435043762,
          2.1386501290862214,
          -0.9950235584665907,
          2.0052327231453364,
          1.9086945678707794,
          -0.4672730441548413,
          0.09809372512041015,
          0.20776175313101258,
          -0.13008291273505135,
          -0.213716607920109,
          -0.752971396659258,
          -0.8856345833042678,
          -0.21828897744131906,
          -1.5221842260642924,
          1.7597176132531838,
          0.368692867252797,
          0.012002423023914443,
          -0.3300847199674508,
          -1.174027326022618,
          0.27669897261410636,
          0.9022235975340244,
          0.1237670623846236,
          0.27474926924742754,
          -1.2318138433306547,
          -0.9291362405434669,
          0.2581841484670674,
          -0.35557870411472275,
          0.31329107322223737,
          -0.10998911435349933,
          -0.6056942752510703,
          0.5496119520128204,
          0.7217212678834122,
          1.1080438778814063,
          1.194652068448999,
          1.9452460051287748,
          -1.0096690093450156,
          0.06886112821121931,
          -0.22386569878334348,
          0.3722266141668129,
          2.3949425017894628,
          -1.5415993206560856,
          0.31051517323586425,
          -0.9007115672683569,
          -0.37250269015414444,
          0.12892868685879072,
          -2.093099841220505,
          0.19281052497404821,
          -0.14026793411748828,
          0.7202355995317967,
          1.9985914284907331,
          -0.024224308482236806,
          0.01896759967272472,
          -1.5884383627946148,
          0.14382833009913976,
          0.8208787993291673,
          0.11647492827936208,
          0.8148442245171553,
          -0.9944542791659978,
          -1.5826860570144032,
          -1.0027608392246807,
          0.6405945754015209,
          -1.2307004748798553,
          -0.9114975696364512,
          1.37764411838987,
          0.5203887980053448,
          -0.6308501093425088,
          -0.04108239600910254,
          -0.14803345522911654,
          0.27240046321175776,
          -0.0984268942816003,
          -0.7917134062519374,
          -0.6755333627675957,
          0.5021187599504238,
          -1.489214963700235,
          0.08552835376163205,
          -1.8220289030449843,
          1.3610498831089615,
          -1.5377662111236543,
          0.4413929766677556,
          1.1406361331627282,
          1.7219831491686641,
          -0.154773148802657,
          -0.2652967487886054,
          1.0404378705960964,
          -0.9175907022603449,
          -0.8622776172416078,
          -1.3999208590790715,
          0.09066006069192459
         ]
        },
        {
         "line": {
          "color": "rgba(55, 128, 191, 1.0)",
          "dash": "solid",
          "shape": "linear",
          "width": 1.3
         },
         "mode": "lines",
         "name": "B",
         "text": "",
         "type": "scatter",
         "x": [
          0,
          1,
          2,
          3,
          4,
          5,
          6,
          7,
          8,
          9,
          10,
          11,
          12,
          13,
          14,
          15,
          16,
          17,
          18,
          19,
          20,
          21,
          22,
          23,
          24,
          25,
          26,
          27,
          28,
          29,
          30,
          31,
          32,
          33,
          34,
          35,
          36,
          37,
          38,
          39,
          40,
          41,
          42,
          43,
          44,
          45,
          46,
          47,
          48,
          49,
          50,
          51,
          52,
          53,
          54,
          55,
          56,
          57,
          58,
          59,
          60,
          61,
          62,
          63,
          64,
          65,
          66,
          67,
          68,
          69,
          70,
          71,
          72,
          73,
          74,
          75,
          76,
          77,
          78,
          79,
          80,
          81,
          82,
          83,
          84,
          85,
          86,
          87,
          88,
          89,
          90,
          91,
          92,
          93,
          94,
          95,
          96,
          97,
          98,
          99
         ],
         "y": [
          -0.1624050135760886,
          0.980851981664618,
          1.6263758604043954,
          0.6670449829300747,
          0.8463914642614553,
          -0.5557547356556708,
          1.3335019465823352,
          -0.30360500311515876,
          -0.5572485277306021,
          1.7923193575265437,
          0.5230714474292316,
          1.3962847654068788,
          0.5454202975825965,
          0.8220066168038932,
          0.1333294140157902,
          -0.4580923125178034,
          -1.8702657688987048,
          0.19165599638946365,
          -1.5441476695946914,
          1.489985153554788,
          0.08513682537748908,
          0.5884943933265148,
          -0.37527778093043845,
          -1.2420986135906638,
          -0.09359385888729599,
          -0.8993751877593811,
          0.9038336626818552,
          0.19897941905376915,
          -0.3499682664519889,
          -0.813255283672789,
          -0.761601608488013,
          0.6852647594122985,
          0.7444146965136054,
          -0.10824902571549988,
          1.0343766589925962,
          0.6794742299814396,
          -1.377108827556193,
          -0.9198084554974598,
          1.2754158682756254,
          -0.6805171783915703,
          1.6295186194490634,
          1.3058104975166638,
          -0.008015691590719798,
          0.37945370182803906,
          -0.9344148723391815,
          0.33642615175310187,
          -1.117113472484452,
          1.2098097732957693,
          1.890729615247962,
          -0.3020317509780135,
          -0.795391429211958,
          0.5145436162551661,
          -1.17644678201426,
          0.011191592090796853,
          -2.664750053974455,
          -0.7052058747591703,
          0.4318577646237392,
          0.3482634341301973,
          0.6748205565464416,
          -0.34169023793862807,
          -0.07989141803255546,
          -0.1006525565267022,
          0.7334329357689917,
          0.8392098396231535,
          -0.4553307130666966,
          -0.7064260571420193,
          0.15230984770640202,
          0.6237041195854198,
          0.5318919831274378,
          0.5221352231397314,
          -0.8174059688720081,
          2.4389763497413726,
          -0.1242766171971954,
          1.9621837956400514,
          -0.09450483861151593,
          -0.27813013860092584,
          1.8763100787933222,
          -1.149197127466469,
          -0.33071258304144435,
          -0.903204616889579,
          -0.38847979647058817,
          -1.1896469966014003,
          -0.20764447487221024,
          1.243884872816924,
          -0.5090636362684436,
          -1.0423055947393969,
          -0.06350848782566847,
          -0.715011626851832,
          -0.004311390566099713,
          0.35968046038437906,
          0.3482155214518224,
          1.5642585538961675,
          0.05372460015033393,
          0.26927859988825925,
          0.9459316001975121,
          -1.3231038977865164,
          -0.13177750479968495,
          2.894936439883955,
          1.2620145095169104,
          -2.673128848304644
         ]
        },
        {
         "connectgaps": false,
         "fill": "tozeroy",
         "line": {
          "color": "green",
          "dash": "solid",
          "shape": "linear",
          "width": 0.5
         },
         "mode": "lines",
         "name": "Spread",
         "showlegend": false,
         "type": "scatter",
         "x": [
          0,
          1,
          2,
          3,
          4,
          5,
          6,
          7,
          8,
          9,
          10,
          11,
          12,
          13,
          14,
          15,
          16,
          17,
          18,
          19,
          20,
          21,
          22,
          23,
          24,
          25,
          26,
          27,
          28,
          29,
          30,
          31,
          32,
          33,
          34,
          35,
          36,
          37,
          38,
          39,
          40,
          41,
          42,
          43,
          44,
          45,
          46,
          47,
          48,
          49,
          50,
          51,
          52,
          53,
          54,
          55,
          56,
          57,
          58,
          59,
          60,
          61,
          62,
          63,
          64,
          65,
          66,
          67,
          68,
          69,
          70,
          71,
          72,
          73,
          74,
          75,
          76,
          77,
          78,
          79,
          80,
          81,
          82,
          83,
          84,
          85,
          86,
          87,
          88,
          89,
          90,
          91,
          92,
          93,
          94,
          95,
          96,
          97,
          98,
          99
         ],
         "xaxis": "x2",
         "y": [
          0.24788895750293802,
          "",
          "",
          0.3982844208111459,
          "",
          0.8778129941066539,
          "",
          0.6287852146699866,
          3.3376198348841326,
          "",
          "",
          "",
          0.027222245921779686,
          1.3166435122823281,
          "",
          2.4633250356631398,
          3.778960336769484,
          "",
          1.6422413947151016,
          "",
          "",
          "",
          "",
          0.35646403028639595,
          "",
          "",
          0.8558839505713286,
          0.16971344819902784,
          0.3619706894759034,
          0.4831705637053382,
          "",
          "",
          0.157808901020419,
          0.23201608810012347,
          "",
          "",
          0.447972587012726,
          1.1779926039645272,
          "",
          0.9938082516138077,
          "",
          "",
          0.5576276436035402,
          0.3422675660553731,
          2.0424587502205878,
          0.8582259166958971,
          3.062359477613227,
          "",
          "",
          0.07816605219467002,
          1.1676180433787708,
          1.8803988855342966,
          "",
          0.2993235811450674,
          1.7640384867060979,
          0.33270318460502585,
          "",
          "",
          "",
          0.2014223038211398,
          0.8001270175643522,
          2.099243985017435,
          "",
          "",
          "",
          0.8502543872411591,
          0.6685689516227653,
          "",
          0.28295224138971753,
          "",
          "",
          "",
          0.7648711925987163,
          "",
          "",
          1.6557742569907958,
          "",
          0.5183470181239601,
          0.28963018703234183,
          0.7551711616604624,
          0.660880259682346,
          1.0912201023198,
          "",
          "",
          1.0111823962188673,
          "",
          0.14903684158730052,
          "",
          1.365361273675061,
          "",
          0.09317745521593324,
          "",
          1.6682585490183302,
          "",
          "",
          2.3635417683826128,
          "",
          "",
          "",
          2.7637889089965686
         ],
         "yaxis": "y2"
        },
        {
         "connectgaps": false,
         "fill": "tozeroy",
         "line": {
          "color": "red",
          "dash": "solid",
          "shape": "linear",
          "width": 0.5
         },
         "mode": "lines",
         "name": "Spread",
         "showlegend": false,
         "type": "scatter",
         "x": [
          0,
          1,
          2,
          3,
          4,
          5,
          6,
          7,
          8,
          9,
          10,
          11,
          12,
          13,
          14,
          15,
          16,
          17,
          18,
          19,
          20,
          21,
          22,
          23,
          24,
          25,
          26,
          27,
          28,
          29,
          30,
          31,
          32,
          33,
          34,
          35,
          36,
          37,
          38,
          39,
          40,
          41,
          42,
          43,
          44,
          45,
          46,
          47,
          48,
          49,
          50,
          51,
          52,
          53,
          54,
          55,
          56,
          57,
          58,
          59,
          60,
          61,
          62,
          63,
          64,
          65,
          66,
          67,
          68,
          69,
          70,
          71,
          72,
          73,
          74,
          75,
          76,
          77,
          78,
          79,
          80,
          81,
          82,
          83,
          84,
          85,
          86,
          87,
          88,
          89,
          90,
          91,
          92,
          93,
          94,
          95,
          96,
          97,
          98,
          99
         ],
         "xaxis": "x2",
         "y": [
          "",
          -1.5702436795192924,
          -2.4683424271877668,
          "",
          -1.1504401335149452,
          "",
          -0.2285887468554908,
          "",
          "",
          -2.4435844248328644,
          -0.031073190687366747,
          -1.4813744009025351,
          "",
          "",
          -1.1283529724823809,
          "",
          "",
          -0.6589290405443049,
          "",
          -1.2822234004237756,
          -0.21521973811254042,
          -0.8022110012466237,
          -0.3776936157288196,
          "",
          -0.12469511855402307,
          -0.6228090383049113,
          "",
          "",
          "",
          "",
          -0.412425717534605,
          -0.4085657867981921,
          "",
          "",
          -0.7596273897451686,
          -1.9112880733120943,
          "",
          "",
          -1.630994572390348,
          "",
          -1.7395077338025626,
          -1.9115047727677341,
          "",
          "",
          "",
          "",
          "",
          -2.2194787826407847,
          -1.8218684870367428,
          "",
          "",
          "",
          -0.36515253864182573,
          "",
          "",
          "",
          -0.3029290777649485,
          -2.441363275350702,
          -0.48201003157239336,
          "",
          "",
          "",
          -0.7576572442512285,
          -0.8202422399504288,
          -1.1331076497279182,
          "",
          "",
          -0.5072291913060577,
          "",
          -1.5165895023057292,
          -0.7652800881423951,
          -3.4417371889660533,
          "",
          -3.1928842705199068,
          -0.8169927310249353,
          "",
          -1.3559212807879775,
          "",
          "",
          "",
          "",
          "",
          -0.5840689313797272,
          -1.9194182355845197,
          "",
          -0.4469093689608381,
          "",
          -1.1070172761931523,
          "",
          -1.8974466715080334,
          "",
          -0.42362242073343936,
          "",
          -0.4240517486909162,
          -1.2112283489861175,
          "",
          -0.7858131974606599,
          -3.757214057125563,
          -2.661935368595982,
          ""
         ],
         "yaxis": "y2"
        }
       ],
       "layout": {
        "hovermode": "x",
        "legend": {
         "bgcolor": "#F5F6F9",
         "font": {
          "color": "#4D5663"
         }
        },
        "paper_bgcolor": "#F5F6F9",
        "plot_bgcolor": "#F5F6F9",
        "template": {
         "data": {
          "bar": [
           {
            "error_x": {
             "color": "#2a3f5f"
            },
            "error_y": {
             "color": "#2a3f5f"
            },
            "marker": {
             "line": {
              "color": "#E5ECF6",
              "width": 0.5
             },
             "pattern": {
              "fillmode": "overlay",
              "size": 10,
              "solidity": 0.2
             }
            },
            "type": "bar"
           }
          ],
          "barpolar": [
           {
            "marker": {
             "line": {
              "color": "#E5ECF6",
              "width": 0.5
             },
             "pattern": {
              "fillmode": "overlay",
              "size": 10,
              "solidity": 0.2
             }
            },
            "type": "barpolar"
           }
          ],
          "carpet": [
           {
            "aaxis": {
             "endlinecolor": "#2a3f5f",
             "gridcolor": "white",
             "linecolor": "white",
             "minorgridcolor": "white",
             "startlinecolor": "#2a3f5f"
            },
            "baxis": {
             "endlinecolor": "#2a3f5f",
             "gridcolor": "white",
             "linecolor": "white",
             "minorgridcolor": "white",
             "startlinecolor": "#2a3f5f"
            },
            "type": "carpet"
           }
          ],
          "choropleth": [
           {
            "colorbar": {
             "outlinewidth": 0,
             "ticks": ""
            },
            "type": "choropleth"
           }
          ],
          "contour": [
           {
            "colorbar": {
             "outlinewidth": 0,
             "ticks": ""
            },
            "colorscale": [
             [
              0,
              "#0d0887"
             ],
             [
              0.1111111111111111,
              "#46039f"
             ],
             [
              0.2222222222222222,
              "#7201a8"
             ],
             [
              0.3333333333333333,
              "#9c179e"
             ],
             [
              0.4444444444444444,
              "#bd3786"
             ],
             [
              0.5555555555555556,
              "#d8576b"
             ],
             [
              0.6666666666666666,
              "#ed7953"
             ],
             [
              0.7777777777777778,
              "#fb9f3a"
             ],
             [
              0.8888888888888888,
              "#fdca26"
             ],
             [
              1,
              "#f0f921"
             ]
            ],
            "type": "contour"
           }
          ],
          "contourcarpet": [
           {
            "colorbar": {
             "outlinewidth": 0,
             "ticks": ""
            },
            "type": "contourcarpet"
           }
          ],
          "heatmap": [
           {
            "colorbar": {
             "outlinewidth": 0,
             "ticks": ""
            },
            "colorscale": [
             [
              0,
              "#0d0887"
             ],
             [
              0.1111111111111111,
              "#46039f"
             ],
             [
              0.2222222222222222,
              "#7201a8"
             ],
             [
              0.3333333333333333,
              "#9c179e"
             ],
             [
              0.4444444444444444,
              "#bd3786"
             ],
             [
              0.5555555555555556,
              "#d8576b"
             ],
             [
              0.6666666666666666,
              "#ed7953"
             ],
             [
              0.7777777777777778,
              "#fb9f3a"
             ],
             [
              0.8888888888888888,
              "#fdca26"
             ],
             [
              1,
              "#f0f921"
             ]
            ],
            "type": "heatmap"
           }
          ],
          "heatmapgl": [
           {
            "colorbar": {
             "outlinewidth": 0,
             "ticks": ""
            },
            "colorscale": [
             [
              0,
              "#0d0887"
             ],
             [
              0.1111111111111111,
              "#46039f"
             ],
             [
              0.2222222222222222,
              "#7201a8"
             ],
             [
              0.3333333333333333,
              "#9c179e"
             ],
             [
              0.4444444444444444,
              "#bd3786"
             ],
             [
              0.5555555555555556,
              "#d8576b"
             ],
             [
              0.6666666666666666,
              "#ed7953"
             ],
             [
              0.7777777777777778,
              "#fb9f3a"
             ],
             [
              0.8888888888888888,
              "#fdca26"
             ],
             [
              1,
              "#f0f921"
             ]
            ],
            "type": "heatmapgl"
           }
          ],
          "histogram": [
           {
            "marker": {
             "pattern": {
              "fillmode": "overlay",
              "size": 10,
              "solidity": 0.2
             }
            },
            "type": "histogram"
           }
          ],
          "histogram2d": [
           {
            "colorbar": {
             "outlinewidth": 0,
             "ticks": ""
            },
            "colorscale": [
             [
              0,
              "#0d0887"
             ],
             [
              0.1111111111111111,
              "#46039f"
             ],
             [
              0.2222222222222222,
              "#7201a8"
             ],
             [
              0.3333333333333333,
              "#9c179e"
             ],
             [
              0.4444444444444444,
              "#bd3786"
             ],
             [
              0.5555555555555556,
              "#d8576b"
             ],
             [
              0.6666666666666666,
              "#ed7953"
             ],
             [
              0.7777777777777778,
              "#fb9f3a"
             ],
             [
              0.8888888888888888,
              "#fdca26"
             ],
             [
              1,
              "#f0f921"
             ]
            ],
            "type": "histogram2d"
           }
          ],
          "histogram2dcontour": [
           {
            "colorbar": {
             "outlinewidth": 0,
             "ticks": ""
            },
            "colorscale": [
             [
              0,
              "#0d0887"
             ],
             [
              0.1111111111111111,
              "#46039f"
             ],
             [
              0.2222222222222222,
              "#7201a8"
             ],
             [
              0.3333333333333333,
              "#9c179e"
             ],
             [
              0.4444444444444444,
              "#bd3786"
             ],
             [
              0.5555555555555556,
              "#d8576b"
             ],
             [
              0.6666666666666666,
              "#ed7953"
             ],
             [
              0.7777777777777778,
              "#fb9f3a"
             ],
             [
              0.8888888888888888,
              "#fdca26"
             ],
             [
              1,
              "#f0f921"
             ]
            ],
            "type": "histogram2dcontour"
           }
          ],
          "mesh3d": [
           {
            "colorbar": {
             "outlinewidth": 0,
             "ticks": ""
            },
            "type": "mesh3d"
           }
          ],
          "parcoords": [
           {
            "line": {
             "colorbar": {
              "outlinewidth": 0,
              "ticks": ""
             }
            },
            "type": "parcoords"
           }
          ],
          "pie": [
           {
            "automargin": true,
            "type": "pie"
           }
          ],
          "scatter": [
           {
            "fillpattern": {
             "fillmode": "overlay",
             "size": 10,
             "solidity": 0.2
            },
            "type": "scatter"
           }
          ],
          "scatter3d": [
           {
            "line": {
             "colorbar": {
              "outlinewidth": 0,
              "ticks": ""
             }
            },
            "marker": {
             "colorbar": {
              "outlinewidth": 0,
              "ticks": ""
             }
            },
            "type": "scatter3d"
           }
          ],
          "scattercarpet": [
           {
            "marker": {
             "colorbar": {
              "outlinewidth": 0,
              "ticks": ""
             }
            },
            "type": "scattercarpet"
           }
          ],
          "scattergeo": [
           {
            "marker": {
             "colorbar": {
              "outlinewidth": 0,
              "ticks": ""
             }
            },
            "type": "scattergeo"
           }
          ],
          "scattergl": [
           {
            "marker": {
             "colorbar": {
              "outlinewidth": 0,
              "ticks": ""
             }
            },
            "type": "scattergl"
           }
          ],
          "scattermapbox": [
           {
            "marker": {
             "colorbar": {
              "outlinewidth": 0,
              "ticks": ""
             }
            },
            "type": "scattermapbox"
           }
          ],
          "scatterpolar": [
           {
            "marker": {
             "colorbar": {
              "outlinewidth": 0,
              "ticks": ""
             }
            },
            "type": "scatterpolar"
           }
          ],
          "scatterpolargl": [
           {
            "marker": {
             "colorbar": {
              "outlinewidth": 0,
              "ticks": ""
             }
            },
            "type": "scatterpolargl"
           }
          ],
          "scatterternary": [
           {
            "marker": {
             "colorbar": {
              "outlinewidth": 0,
              "ticks": ""
             }
            },
            "type": "scatterternary"
           }
          ],
          "surface": [
           {
            "colorbar": {
             "outlinewidth": 0,
             "ticks": ""
            },
            "colorscale": [
             [
              0,
              "#0d0887"
             ],
             [
              0.1111111111111111,
              "#46039f"
             ],
             [
              0.2222222222222222,
              "#7201a8"
             ],
             [
              0.3333333333333333,
              "#9c179e"
             ],
             [
              0.4444444444444444,
              "#bd3786"
             ],
             [
              0.5555555555555556,
              "#d8576b"
             ],
             [
              0.6666666666666666,
              "#ed7953"
             ],
             [
              0.7777777777777778,
              "#fb9f3a"
             ],
             [
              0.8888888888888888,
              "#fdca26"
             ],
             [
              1,
              "#f0f921"
             ]
            ],
            "type": "surface"
           }
          ],
          "table": [
           {
            "cells": {
             "fill": {
              "color": "#EBF0F8"
             },
             "line": {
              "color": "white"
             }
            },
            "header": {
             "fill": {
              "color": "#C8D4E3"
             },
             "line": {
              "color": "white"
             }
            },
            "type": "table"
           }
          ]
         },
         "layout": {
          "annotationdefaults": {
           "arrowcolor": "#2a3f5f",
           "arrowhead": 0,
           "arrowwidth": 1
          },
          "autotypenumbers": "strict",
          "coloraxis": {
           "colorbar": {
            "outlinewidth": 0,
            "ticks": ""
           }
          },
          "colorscale": {
           "diverging": [
            [
             0,
             "#8e0152"
            ],
            [
             0.1,
             "#c51b7d"
            ],
            [
             0.2,
             "#de77ae"
            ],
            [
             0.3,
             "#f1b6da"
            ],
            [
             0.4,
             "#fde0ef"
            ],
            [
             0.5,
             "#f7f7f7"
            ],
            [
             0.6,
             "#e6f5d0"
            ],
            [
             0.7,
             "#b8e186"
            ],
            [
             0.8,
             "#7fbc41"
            ],
            [
             0.9,
             "#4d9221"
            ],
            [
             1,
             "#276419"
            ]
           ],
           "sequential": [
            [
             0,
             "#0d0887"
            ],
            [
             0.1111111111111111,
             "#46039f"
            ],
            [
             0.2222222222222222,
             "#7201a8"
            ],
            [
             0.3333333333333333,
             "#9c179e"
            ],
            [
             0.4444444444444444,
             "#bd3786"
            ],
            [
             0.5555555555555556,
             "#d8576b"
            ],
            [
             0.6666666666666666,
             "#ed7953"
            ],
            [
             0.7777777777777778,
             "#fb9f3a"
            ],
            [
             0.8888888888888888,
             "#fdca26"
            ],
            [
             1,
             "#f0f921"
            ]
           ],
           "sequentialminus": [
            [
             0,
             "#0d0887"
            ],
            [
             0.1111111111111111,
             "#46039f"
            ],
            [
             0.2222222222222222,
             "#7201a8"
            ],
            [
             0.3333333333333333,
             "#9c179e"
            ],
            [
             0.4444444444444444,
             "#bd3786"
            ],
            [
             0.5555555555555556,
             "#d8576b"
            ],
            [
             0.6666666666666666,
             "#ed7953"
            ],
            [
             0.7777777777777778,
             "#fb9f3a"
            ],
            [
             0.8888888888888888,
             "#fdca26"
            ],
            [
             1,
             "#f0f921"
            ]
           ]
          },
          "colorway": [
           "#636efa",
           "#EF553B",
           "#00cc96",
           "#ab63fa",
           "#FFA15A",
           "#19d3f3",
           "#FF6692",
           "#B6E880",
           "#FF97FF",
           "#FECB52"
          ],
          "font": {
           "color": "#2a3f5f"
          },
          "geo": {
           "bgcolor": "white",
           "lakecolor": "white",
           "landcolor": "#E5ECF6",
           "showlakes": true,
           "showland": true,
           "subunitcolor": "white"
          },
          "hoverlabel": {
           "align": "left"
          },
          "hovermode": "closest",
          "mapbox": {
           "style": "light"
          },
          "paper_bgcolor": "white",
          "plot_bgcolor": "#E5ECF6",
          "polar": {
           "angularaxis": {
            "gridcolor": "white",
            "linecolor": "white",
            "ticks": ""
           },
           "bgcolor": "#E5ECF6",
           "radialaxis": {
            "gridcolor": "white",
            "linecolor": "white",
            "ticks": ""
           }
          },
          "scene": {
           "xaxis": {
            "backgroundcolor": "#E5ECF6",
            "gridcolor": "white",
            "gridwidth": 2,
            "linecolor": "white",
            "showbackground": true,
            "ticks": "",
            "zerolinecolor": "white"
           },
           "yaxis": {
            "backgroundcolor": "#E5ECF6",
            "gridcolor": "white",
            "gridwidth": 2,
            "linecolor": "white",
            "showbackground": true,
            "ticks": "",
            "zerolinecolor": "white"
           },
           "zaxis": {
            "backgroundcolor": "#E5ECF6",
            "gridcolor": "white",
            "gridwidth": 2,
            "linecolor": "white",
            "showbackground": true,
            "ticks": "",
            "zerolinecolor": "white"
           }
          },
          "shapedefaults": {
           "line": {
            "color": "#2a3f5f"
           }
          },
          "ternary": {
           "aaxis": {
            "gridcolor": "white",
            "linecolor": "white",
            "ticks": ""
           },
           "baxis": {
            "gridcolor": "white",
            "linecolor": "white",
            "ticks": ""
           },
           "bgcolor": "#E5ECF6",
           "caxis": {
            "gridcolor": "white",
            "linecolor": "white",
            "ticks": ""
           }
          },
          "title": {
           "x": 0.05
          },
          "xaxis": {
           "automargin": true,
           "gridcolor": "white",
           "linecolor": "white",
           "ticks": "",
           "title": {
            "standoff": 15
           },
           "zerolinecolor": "white",
           "zerolinewidth": 2
          },
          "yaxis": {
           "automargin": true,
           "gridcolor": "white",
           "linecolor": "white",
           "ticks": "",
           "title": {
            "standoff": 15
           },
           "zerolinecolor": "white",
           "zerolinewidth": 2
          }
         }
        },
        "title": {
         "font": {
          "color": "#4D5663"
         }
        },
        "xaxis": {
         "gridcolor": "#E1E5ED",
         "showgrid": true,
         "tickfont": {
          "color": "#4D5663"
         },
         "title": {
          "font": {
           "color": "#4D5663"
          },
          "text": ""
         },
         "zerolinecolor": "#E1E5ED"
        },
        "xaxis2": {
         "anchor": "y2",
         "gridcolor": "#E1E5ED",
         "showgrid": true,
         "showticklabels": false,
         "tickfont": {
          "color": "#4D5663"
         },
         "title": {
          "font": {
           "color": "#4D5663"
          },
          "text": ""
         },
         "zerolinecolor": "#E1E5ED"
        },
        "yaxis": {
         "domain": [
          0.3,
          1
         ],
         "gridcolor": "#E1E5ED",
         "showgrid": true,
         "tickfont": {
          "color": "#4D5663"
         },
         "title": {
          "font": {
           "color": "#4D5663"
          },
          "text": ""
         },
         "zerolinecolor": "#E1E5ED"
        },
        "yaxis2": {
         "domain": [
          0,
          0.25
         ],
         "gridcolor": "#E1E5ED",
         "showgrid": true,
         "tickfont": {
          "color": "#4D5663"
         },
         "title": {
          "font": {
           "color": "#4D5663"
          },
          "text": "Spread"
         },
         "zerolinecolor": "#E1E5ED"
        }
       }
      },
      "text/html": [
       "<div>                            <div id=\"a6e8cc1b-7d8d-40fe-83cc-2d84089d1f59\" class=\"plotly-graph-div\" style=\"height:525px; width:100%;\"></div>            <script type=\"text/javascript\">                require([\"plotly\"], function(Plotly) {                    window.PLOTLYENV=window.PLOTLYENV || {};\n",
       "                    window.PLOTLYENV.BASE_URL='https://plot.ly';                                    if (document.getElementById(\"a6e8cc1b-7d8d-40fe-83cc-2d84089d1f59\")) {                    Plotly.newPlot(                        \"a6e8cc1b-7d8d-40fe-83cc-2d84089d1f59\",                        [{\"line\":{\"color\":\"rgba(255, 153, 51, 1.0)\",\"dash\":\"solid\",\"shape\":\"linear\",\"width\":1.3},\"mode\":\"lines\",\"name\":\"A\",\"text\":\"\",\"x\":[0,1,2,3,4,5,6,7,8,9,10,11,12,13,14,15,16,17,18,19,20,21,22,23,24,25,26,27,28,29,30,31,32,33,34,35,36,37,38,39,40,41,42,43,44,45,46,47,48,49,50,51,52,53,54,55,56,57,58,59,60,61,62,63,64,65,66,67,68,69,70,71,72,73,74,75,76,77,78,79,80,81,82,83,84,85,86,87,88,89,90,91,92,93,94,95,96,97,98,99],\"y\":[0.08548394392684941,-0.5893916978546746,-0.8419665667833715,1.0653294037412206,-0.30404866925348994,0.3220582584509832,1.1049131997268444,0.32518021155482785,2.7803713071535303,-0.6512650673063205,0.49199825674186487,-0.08508963549565635,0.5726425435043762,2.1386501290862214,-0.9950235584665907,2.0052327231453364,1.9086945678707794,-0.4672730441548413,0.09809372512041015,0.20776175313101258,-0.13008291273505135,-0.213716607920109,-0.752971396659258,-0.8856345833042678,-0.21828897744131906,-1.5221842260642924,1.7597176132531838,0.368692867252797,0.012002423023914443,-0.3300847199674508,-1.174027326022618,0.27669897261410636,0.9022235975340244,0.1237670623846236,0.27474926924742754,-1.2318138433306547,-0.9291362405434669,0.2581841484670674,-0.35557870411472275,0.31329107322223737,-0.10998911435349933,-0.6056942752510703,0.5496119520128204,0.7217212678834122,1.1080438778814063,1.194652068448999,1.9452460051287748,-1.0096690093450156,0.06886112821121931,-0.22386569878334348,0.3722266141668129,2.3949425017894628,-1.5415993206560856,0.31051517323586425,-0.9007115672683569,-0.37250269015414444,0.12892868685879072,-2.093099841220505,0.19281052497404821,-0.14026793411748828,0.7202355995317967,1.9985914284907331,-0.024224308482236806,0.01896759967272472,-1.5884383627946148,0.14382833009913976,0.8208787993291673,0.11647492827936208,0.8148442245171553,-0.9944542791659978,-1.5826860570144032,-1.0027608392246807,0.6405945754015209,-1.2307004748798553,-0.9114975696364512,1.37764411838987,0.5203887980053448,-0.6308501093425088,-0.04108239600910254,-0.14803345522911654,0.27240046321175776,-0.0984268942816003,-0.7917134062519374,-0.6755333627675957,0.5021187599504238,-1.489214963700235,0.08552835376163205,-1.8220289030449843,1.3610498831089615,-1.5377662111236543,0.4413929766677556,1.1406361331627282,1.7219831491686641,-0.154773148802657,-0.2652967487886054,1.0404378705960964,-0.9175907022603449,-0.8622776172416078,-1.3999208590790715,0.09066006069192459],\"type\":\"scatter\"},{\"line\":{\"color\":\"rgba(55, 128, 191, 1.0)\",\"dash\":\"solid\",\"shape\":\"linear\",\"width\":1.3},\"mode\":\"lines\",\"name\":\"B\",\"text\":\"\",\"x\":[0,1,2,3,4,5,6,7,8,9,10,11,12,13,14,15,16,17,18,19,20,21,22,23,24,25,26,27,28,29,30,31,32,33,34,35,36,37,38,39,40,41,42,43,44,45,46,47,48,49,50,51,52,53,54,55,56,57,58,59,60,61,62,63,64,65,66,67,68,69,70,71,72,73,74,75,76,77,78,79,80,81,82,83,84,85,86,87,88,89,90,91,92,93,94,95,96,97,98,99],\"y\":[-0.1624050135760886,0.980851981664618,1.6263758604043954,0.6670449829300747,0.8463914642614553,-0.5557547356556708,1.3335019465823352,-0.30360500311515876,-0.5572485277306021,1.7923193575265437,0.5230714474292316,1.3962847654068788,0.5454202975825965,0.8220066168038932,0.1333294140157902,-0.4580923125178034,-1.8702657688987048,0.19165599638946365,-1.5441476695946914,1.489985153554788,0.08513682537748908,0.5884943933265148,-0.37527778093043845,-1.2420986135906638,-0.09359385888729599,-0.8993751877593811,0.9038336626818552,0.19897941905376915,-0.3499682664519889,-0.813255283672789,-0.761601608488013,0.6852647594122985,0.7444146965136054,-0.10824902571549988,1.0343766589925962,0.6794742299814396,-1.377108827556193,-0.9198084554974598,1.2754158682756254,-0.6805171783915703,1.6295186194490634,1.3058104975166638,-0.008015691590719798,0.37945370182803906,-0.9344148723391815,0.33642615175310187,-1.117113472484452,1.2098097732957693,1.890729615247962,-0.3020317509780135,-0.795391429211958,0.5145436162551661,-1.17644678201426,0.011191592090796853,-2.664750053974455,-0.7052058747591703,0.4318577646237392,0.3482634341301973,0.6748205565464416,-0.34169023793862807,-0.07989141803255546,-0.1006525565267022,0.7334329357689917,0.8392098396231535,-0.4553307130666966,-0.7064260571420193,0.15230984770640202,0.6237041195854198,0.5318919831274378,0.5221352231397314,-0.8174059688720081,2.4389763497413726,-0.1242766171971954,1.9621837956400514,-0.09450483861151593,-0.27813013860092584,1.8763100787933222,-1.149197127466469,-0.33071258304144435,-0.903204616889579,-0.38847979647058817,-1.1896469966014003,-0.20764447487221024,1.243884872816924,-0.5090636362684436,-1.0423055947393969,-0.06350848782566847,-0.715011626851832,-0.004311390566099713,0.35968046038437906,0.3482155214518224,1.5642585538961675,0.05372460015033393,0.26927859988825925,0.9459316001975121,-1.3231038977865164,-0.13177750479968495,2.894936439883955,1.2620145095169104,-2.673128848304644],\"type\":\"scatter\"},{\"connectgaps\":false,\"fill\":\"tozeroy\",\"line\":{\"color\":\"green\",\"dash\":\"solid\",\"shape\":\"linear\",\"width\":0.5},\"mode\":\"lines\",\"name\":\"Spread\",\"showlegend\":false,\"x\":[0,1,2,3,4,5,6,7,8,9,10,11,12,13,14,15,16,17,18,19,20,21,22,23,24,25,26,27,28,29,30,31,32,33,34,35,36,37,38,39,40,41,42,43,44,45,46,47,48,49,50,51,52,53,54,55,56,57,58,59,60,61,62,63,64,65,66,67,68,69,70,71,72,73,74,75,76,77,78,79,80,81,82,83,84,85,86,87,88,89,90,91,92,93,94,95,96,97,98,99],\"xaxis\":\"x2\",\"y\":[0.24788895750293802,\"\",\"\",0.3982844208111459,\"\",0.8778129941066539,\"\",0.6287852146699866,3.3376198348841326,\"\",\"\",\"\",0.027222245921779686,1.3166435122823281,\"\",2.4633250356631398,3.778960336769484,\"\",1.6422413947151016,\"\",\"\",\"\",\"\",0.35646403028639595,\"\",\"\",0.8558839505713286,0.16971344819902784,0.3619706894759034,0.4831705637053382,\"\",\"\",0.157808901020419,0.23201608810012347,\"\",\"\",0.447972587012726,1.1779926039645272,\"\",0.9938082516138077,\"\",\"\",0.5576276436035402,0.3422675660553731,2.0424587502205878,0.8582259166958971,3.062359477613227,\"\",\"\",0.07816605219467002,1.1676180433787708,1.8803988855342966,\"\",0.2993235811450674,1.7640384867060979,0.33270318460502585,\"\",\"\",\"\",0.2014223038211398,0.8001270175643522,2.099243985017435,\"\",\"\",\"\",0.8502543872411591,0.6685689516227653,\"\",0.28295224138971753,\"\",\"\",\"\",0.7648711925987163,\"\",\"\",1.6557742569907958,\"\",0.5183470181239601,0.28963018703234183,0.7551711616604624,0.660880259682346,1.0912201023198,\"\",\"\",1.0111823962188673,\"\",0.14903684158730052,\"\",1.365361273675061,\"\",0.09317745521593324,\"\",1.6682585490183302,\"\",\"\",2.3635417683826128,\"\",\"\",\"\",2.7637889089965686],\"yaxis\":\"y2\",\"type\":\"scatter\"},{\"connectgaps\":false,\"fill\":\"tozeroy\",\"line\":{\"color\":\"red\",\"dash\":\"solid\",\"shape\":\"linear\",\"width\":0.5},\"mode\":\"lines\",\"name\":\"Spread\",\"showlegend\":false,\"x\":[0,1,2,3,4,5,6,7,8,9,10,11,12,13,14,15,16,17,18,19,20,21,22,23,24,25,26,27,28,29,30,31,32,33,34,35,36,37,38,39,40,41,42,43,44,45,46,47,48,49,50,51,52,53,54,55,56,57,58,59,60,61,62,63,64,65,66,67,68,69,70,71,72,73,74,75,76,77,78,79,80,81,82,83,84,85,86,87,88,89,90,91,92,93,94,95,96,97,98,99],\"xaxis\":\"x2\",\"y\":[\"\",-1.5702436795192924,-2.4683424271877668,\"\",-1.1504401335149452,\"\",-0.2285887468554908,\"\",\"\",-2.4435844248328644,-0.031073190687366747,-1.4813744009025351,\"\",\"\",-1.1283529724823809,\"\",\"\",-0.6589290405443049,\"\",-1.2822234004237756,-0.21521973811254042,-0.8022110012466237,-0.3776936157288196,\"\",-0.12469511855402307,-0.6228090383049113,\"\",\"\",\"\",\"\",-0.412425717534605,-0.4085657867981921,\"\",\"\",-0.7596273897451686,-1.9112880733120943,\"\",\"\",-1.630994572390348,\"\",-1.7395077338025626,-1.9115047727677341,\"\",\"\",\"\",\"\",\"\",-2.2194787826407847,-1.8218684870367428,\"\",\"\",\"\",-0.36515253864182573,\"\",\"\",\"\",-0.3029290777649485,-2.441363275350702,-0.48201003157239336,\"\",\"\",\"\",-0.7576572442512285,-0.8202422399504288,-1.1331076497279182,\"\",\"\",-0.5072291913060577,\"\",-1.5165895023057292,-0.7652800881423951,-3.4417371889660533,\"\",-3.1928842705199068,-0.8169927310249353,\"\",-1.3559212807879775,\"\",\"\",\"\",\"\",\"\",-0.5840689313797272,-1.9194182355845197,\"\",-0.4469093689608381,\"\",-1.1070172761931523,\"\",-1.8974466715080334,\"\",-0.42362242073343936,\"\",-0.4240517486909162,-1.2112283489861175,\"\",-0.7858131974606599,-3.757214057125563,-2.661935368595982,\"\"],\"yaxis\":\"y2\",\"type\":\"scatter\"}],                        {\"hovermode\":\"x\",\"legend\":{\"bgcolor\":\"#F5F6F9\",\"font\":{\"color\":\"#4D5663\"}},\"paper_bgcolor\":\"#F5F6F9\",\"plot_bgcolor\":\"#F5F6F9\",\"template\":{\"data\":{\"barpolar\":[{\"marker\":{\"line\":{\"color\":\"#E5ECF6\",\"width\":0.5},\"pattern\":{\"fillmode\":\"overlay\",\"size\":10,\"solidity\":0.2}},\"type\":\"barpolar\"}],\"bar\":[{\"error_x\":{\"color\":\"#2a3f5f\"},\"error_y\":{\"color\":\"#2a3f5f\"},\"marker\":{\"line\":{\"color\":\"#E5ECF6\",\"width\":0.5},\"pattern\":{\"fillmode\":\"overlay\",\"size\":10,\"solidity\":0.2}},\"type\":\"bar\"}],\"carpet\":[{\"aaxis\":{\"endlinecolor\":\"#2a3f5f\",\"gridcolor\":\"white\",\"linecolor\":\"white\",\"minorgridcolor\":\"white\",\"startlinecolor\":\"#2a3f5f\"},\"baxis\":{\"endlinecolor\":\"#2a3f5f\",\"gridcolor\":\"white\",\"linecolor\":\"white\",\"minorgridcolor\":\"white\",\"startlinecolor\":\"#2a3f5f\"},\"type\":\"carpet\"}],\"choropleth\":[{\"colorbar\":{\"outlinewidth\":0,\"ticks\":\"\"},\"type\":\"choropleth\"}],\"contourcarpet\":[{\"colorbar\":{\"outlinewidth\":0,\"ticks\":\"\"},\"type\":\"contourcarpet\"}],\"contour\":[{\"colorbar\":{\"outlinewidth\":0,\"ticks\":\"\"},\"colorscale\":[[0.0,\"#0d0887\"],[0.1111111111111111,\"#46039f\"],[0.2222222222222222,\"#7201a8\"],[0.3333333333333333,\"#9c179e\"],[0.4444444444444444,\"#bd3786\"],[0.5555555555555556,\"#d8576b\"],[0.6666666666666666,\"#ed7953\"],[0.7777777777777778,\"#fb9f3a\"],[0.8888888888888888,\"#fdca26\"],[1.0,\"#f0f921\"]],\"type\":\"contour\"}],\"heatmapgl\":[{\"colorbar\":{\"outlinewidth\":0,\"ticks\":\"\"},\"colorscale\":[[0.0,\"#0d0887\"],[0.1111111111111111,\"#46039f\"],[0.2222222222222222,\"#7201a8\"],[0.3333333333333333,\"#9c179e\"],[0.4444444444444444,\"#bd3786\"],[0.5555555555555556,\"#d8576b\"],[0.6666666666666666,\"#ed7953\"],[0.7777777777777778,\"#fb9f3a\"],[0.8888888888888888,\"#fdca26\"],[1.0,\"#f0f921\"]],\"type\":\"heatmapgl\"}],\"heatmap\":[{\"colorbar\":{\"outlinewidth\":0,\"ticks\":\"\"},\"colorscale\":[[0.0,\"#0d0887\"],[0.1111111111111111,\"#46039f\"],[0.2222222222222222,\"#7201a8\"],[0.3333333333333333,\"#9c179e\"],[0.4444444444444444,\"#bd3786\"],[0.5555555555555556,\"#d8576b\"],[0.6666666666666666,\"#ed7953\"],[0.7777777777777778,\"#fb9f3a\"],[0.8888888888888888,\"#fdca26\"],[1.0,\"#f0f921\"]],\"type\":\"heatmap\"}],\"histogram2dcontour\":[{\"colorbar\":{\"outlinewidth\":0,\"ticks\":\"\"},\"colorscale\":[[0.0,\"#0d0887\"],[0.1111111111111111,\"#46039f\"],[0.2222222222222222,\"#7201a8\"],[0.3333333333333333,\"#9c179e\"],[0.4444444444444444,\"#bd3786\"],[0.5555555555555556,\"#d8576b\"],[0.6666666666666666,\"#ed7953\"],[0.7777777777777778,\"#fb9f3a\"],[0.8888888888888888,\"#fdca26\"],[1.0,\"#f0f921\"]],\"type\":\"histogram2dcontour\"}],\"histogram2d\":[{\"colorbar\":{\"outlinewidth\":0,\"ticks\":\"\"},\"colorscale\":[[0.0,\"#0d0887\"],[0.1111111111111111,\"#46039f\"],[0.2222222222222222,\"#7201a8\"],[0.3333333333333333,\"#9c179e\"],[0.4444444444444444,\"#bd3786\"],[0.5555555555555556,\"#d8576b\"],[0.6666666666666666,\"#ed7953\"],[0.7777777777777778,\"#fb9f3a\"],[0.8888888888888888,\"#fdca26\"],[1.0,\"#f0f921\"]],\"type\":\"histogram2d\"}],\"histogram\":[{\"marker\":{\"pattern\":{\"fillmode\":\"overlay\",\"size\":10,\"solidity\":0.2}},\"type\":\"histogram\"}],\"mesh3d\":[{\"colorbar\":{\"outlinewidth\":0,\"ticks\":\"\"},\"type\":\"mesh3d\"}],\"parcoords\":[{\"line\":{\"colorbar\":{\"outlinewidth\":0,\"ticks\":\"\"}},\"type\":\"parcoords\"}],\"pie\":[{\"automargin\":true,\"type\":\"pie\"}],\"scatter3d\":[{\"line\":{\"colorbar\":{\"outlinewidth\":0,\"ticks\":\"\"}},\"marker\":{\"colorbar\":{\"outlinewidth\":0,\"ticks\":\"\"}},\"type\":\"scatter3d\"}],\"scattercarpet\":[{\"marker\":{\"colorbar\":{\"outlinewidth\":0,\"ticks\":\"\"}},\"type\":\"scattercarpet\"}],\"scattergeo\":[{\"marker\":{\"colorbar\":{\"outlinewidth\":0,\"ticks\":\"\"}},\"type\":\"scattergeo\"}],\"scattergl\":[{\"marker\":{\"colorbar\":{\"outlinewidth\":0,\"ticks\":\"\"}},\"type\":\"scattergl\"}],\"scattermapbox\":[{\"marker\":{\"colorbar\":{\"outlinewidth\":0,\"ticks\":\"\"}},\"type\":\"scattermapbox\"}],\"scatterpolargl\":[{\"marker\":{\"colorbar\":{\"outlinewidth\":0,\"ticks\":\"\"}},\"type\":\"scatterpolargl\"}],\"scatterpolar\":[{\"marker\":{\"colorbar\":{\"outlinewidth\":0,\"ticks\":\"\"}},\"type\":\"scatterpolar\"}],\"scatter\":[{\"fillpattern\":{\"fillmode\":\"overlay\",\"size\":10,\"solidity\":0.2},\"type\":\"scatter\"}],\"scatterternary\":[{\"marker\":{\"colorbar\":{\"outlinewidth\":0,\"ticks\":\"\"}},\"type\":\"scatterternary\"}],\"surface\":[{\"colorbar\":{\"outlinewidth\":0,\"ticks\":\"\"},\"colorscale\":[[0.0,\"#0d0887\"],[0.1111111111111111,\"#46039f\"],[0.2222222222222222,\"#7201a8\"],[0.3333333333333333,\"#9c179e\"],[0.4444444444444444,\"#bd3786\"],[0.5555555555555556,\"#d8576b\"],[0.6666666666666666,\"#ed7953\"],[0.7777777777777778,\"#fb9f3a\"],[0.8888888888888888,\"#fdca26\"],[1.0,\"#f0f921\"]],\"type\":\"surface\"}],\"table\":[{\"cells\":{\"fill\":{\"color\":\"#EBF0F8\"},\"line\":{\"color\":\"white\"}},\"header\":{\"fill\":{\"color\":\"#C8D4E3\"},\"line\":{\"color\":\"white\"}},\"type\":\"table\"}]},\"layout\":{\"annotationdefaults\":{\"arrowcolor\":\"#2a3f5f\",\"arrowhead\":0,\"arrowwidth\":1},\"autotypenumbers\":\"strict\",\"coloraxis\":{\"colorbar\":{\"outlinewidth\":0,\"ticks\":\"\"}},\"colorscale\":{\"diverging\":[[0,\"#8e0152\"],[0.1,\"#c51b7d\"],[0.2,\"#de77ae\"],[0.3,\"#f1b6da\"],[0.4,\"#fde0ef\"],[0.5,\"#f7f7f7\"],[0.6,\"#e6f5d0\"],[0.7,\"#b8e186\"],[0.8,\"#7fbc41\"],[0.9,\"#4d9221\"],[1,\"#276419\"]],\"sequential\":[[0.0,\"#0d0887\"],[0.1111111111111111,\"#46039f\"],[0.2222222222222222,\"#7201a8\"],[0.3333333333333333,\"#9c179e\"],[0.4444444444444444,\"#bd3786\"],[0.5555555555555556,\"#d8576b\"],[0.6666666666666666,\"#ed7953\"],[0.7777777777777778,\"#fb9f3a\"],[0.8888888888888888,\"#fdca26\"],[1.0,\"#f0f921\"]],\"sequentialminus\":[[0.0,\"#0d0887\"],[0.1111111111111111,\"#46039f\"],[0.2222222222222222,\"#7201a8\"],[0.3333333333333333,\"#9c179e\"],[0.4444444444444444,\"#bd3786\"],[0.5555555555555556,\"#d8576b\"],[0.6666666666666666,\"#ed7953\"],[0.7777777777777778,\"#fb9f3a\"],[0.8888888888888888,\"#fdca26\"],[1.0,\"#f0f921\"]]},\"colorway\":[\"#636efa\",\"#EF553B\",\"#00cc96\",\"#ab63fa\",\"#FFA15A\",\"#19d3f3\",\"#FF6692\",\"#B6E880\",\"#FF97FF\",\"#FECB52\"],\"font\":{\"color\":\"#2a3f5f\"},\"geo\":{\"bgcolor\":\"white\",\"lakecolor\":\"white\",\"landcolor\":\"#E5ECF6\",\"showlakes\":true,\"showland\":true,\"subunitcolor\":\"white\"},\"hoverlabel\":{\"align\":\"left\"},\"hovermode\":\"closest\",\"mapbox\":{\"style\":\"light\"},\"paper_bgcolor\":\"white\",\"plot_bgcolor\":\"#E5ECF6\",\"polar\":{\"angularaxis\":{\"gridcolor\":\"white\",\"linecolor\":\"white\",\"ticks\":\"\"},\"bgcolor\":\"#E5ECF6\",\"radialaxis\":{\"gridcolor\":\"white\",\"linecolor\":\"white\",\"ticks\":\"\"}},\"scene\":{\"xaxis\":{\"backgroundcolor\":\"#E5ECF6\",\"gridcolor\":\"white\",\"gridwidth\":2,\"linecolor\":\"white\",\"showbackground\":true,\"ticks\":\"\",\"zerolinecolor\":\"white\"},\"yaxis\":{\"backgroundcolor\":\"#E5ECF6\",\"gridcolor\":\"white\",\"gridwidth\":2,\"linecolor\":\"white\",\"showbackground\":true,\"ticks\":\"\",\"zerolinecolor\":\"white\"},\"zaxis\":{\"backgroundcolor\":\"#E5ECF6\",\"gridcolor\":\"white\",\"gridwidth\":2,\"linecolor\":\"white\",\"showbackground\":true,\"ticks\":\"\",\"zerolinecolor\":\"white\"}},\"shapedefaults\":{\"line\":{\"color\":\"#2a3f5f\"}},\"ternary\":{\"aaxis\":{\"gridcolor\":\"white\",\"linecolor\":\"white\",\"ticks\":\"\"},\"baxis\":{\"gridcolor\":\"white\",\"linecolor\":\"white\",\"ticks\":\"\"},\"bgcolor\":\"#E5ECF6\",\"caxis\":{\"gridcolor\":\"white\",\"linecolor\":\"white\",\"ticks\":\"\"}},\"title\":{\"x\":0.05},\"xaxis\":{\"automargin\":true,\"gridcolor\":\"white\",\"linecolor\":\"white\",\"ticks\":\"\",\"title\":{\"standoff\":15},\"zerolinecolor\":\"white\",\"zerolinewidth\":2},\"yaxis\":{\"automargin\":true,\"gridcolor\":\"white\",\"linecolor\":\"white\",\"ticks\":\"\",\"title\":{\"standoff\":15},\"zerolinecolor\":\"white\",\"zerolinewidth\":2}}},\"title\":{\"font\":{\"color\":\"#4D5663\"}},\"xaxis\":{\"gridcolor\":\"#E1E5ED\",\"showgrid\":true,\"tickfont\":{\"color\":\"#4D5663\"},\"title\":{\"font\":{\"color\":\"#4D5663\"},\"text\":\"\"},\"zerolinecolor\":\"#E1E5ED\"},\"yaxis\":{\"domain\":[0.3,1],\"gridcolor\":\"#E1E5ED\",\"showgrid\":true,\"tickfont\":{\"color\":\"#4D5663\"},\"title\":{\"font\":{\"color\":\"#4D5663\"},\"text\":\"\"},\"zerolinecolor\":\"#E1E5ED\"},\"yaxis2\":{\"domain\":[0,0.25],\"gridcolor\":\"#E1E5ED\",\"showgrid\":true,\"tickfont\":{\"color\":\"#4D5663\"},\"title\":{\"font\":{\"color\":\"#4D5663\"},\"text\":\"Spread\"},\"zerolinecolor\":\"#E1E5ED\"},\"xaxis2\":{\"anchor\":\"y2\",\"gridcolor\":\"#E1E5ED\",\"showgrid\":true,\"showticklabels\":false,\"tickfont\":{\"color\":\"#4D5663\"},\"title\":{\"font\":{\"color\":\"#4D5663\"},\"text\":\"\"},\"zerolinecolor\":\"#E1E5ED\"}},                        {\"showLink\": true, \"linkText\": \"Export to plot.ly\", \"plotlyServerURL\": \"https://plot.ly\", \"responsive\": true}                    ).then(function(){\n",
       "                            \n",
       "var gd = document.getElementById('a6e8cc1b-7d8d-40fe-83cc-2d84089d1f59');\n",
       "var x = new MutationObserver(function (mutations, observer) {{\n",
       "        var display = window.getComputedStyle(gd).display;\n",
       "        if (!display || display === 'none') {{\n",
       "            console.log([gd, 'removed!']);\n",
       "            Plotly.purge(gd);\n",
       "            observer.disconnect();\n",
       "        }}\n",
       "}});\n",
       "\n",
       "// Listen for the removal of the full notebook cells\n",
       "var notebookContainer = gd.closest('#notebook-container');\n",
       "if (notebookContainer) {{\n",
       "    x.observe(notebookContainer, {childList: true});\n",
       "}}\n",
       "\n",
       "// Listen for the clearing of the current output cell\n",
       "var outputEl = gd.closest('.output');\n",
       "if (outputEl) {{\n",
       "    x.observe(outputEl, {childList: true});\n",
       "}}\n",
       "\n",
       "                        })                };                });            </script>        </div>"
      ]
     },
     "metadata": {},
     "output_type": "display_data"
    }
   ],
   "source": [
    "df[['A','B']].iplot(kind='spread')"
   ]
  },
  {
   "cell_type": "code",
   "execution_count": 24,
   "metadata": {},
   "outputs": [
    {
     "data": {
      "application/vnd.plotly.v1+json": {
       "config": {
        "linkText": "Export to plot.ly",
        "plotlyServerURL": "https://plot.ly",
        "showLink": true
       },
       "data": [
        {
         "histfunc": "count",
         "histnorm": "",
         "marker": {
          "color": "rgba(255, 153, 51, 1.0)",
          "line": {
           "color": "#4D5663",
           "width": 1.3
          }
         },
         "name": "A",
         "nbinsx": 25,
         "opacity": 0.8,
         "orientation": "v",
         "type": "histogram",
         "x": [
          0.08548394392684941,
          -0.5893916978546746,
          -0.8419665667833715,
          1.0653294037412206,
          -0.30404866925348994,
          0.3220582584509832,
          1.1049131997268444,
          0.32518021155482785,
          2.7803713071535303,
          -0.6512650673063205,
          0.49199825674186487,
          -0.08508963549565635,
          0.5726425435043762,
          2.1386501290862214,
          -0.9950235584665907,
          2.0052327231453364,
          1.9086945678707794,
          -0.4672730441548413,
          0.09809372512041015,
          0.20776175313101258,
          -0.13008291273505135,
          -0.213716607920109,
          -0.752971396659258,
          -0.8856345833042678,
          -0.21828897744131906,
          -1.5221842260642924,
          1.7597176132531838,
          0.368692867252797,
          0.012002423023914443,
          -0.3300847199674508,
          -1.174027326022618,
          0.27669897261410636,
          0.9022235975340244,
          0.1237670623846236,
          0.27474926924742754,
          -1.2318138433306547,
          -0.9291362405434669,
          0.2581841484670674,
          -0.35557870411472275,
          0.31329107322223737,
          -0.10998911435349933,
          -0.6056942752510703,
          0.5496119520128204,
          0.7217212678834122,
          1.1080438778814063,
          1.194652068448999,
          1.9452460051287748,
          -1.0096690093450156,
          0.06886112821121931,
          -0.22386569878334348,
          0.3722266141668129,
          2.3949425017894628,
          -1.5415993206560856,
          0.31051517323586425,
          -0.9007115672683569,
          -0.37250269015414444,
          0.12892868685879072,
          -2.093099841220505,
          0.19281052497404821,
          -0.14026793411748828,
          0.7202355995317967,
          1.9985914284907331,
          -0.024224308482236806,
          0.01896759967272472,
          -1.5884383627946148,
          0.14382833009913976,
          0.8208787993291673,
          0.11647492827936208,
          0.8148442245171553,
          -0.9944542791659978,
          -1.5826860570144032,
          -1.0027608392246807,
          0.6405945754015209,
          -1.2307004748798553,
          -0.9114975696364512,
          1.37764411838987,
          0.5203887980053448,
          -0.6308501093425088,
          -0.04108239600910254,
          -0.14803345522911654,
          0.27240046321175776,
          -0.0984268942816003,
          -0.7917134062519374,
          -0.6755333627675957,
          0.5021187599504238,
          -1.489214963700235,
          0.08552835376163205,
          -1.8220289030449843,
          1.3610498831089615,
          -1.5377662111236543,
          0.4413929766677556,
          1.1406361331627282,
          1.7219831491686641,
          -0.154773148802657,
          -0.2652967487886054,
          1.0404378705960964,
          -0.9175907022603449,
          -0.8622776172416078,
          -1.3999208590790715,
          0.09066006069192459
         ]
        }
       ],
       "layout": {
        "barmode": "overlay",
        "legend": {
         "bgcolor": "#F5F6F9",
         "font": {
          "color": "#4D5663"
         }
        },
        "paper_bgcolor": "#F5F6F9",
        "plot_bgcolor": "#F5F6F9",
        "template": {
         "data": {
          "bar": [
           {
            "error_x": {
             "color": "#2a3f5f"
            },
            "error_y": {
             "color": "#2a3f5f"
            },
            "marker": {
             "line": {
              "color": "#E5ECF6",
              "width": 0.5
             },
             "pattern": {
              "fillmode": "overlay",
              "size": 10,
              "solidity": 0.2
             }
            },
            "type": "bar"
           }
          ],
          "barpolar": [
           {
            "marker": {
             "line": {
              "color": "#E5ECF6",
              "width": 0.5
             },
             "pattern": {
              "fillmode": "overlay",
              "size": 10,
              "solidity": 0.2
             }
            },
            "type": "barpolar"
           }
          ],
          "carpet": [
           {
            "aaxis": {
             "endlinecolor": "#2a3f5f",
             "gridcolor": "white",
             "linecolor": "white",
             "minorgridcolor": "white",
             "startlinecolor": "#2a3f5f"
            },
            "baxis": {
             "endlinecolor": "#2a3f5f",
             "gridcolor": "white",
             "linecolor": "white",
             "minorgridcolor": "white",
             "startlinecolor": "#2a3f5f"
            },
            "type": "carpet"
           }
          ],
          "choropleth": [
           {
            "colorbar": {
             "outlinewidth": 0,
             "ticks": ""
            },
            "type": "choropleth"
           }
          ],
          "contour": [
           {
            "colorbar": {
             "outlinewidth": 0,
             "ticks": ""
            },
            "colorscale": [
             [
              0,
              "#0d0887"
             ],
             [
              0.1111111111111111,
              "#46039f"
             ],
             [
              0.2222222222222222,
              "#7201a8"
             ],
             [
              0.3333333333333333,
              "#9c179e"
             ],
             [
              0.4444444444444444,
              "#bd3786"
             ],
             [
              0.5555555555555556,
              "#d8576b"
             ],
             [
              0.6666666666666666,
              "#ed7953"
             ],
             [
              0.7777777777777778,
              "#fb9f3a"
             ],
             [
              0.8888888888888888,
              "#fdca26"
             ],
             [
              1,
              "#f0f921"
             ]
            ],
            "type": "contour"
           }
          ],
          "contourcarpet": [
           {
            "colorbar": {
             "outlinewidth": 0,
             "ticks": ""
            },
            "type": "contourcarpet"
           }
          ],
          "heatmap": [
           {
            "colorbar": {
             "outlinewidth": 0,
             "ticks": ""
            },
            "colorscale": [
             [
              0,
              "#0d0887"
             ],
             [
              0.1111111111111111,
              "#46039f"
             ],
             [
              0.2222222222222222,
              "#7201a8"
             ],
             [
              0.3333333333333333,
              "#9c179e"
             ],
             [
              0.4444444444444444,
              "#bd3786"
             ],
             [
              0.5555555555555556,
              "#d8576b"
             ],
             [
              0.6666666666666666,
              "#ed7953"
             ],
             [
              0.7777777777777778,
              "#fb9f3a"
             ],
             [
              0.8888888888888888,
              "#fdca26"
             ],
             [
              1,
              "#f0f921"
             ]
            ],
            "type": "heatmap"
           }
          ],
          "heatmapgl": [
           {
            "colorbar": {
             "outlinewidth": 0,
             "ticks": ""
            },
            "colorscale": [
             [
              0,
              "#0d0887"
             ],
             [
              0.1111111111111111,
              "#46039f"
             ],
             [
              0.2222222222222222,
              "#7201a8"
             ],
             [
              0.3333333333333333,
              "#9c179e"
             ],
             [
              0.4444444444444444,
              "#bd3786"
             ],
             [
              0.5555555555555556,
              "#d8576b"
             ],
             [
              0.6666666666666666,
              "#ed7953"
             ],
             [
              0.7777777777777778,
              "#fb9f3a"
             ],
             [
              0.8888888888888888,
              "#fdca26"
             ],
             [
              1,
              "#f0f921"
             ]
            ],
            "type": "heatmapgl"
           }
          ],
          "histogram": [
           {
            "marker": {
             "pattern": {
              "fillmode": "overlay",
              "size": 10,
              "solidity": 0.2
             }
            },
            "type": "histogram"
           }
          ],
          "histogram2d": [
           {
            "colorbar": {
             "outlinewidth": 0,
             "ticks": ""
            },
            "colorscale": [
             [
              0,
              "#0d0887"
             ],
             [
              0.1111111111111111,
              "#46039f"
             ],
             [
              0.2222222222222222,
              "#7201a8"
             ],
             [
              0.3333333333333333,
              "#9c179e"
             ],
             [
              0.4444444444444444,
              "#bd3786"
             ],
             [
              0.5555555555555556,
              "#d8576b"
             ],
             [
              0.6666666666666666,
              "#ed7953"
             ],
             [
              0.7777777777777778,
              "#fb9f3a"
             ],
             [
              0.8888888888888888,
              "#fdca26"
             ],
             [
              1,
              "#f0f921"
             ]
            ],
            "type": "histogram2d"
           }
          ],
          "histogram2dcontour": [
           {
            "colorbar": {
             "outlinewidth": 0,
             "ticks": ""
            },
            "colorscale": [
             [
              0,
              "#0d0887"
             ],
             [
              0.1111111111111111,
              "#46039f"
             ],
             [
              0.2222222222222222,
              "#7201a8"
             ],
             [
              0.3333333333333333,
              "#9c179e"
             ],
             [
              0.4444444444444444,
              "#bd3786"
             ],
             [
              0.5555555555555556,
              "#d8576b"
             ],
             [
              0.6666666666666666,
              "#ed7953"
             ],
             [
              0.7777777777777778,
              "#fb9f3a"
             ],
             [
              0.8888888888888888,
              "#fdca26"
             ],
             [
              1,
              "#f0f921"
             ]
            ],
            "type": "histogram2dcontour"
           }
          ],
          "mesh3d": [
           {
            "colorbar": {
             "outlinewidth": 0,
             "ticks": ""
            },
            "type": "mesh3d"
           }
          ],
          "parcoords": [
           {
            "line": {
             "colorbar": {
              "outlinewidth": 0,
              "ticks": ""
             }
            },
            "type": "parcoords"
           }
          ],
          "pie": [
           {
            "automargin": true,
            "type": "pie"
           }
          ],
          "scatter": [
           {
            "fillpattern": {
             "fillmode": "overlay",
             "size": 10,
             "solidity": 0.2
            },
            "type": "scatter"
           }
          ],
          "scatter3d": [
           {
            "line": {
             "colorbar": {
              "outlinewidth": 0,
              "ticks": ""
             }
            },
            "marker": {
             "colorbar": {
              "outlinewidth": 0,
              "ticks": ""
             }
            },
            "type": "scatter3d"
           }
          ],
          "scattercarpet": [
           {
            "marker": {
             "colorbar": {
              "outlinewidth": 0,
              "ticks": ""
             }
            },
            "type": "scattercarpet"
           }
          ],
          "scattergeo": [
           {
            "marker": {
             "colorbar": {
              "outlinewidth": 0,
              "ticks": ""
             }
            },
            "type": "scattergeo"
           }
          ],
          "scattergl": [
           {
            "marker": {
             "colorbar": {
              "outlinewidth": 0,
              "ticks": ""
             }
            },
            "type": "scattergl"
           }
          ],
          "scattermapbox": [
           {
            "marker": {
             "colorbar": {
              "outlinewidth": 0,
              "ticks": ""
             }
            },
            "type": "scattermapbox"
           }
          ],
          "scatterpolar": [
           {
            "marker": {
             "colorbar": {
              "outlinewidth": 0,
              "ticks": ""
             }
            },
            "type": "scatterpolar"
           }
          ],
          "scatterpolargl": [
           {
            "marker": {
             "colorbar": {
              "outlinewidth": 0,
              "ticks": ""
             }
            },
            "type": "scatterpolargl"
           }
          ],
          "scatterternary": [
           {
            "marker": {
             "colorbar": {
              "outlinewidth": 0,
              "ticks": ""
             }
            },
            "type": "scatterternary"
           }
          ],
          "surface": [
           {
            "colorbar": {
             "outlinewidth": 0,
             "ticks": ""
            },
            "colorscale": [
             [
              0,
              "#0d0887"
             ],
             [
              0.1111111111111111,
              "#46039f"
             ],
             [
              0.2222222222222222,
              "#7201a8"
             ],
             [
              0.3333333333333333,
              "#9c179e"
             ],
             [
              0.4444444444444444,
              "#bd3786"
             ],
             [
              0.5555555555555556,
              "#d8576b"
             ],
             [
              0.6666666666666666,
              "#ed7953"
             ],
             [
              0.7777777777777778,
              "#fb9f3a"
             ],
             [
              0.8888888888888888,
              "#fdca26"
             ],
             [
              1,
              "#f0f921"
             ]
            ],
            "type": "surface"
           }
          ],
          "table": [
           {
            "cells": {
             "fill": {
              "color": "#EBF0F8"
             },
             "line": {
              "color": "white"
             }
            },
            "header": {
             "fill": {
              "color": "#C8D4E3"
             },
             "line": {
              "color": "white"
             }
            },
            "type": "table"
           }
          ]
         },
         "layout": {
          "annotationdefaults": {
           "arrowcolor": "#2a3f5f",
           "arrowhead": 0,
           "arrowwidth": 1
          },
          "autotypenumbers": "strict",
          "coloraxis": {
           "colorbar": {
            "outlinewidth": 0,
            "ticks": ""
           }
          },
          "colorscale": {
           "diverging": [
            [
             0,
             "#8e0152"
            ],
            [
             0.1,
             "#c51b7d"
            ],
            [
             0.2,
             "#de77ae"
            ],
            [
             0.3,
             "#f1b6da"
            ],
            [
             0.4,
             "#fde0ef"
            ],
            [
             0.5,
             "#f7f7f7"
            ],
            [
             0.6,
             "#e6f5d0"
            ],
            [
             0.7,
             "#b8e186"
            ],
            [
             0.8,
             "#7fbc41"
            ],
            [
             0.9,
             "#4d9221"
            ],
            [
             1,
             "#276419"
            ]
           ],
           "sequential": [
            [
             0,
             "#0d0887"
            ],
            [
             0.1111111111111111,
             "#46039f"
            ],
            [
             0.2222222222222222,
             "#7201a8"
            ],
            [
             0.3333333333333333,
             "#9c179e"
            ],
            [
             0.4444444444444444,
             "#bd3786"
            ],
            [
             0.5555555555555556,
             "#d8576b"
            ],
            [
             0.6666666666666666,
             "#ed7953"
            ],
            [
             0.7777777777777778,
             "#fb9f3a"
            ],
            [
             0.8888888888888888,
             "#fdca26"
            ],
            [
             1,
             "#f0f921"
            ]
           ],
           "sequentialminus": [
            [
             0,
             "#0d0887"
            ],
            [
             0.1111111111111111,
             "#46039f"
            ],
            [
             0.2222222222222222,
             "#7201a8"
            ],
            [
             0.3333333333333333,
             "#9c179e"
            ],
            [
             0.4444444444444444,
             "#bd3786"
            ],
            [
             0.5555555555555556,
             "#d8576b"
            ],
            [
             0.6666666666666666,
             "#ed7953"
            ],
            [
             0.7777777777777778,
             "#fb9f3a"
            ],
            [
             0.8888888888888888,
             "#fdca26"
            ],
            [
             1,
             "#f0f921"
            ]
           ]
          },
          "colorway": [
           "#636efa",
           "#EF553B",
           "#00cc96",
           "#ab63fa",
           "#FFA15A",
           "#19d3f3",
           "#FF6692",
           "#B6E880",
           "#FF97FF",
           "#FECB52"
          ],
          "font": {
           "color": "#2a3f5f"
          },
          "geo": {
           "bgcolor": "white",
           "lakecolor": "white",
           "landcolor": "#E5ECF6",
           "showlakes": true,
           "showland": true,
           "subunitcolor": "white"
          },
          "hoverlabel": {
           "align": "left"
          },
          "hovermode": "closest",
          "mapbox": {
           "style": "light"
          },
          "paper_bgcolor": "white",
          "plot_bgcolor": "#E5ECF6",
          "polar": {
           "angularaxis": {
            "gridcolor": "white",
            "linecolor": "white",
            "ticks": ""
           },
           "bgcolor": "#E5ECF6",
           "radialaxis": {
            "gridcolor": "white",
            "linecolor": "white",
            "ticks": ""
           }
          },
          "scene": {
           "xaxis": {
            "backgroundcolor": "#E5ECF6",
            "gridcolor": "white",
            "gridwidth": 2,
            "linecolor": "white",
            "showbackground": true,
            "ticks": "",
            "zerolinecolor": "white"
           },
           "yaxis": {
            "backgroundcolor": "#E5ECF6",
            "gridcolor": "white",
            "gridwidth": 2,
            "linecolor": "white",
            "showbackground": true,
            "ticks": "",
            "zerolinecolor": "white"
           },
           "zaxis": {
            "backgroundcolor": "#E5ECF6",
            "gridcolor": "white",
            "gridwidth": 2,
            "linecolor": "white",
            "showbackground": true,
            "ticks": "",
            "zerolinecolor": "white"
           }
          },
          "shapedefaults": {
           "line": {
            "color": "#2a3f5f"
           }
          },
          "ternary": {
           "aaxis": {
            "gridcolor": "white",
            "linecolor": "white",
            "ticks": ""
           },
           "baxis": {
            "gridcolor": "white",
            "linecolor": "white",
            "ticks": ""
           },
           "bgcolor": "#E5ECF6",
           "caxis": {
            "gridcolor": "white",
            "linecolor": "white",
            "ticks": ""
           }
          },
          "title": {
           "x": 0.05
          },
          "xaxis": {
           "automargin": true,
           "gridcolor": "white",
           "linecolor": "white",
           "ticks": "",
           "title": {
            "standoff": 15
           },
           "zerolinecolor": "white",
           "zerolinewidth": 2
          },
          "yaxis": {
           "automargin": true,
           "gridcolor": "white",
           "linecolor": "white",
           "ticks": "",
           "title": {
            "standoff": 15
           },
           "zerolinecolor": "white",
           "zerolinewidth": 2
          }
         }
        },
        "title": {
         "font": {
          "color": "#4D5663"
         }
        },
        "xaxis": {
         "gridcolor": "#E1E5ED",
         "showgrid": true,
         "tickfont": {
          "color": "#4D5663"
         },
         "title": {
          "font": {
           "color": "#4D5663"
          },
          "text": ""
         },
         "zerolinecolor": "#E1E5ED"
        },
        "yaxis": {
         "gridcolor": "#E1E5ED",
         "showgrid": true,
         "tickfont": {
          "color": "#4D5663"
         },
         "title": {
          "font": {
           "color": "#4D5663"
          },
          "text": ""
         },
         "zerolinecolor": "#E1E5ED"
        }
       }
      },
      "text/html": [
       "<div>                            <div id=\"76c18c71-3978-4143-812f-7ef29251198a\" class=\"plotly-graph-div\" style=\"height:525px; width:100%;\"></div>            <script type=\"text/javascript\">                require([\"plotly\"], function(Plotly) {                    window.PLOTLYENV=window.PLOTLYENV || {};\n",
       "                    window.PLOTLYENV.BASE_URL='https://plot.ly';                                    if (document.getElementById(\"76c18c71-3978-4143-812f-7ef29251198a\")) {                    Plotly.newPlot(                        \"76c18c71-3978-4143-812f-7ef29251198a\",                        [{\"histfunc\":\"count\",\"histnorm\":\"\",\"marker\":{\"color\":\"rgba(255, 153, 51, 1.0)\",\"line\":{\"color\":\"#4D5663\",\"width\":1.3}},\"name\":\"A\",\"nbinsx\":25,\"opacity\":0.8,\"orientation\":\"v\",\"x\":[0.08548394392684941,-0.5893916978546746,-0.8419665667833715,1.0653294037412206,-0.30404866925348994,0.3220582584509832,1.1049131997268444,0.32518021155482785,2.7803713071535303,-0.6512650673063205,0.49199825674186487,-0.08508963549565635,0.5726425435043762,2.1386501290862214,-0.9950235584665907,2.0052327231453364,1.9086945678707794,-0.4672730441548413,0.09809372512041015,0.20776175313101258,-0.13008291273505135,-0.213716607920109,-0.752971396659258,-0.8856345833042678,-0.21828897744131906,-1.5221842260642924,1.7597176132531838,0.368692867252797,0.012002423023914443,-0.3300847199674508,-1.174027326022618,0.27669897261410636,0.9022235975340244,0.1237670623846236,0.27474926924742754,-1.2318138433306547,-0.9291362405434669,0.2581841484670674,-0.35557870411472275,0.31329107322223737,-0.10998911435349933,-0.6056942752510703,0.5496119520128204,0.7217212678834122,1.1080438778814063,1.194652068448999,1.9452460051287748,-1.0096690093450156,0.06886112821121931,-0.22386569878334348,0.3722266141668129,2.3949425017894628,-1.5415993206560856,0.31051517323586425,-0.9007115672683569,-0.37250269015414444,0.12892868685879072,-2.093099841220505,0.19281052497404821,-0.14026793411748828,0.7202355995317967,1.9985914284907331,-0.024224308482236806,0.01896759967272472,-1.5884383627946148,0.14382833009913976,0.8208787993291673,0.11647492827936208,0.8148442245171553,-0.9944542791659978,-1.5826860570144032,-1.0027608392246807,0.6405945754015209,-1.2307004748798553,-0.9114975696364512,1.37764411838987,0.5203887980053448,-0.6308501093425088,-0.04108239600910254,-0.14803345522911654,0.27240046321175776,-0.0984268942816003,-0.7917134062519374,-0.6755333627675957,0.5021187599504238,-1.489214963700235,0.08552835376163205,-1.8220289030449843,1.3610498831089615,-1.5377662111236543,0.4413929766677556,1.1406361331627282,1.7219831491686641,-0.154773148802657,-0.2652967487886054,1.0404378705960964,-0.9175907022603449,-0.8622776172416078,-1.3999208590790715,0.09066006069192459],\"type\":\"histogram\"}],                        {\"barmode\":\"overlay\",\"legend\":{\"bgcolor\":\"#F5F6F9\",\"font\":{\"color\":\"#4D5663\"}},\"paper_bgcolor\":\"#F5F6F9\",\"plot_bgcolor\":\"#F5F6F9\",\"template\":{\"data\":{\"barpolar\":[{\"marker\":{\"line\":{\"color\":\"#E5ECF6\",\"width\":0.5},\"pattern\":{\"fillmode\":\"overlay\",\"size\":10,\"solidity\":0.2}},\"type\":\"barpolar\"}],\"bar\":[{\"error_x\":{\"color\":\"#2a3f5f\"},\"error_y\":{\"color\":\"#2a3f5f\"},\"marker\":{\"line\":{\"color\":\"#E5ECF6\",\"width\":0.5},\"pattern\":{\"fillmode\":\"overlay\",\"size\":10,\"solidity\":0.2}},\"type\":\"bar\"}],\"carpet\":[{\"aaxis\":{\"endlinecolor\":\"#2a3f5f\",\"gridcolor\":\"white\",\"linecolor\":\"white\",\"minorgridcolor\":\"white\",\"startlinecolor\":\"#2a3f5f\"},\"baxis\":{\"endlinecolor\":\"#2a3f5f\",\"gridcolor\":\"white\",\"linecolor\":\"white\",\"minorgridcolor\":\"white\",\"startlinecolor\":\"#2a3f5f\"},\"type\":\"carpet\"}],\"choropleth\":[{\"colorbar\":{\"outlinewidth\":0,\"ticks\":\"\"},\"type\":\"choropleth\"}],\"contourcarpet\":[{\"colorbar\":{\"outlinewidth\":0,\"ticks\":\"\"},\"type\":\"contourcarpet\"}],\"contour\":[{\"colorbar\":{\"outlinewidth\":0,\"ticks\":\"\"},\"colorscale\":[[0.0,\"#0d0887\"],[0.1111111111111111,\"#46039f\"],[0.2222222222222222,\"#7201a8\"],[0.3333333333333333,\"#9c179e\"],[0.4444444444444444,\"#bd3786\"],[0.5555555555555556,\"#d8576b\"],[0.6666666666666666,\"#ed7953\"],[0.7777777777777778,\"#fb9f3a\"],[0.8888888888888888,\"#fdca26\"],[1.0,\"#f0f921\"]],\"type\":\"contour\"}],\"heatmapgl\":[{\"colorbar\":{\"outlinewidth\":0,\"ticks\":\"\"},\"colorscale\":[[0.0,\"#0d0887\"],[0.1111111111111111,\"#46039f\"],[0.2222222222222222,\"#7201a8\"],[0.3333333333333333,\"#9c179e\"],[0.4444444444444444,\"#bd3786\"],[0.5555555555555556,\"#d8576b\"],[0.6666666666666666,\"#ed7953\"],[0.7777777777777778,\"#fb9f3a\"],[0.8888888888888888,\"#fdca26\"],[1.0,\"#f0f921\"]],\"type\":\"heatmapgl\"}],\"heatmap\":[{\"colorbar\":{\"outlinewidth\":0,\"ticks\":\"\"},\"colorscale\":[[0.0,\"#0d0887\"],[0.1111111111111111,\"#46039f\"],[0.2222222222222222,\"#7201a8\"],[0.3333333333333333,\"#9c179e\"],[0.4444444444444444,\"#bd3786\"],[0.5555555555555556,\"#d8576b\"],[0.6666666666666666,\"#ed7953\"],[0.7777777777777778,\"#fb9f3a\"],[0.8888888888888888,\"#fdca26\"],[1.0,\"#f0f921\"]],\"type\":\"heatmap\"}],\"histogram2dcontour\":[{\"colorbar\":{\"outlinewidth\":0,\"ticks\":\"\"},\"colorscale\":[[0.0,\"#0d0887\"],[0.1111111111111111,\"#46039f\"],[0.2222222222222222,\"#7201a8\"],[0.3333333333333333,\"#9c179e\"],[0.4444444444444444,\"#bd3786\"],[0.5555555555555556,\"#d8576b\"],[0.6666666666666666,\"#ed7953\"],[0.7777777777777778,\"#fb9f3a\"],[0.8888888888888888,\"#fdca26\"],[1.0,\"#f0f921\"]],\"type\":\"histogram2dcontour\"}],\"histogram2d\":[{\"colorbar\":{\"outlinewidth\":0,\"ticks\":\"\"},\"colorscale\":[[0.0,\"#0d0887\"],[0.1111111111111111,\"#46039f\"],[0.2222222222222222,\"#7201a8\"],[0.3333333333333333,\"#9c179e\"],[0.4444444444444444,\"#bd3786\"],[0.5555555555555556,\"#d8576b\"],[0.6666666666666666,\"#ed7953\"],[0.7777777777777778,\"#fb9f3a\"],[0.8888888888888888,\"#fdca26\"],[1.0,\"#f0f921\"]],\"type\":\"histogram2d\"}],\"histogram\":[{\"marker\":{\"pattern\":{\"fillmode\":\"overlay\",\"size\":10,\"solidity\":0.2}},\"type\":\"histogram\"}],\"mesh3d\":[{\"colorbar\":{\"outlinewidth\":0,\"ticks\":\"\"},\"type\":\"mesh3d\"}],\"parcoords\":[{\"line\":{\"colorbar\":{\"outlinewidth\":0,\"ticks\":\"\"}},\"type\":\"parcoords\"}],\"pie\":[{\"automargin\":true,\"type\":\"pie\"}],\"scatter3d\":[{\"line\":{\"colorbar\":{\"outlinewidth\":0,\"ticks\":\"\"}},\"marker\":{\"colorbar\":{\"outlinewidth\":0,\"ticks\":\"\"}},\"type\":\"scatter3d\"}],\"scattercarpet\":[{\"marker\":{\"colorbar\":{\"outlinewidth\":0,\"ticks\":\"\"}},\"type\":\"scattercarpet\"}],\"scattergeo\":[{\"marker\":{\"colorbar\":{\"outlinewidth\":0,\"ticks\":\"\"}},\"type\":\"scattergeo\"}],\"scattergl\":[{\"marker\":{\"colorbar\":{\"outlinewidth\":0,\"ticks\":\"\"}},\"type\":\"scattergl\"}],\"scattermapbox\":[{\"marker\":{\"colorbar\":{\"outlinewidth\":0,\"ticks\":\"\"}},\"type\":\"scattermapbox\"}],\"scatterpolargl\":[{\"marker\":{\"colorbar\":{\"outlinewidth\":0,\"ticks\":\"\"}},\"type\":\"scatterpolargl\"}],\"scatterpolar\":[{\"marker\":{\"colorbar\":{\"outlinewidth\":0,\"ticks\":\"\"}},\"type\":\"scatterpolar\"}],\"scatter\":[{\"fillpattern\":{\"fillmode\":\"overlay\",\"size\":10,\"solidity\":0.2},\"type\":\"scatter\"}],\"scatterternary\":[{\"marker\":{\"colorbar\":{\"outlinewidth\":0,\"ticks\":\"\"}},\"type\":\"scatterternary\"}],\"surface\":[{\"colorbar\":{\"outlinewidth\":0,\"ticks\":\"\"},\"colorscale\":[[0.0,\"#0d0887\"],[0.1111111111111111,\"#46039f\"],[0.2222222222222222,\"#7201a8\"],[0.3333333333333333,\"#9c179e\"],[0.4444444444444444,\"#bd3786\"],[0.5555555555555556,\"#d8576b\"],[0.6666666666666666,\"#ed7953\"],[0.7777777777777778,\"#fb9f3a\"],[0.8888888888888888,\"#fdca26\"],[1.0,\"#f0f921\"]],\"type\":\"surface\"}],\"table\":[{\"cells\":{\"fill\":{\"color\":\"#EBF0F8\"},\"line\":{\"color\":\"white\"}},\"header\":{\"fill\":{\"color\":\"#C8D4E3\"},\"line\":{\"color\":\"white\"}},\"type\":\"table\"}]},\"layout\":{\"annotationdefaults\":{\"arrowcolor\":\"#2a3f5f\",\"arrowhead\":0,\"arrowwidth\":1},\"autotypenumbers\":\"strict\",\"coloraxis\":{\"colorbar\":{\"outlinewidth\":0,\"ticks\":\"\"}},\"colorscale\":{\"diverging\":[[0,\"#8e0152\"],[0.1,\"#c51b7d\"],[0.2,\"#de77ae\"],[0.3,\"#f1b6da\"],[0.4,\"#fde0ef\"],[0.5,\"#f7f7f7\"],[0.6,\"#e6f5d0\"],[0.7,\"#b8e186\"],[0.8,\"#7fbc41\"],[0.9,\"#4d9221\"],[1,\"#276419\"]],\"sequential\":[[0.0,\"#0d0887\"],[0.1111111111111111,\"#46039f\"],[0.2222222222222222,\"#7201a8\"],[0.3333333333333333,\"#9c179e\"],[0.4444444444444444,\"#bd3786\"],[0.5555555555555556,\"#d8576b\"],[0.6666666666666666,\"#ed7953\"],[0.7777777777777778,\"#fb9f3a\"],[0.8888888888888888,\"#fdca26\"],[1.0,\"#f0f921\"]],\"sequentialminus\":[[0.0,\"#0d0887\"],[0.1111111111111111,\"#46039f\"],[0.2222222222222222,\"#7201a8\"],[0.3333333333333333,\"#9c179e\"],[0.4444444444444444,\"#bd3786\"],[0.5555555555555556,\"#d8576b\"],[0.6666666666666666,\"#ed7953\"],[0.7777777777777778,\"#fb9f3a\"],[0.8888888888888888,\"#fdca26\"],[1.0,\"#f0f921\"]]},\"colorway\":[\"#636efa\",\"#EF553B\",\"#00cc96\",\"#ab63fa\",\"#FFA15A\",\"#19d3f3\",\"#FF6692\",\"#B6E880\",\"#FF97FF\",\"#FECB52\"],\"font\":{\"color\":\"#2a3f5f\"},\"geo\":{\"bgcolor\":\"white\",\"lakecolor\":\"white\",\"landcolor\":\"#E5ECF6\",\"showlakes\":true,\"showland\":true,\"subunitcolor\":\"white\"},\"hoverlabel\":{\"align\":\"left\"},\"hovermode\":\"closest\",\"mapbox\":{\"style\":\"light\"},\"paper_bgcolor\":\"white\",\"plot_bgcolor\":\"#E5ECF6\",\"polar\":{\"angularaxis\":{\"gridcolor\":\"white\",\"linecolor\":\"white\",\"ticks\":\"\"},\"bgcolor\":\"#E5ECF6\",\"radialaxis\":{\"gridcolor\":\"white\",\"linecolor\":\"white\",\"ticks\":\"\"}},\"scene\":{\"xaxis\":{\"backgroundcolor\":\"#E5ECF6\",\"gridcolor\":\"white\",\"gridwidth\":2,\"linecolor\":\"white\",\"showbackground\":true,\"ticks\":\"\",\"zerolinecolor\":\"white\"},\"yaxis\":{\"backgroundcolor\":\"#E5ECF6\",\"gridcolor\":\"white\",\"gridwidth\":2,\"linecolor\":\"white\",\"showbackground\":true,\"ticks\":\"\",\"zerolinecolor\":\"white\"},\"zaxis\":{\"backgroundcolor\":\"#E5ECF6\",\"gridcolor\":\"white\",\"gridwidth\":2,\"linecolor\":\"white\",\"showbackground\":true,\"ticks\":\"\",\"zerolinecolor\":\"white\"}},\"shapedefaults\":{\"line\":{\"color\":\"#2a3f5f\"}},\"ternary\":{\"aaxis\":{\"gridcolor\":\"white\",\"linecolor\":\"white\",\"ticks\":\"\"},\"baxis\":{\"gridcolor\":\"white\",\"linecolor\":\"white\",\"ticks\":\"\"},\"bgcolor\":\"#E5ECF6\",\"caxis\":{\"gridcolor\":\"white\",\"linecolor\":\"white\",\"ticks\":\"\"}},\"title\":{\"x\":0.05},\"xaxis\":{\"automargin\":true,\"gridcolor\":\"white\",\"linecolor\":\"white\",\"ticks\":\"\",\"title\":{\"standoff\":15},\"zerolinecolor\":\"white\",\"zerolinewidth\":2},\"yaxis\":{\"automargin\":true,\"gridcolor\":\"white\",\"linecolor\":\"white\",\"ticks\":\"\",\"title\":{\"standoff\":15},\"zerolinecolor\":\"white\",\"zerolinewidth\":2}}},\"title\":{\"font\":{\"color\":\"#4D5663\"}},\"xaxis\":{\"gridcolor\":\"#E1E5ED\",\"showgrid\":true,\"tickfont\":{\"color\":\"#4D5663\"},\"title\":{\"font\":{\"color\":\"#4D5663\"},\"text\":\"\"},\"zerolinecolor\":\"#E1E5ED\"},\"yaxis\":{\"gridcolor\":\"#E1E5ED\",\"showgrid\":true,\"tickfont\":{\"color\":\"#4D5663\"},\"title\":{\"font\":{\"color\":\"#4D5663\"},\"text\":\"\"},\"zerolinecolor\":\"#E1E5ED\"}},                        {\"showLink\": true, \"linkText\": \"Export to plot.ly\", \"plotlyServerURL\": \"https://plot.ly\", \"responsive\": true}                    ).then(function(){\n",
       "                            \n",
       "var gd = document.getElementById('76c18c71-3978-4143-812f-7ef29251198a');\n",
       "var x = new MutationObserver(function (mutations, observer) {{\n",
       "        var display = window.getComputedStyle(gd).display;\n",
       "        if (!display || display === 'none') {{\n",
       "            console.log([gd, 'removed!']);\n",
       "            Plotly.purge(gd);\n",
       "            observer.disconnect();\n",
       "        }}\n",
       "}});\n",
       "\n",
       "// Listen for the removal of the full notebook cells\n",
       "var notebookContainer = gd.closest('#notebook-container');\n",
       "if (notebookContainer) {{\n",
       "    x.observe(notebookContainer, {childList: true});\n",
       "}}\n",
       "\n",
       "// Listen for the clearing of the current output cell\n",
       "var outputEl = gd.closest('.output');\n",
       "if (outputEl) {{\n",
       "    x.observe(outputEl, {childList: true});\n",
       "}}\n",
       "\n",
       "                        })                };                });            </script>        </div>"
      ]
     },
     "metadata": {},
     "output_type": "display_data"
    }
   ],
   "source": [
    "df['A'].iplot(kind='hist', bins=25)"
   ]
  },
  {
   "cell_type": "code",
   "execution_count": 27,
   "metadata": {},
   "outputs": [
    {
     "data": {
      "application/vnd.plotly.v1+json": {
       "config": {
        "linkText": "Export to plot.ly",
        "plotlyServerURL": "https://plot.ly",
        "showLink": true
       },
       "data": [
        {
         "marker": {
          "color": [
           "rgb(255, 153, 51)",
           "rgb(55, 128, 191)",
           "rgb(50, 171, 96)",
           "rgb(128, 0, 128)",
           "rgb(219, 64, 82)",
           "rgb(0, 128, 128)",
           "rgb(255, 255, 51)",
           "rgb(128, 128, 0)",
           "rgb(251, 128, 114)",
           "rgb(128, 177, 211)"
          ],
          "line": {
           "width": 1.3
          },
          "size": [
           73,
           94,
           50,
           12,
           71,
           63,
           23,
           13,
           32,
           88,
           70,
           18,
           80,
           74,
           40,
           16,
           36,
           65,
           40,
           86,
           24,
           88,
           69,
           83,
           66,
           65,
           61,
           60,
           63,
           62,
           45,
           68,
           53,
           74,
           52,
           55,
           18,
           48,
           33,
           76,
           37,
           43,
           30,
           24,
           111,
           73,
           45,
           49,
           68,
           24,
           57,
           86,
           48,
           80,
           36,
           52,
           87,
           68,
           14,
           45,
           75,
           62,
           40,
           18,
           72,
           45,
           72,
           45,
           64,
           30,
           86,
           37,
           52,
           70,
           41,
           72,
           13,
           50,
           12,
           25,
           36,
           75,
           67,
           58,
           74,
           67,
           55,
           54,
           57,
           59,
           112,
           68,
           30,
           63,
           82,
           35,
           84,
           68,
           55,
           30
          ],
          "symbol": "circle"
         },
         "mode": "markers",
         "text": "",
         "type": "scatter",
         "x": [
          0.08548394392684941,
          -0.5893916978546746,
          -0.8419665667833715,
          1.0653294037412206,
          -0.30404866925348994,
          0.3220582584509832,
          1.1049131997268444,
          0.32518021155482785,
          2.7803713071535303,
          -0.6512650673063205,
          0.49199825674186487,
          -0.08508963549565635,
          0.5726425435043762,
          2.1386501290862214,
          -0.9950235584665907,
          2.0052327231453364,
          1.9086945678707794,
          -0.4672730441548413,
          0.09809372512041015,
          0.20776175313101258,
          -0.13008291273505135,
          -0.213716607920109,
          -0.752971396659258,
          -0.8856345833042678,
          -0.21828897744131906,
          -1.5221842260642924,
          1.7597176132531838,
          0.368692867252797,
          0.012002423023914443,
          -0.3300847199674508,
          -1.174027326022618,
          0.27669897261410636,
          0.9022235975340244,
          0.1237670623846236,
          0.27474926924742754,
          -1.2318138433306547,
          -0.9291362405434669,
          0.2581841484670674,
          -0.35557870411472275,
          0.31329107322223737,
          -0.10998911435349933,
          -0.6056942752510703,
          0.5496119520128204,
          0.7217212678834122,
          1.1080438778814063,
          1.194652068448999,
          1.9452460051287748,
          -1.0096690093450156,
          0.06886112821121931,
          -0.22386569878334348,
          0.3722266141668129,
          2.3949425017894628,
          -1.5415993206560856,
          0.31051517323586425,
          -0.9007115672683569,
          -0.37250269015414444,
          0.12892868685879072,
          -2.093099841220505,
          0.19281052497404821,
          -0.14026793411748828,
          0.7202355995317967,
          1.9985914284907331,
          -0.024224308482236806,
          0.01896759967272472,
          -1.5884383627946148,
          0.14382833009913976,
          0.8208787993291673,
          0.11647492827936208,
          0.8148442245171553,
          -0.9944542791659978,
          -1.5826860570144032,
          -1.0027608392246807,
          0.6405945754015209,
          -1.2307004748798553,
          -0.9114975696364512,
          1.37764411838987,
          0.5203887980053448,
          -0.6308501093425088,
          -0.04108239600910254,
          -0.14803345522911654,
          0.27240046321175776,
          -0.0984268942816003,
          -0.7917134062519374,
          -0.6755333627675957,
          0.5021187599504238,
          -1.489214963700235,
          0.08552835376163205,
          -1.8220289030449843,
          1.3610498831089615,
          -1.5377662111236543,
          0.4413929766677556,
          1.1406361331627282,
          1.7219831491686641,
          -0.154773148802657,
          -0.2652967487886054,
          1.0404378705960964,
          -0.9175907022603449,
          -0.8622776172416078,
          -1.3999208590790715,
          0.09066006069192459
         ],
         "y": [
          -0.1624050135760886,
          0.980851981664618,
          1.6263758604043954,
          0.6670449829300747,
          0.8463914642614553,
          -0.5557547356556708,
          1.3335019465823352,
          -0.30360500311515876,
          -0.5572485277306021,
          1.7923193575265437,
          0.5230714474292316,
          1.3962847654068788,
          0.5454202975825965,
          0.8220066168038932,
          0.1333294140157902,
          -0.4580923125178034,
          -1.8702657688987048,
          0.19165599638946365,
          -1.5441476695946914,
          1.489985153554788,
          0.08513682537748908,
          0.5884943933265148,
          -0.37527778093043845,
          -1.2420986135906638,
          -0.09359385888729599,
          -0.8993751877593811,
          0.9038336626818552,
          0.19897941905376915,
          -0.3499682664519889,
          -0.813255283672789,
          -0.761601608488013,
          0.6852647594122985,
          0.7444146965136054,
          -0.10824902571549988,
          1.0343766589925962,
          0.6794742299814396,
          -1.377108827556193,
          -0.9198084554974598,
          1.2754158682756254,
          -0.6805171783915703,
          1.6295186194490634,
          1.3058104975166638,
          -0.008015691590719798,
          0.37945370182803906,
          -0.9344148723391815,
          0.33642615175310187,
          -1.117113472484452,
          1.2098097732957693,
          1.890729615247962,
          -0.3020317509780135,
          -0.795391429211958,
          0.5145436162551661,
          -1.17644678201426,
          0.011191592090796853,
          -2.664750053974455,
          -0.7052058747591703,
          0.4318577646237392,
          0.3482634341301973,
          0.6748205565464416,
          -0.34169023793862807,
          -0.07989141803255546,
          -0.1006525565267022,
          0.7334329357689917,
          0.8392098396231535,
          -0.4553307130666966,
          -0.7064260571420193,
          0.15230984770640202,
          0.6237041195854198,
          0.5318919831274378,
          0.5221352231397314,
          -0.8174059688720081,
          2.4389763497413726,
          -0.1242766171971954,
          1.9621837956400514,
          -0.09450483861151593,
          -0.27813013860092584,
          1.8763100787933222,
          -1.149197127466469,
          -0.33071258304144435,
          -0.903204616889579,
          -0.38847979647058817,
          -1.1896469966014003,
          -0.20764447487221024,
          1.243884872816924,
          -0.5090636362684436,
          -1.0423055947393969,
          -0.06350848782566847,
          -0.715011626851832,
          -0.004311390566099713,
          0.35968046038437906,
          0.3482155214518224,
          1.5642585538961675,
          0.05372460015033393,
          0.26927859988825925,
          0.9459316001975121,
          -1.3231038977865164,
          -0.13177750479968495,
          2.894936439883955,
          1.2620145095169104,
          -2.673128848304644
         ]
        }
       ],
       "layout": {
        "legend": {
         "bgcolor": "#F5F6F9",
         "font": {
          "color": "#4D5663"
         }
        },
        "paper_bgcolor": "#F5F6F9",
        "plot_bgcolor": "#F5F6F9",
        "template": {
         "data": {
          "bar": [
           {
            "error_x": {
             "color": "#2a3f5f"
            },
            "error_y": {
             "color": "#2a3f5f"
            },
            "marker": {
             "line": {
              "color": "#E5ECF6",
              "width": 0.5
             },
             "pattern": {
              "fillmode": "overlay",
              "size": 10,
              "solidity": 0.2
             }
            },
            "type": "bar"
           }
          ],
          "barpolar": [
           {
            "marker": {
             "line": {
              "color": "#E5ECF6",
              "width": 0.5
             },
             "pattern": {
              "fillmode": "overlay",
              "size": 10,
              "solidity": 0.2
             }
            },
            "type": "barpolar"
           }
          ],
          "carpet": [
           {
            "aaxis": {
             "endlinecolor": "#2a3f5f",
             "gridcolor": "white",
             "linecolor": "white",
             "minorgridcolor": "white",
             "startlinecolor": "#2a3f5f"
            },
            "baxis": {
             "endlinecolor": "#2a3f5f",
             "gridcolor": "white",
             "linecolor": "white",
             "minorgridcolor": "white",
             "startlinecolor": "#2a3f5f"
            },
            "type": "carpet"
           }
          ],
          "choropleth": [
           {
            "colorbar": {
             "outlinewidth": 0,
             "ticks": ""
            },
            "type": "choropleth"
           }
          ],
          "contour": [
           {
            "colorbar": {
             "outlinewidth": 0,
             "ticks": ""
            },
            "colorscale": [
             [
              0,
              "#0d0887"
             ],
             [
              0.1111111111111111,
              "#46039f"
             ],
             [
              0.2222222222222222,
              "#7201a8"
             ],
             [
              0.3333333333333333,
              "#9c179e"
             ],
             [
              0.4444444444444444,
              "#bd3786"
             ],
             [
              0.5555555555555556,
              "#d8576b"
             ],
             [
              0.6666666666666666,
              "#ed7953"
             ],
             [
              0.7777777777777778,
              "#fb9f3a"
             ],
             [
              0.8888888888888888,
              "#fdca26"
             ],
             [
              1,
              "#f0f921"
             ]
            ],
            "type": "contour"
           }
          ],
          "contourcarpet": [
           {
            "colorbar": {
             "outlinewidth": 0,
             "ticks": ""
            },
            "type": "contourcarpet"
           }
          ],
          "heatmap": [
           {
            "colorbar": {
             "outlinewidth": 0,
             "ticks": ""
            },
            "colorscale": [
             [
              0,
              "#0d0887"
             ],
             [
              0.1111111111111111,
              "#46039f"
             ],
             [
              0.2222222222222222,
              "#7201a8"
             ],
             [
              0.3333333333333333,
              "#9c179e"
             ],
             [
              0.4444444444444444,
              "#bd3786"
             ],
             [
              0.5555555555555556,
              "#d8576b"
             ],
             [
              0.6666666666666666,
              "#ed7953"
             ],
             [
              0.7777777777777778,
              "#fb9f3a"
             ],
             [
              0.8888888888888888,
              "#fdca26"
             ],
             [
              1,
              "#f0f921"
             ]
            ],
            "type": "heatmap"
           }
          ],
          "heatmapgl": [
           {
            "colorbar": {
             "outlinewidth": 0,
             "ticks": ""
            },
            "colorscale": [
             [
              0,
              "#0d0887"
             ],
             [
              0.1111111111111111,
              "#46039f"
             ],
             [
              0.2222222222222222,
              "#7201a8"
             ],
             [
              0.3333333333333333,
              "#9c179e"
             ],
             [
              0.4444444444444444,
              "#bd3786"
             ],
             [
              0.5555555555555556,
              "#d8576b"
             ],
             [
              0.6666666666666666,
              "#ed7953"
             ],
             [
              0.7777777777777778,
              "#fb9f3a"
             ],
             [
              0.8888888888888888,
              "#fdca26"
             ],
             [
              1,
              "#f0f921"
             ]
            ],
            "type": "heatmapgl"
           }
          ],
          "histogram": [
           {
            "marker": {
             "pattern": {
              "fillmode": "overlay",
              "size": 10,
              "solidity": 0.2
             }
            },
            "type": "histogram"
           }
          ],
          "histogram2d": [
           {
            "colorbar": {
             "outlinewidth": 0,
             "ticks": ""
            },
            "colorscale": [
             [
              0,
              "#0d0887"
             ],
             [
              0.1111111111111111,
              "#46039f"
             ],
             [
              0.2222222222222222,
              "#7201a8"
             ],
             [
              0.3333333333333333,
              "#9c179e"
             ],
             [
              0.4444444444444444,
              "#bd3786"
             ],
             [
              0.5555555555555556,
              "#d8576b"
             ],
             [
              0.6666666666666666,
              "#ed7953"
             ],
             [
              0.7777777777777778,
              "#fb9f3a"
             ],
             [
              0.8888888888888888,
              "#fdca26"
             ],
             [
              1,
              "#f0f921"
             ]
            ],
            "type": "histogram2d"
           }
          ],
          "histogram2dcontour": [
           {
            "colorbar": {
             "outlinewidth": 0,
             "ticks": ""
            },
            "colorscale": [
             [
              0,
              "#0d0887"
             ],
             [
              0.1111111111111111,
              "#46039f"
             ],
             [
              0.2222222222222222,
              "#7201a8"
             ],
             [
              0.3333333333333333,
              "#9c179e"
             ],
             [
              0.4444444444444444,
              "#bd3786"
             ],
             [
              0.5555555555555556,
              "#d8576b"
             ],
             [
              0.6666666666666666,
              "#ed7953"
             ],
             [
              0.7777777777777778,
              "#fb9f3a"
             ],
             [
              0.8888888888888888,
              "#fdca26"
             ],
             [
              1,
              "#f0f921"
             ]
            ],
            "type": "histogram2dcontour"
           }
          ],
          "mesh3d": [
           {
            "colorbar": {
             "outlinewidth": 0,
             "ticks": ""
            },
            "type": "mesh3d"
           }
          ],
          "parcoords": [
           {
            "line": {
             "colorbar": {
              "outlinewidth": 0,
              "ticks": ""
             }
            },
            "type": "parcoords"
           }
          ],
          "pie": [
           {
            "automargin": true,
            "type": "pie"
           }
          ],
          "scatter": [
           {
            "fillpattern": {
             "fillmode": "overlay",
             "size": 10,
             "solidity": 0.2
            },
            "type": "scatter"
           }
          ],
          "scatter3d": [
           {
            "line": {
             "colorbar": {
              "outlinewidth": 0,
              "ticks": ""
             }
            },
            "marker": {
             "colorbar": {
              "outlinewidth": 0,
              "ticks": ""
             }
            },
            "type": "scatter3d"
           }
          ],
          "scattercarpet": [
           {
            "marker": {
             "colorbar": {
              "outlinewidth": 0,
              "ticks": ""
             }
            },
            "type": "scattercarpet"
           }
          ],
          "scattergeo": [
           {
            "marker": {
             "colorbar": {
              "outlinewidth": 0,
              "ticks": ""
             }
            },
            "type": "scattergeo"
           }
          ],
          "scattergl": [
           {
            "marker": {
             "colorbar": {
              "outlinewidth": 0,
              "ticks": ""
             }
            },
            "type": "scattergl"
           }
          ],
          "scattermapbox": [
           {
            "marker": {
             "colorbar": {
              "outlinewidth": 0,
              "ticks": ""
             }
            },
            "type": "scattermapbox"
           }
          ],
          "scatterpolar": [
           {
            "marker": {
             "colorbar": {
              "outlinewidth": 0,
              "ticks": ""
             }
            },
            "type": "scatterpolar"
           }
          ],
          "scatterpolargl": [
           {
            "marker": {
             "colorbar": {
              "outlinewidth": 0,
              "ticks": ""
             }
            },
            "type": "scatterpolargl"
           }
          ],
          "scatterternary": [
           {
            "marker": {
             "colorbar": {
              "outlinewidth": 0,
              "ticks": ""
             }
            },
            "type": "scatterternary"
           }
          ],
          "surface": [
           {
            "colorbar": {
             "outlinewidth": 0,
             "ticks": ""
            },
            "colorscale": [
             [
              0,
              "#0d0887"
             ],
             [
              0.1111111111111111,
              "#46039f"
             ],
             [
              0.2222222222222222,
              "#7201a8"
             ],
             [
              0.3333333333333333,
              "#9c179e"
             ],
             [
              0.4444444444444444,
              "#bd3786"
             ],
             [
              0.5555555555555556,
              "#d8576b"
             ],
             [
              0.6666666666666666,
              "#ed7953"
             ],
             [
              0.7777777777777778,
              "#fb9f3a"
             ],
             [
              0.8888888888888888,
              "#fdca26"
             ],
             [
              1,
              "#f0f921"
             ]
            ],
            "type": "surface"
           }
          ],
          "table": [
           {
            "cells": {
             "fill": {
              "color": "#EBF0F8"
             },
             "line": {
              "color": "white"
             }
            },
            "header": {
             "fill": {
              "color": "#C8D4E3"
             },
             "line": {
              "color": "white"
             }
            },
            "type": "table"
           }
          ]
         },
         "layout": {
          "annotationdefaults": {
           "arrowcolor": "#2a3f5f",
           "arrowhead": 0,
           "arrowwidth": 1
          },
          "autotypenumbers": "strict",
          "coloraxis": {
           "colorbar": {
            "outlinewidth": 0,
            "ticks": ""
           }
          },
          "colorscale": {
           "diverging": [
            [
             0,
             "#8e0152"
            ],
            [
             0.1,
             "#c51b7d"
            ],
            [
             0.2,
             "#de77ae"
            ],
            [
             0.3,
             "#f1b6da"
            ],
            [
             0.4,
             "#fde0ef"
            ],
            [
             0.5,
             "#f7f7f7"
            ],
            [
             0.6,
             "#e6f5d0"
            ],
            [
             0.7,
             "#b8e186"
            ],
            [
             0.8,
             "#7fbc41"
            ],
            [
             0.9,
             "#4d9221"
            ],
            [
             1,
             "#276419"
            ]
           ],
           "sequential": [
            [
             0,
             "#0d0887"
            ],
            [
             0.1111111111111111,
             "#46039f"
            ],
            [
             0.2222222222222222,
             "#7201a8"
            ],
            [
             0.3333333333333333,
             "#9c179e"
            ],
            [
             0.4444444444444444,
             "#bd3786"
            ],
            [
             0.5555555555555556,
             "#d8576b"
            ],
            [
             0.6666666666666666,
             "#ed7953"
            ],
            [
             0.7777777777777778,
             "#fb9f3a"
            ],
            [
             0.8888888888888888,
             "#fdca26"
            ],
            [
             1,
             "#f0f921"
            ]
           ],
           "sequentialminus": [
            [
             0,
             "#0d0887"
            ],
            [
             0.1111111111111111,
             "#46039f"
            ],
            [
             0.2222222222222222,
             "#7201a8"
            ],
            [
             0.3333333333333333,
             "#9c179e"
            ],
            [
             0.4444444444444444,
             "#bd3786"
            ],
            [
             0.5555555555555556,
             "#d8576b"
            ],
            [
             0.6666666666666666,
             "#ed7953"
            ],
            [
             0.7777777777777778,
             "#fb9f3a"
            ],
            [
             0.8888888888888888,
             "#fdca26"
            ],
            [
             1,
             "#f0f921"
            ]
           ]
          },
          "colorway": [
           "#636efa",
           "#EF553B",
           "#00cc96",
           "#ab63fa",
           "#FFA15A",
           "#19d3f3",
           "#FF6692",
           "#B6E880",
           "#FF97FF",
           "#FECB52"
          ],
          "font": {
           "color": "#2a3f5f"
          },
          "geo": {
           "bgcolor": "white",
           "lakecolor": "white",
           "landcolor": "#E5ECF6",
           "showlakes": true,
           "showland": true,
           "subunitcolor": "white"
          },
          "hoverlabel": {
           "align": "left"
          },
          "hovermode": "closest",
          "mapbox": {
           "style": "light"
          },
          "paper_bgcolor": "white",
          "plot_bgcolor": "#E5ECF6",
          "polar": {
           "angularaxis": {
            "gridcolor": "white",
            "linecolor": "white",
            "ticks": ""
           },
           "bgcolor": "#E5ECF6",
           "radialaxis": {
            "gridcolor": "white",
            "linecolor": "white",
            "ticks": ""
           }
          },
          "scene": {
           "xaxis": {
            "backgroundcolor": "#E5ECF6",
            "gridcolor": "white",
            "gridwidth": 2,
            "linecolor": "white",
            "showbackground": true,
            "ticks": "",
            "zerolinecolor": "white"
           },
           "yaxis": {
            "backgroundcolor": "#E5ECF6",
            "gridcolor": "white",
            "gridwidth": 2,
            "linecolor": "white",
            "showbackground": true,
            "ticks": "",
            "zerolinecolor": "white"
           },
           "zaxis": {
            "backgroundcolor": "#E5ECF6",
            "gridcolor": "white",
            "gridwidth": 2,
            "linecolor": "white",
            "showbackground": true,
            "ticks": "",
            "zerolinecolor": "white"
           }
          },
          "shapedefaults": {
           "line": {
            "color": "#2a3f5f"
           }
          },
          "ternary": {
           "aaxis": {
            "gridcolor": "white",
            "linecolor": "white",
            "ticks": ""
           },
           "baxis": {
            "gridcolor": "white",
            "linecolor": "white",
            "ticks": ""
           },
           "bgcolor": "#E5ECF6",
           "caxis": {
            "gridcolor": "white",
            "linecolor": "white",
            "ticks": ""
           }
          },
          "title": {
           "x": 0.05
          },
          "xaxis": {
           "automargin": true,
           "gridcolor": "white",
           "linecolor": "white",
           "ticks": "",
           "title": {
            "standoff": 15
           },
           "zerolinecolor": "white",
           "zerolinewidth": 2
          },
          "yaxis": {
           "automargin": true,
           "gridcolor": "white",
           "linecolor": "white",
           "ticks": "",
           "title": {
            "standoff": 15
           },
           "zerolinecolor": "white",
           "zerolinewidth": 2
          }
         }
        },
        "title": {
         "font": {
          "color": "#4D5663"
         }
        },
        "xaxis": {
         "gridcolor": "#E1E5ED",
         "showgrid": true,
         "tickfont": {
          "color": "#4D5663"
         },
         "title": {
          "font": {
           "color": "#4D5663"
          },
          "text": ""
         },
         "zerolinecolor": "#E1E5ED"
        },
        "yaxis": {
         "gridcolor": "#E1E5ED",
         "showgrid": true,
         "tickfont": {
          "color": "#4D5663"
         },
         "title": {
          "font": {
           "color": "#4D5663"
          },
          "text": ""
         },
         "zerolinecolor": "#E1E5ED"
        }
       }
      },
      "text/html": [
       "<div>                            <div id=\"bac1cf62-5cef-4d4e-bcc8-97630ae8d6d9\" class=\"plotly-graph-div\" style=\"height:525px; width:100%;\"></div>            <script type=\"text/javascript\">                require([\"plotly\"], function(Plotly) {                    window.PLOTLYENV=window.PLOTLYENV || {};\n",
       "                    window.PLOTLYENV.BASE_URL='https://plot.ly';                                    if (document.getElementById(\"bac1cf62-5cef-4d4e-bcc8-97630ae8d6d9\")) {                    Plotly.newPlot(                        \"bac1cf62-5cef-4d4e-bcc8-97630ae8d6d9\",                        [{\"marker\":{\"color\":[\"rgb(255, 153, 51)\",\"rgb(55, 128, 191)\",\"rgb(50, 171, 96)\",\"rgb(128, 0, 128)\",\"rgb(219, 64, 82)\",\"rgb(0, 128, 128)\",\"rgb(255, 255, 51)\",\"rgb(128, 128, 0)\",\"rgb(251, 128, 114)\",\"rgb(128, 177, 211)\"],\"line\":{\"width\":1.3},\"size\":[73,94,50,12,71,63,23,13,32,88,70,18,80,74,40,16,36,65,40,86,24,88,69,83,66,65,61,60,63,62,45,68,53,74,52,55,18,48,33,76,37,43,30,24,111,73,45,49,68,24,57,86,48,80,36,52,87,68,14,45,75,62,40,18,72,45,72,45,64,30,86,37,52,70,41,72,13,50,12,25,36,75,67,58,74,67,55,54,57,59,112,68,30,63,82,35,84,68,55,30],\"symbol\":\"circle\"},\"mode\":\"markers\",\"text\":\"\",\"x\":[0.08548394392684941,-0.5893916978546746,-0.8419665667833715,1.0653294037412206,-0.30404866925348994,0.3220582584509832,1.1049131997268444,0.32518021155482785,2.7803713071535303,-0.6512650673063205,0.49199825674186487,-0.08508963549565635,0.5726425435043762,2.1386501290862214,-0.9950235584665907,2.0052327231453364,1.9086945678707794,-0.4672730441548413,0.09809372512041015,0.20776175313101258,-0.13008291273505135,-0.213716607920109,-0.752971396659258,-0.8856345833042678,-0.21828897744131906,-1.5221842260642924,1.7597176132531838,0.368692867252797,0.012002423023914443,-0.3300847199674508,-1.174027326022618,0.27669897261410636,0.9022235975340244,0.1237670623846236,0.27474926924742754,-1.2318138433306547,-0.9291362405434669,0.2581841484670674,-0.35557870411472275,0.31329107322223737,-0.10998911435349933,-0.6056942752510703,0.5496119520128204,0.7217212678834122,1.1080438778814063,1.194652068448999,1.9452460051287748,-1.0096690093450156,0.06886112821121931,-0.22386569878334348,0.3722266141668129,2.3949425017894628,-1.5415993206560856,0.31051517323586425,-0.9007115672683569,-0.37250269015414444,0.12892868685879072,-2.093099841220505,0.19281052497404821,-0.14026793411748828,0.7202355995317967,1.9985914284907331,-0.024224308482236806,0.01896759967272472,-1.5884383627946148,0.14382833009913976,0.8208787993291673,0.11647492827936208,0.8148442245171553,-0.9944542791659978,-1.5826860570144032,-1.0027608392246807,0.6405945754015209,-1.2307004748798553,-0.9114975696364512,1.37764411838987,0.5203887980053448,-0.6308501093425088,-0.04108239600910254,-0.14803345522911654,0.27240046321175776,-0.0984268942816003,-0.7917134062519374,-0.6755333627675957,0.5021187599504238,-1.489214963700235,0.08552835376163205,-1.8220289030449843,1.3610498831089615,-1.5377662111236543,0.4413929766677556,1.1406361331627282,1.7219831491686641,-0.154773148802657,-0.2652967487886054,1.0404378705960964,-0.9175907022603449,-0.8622776172416078,-1.3999208590790715,0.09066006069192459],\"y\":[-0.1624050135760886,0.980851981664618,1.6263758604043954,0.6670449829300747,0.8463914642614553,-0.5557547356556708,1.3335019465823352,-0.30360500311515876,-0.5572485277306021,1.7923193575265437,0.5230714474292316,1.3962847654068788,0.5454202975825965,0.8220066168038932,0.1333294140157902,-0.4580923125178034,-1.8702657688987048,0.19165599638946365,-1.5441476695946914,1.489985153554788,0.08513682537748908,0.5884943933265148,-0.37527778093043845,-1.2420986135906638,-0.09359385888729599,-0.8993751877593811,0.9038336626818552,0.19897941905376915,-0.3499682664519889,-0.813255283672789,-0.761601608488013,0.6852647594122985,0.7444146965136054,-0.10824902571549988,1.0343766589925962,0.6794742299814396,-1.377108827556193,-0.9198084554974598,1.2754158682756254,-0.6805171783915703,1.6295186194490634,1.3058104975166638,-0.008015691590719798,0.37945370182803906,-0.9344148723391815,0.33642615175310187,-1.117113472484452,1.2098097732957693,1.890729615247962,-0.3020317509780135,-0.795391429211958,0.5145436162551661,-1.17644678201426,0.011191592090796853,-2.664750053974455,-0.7052058747591703,0.4318577646237392,0.3482634341301973,0.6748205565464416,-0.34169023793862807,-0.07989141803255546,-0.1006525565267022,0.7334329357689917,0.8392098396231535,-0.4553307130666966,-0.7064260571420193,0.15230984770640202,0.6237041195854198,0.5318919831274378,0.5221352231397314,-0.8174059688720081,2.4389763497413726,-0.1242766171971954,1.9621837956400514,-0.09450483861151593,-0.27813013860092584,1.8763100787933222,-1.149197127466469,-0.33071258304144435,-0.903204616889579,-0.38847979647058817,-1.1896469966014003,-0.20764447487221024,1.243884872816924,-0.5090636362684436,-1.0423055947393969,-0.06350848782566847,-0.715011626851832,-0.004311390566099713,0.35968046038437906,0.3482155214518224,1.5642585538961675,0.05372460015033393,0.26927859988825925,0.9459316001975121,-1.3231038977865164,-0.13177750479968495,2.894936439883955,1.2620145095169104,-2.673128848304644],\"type\":\"scatter\"}],                        {\"legend\":{\"bgcolor\":\"#F5F6F9\",\"font\":{\"color\":\"#4D5663\"}},\"paper_bgcolor\":\"#F5F6F9\",\"plot_bgcolor\":\"#F5F6F9\",\"template\":{\"data\":{\"barpolar\":[{\"marker\":{\"line\":{\"color\":\"#E5ECF6\",\"width\":0.5},\"pattern\":{\"fillmode\":\"overlay\",\"size\":10,\"solidity\":0.2}},\"type\":\"barpolar\"}],\"bar\":[{\"error_x\":{\"color\":\"#2a3f5f\"},\"error_y\":{\"color\":\"#2a3f5f\"},\"marker\":{\"line\":{\"color\":\"#E5ECF6\",\"width\":0.5},\"pattern\":{\"fillmode\":\"overlay\",\"size\":10,\"solidity\":0.2}},\"type\":\"bar\"}],\"carpet\":[{\"aaxis\":{\"endlinecolor\":\"#2a3f5f\",\"gridcolor\":\"white\",\"linecolor\":\"white\",\"minorgridcolor\":\"white\",\"startlinecolor\":\"#2a3f5f\"},\"baxis\":{\"endlinecolor\":\"#2a3f5f\",\"gridcolor\":\"white\",\"linecolor\":\"white\",\"minorgridcolor\":\"white\",\"startlinecolor\":\"#2a3f5f\"},\"type\":\"carpet\"}],\"choropleth\":[{\"colorbar\":{\"outlinewidth\":0,\"ticks\":\"\"},\"type\":\"choropleth\"}],\"contourcarpet\":[{\"colorbar\":{\"outlinewidth\":0,\"ticks\":\"\"},\"type\":\"contourcarpet\"}],\"contour\":[{\"colorbar\":{\"outlinewidth\":0,\"ticks\":\"\"},\"colorscale\":[[0.0,\"#0d0887\"],[0.1111111111111111,\"#46039f\"],[0.2222222222222222,\"#7201a8\"],[0.3333333333333333,\"#9c179e\"],[0.4444444444444444,\"#bd3786\"],[0.5555555555555556,\"#d8576b\"],[0.6666666666666666,\"#ed7953\"],[0.7777777777777778,\"#fb9f3a\"],[0.8888888888888888,\"#fdca26\"],[1.0,\"#f0f921\"]],\"type\":\"contour\"}],\"heatmapgl\":[{\"colorbar\":{\"outlinewidth\":0,\"ticks\":\"\"},\"colorscale\":[[0.0,\"#0d0887\"],[0.1111111111111111,\"#46039f\"],[0.2222222222222222,\"#7201a8\"],[0.3333333333333333,\"#9c179e\"],[0.4444444444444444,\"#bd3786\"],[0.5555555555555556,\"#d8576b\"],[0.6666666666666666,\"#ed7953\"],[0.7777777777777778,\"#fb9f3a\"],[0.8888888888888888,\"#fdca26\"],[1.0,\"#f0f921\"]],\"type\":\"heatmapgl\"}],\"heatmap\":[{\"colorbar\":{\"outlinewidth\":0,\"ticks\":\"\"},\"colorscale\":[[0.0,\"#0d0887\"],[0.1111111111111111,\"#46039f\"],[0.2222222222222222,\"#7201a8\"],[0.3333333333333333,\"#9c179e\"],[0.4444444444444444,\"#bd3786\"],[0.5555555555555556,\"#d8576b\"],[0.6666666666666666,\"#ed7953\"],[0.7777777777777778,\"#fb9f3a\"],[0.8888888888888888,\"#fdca26\"],[1.0,\"#f0f921\"]],\"type\":\"heatmap\"}],\"histogram2dcontour\":[{\"colorbar\":{\"outlinewidth\":0,\"ticks\":\"\"},\"colorscale\":[[0.0,\"#0d0887\"],[0.1111111111111111,\"#46039f\"],[0.2222222222222222,\"#7201a8\"],[0.3333333333333333,\"#9c179e\"],[0.4444444444444444,\"#bd3786\"],[0.5555555555555556,\"#d8576b\"],[0.6666666666666666,\"#ed7953\"],[0.7777777777777778,\"#fb9f3a\"],[0.8888888888888888,\"#fdca26\"],[1.0,\"#f0f921\"]],\"type\":\"histogram2dcontour\"}],\"histogram2d\":[{\"colorbar\":{\"outlinewidth\":0,\"ticks\":\"\"},\"colorscale\":[[0.0,\"#0d0887\"],[0.1111111111111111,\"#46039f\"],[0.2222222222222222,\"#7201a8\"],[0.3333333333333333,\"#9c179e\"],[0.4444444444444444,\"#bd3786\"],[0.5555555555555556,\"#d8576b\"],[0.6666666666666666,\"#ed7953\"],[0.7777777777777778,\"#fb9f3a\"],[0.8888888888888888,\"#fdca26\"],[1.0,\"#f0f921\"]],\"type\":\"histogram2d\"}],\"histogram\":[{\"marker\":{\"pattern\":{\"fillmode\":\"overlay\",\"size\":10,\"solidity\":0.2}},\"type\":\"histogram\"}],\"mesh3d\":[{\"colorbar\":{\"outlinewidth\":0,\"ticks\":\"\"},\"type\":\"mesh3d\"}],\"parcoords\":[{\"line\":{\"colorbar\":{\"outlinewidth\":0,\"ticks\":\"\"}},\"type\":\"parcoords\"}],\"pie\":[{\"automargin\":true,\"type\":\"pie\"}],\"scatter3d\":[{\"line\":{\"colorbar\":{\"outlinewidth\":0,\"ticks\":\"\"}},\"marker\":{\"colorbar\":{\"outlinewidth\":0,\"ticks\":\"\"}},\"type\":\"scatter3d\"}],\"scattercarpet\":[{\"marker\":{\"colorbar\":{\"outlinewidth\":0,\"ticks\":\"\"}},\"type\":\"scattercarpet\"}],\"scattergeo\":[{\"marker\":{\"colorbar\":{\"outlinewidth\":0,\"ticks\":\"\"}},\"type\":\"scattergeo\"}],\"scattergl\":[{\"marker\":{\"colorbar\":{\"outlinewidth\":0,\"ticks\":\"\"}},\"type\":\"scattergl\"}],\"scattermapbox\":[{\"marker\":{\"colorbar\":{\"outlinewidth\":0,\"ticks\":\"\"}},\"type\":\"scattermapbox\"}],\"scatterpolargl\":[{\"marker\":{\"colorbar\":{\"outlinewidth\":0,\"ticks\":\"\"}},\"type\":\"scatterpolargl\"}],\"scatterpolar\":[{\"marker\":{\"colorbar\":{\"outlinewidth\":0,\"ticks\":\"\"}},\"type\":\"scatterpolar\"}],\"scatter\":[{\"fillpattern\":{\"fillmode\":\"overlay\",\"size\":10,\"solidity\":0.2},\"type\":\"scatter\"}],\"scatterternary\":[{\"marker\":{\"colorbar\":{\"outlinewidth\":0,\"ticks\":\"\"}},\"type\":\"scatterternary\"}],\"surface\":[{\"colorbar\":{\"outlinewidth\":0,\"ticks\":\"\"},\"colorscale\":[[0.0,\"#0d0887\"],[0.1111111111111111,\"#46039f\"],[0.2222222222222222,\"#7201a8\"],[0.3333333333333333,\"#9c179e\"],[0.4444444444444444,\"#bd3786\"],[0.5555555555555556,\"#d8576b\"],[0.6666666666666666,\"#ed7953\"],[0.7777777777777778,\"#fb9f3a\"],[0.8888888888888888,\"#fdca26\"],[1.0,\"#f0f921\"]],\"type\":\"surface\"}],\"table\":[{\"cells\":{\"fill\":{\"color\":\"#EBF0F8\"},\"line\":{\"color\":\"white\"}},\"header\":{\"fill\":{\"color\":\"#C8D4E3\"},\"line\":{\"color\":\"white\"}},\"type\":\"table\"}]},\"layout\":{\"annotationdefaults\":{\"arrowcolor\":\"#2a3f5f\",\"arrowhead\":0,\"arrowwidth\":1},\"autotypenumbers\":\"strict\",\"coloraxis\":{\"colorbar\":{\"outlinewidth\":0,\"ticks\":\"\"}},\"colorscale\":{\"diverging\":[[0,\"#8e0152\"],[0.1,\"#c51b7d\"],[0.2,\"#de77ae\"],[0.3,\"#f1b6da\"],[0.4,\"#fde0ef\"],[0.5,\"#f7f7f7\"],[0.6,\"#e6f5d0\"],[0.7,\"#b8e186\"],[0.8,\"#7fbc41\"],[0.9,\"#4d9221\"],[1,\"#276419\"]],\"sequential\":[[0.0,\"#0d0887\"],[0.1111111111111111,\"#46039f\"],[0.2222222222222222,\"#7201a8\"],[0.3333333333333333,\"#9c179e\"],[0.4444444444444444,\"#bd3786\"],[0.5555555555555556,\"#d8576b\"],[0.6666666666666666,\"#ed7953\"],[0.7777777777777778,\"#fb9f3a\"],[0.8888888888888888,\"#fdca26\"],[1.0,\"#f0f921\"]],\"sequentialminus\":[[0.0,\"#0d0887\"],[0.1111111111111111,\"#46039f\"],[0.2222222222222222,\"#7201a8\"],[0.3333333333333333,\"#9c179e\"],[0.4444444444444444,\"#bd3786\"],[0.5555555555555556,\"#d8576b\"],[0.6666666666666666,\"#ed7953\"],[0.7777777777777778,\"#fb9f3a\"],[0.8888888888888888,\"#fdca26\"],[1.0,\"#f0f921\"]]},\"colorway\":[\"#636efa\",\"#EF553B\",\"#00cc96\",\"#ab63fa\",\"#FFA15A\",\"#19d3f3\",\"#FF6692\",\"#B6E880\",\"#FF97FF\",\"#FECB52\"],\"font\":{\"color\":\"#2a3f5f\"},\"geo\":{\"bgcolor\":\"white\",\"lakecolor\":\"white\",\"landcolor\":\"#E5ECF6\",\"showlakes\":true,\"showland\":true,\"subunitcolor\":\"white\"},\"hoverlabel\":{\"align\":\"left\"},\"hovermode\":\"closest\",\"mapbox\":{\"style\":\"light\"},\"paper_bgcolor\":\"white\",\"plot_bgcolor\":\"#E5ECF6\",\"polar\":{\"angularaxis\":{\"gridcolor\":\"white\",\"linecolor\":\"white\",\"ticks\":\"\"},\"bgcolor\":\"#E5ECF6\",\"radialaxis\":{\"gridcolor\":\"white\",\"linecolor\":\"white\",\"ticks\":\"\"}},\"scene\":{\"xaxis\":{\"backgroundcolor\":\"#E5ECF6\",\"gridcolor\":\"white\",\"gridwidth\":2,\"linecolor\":\"white\",\"showbackground\":true,\"ticks\":\"\",\"zerolinecolor\":\"white\"},\"yaxis\":{\"backgroundcolor\":\"#E5ECF6\",\"gridcolor\":\"white\",\"gridwidth\":2,\"linecolor\":\"white\",\"showbackground\":true,\"ticks\":\"\",\"zerolinecolor\":\"white\"},\"zaxis\":{\"backgroundcolor\":\"#E5ECF6\",\"gridcolor\":\"white\",\"gridwidth\":2,\"linecolor\":\"white\",\"showbackground\":true,\"ticks\":\"\",\"zerolinecolor\":\"white\"}},\"shapedefaults\":{\"line\":{\"color\":\"#2a3f5f\"}},\"ternary\":{\"aaxis\":{\"gridcolor\":\"white\",\"linecolor\":\"white\",\"ticks\":\"\"},\"baxis\":{\"gridcolor\":\"white\",\"linecolor\":\"white\",\"ticks\":\"\"},\"bgcolor\":\"#E5ECF6\",\"caxis\":{\"gridcolor\":\"white\",\"linecolor\":\"white\",\"ticks\":\"\"}},\"title\":{\"x\":0.05},\"xaxis\":{\"automargin\":true,\"gridcolor\":\"white\",\"linecolor\":\"white\",\"ticks\":\"\",\"title\":{\"standoff\":15},\"zerolinecolor\":\"white\",\"zerolinewidth\":2},\"yaxis\":{\"automargin\":true,\"gridcolor\":\"white\",\"linecolor\":\"white\",\"ticks\":\"\",\"title\":{\"standoff\":15},\"zerolinecolor\":\"white\",\"zerolinewidth\":2}}},\"title\":{\"font\":{\"color\":\"#4D5663\"}},\"xaxis\":{\"gridcolor\":\"#E1E5ED\",\"showgrid\":true,\"tickfont\":{\"color\":\"#4D5663\"},\"title\":{\"font\":{\"color\":\"#4D5663\"},\"text\":\"\"},\"zerolinecolor\":\"#E1E5ED\"},\"yaxis\":{\"gridcolor\":\"#E1E5ED\",\"showgrid\":true,\"tickfont\":{\"color\":\"#4D5663\"},\"title\":{\"font\":{\"color\":\"#4D5663\"},\"text\":\"\"},\"zerolinecolor\":\"#E1E5ED\"}},                        {\"showLink\": true, \"linkText\": \"Export to plot.ly\", \"plotlyServerURL\": \"https://plot.ly\", \"responsive\": true}                    ).then(function(){\n",
       "                            \n",
       "var gd = document.getElementById('bac1cf62-5cef-4d4e-bcc8-97630ae8d6d9');\n",
       "var x = new MutationObserver(function (mutations, observer) {{\n",
       "        var display = window.getComputedStyle(gd).display;\n",
       "        if (!display || display === 'none') {{\n",
       "            console.log([gd, 'removed!']);\n",
       "            Plotly.purge(gd);\n",
       "            observer.disconnect();\n",
       "        }}\n",
       "}});\n",
       "\n",
       "// Listen for the removal of the full notebook cells\n",
       "var notebookContainer = gd.closest('#notebook-container');\n",
       "if (notebookContainer) {{\n",
       "    x.observe(notebookContainer, {childList: true});\n",
       "}}\n",
       "\n",
       "// Listen for the clearing of the current output cell\n",
       "var outputEl = gd.closest('.output');\n",
       "if (outputEl) {{\n",
       "    x.observe(outputEl, {childList: true});\n",
       "}}\n",
       "\n",
       "                        })                };                });            </script>        </div>"
      ]
     },
     "metadata": {},
     "output_type": "display_data"
    }
   ],
   "source": [
    "df.iplot(kind='bubble', x='A', y='B', size='C')"
   ]
  },
  {
   "cell_type": "code",
   "execution_count": 28,
   "metadata": {
    "scrolled": true
   },
   "outputs": [
    {
     "data": {
      "application/vnd.plotly.v1+json": {
       "config": {
        "linkText": "Export to plot.ly",
        "plotlyServerURL": "https://plot.ly",
        "showLink": true
       },
       "data": [
        {
         "histfunc": "count",
         "histnorm": "",
         "marker": {
          "color": "rgba(255, 153, 51, 1.0)",
          "line": {
           "color": "#4D5663",
           "width": 1.3
          }
         },
         "name": "A",
         "nbinsx": 10,
         "opacity": 0.8,
         "orientation": "v",
         "type": "histogram",
         "x": [
          0.08548394392684941,
          -0.5893916978546746,
          -0.8419665667833715,
          1.0653294037412206,
          -0.30404866925348994,
          0.3220582584509832,
          1.1049131997268444,
          0.32518021155482785,
          2.7803713071535303,
          -0.6512650673063205,
          0.49199825674186487,
          -0.08508963549565635,
          0.5726425435043762,
          2.1386501290862214,
          -0.9950235584665907,
          2.0052327231453364,
          1.9086945678707794,
          -0.4672730441548413,
          0.09809372512041015,
          0.20776175313101258,
          -0.13008291273505135,
          -0.213716607920109,
          -0.752971396659258,
          -0.8856345833042678,
          -0.21828897744131906,
          -1.5221842260642924,
          1.7597176132531838,
          0.368692867252797,
          0.012002423023914443,
          -0.3300847199674508,
          -1.174027326022618,
          0.27669897261410636,
          0.9022235975340244,
          0.1237670623846236,
          0.27474926924742754,
          -1.2318138433306547,
          -0.9291362405434669,
          0.2581841484670674,
          -0.35557870411472275,
          0.31329107322223737,
          -0.10998911435349933,
          -0.6056942752510703,
          0.5496119520128204,
          0.7217212678834122,
          1.1080438778814063,
          1.194652068448999,
          1.9452460051287748,
          -1.0096690093450156,
          0.06886112821121931,
          -0.22386569878334348,
          0.3722266141668129,
          2.3949425017894628,
          -1.5415993206560856,
          0.31051517323586425,
          -0.9007115672683569,
          -0.37250269015414444,
          0.12892868685879072,
          -2.093099841220505,
          0.19281052497404821,
          -0.14026793411748828,
          0.7202355995317967,
          1.9985914284907331,
          -0.024224308482236806,
          0.01896759967272472,
          -1.5884383627946148,
          0.14382833009913976,
          0.8208787993291673,
          0.11647492827936208,
          0.8148442245171553,
          -0.9944542791659978,
          -1.5826860570144032,
          -1.0027608392246807,
          0.6405945754015209,
          -1.2307004748798553,
          -0.9114975696364512,
          1.37764411838987,
          0.5203887980053448,
          -0.6308501093425088,
          -0.04108239600910254,
          -0.14803345522911654,
          0.27240046321175776,
          -0.0984268942816003,
          -0.7917134062519374,
          -0.6755333627675957,
          0.5021187599504238,
          -1.489214963700235,
          0.08552835376163205,
          -1.8220289030449843,
          1.3610498831089615,
          -1.5377662111236543,
          0.4413929766677556,
          1.1406361331627282,
          1.7219831491686641,
          -0.154773148802657,
          -0.2652967487886054,
          1.0404378705960964,
          -0.9175907022603449,
          -0.8622776172416078,
          -1.3999208590790715,
          0.09066006069192459
         ],
         "xaxis": "x",
         "yaxis": "y"
        },
        {
         "line": {
          "color": "rgba(128, 128, 128, 1.0)",
          "dash": "solid",
          "shape": "linear",
          "width": 1.3
         },
         "marker": {
          "size": 2,
          "symbol": "circle"
         },
         "mode": "markers",
         "name": "A",
         "text": "",
         "type": "scatter",
         "x": [
          -0.1624050135760886,
          0.980851981664618,
          1.6263758604043954,
          0.6670449829300747,
          0.8463914642614553,
          -0.5557547356556708,
          1.3335019465823352,
          -0.30360500311515876,
          -0.5572485277306021,
          1.7923193575265437,
          0.5230714474292316,
          1.3962847654068788,
          0.5454202975825965,
          0.8220066168038932,
          0.1333294140157902,
          -0.4580923125178034,
          -1.8702657688987048,
          0.19165599638946365,
          -1.5441476695946914,
          1.489985153554788,
          0.08513682537748908,
          0.5884943933265148,
          -0.37527778093043845,
          -1.2420986135906638,
          -0.09359385888729599,
          -0.8993751877593811,
          0.9038336626818552,
          0.19897941905376915,
          -0.3499682664519889,
          -0.813255283672789,
          -0.761601608488013,
          0.6852647594122985,
          0.7444146965136054,
          -0.10824902571549988,
          1.0343766589925962,
          0.6794742299814396,
          -1.377108827556193,
          -0.9198084554974598,
          1.2754158682756254,
          -0.6805171783915703,
          1.6295186194490634,
          1.3058104975166638,
          -0.008015691590719798,
          0.37945370182803906,
          -0.9344148723391815,
          0.33642615175310187,
          -1.117113472484452,
          1.2098097732957693,
          1.890729615247962,
          -0.3020317509780135,
          -0.795391429211958,
          0.5145436162551661,
          -1.17644678201426,
          0.011191592090796853,
          -2.664750053974455,
          -0.7052058747591703,
          0.4318577646237392,
          0.3482634341301973,
          0.6748205565464416,
          -0.34169023793862807,
          -0.07989141803255546,
          -0.1006525565267022,
          0.7334329357689917,
          0.8392098396231535,
          -0.4553307130666966,
          -0.7064260571420193,
          0.15230984770640202,
          0.6237041195854198,
          0.5318919831274378,
          0.5221352231397314,
          -0.8174059688720081,
          2.4389763497413726,
          -0.1242766171971954,
          1.9621837956400514,
          -0.09450483861151593,
          -0.27813013860092584,
          1.8763100787933222,
          -1.149197127466469,
          -0.33071258304144435,
          -0.903204616889579,
          -0.38847979647058817,
          -1.1896469966014003,
          -0.20764447487221024,
          1.243884872816924,
          -0.5090636362684436,
          -1.0423055947393969,
          -0.06350848782566847,
          -0.715011626851832,
          -0.004311390566099713,
          0.35968046038437906,
          0.3482155214518224,
          1.5642585538961675,
          0.05372460015033393,
          0.26927859988825925,
          0.9459316001975121,
          -1.3231038977865164,
          -0.13177750479968495,
          2.894936439883955,
          1.2620145095169104,
          -2.673128848304644
         ],
         "xaxis": "x2",
         "y": [
          0.08548394392684941,
          -0.5893916978546746,
          -0.8419665667833715,
          1.0653294037412206,
          -0.30404866925348994,
          0.3220582584509832,
          1.1049131997268444,
          0.32518021155482785,
          2.7803713071535303,
          -0.6512650673063205,
          0.49199825674186487,
          -0.08508963549565635,
          0.5726425435043762,
          2.1386501290862214,
          -0.9950235584665907,
          2.0052327231453364,
          1.9086945678707794,
          -0.4672730441548413,
          0.09809372512041015,
          0.20776175313101258,
          -0.13008291273505135,
          -0.213716607920109,
          -0.752971396659258,
          -0.8856345833042678,
          -0.21828897744131906,
          -1.5221842260642924,
          1.7597176132531838,
          0.368692867252797,
          0.012002423023914443,
          -0.3300847199674508,
          -1.174027326022618,
          0.27669897261410636,
          0.9022235975340244,
          0.1237670623846236,
          0.27474926924742754,
          -1.2318138433306547,
          -0.9291362405434669,
          0.2581841484670674,
          -0.35557870411472275,
          0.31329107322223737,
          -0.10998911435349933,
          -0.6056942752510703,
          0.5496119520128204,
          0.7217212678834122,
          1.1080438778814063,
          1.194652068448999,
          1.9452460051287748,
          -1.0096690093450156,
          0.06886112821121931,
          -0.22386569878334348,
          0.3722266141668129,
          2.3949425017894628,
          -1.5415993206560856,
          0.31051517323586425,
          -0.9007115672683569,
          -0.37250269015414444,
          0.12892868685879072,
          -2.093099841220505,
          0.19281052497404821,
          -0.14026793411748828,
          0.7202355995317967,
          1.9985914284907331,
          -0.024224308482236806,
          0.01896759967272472,
          -1.5884383627946148,
          0.14382833009913976,
          0.8208787993291673,
          0.11647492827936208,
          0.8148442245171553,
          -0.9944542791659978,
          -1.5826860570144032,
          -1.0027608392246807,
          0.6405945754015209,
          -1.2307004748798553,
          -0.9114975696364512,
          1.37764411838987,
          0.5203887980053448,
          -0.6308501093425088,
          -0.04108239600910254,
          -0.14803345522911654,
          0.27240046321175776,
          -0.0984268942816003,
          -0.7917134062519374,
          -0.6755333627675957,
          0.5021187599504238,
          -1.489214963700235,
          0.08552835376163205,
          -1.8220289030449843,
          1.3610498831089615,
          -1.5377662111236543,
          0.4413929766677556,
          1.1406361331627282,
          1.7219831491686641,
          -0.154773148802657,
          -0.2652967487886054,
          1.0404378705960964,
          -0.9175907022603449,
          -0.8622776172416078,
          -1.3999208590790715,
          0.09066006069192459
         ],
         "yaxis": "y2"
        },
        {
         "line": {
          "color": "rgba(128, 128, 128, 1.0)",
          "dash": "solid",
          "shape": "linear",
          "width": 1.3
         },
         "marker": {
          "size": 2,
          "symbol": "circle"
         },
         "mode": "markers",
         "name": "A",
         "text": "",
         "type": "scatter",
         "x": [
          0.6412589089125755,
          1.472567741037022,
          -0.2687466186269782,
          -1.7735064924519603,
          0.5601400122075234,
          0.25217416536870757,
          -1.3215997730280071,
          -1.7262086242966832,
          -0.9738853524478275,
          1.2500283602315663,
          0.5249984551350043,
          -1.502163493955724,
          0.9113486982285866,
          0.6796501710359869,
          -0.635856076990072,
          -1.5901119656069276,
          -0.7904035535920758,
          0.34955478363036163,
          -0.6636661473619723,
          1.1783113790227202,
          -1.2808617434642788,
          1.2370923961343416,
          0.4925215168066359,
          1.0590414161745894,
          0.3818303607994144,
          0.3309854097822343,
          0.16466632880907464,
          0.15742594633466814,
          0.24139038536893875,
          0.20974639260906272,
          -0.4376340808291526,
          0.45307155889739953,
          -0.1195415538869707,
          0.7050934558410267,
          -0.16505543858861943,
          -0.0744610225167786,
          -1.5359055532970263,
          -0.3179748445068104,
          -0.9355433150515867,
          0.7763428615270302,
          -0.7570288525819087,
          -0.5232076867983879,
          -1.052788698551844,
          -1.2789749060079498,
          2.1658442574234646,
          0.6516143243986185,
          -0.46556438374990194,
          -0.2868044646248472,
          0.44127415645197704,
          -1.292478675144893,
          0.02701392480956382,
          1.1674132319349262,
          -0.34019771545061356,
          0.9321924054092174,
          -0.7928124486847574,
          -0.16498525070646566,
          1.2217990862318404,
          0.44302455085292114,
          -1.6612556202937296,
          -0.47056999434915275,
          0.7476295398312772,
          0.2122729890849066,
          -0.6474087501116943,
          -1.498408832541912,
          0.6061541873041607,
          -0.46516793267155004,
          0.6289680770835141,
          -0.46396714401992867,
          0.3091540300280098,
          -1.049917603902546,
          1.1484605009911824,
          -0.7755442675016427,
          -0.16128609405326352,
          0.5540049239205772,
          -0.6041047593824724,
          0.6312424861158306,
          -1.7140095898951782,
          -0.27122334414049487,
          -1.7643029354927504,
          -1.2568226575240087,
          -0.8211420844568663,
          0.7368746723538686,
          0.41721452554864924,
          0.07562441066740945,
          0.676921980063291,
          0.43084182319755937,
          -0.04001504424991739,
          -0.11533662855753606,
          0.04023772431325562,
          0.11617110860078872,
          2.1731346128638154,
          0.445067331245984,
          -1.0448362291742717,
          0.24246137636291806,
          1.0033335882793126,
          -0.844881667918056,
          1.1021227464217307,
          0.47606015853335476,
          -0.06914169012261069,
          -1.0479609140632111
         ],
         "xaxis": "x3",
         "y": [
          0.08548394392684941,
          -0.5893916978546746,
          -0.8419665667833715,
          1.0653294037412206,
          -0.30404866925348994,
          0.3220582584509832,
          1.1049131997268444,
          0.32518021155482785,
          2.7803713071535303,
          -0.6512650673063205,
          0.49199825674186487,
          -0.08508963549565635,
          0.5726425435043762,
          2.1386501290862214,
          -0.9950235584665907,
          2.0052327231453364,
          1.9086945678707794,
          -0.4672730441548413,
          0.09809372512041015,
          0.20776175313101258,
          -0.13008291273505135,
          -0.213716607920109,
          -0.752971396659258,
          -0.8856345833042678,
          -0.21828897744131906,
          -1.5221842260642924,
          1.7597176132531838,
          0.368692867252797,
          0.012002423023914443,
          -0.3300847199674508,
          -1.174027326022618,
          0.27669897261410636,
          0.9022235975340244,
          0.1237670623846236,
          0.27474926924742754,
          -1.2318138433306547,
          -0.9291362405434669,
          0.2581841484670674,
          -0.35557870411472275,
          0.31329107322223737,
          -0.10998911435349933,
          -0.6056942752510703,
          0.5496119520128204,
          0.7217212678834122,
          1.1080438778814063,
          1.194652068448999,
          1.9452460051287748,
          -1.0096690093450156,
          0.06886112821121931,
          -0.22386569878334348,
          0.3722266141668129,
          2.3949425017894628,
          -1.5415993206560856,
          0.31051517323586425,
          -0.9007115672683569,
          -0.37250269015414444,
          0.12892868685879072,
          -2.093099841220505,
          0.19281052497404821,
          -0.14026793411748828,
          0.7202355995317967,
          1.9985914284907331,
          -0.024224308482236806,
          0.01896759967272472,
          -1.5884383627946148,
          0.14382833009913976,
          0.8208787993291673,
          0.11647492827936208,
          0.8148442245171553,
          -0.9944542791659978,
          -1.5826860570144032,
          -1.0027608392246807,
          0.6405945754015209,
          -1.2307004748798553,
          -0.9114975696364512,
          1.37764411838987,
          0.5203887980053448,
          -0.6308501093425088,
          -0.04108239600910254,
          -0.14803345522911654,
          0.27240046321175776,
          -0.0984268942816003,
          -0.7917134062519374,
          -0.6755333627675957,
          0.5021187599504238,
          -1.489214963700235,
          0.08552835376163205,
          -1.8220289030449843,
          1.3610498831089615,
          -1.5377662111236543,
          0.4413929766677556,
          1.1406361331627282,
          1.7219831491686641,
          -0.154773148802657,
          -0.2652967487886054,
          1.0404378705960964,
          -0.9175907022603449,
          -0.8622776172416078,
          -1.3999208590790715,
          0.09066006069192459
         ],
         "yaxis": "y3"
        },
        {
         "line": {
          "color": "rgba(128, 128, 128, 1.0)",
          "dash": "solid",
          "shape": "linear",
          "width": 1.3
         },
         "marker": {
          "size": 2,
          "symbol": "circle"
         },
         "mode": "markers",
         "name": "A",
         "text": "",
         "type": "scatter",
         "x": [
          -1.7822917875091935,
          0.1915208695213333,
          -1.1467068976703902,
          0.30624681099494816,
          0.03229961002316076,
          -0.41019555202988855,
          0.9234459150834765,
          0.6845490151314748,
          1.3976402216500794,
          0.34078001060667357,
          -0.04312938263882135,
          1.1579173247188355,
          -0.24375085798034005,
          0.6635410586107904,
          -0.41214106415805,
          0.20783347409624986,
          1.9778035277350121,
          1.8035219152401591,
          0.8672718446751185,
          1.1225593110805672,
          1.3585885827802862,
          0.09615802852056259,
          -2.1654458285904705,
          0.801827621288512,
          1.0912870409177637,
          -0.47755874710532253,
          0.8669663674008047,
          1.4450890511468257,
          0.020537975107899877,
          -1.1305545949149578,
          -1.4042787535845844,
          -1.047192049958398,
          -1.7062430433981837,
          1.0406748783313535,
          2.603230292200818,
          -0.45588335299079275,
          1.0172306316579824,
          -0.693019405978078,
          0.3229610115017036,
          -0.1277257660468025,
          -0.1807752695669388,
          -0.27881021294072755,
          -0.507580865896411,
          0.5046709690440891,
          0.05779397036814958,
          -0.8739310677129855,
          -1.5171668436546109,
          0.2103284547817714,
          -0.2876494863559525,
          -0.27380897287263584,
          -0.39468103443361874,
          1.2138186670235764,
          -1.1763908107905696,
          -0.6905409504347623,
          0.06320490997305743,
          -0.7156225632534614,
          -1.5693393310807464,
          1.3000718895120567,
          -0.8974172400966365,
          -1.1879501225629767,
          0.11384289484320421,
          -0.0650235497763702,
          -0.17192387639926812,
          0.1822730143198839,
          -1.2890501348396302,
          -0.08631434729283817,
          0.9314827288196189,
          -0.343699859315308,
          0.3321520635968143,
          -0.2792076671860723,
          0.5902727958788655,
          -0.9797952884959037,
          1.3233738189549666,
          -0.9833479609096336,
          -0.824933730173071,
          -0.2900561002124916,
          0.98159145364883,
          1.7616843811085157,
          0.9194420221106,
          -2.678004829352987,
          1.7157153410166455,
          -1.3658609547855702,
          -0.5917148213076168,
          -1.113407552973405,
          1.5438265040803627,
          0.0916017762288628,
          -1.3891670183006424,
          -0.06210004705111074,
          -0.10160228286509329,
          -0.10034150180669871,
          2.098253749252335,
          -1.9136082063618318,
          2.2509058712518946,
          0.8327274034959132,
          0.3033332957175999,
          2.6833417001980493,
          0.7576534733306034,
          0.9500571946556061,
          0.04208920924634037,
          0.8425203307201007
         ],
         "xaxis": "x4",
         "y": [
          0.08548394392684941,
          -0.5893916978546746,
          -0.8419665667833715,
          1.0653294037412206,
          -0.30404866925348994,
          0.3220582584509832,
          1.1049131997268444,
          0.32518021155482785,
          2.7803713071535303,
          -0.6512650673063205,
          0.49199825674186487,
          -0.08508963549565635,
          0.5726425435043762,
          2.1386501290862214,
          -0.9950235584665907,
          2.0052327231453364,
          1.9086945678707794,
          -0.4672730441548413,
          0.09809372512041015,
          0.20776175313101258,
          -0.13008291273505135,
          -0.213716607920109,
          -0.752971396659258,
          -0.8856345833042678,
          -0.21828897744131906,
          -1.5221842260642924,
          1.7597176132531838,
          0.368692867252797,
          0.012002423023914443,
          -0.3300847199674508,
          -1.174027326022618,
          0.27669897261410636,
          0.9022235975340244,
          0.1237670623846236,
          0.27474926924742754,
          -1.2318138433306547,
          -0.9291362405434669,
          0.2581841484670674,
          -0.35557870411472275,
          0.31329107322223737,
          -0.10998911435349933,
          -0.6056942752510703,
          0.5496119520128204,
          0.7217212678834122,
          1.1080438778814063,
          1.194652068448999,
          1.9452460051287748,
          -1.0096690093450156,
          0.06886112821121931,
          -0.22386569878334348,
          0.3722266141668129,
          2.3949425017894628,
          -1.5415993206560856,
          0.31051517323586425,
          -0.9007115672683569,
          -0.37250269015414444,
          0.12892868685879072,
          -2.093099841220505,
          0.19281052497404821,
          -0.14026793411748828,
          0.7202355995317967,
          1.9985914284907331,
          -0.024224308482236806,
          0.01896759967272472,
          -1.5884383627946148,
          0.14382833009913976,
          0.8208787993291673,
          0.11647492827936208,
          0.8148442245171553,
          -0.9944542791659978,
          -1.5826860570144032,
          -1.0027608392246807,
          0.6405945754015209,
          -1.2307004748798553,
          -0.9114975696364512,
          1.37764411838987,
          0.5203887980053448,
          -0.6308501093425088,
          -0.04108239600910254,
          -0.14803345522911654,
          0.27240046321175776,
          -0.0984268942816003,
          -0.7917134062519374,
          -0.6755333627675957,
          0.5021187599504238,
          -1.489214963700235,
          0.08552835376163205,
          -1.8220289030449843,
          1.3610498831089615,
          -1.5377662111236543,
          0.4413929766677556,
          1.1406361331627282,
          1.7219831491686641,
          -0.154773148802657,
          -0.2652967487886054,
          1.0404378705960964,
          -0.9175907022603449,
          -0.8622776172416078,
          -1.3999208590790715,
          0.09066006069192459
         ],
         "yaxis": "y4"
        },
        {
         "line": {
          "color": "rgba(128, 128, 128, 1.0)",
          "dash": "solid",
          "shape": "linear",
          "width": 1.3
         },
         "marker": {
          "size": 2,
          "symbol": "circle"
         },
         "mode": "markers",
         "name": "B",
         "text": "",
         "type": "scatter",
         "x": [
          0.08548394392684941,
          -0.5893916978546746,
          -0.8419665667833715,
          1.0653294037412206,
          -0.30404866925348994,
          0.3220582584509832,
          1.1049131997268444,
          0.32518021155482785,
          2.7803713071535303,
          -0.6512650673063205,
          0.49199825674186487,
          -0.08508963549565635,
          0.5726425435043762,
          2.1386501290862214,
          -0.9950235584665907,
          2.0052327231453364,
          1.9086945678707794,
          -0.4672730441548413,
          0.09809372512041015,
          0.20776175313101258,
          -0.13008291273505135,
          -0.213716607920109,
          -0.752971396659258,
          -0.8856345833042678,
          -0.21828897744131906,
          -1.5221842260642924,
          1.7597176132531838,
          0.368692867252797,
          0.012002423023914443,
          -0.3300847199674508,
          -1.174027326022618,
          0.27669897261410636,
          0.9022235975340244,
          0.1237670623846236,
          0.27474926924742754,
          -1.2318138433306547,
          -0.9291362405434669,
          0.2581841484670674,
          -0.35557870411472275,
          0.31329107322223737,
          -0.10998911435349933,
          -0.6056942752510703,
          0.5496119520128204,
          0.7217212678834122,
          1.1080438778814063,
          1.194652068448999,
          1.9452460051287748,
          -1.0096690093450156,
          0.06886112821121931,
          -0.22386569878334348,
          0.3722266141668129,
          2.3949425017894628,
          -1.5415993206560856,
          0.31051517323586425,
          -0.9007115672683569,
          -0.37250269015414444,
          0.12892868685879072,
          -2.093099841220505,
          0.19281052497404821,
          -0.14026793411748828,
          0.7202355995317967,
          1.9985914284907331,
          -0.024224308482236806,
          0.01896759967272472,
          -1.5884383627946148,
          0.14382833009913976,
          0.8208787993291673,
          0.11647492827936208,
          0.8148442245171553,
          -0.9944542791659978,
          -1.5826860570144032,
          -1.0027608392246807,
          0.6405945754015209,
          -1.2307004748798553,
          -0.9114975696364512,
          1.37764411838987,
          0.5203887980053448,
          -0.6308501093425088,
          -0.04108239600910254,
          -0.14803345522911654,
          0.27240046321175776,
          -0.0984268942816003,
          -0.7917134062519374,
          -0.6755333627675957,
          0.5021187599504238,
          -1.489214963700235,
          0.08552835376163205,
          -1.8220289030449843,
          1.3610498831089615,
          -1.5377662111236543,
          0.4413929766677556,
          1.1406361331627282,
          1.7219831491686641,
          -0.154773148802657,
          -0.2652967487886054,
          1.0404378705960964,
          -0.9175907022603449,
          -0.8622776172416078,
          -1.3999208590790715,
          0.09066006069192459
         ],
         "xaxis": "x5",
         "y": [
          -0.1624050135760886,
          0.980851981664618,
          1.6263758604043954,
          0.6670449829300747,
          0.8463914642614553,
          -0.5557547356556708,
          1.3335019465823352,
          -0.30360500311515876,
          -0.5572485277306021,
          1.7923193575265437,
          0.5230714474292316,
          1.3962847654068788,
          0.5454202975825965,
          0.8220066168038932,
          0.1333294140157902,
          -0.4580923125178034,
          -1.8702657688987048,
          0.19165599638946365,
          -1.5441476695946914,
          1.489985153554788,
          0.08513682537748908,
          0.5884943933265148,
          -0.37527778093043845,
          -1.2420986135906638,
          -0.09359385888729599,
          -0.8993751877593811,
          0.9038336626818552,
          0.19897941905376915,
          -0.3499682664519889,
          -0.813255283672789,
          -0.761601608488013,
          0.6852647594122985,
          0.7444146965136054,
          -0.10824902571549988,
          1.0343766589925962,
          0.6794742299814396,
          -1.377108827556193,
          -0.9198084554974598,
          1.2754158682756254,
          -0.6805171783915703,
          1.6295186194490634,
          1.3058104975166638,
          -0.008015691590719798,
          0.37945370182803906,
          -0.9344148723391815,
          0.33642615175310187,
          -1.117113472484452,
          1.2098097732957693,
          1.890729615247962,
          -0.3020317509780135,
          -0.795391429211958,
          0.5145436162551661,
          -1.17644678201426,
          0.011191592090796853,
          -2.664750053974455,
          -0.7052058747591703,
          0.4318577646237392,
          0.3482634341301973,
          0.6748205565464416,
          -0.34169023793862807,
          -0.07989141803255546,
          -0.1006525565267022,
          0.7334329357689917,
          0.8392098396231535,
          -0.4553307130666966,
          -0.7064260571420193,
          0.15230984770640202,
          0.6237041195854198,
          0.5318919831274378,
          0.5221352231397314,
          -0.8174059688720081,
          2.4389763497413726,
          -0.1242766171971954,
          1.9621837956400514,
          -0.09450483861151593,
          -0.27813013860092584,
          1.8763100787933222,
          -1.149197127466469,
          -0.33071258304144435,
          -0.903204616889579,
          -0.38847979647058817,
          -1.1896469966014003,
          -0.20764447487221024,
          1.243884872816924,
          -0.5090636362684436,
          -1.0423055947393969,
          -0.06350848782566847,
          -0.715011626851832,
          -0.004311390566099713,
          0.35968046038437906,
          0.3482155214518224,
          1.5642585538961675,
          0.05372460015033393,
          0.26927859988825925,
          0.9459316001975121,
          -1.3231038977865164,
          -0.13177750479968495,
          2.894936439883955,
          1.2620145095169104,
          -2.673128848304644
         ],
         "yaxis": "y5"
        },
        {
         "histfunc": "count",
         "histnorm": "",
         "marker": {
          "color": "rgba(55, 128, 191, 1.0)",
          "line": {
           "color": "#4D5663",
           "width": 1.3
          }
         },
         "name": "B",
         "nbinsx": 10,
         "opacity": 0.8,
         "orientation": "v",
         "type": "histogram",
         "x": [
          -0.1624050135760886,
          0.980851981664618,
          1.6263758604043954,
          0.6670449829300747,
          0.8463914642614553,
          -0.5557547356556708,
          1.3335019465823352,
          -0.30360500311515876,
          -0.5572485277306021,
          1.7923193575265437,
          0.5230714474292316,
          1.3962847654068788,
          0.5454202975825965,
          0.8220066168038932,
          0.1333294140157902,
          -0.4580923125178034,
          -1.8702657688987048,
          0.19165599638946365,
          -1.5441476695946914,
          1.489985153554788,
          0.08513682537748908,
          0.5884943933265148,
          -0.37527778093043845,
          -1.2420986135906638,
          -0.09359385888729599,
          -0.8993751877593811,
          0.9038336626818552,
          0.19897941905376915,
          -0.3499682664519889,
          -0.813255283672789,
          -0.761601608488013,
          0.6852647594122985,
          0.7444146965136054,
          -0.10824902571549988,
          1.0343766589925962,
          0.6794742299814396,
          -1.377108827556193,
          -0.9198084554974598,
          1.2754158682756254,
          -0.6805171783915703,
          1.6295186194490634,
          1.3058104975166638,
          -0.008015691590719798,
          0.37945370182803906,
          -0.9344148723391815,
          0.33642615175310187,
          -1.117113472484452,
          1.2098097732957693,
          1.890729615247962,
          -0.3020317509780135,
          -0.795391429211958,
          0.5145436162551661,
          -1.17644678201426,
          0.011191592090796853,
          -2.664750053974455,
          -0.7052058747591703,
          0.4318577646237392,
          0.3482634341301973,
          0.6748205565464416,
          -0.34169023793862807,
          -0.07989141803255546,
          -0.1006525565267022,
          0.7334329357689917,
          0.8392098396231535,
          -0.4553307130666966,
          -0.7064260571420193,
          0.15230984770640202,
          0.6237041195854198,
          0.5318919831274378,
          0.5221352231397314,
          -0.8174059688720081,
          2.4389763497413726,
          -0.1242766171971954,
          1.9621837956400514,
          -0.09450483861151593,
          -0.27813013860092584,
          1.8763100787933222,
          -1.149197127466469,
          -0.33071258304144435,
          -0.903204616889579,
          -0.38847979647058817,
          -1.1896469966014003,
          -0.20764447487221024,
          1.243884872816924,
          -0.5090636362684436,
          -1.0423055947393969,
          -0.06350848782566847,
          -0.715011626851832,
          -0.004311390566099713,
          0.35968046038437906,
          0.3482155214518224,
          1.5642585538961675,
          0.05372460015033393,
          0.26927859988825925,
          0.9459316001975121,
          -1.3231038977865164,
          -0.13177750479968495,
          2.894936439883955,
          1.2620145095169104,
          -2.673128848304644
         ],
         "xaxis": "x6",
         "yaxis": "y6"
        },
        {
         "line": {
          "color": "rgba(128, 128, 128, 1.0)",
          "dash": "solid",
          "shape": "linear",
          "width": 1.3
         },
         "marker": {
          "size": 2,
          "symbol": "circle"
         },
         "mode": "markers",
         "name": "B",
         "text": "",
         "type": "scatter",
         "x": [
          0.6412589089125755,
          1.472567741037022,
          -0.2687466186269782,
          -1.7735064924519603,
          0.5601400122075234,
          0.25217416536870757,
          -1.3215997730280071,
          -1.7262086242966832,
          -0.9738853524478275,
          1.2500283602315663,
          0.5249984551350043,
          -1.502163493955724,
          0.9113486982285866,
          0.6796501710359869,
          -0.635856076990072,
          -1.5901119656069276,
          -0.7904035535920758,
          0.34955478363036163,
          -0.6636661473619723,
          1.1783113790227202,
          -1.2808617434642788,
          1.2370923961343416,
          0.4925215168066359,
          1.0590414161745894,
          0.3818303607994144,
          0.3309854097822343,
          0.16466632880907464,
          0.15742594633466814,
          0.24139038536893875,
          0.20974639260906272,
          -0.4376340808291526,
          0.45307155889739953,
          -0.1195415538869707,
          0.7050934558410267,
          -0.16505543858861943,
          -0.0744610225167786,
          -1.5359055532970263,
          -0.3179748445068104,
          -0.9355433150515867,
          0.7763428615270302,
          -0.7570288525819087,
          -0.5232076867983879,
          -1.052788698551844,
          -1.2789749060079498,
          2.1658442574234646,
          0.6516143243986185,
          -0.46556438374990194,
          -0.2868044646248472,
          0.44127415645197704,
          -1.292478675144893,
          0.02701392480956382,
          1.1674132319349262,
          -0.34019771545061356,
          0.9321924054092174,
          -0.7928124486847574,
          -0.16498525070646566,
          1.2217990862318404,
          0.44302455085292114,
          -1.6612556202937296,
          -0.47056999434915275,
          0.7476295398312772,
          0.2122729890849066,
          -0.6474087501116943,
          -1.498408832541912,
          0.6061541873041607,
          -0.46516793267155004,
          0.6289680770835141,
          -0.46396714401992867,
          0.3091540300280098,
          -1.049917603902546,
          1.1484605009911824,
          -0.7755442675016427,
          -0.16128609405326352,
          0.5540049239205772,
          -0.6041047593824724,
          0.6312424861158306,
          -1.7140095898951782,
          -0.27122334414049487,
          -1.7643029354927504,
          -1.2568226575240087,
          -0.8211420844568663,
          0.7368746723538686,
          0.41721452554864924,
          0.07562441066740945,
          0.676921980063291,
          0.43084182319755937,
          -0.04001504424991739,
          -0.11533662855753606,
          0.04023772431325562,
          0.11617110860078872,
          2.1731346128638154,
          0.445067331245984,
          -1.0448362291742717,
          0.24246137636291806,
          1.0033335882793126,
          -0.844881667918056,
          1.1021227464217307,
          0.47606015853335476,
          -0.06914169012261069,
          -1.0479609140632111
         ],
         "xaxis": "x7",
         "y": [
          -0.1624050135760886,
          0.980851981664618,
          1.6263758604043954,
          0.6670449829300747,
          0.8463914642614553,
          -0.5557547356556708,
          1.3335019465823352,
          -0.30360500311515876,
          -0.5572485277306021,
          1.7923193575265437,
          0.5230714474292316,
          1.3962847654068788,
          0.5454202975825965,
          0.8220066168038932,
          0.1333294140157902,
          -0.4580923125178034,
          -1.8702657688987048,
          0.19165599638946365,
          -1.5441476695946914,
          1.489985153554788,
          0.08513682537748908,
          0.5884943933265148,
          -0.37527778093043845,
          -1.2420986135906638,
          -0.09359385888729599,
          -0.8993751877593811,
          0.9038336626818552,
          0.19897941905376915,
          -0.3499682664519889,
          -0.813255283672789,
          -0.761601608488013,
          0.6852647594122985,
          0.7444146965136054,
          -0.10824902571549988,
          1.0343766589925962,
          0.6794742299814396,
          -1.377108827556193,
          -0.9198084554974598,
          1.2754158682756254,
          -0.6805171783915703,
          1.6295186194490634,
          1.3058104975166638,
          -0.008015691590719798,
          0.37945370182803906,
          -0.9344148723391815,
          0.33642615175310187,
          -1.117113472484452,
          1.2098097732957693,
          1.890729615247962,
          -0.3020317509780135,
          -0.795391429211958,
          0.5145436162551661,
          -1.17644678201426,
          0.011191592090796853,
          -2.664750053974455,
          -0.7052058747591703,
          0.4318577646237392,
          0.3482634341301973,
          0.6748205565464416,
          -0.34169023793862807,
          -0.07989141803255546,
          -0.1006525565267022,
          0.7334329357689917,
          0.8392098396231535,
          -0.4553307130666966,
          -0.7064260571420193,
          0.15230984770640202,
          0.6237041195854198,
          0.5318919831274378,
          0.5221352231397314,
          -0.8174059688720081,
          2.4389763497413726,
          -0.1242766171971954,
          1.9621837956400514,
          -0.09450483861151593,
          -0.27813013860092584,
          1.8763100787933222,
          -1.149197127466469,
          -0.33071258304144435,
          -0.903204616889579,
          -0.38847979647058817,
          -1.1896469966014003,
          -0.20764447487221024,
          1.243884872816924,
          -0.5090636362684436,
          -1.0423055947393969,
          -0.06350848782566847,
          -0.715011626851832,
          -0.004311390566099713,
          0.35968046038437906,
          0.3482155214518224,
          1.5642585538961675,
          0.05372460015033393,
          0.26927859988825925,
          0.9459316001975121,
          -1.3231038977865164,
          -0.13177750479968495,
          2.894936439883955,
          1.2620145095169104,
          -2.673128848304644
         ],
         "yaxis": "y7"
        },
        {
         "line": {
          "color": "rgba(128, 128, 128, 1.0)",
          "dash": "solid",
          "shape": "linear",
          "width": 1.3
         },
         "marker": {
          "size": 2,
          "symbol": "circle"
         },
         "mode": "markers",
         "name": "B",
         "text": "",
         "type": "scatter",
         "x": [
          -1.7822917875091935,
          0.1915208695213333,
          -1.1467068976703902,
          0.30624681099494816,
          0.03229961002316076,
          -0.41019555202988855,
          0.9234459150834765,
          0.6845490151314748,
          1.3976402216500794,
          0.34078001060667357,
          -0.04312938263882135,
          1.1579173247188355,
          -0.24375085798034005,
          0.6635410586107904,
          -0.41214106415805,
          0.20783347409624986,
          1.9778035277350121,
          1.8035219152401591,
          0.8672718446751185,
          1.1225593110805672,
          1.3585885827802862,
          0.09615802852056259,
          -2.1654458285904705,
          0.801827621288512,
          1.0912870409177637,
          -0.47755874710532253,
          0.8669663674008047,
          1.4450890511468257,
          0.020537975107899877,
          -1.1305545949149578,
          -1.4042787535845844,
          -1.047192049958398,
          -1.7062430433981837,
          1.0406748783313535,
          2.603230292200818,
          -0.45588335299079275,
          1.0172306316579824,
          -0.693019405978078,
          0.3229610115017036,
          -0.1277257660468025,
          -0.1807752695669388,
          -0.27881021294072755,
          -0.507580865896411,
          0.5046709690440891,
          0.05779397036814958,
          -0.8739310677129855,
          -1.5171668436546109,
          0.2103284547817714,
          -0.2876494863559525,
          -0.27380897287263584,
          -0.39468103443361874,
          1.2138186670235764,
          -1.1763908107905696,
          -0.6905409504347623,
          0.06320490997305743,
          -0.7156225632534614,
          -1.5693393310807464,
          1.3000718895120567,
          -0.8974172400966365,
          -1.1879501225629767,
          0.11384289484320421,
          -0.0650235497763702,
          -0.17192387639926812,
          0.1822730143198839,
          -1.2890501348396302,
          -0.08631434729283817,
          0.9314827288196189,
          -0.343699859315308,
          0.3321520635968143,
          -0.2792076671860723,
          0.5902727958788655,
          -0.9797952884959037,
          1.3233738189549666,
          -0.9833479609096336,
          -0.824933730173071,
          -0.2900561002124916,
          0.98159145364883,
          1.7616843811085157,
          0.9194420221106,
          -2.678004829352987,
          1.7157153410166455,
          -1.3658609547855702,
          -0.5917148213076168,
          -1.113407552973405,
          1.5438265040803627,
          0.0916017762288628,
          -1.3891670183006424,
          -0.06210004705111074,
          -0.10160228286509329,
          -0.10034150180669871,
          2.098253749252335,
          -1.9136082063618318,
          2.2509058712518946,
          0.8327274034959132,
          0.3033332957175999,
          2.6833417001980493,
          0.7576534733306034,
          0.9500571946556061,
          0.04208920924634037,
          0.8425203307201007
         ],
         "xaxis": "x8",
         "y": [
          -0.1624050135760886,
          0.980851981664618,
          1.6263758604043954,
          0.6670449829300747,
          0.8463914642614553,
          -0.5557547356556708,
          1.3335019465823352,
          -0.30360500311515876,
          -0.5572485277306021,
          1.7923193575265437,
          0.5230714474292316,
          1.3962847654068788,
          0.5454202975825965,
          0.8220066168038932,
          0.1333294140157902,
          -0.4580923125178034,
          -1.8702657688987048,
          0.19165599638946365,
          -1.5441476695946914,
          1.489985153554788,
          0.08513682537748908,
          0.5884943933265148,
          -0.37527778093043845,
          -1.2420986135906638,
          -0.09359385888729599,
          -0.8993751877593811,
          0.9038336626818552,
          0.19897941905376915,
          -0.3499682664519889,
          -0.813255283672789,
          -0.761601608488013,
          0.6852647594122985,
          0.7444146965136054,
          -0.10824902571549988,
          1.0343766589925962,
          0.6794742299814396,
          -1.377108827556193,
          -0.9198084554974598,
          1.2754158682756254,
          -0.6805171783915703,
          1.6295186194490634,
          1.3058104975166638,
          -0.008015691590719798,
          0.37945370182803906,
          -0.9344148723391815,
          0.33642615175310187,
          -1.117113472484452,
          1.2098097732957693,
          1.890729615247962,
          -0.3020317509780135,
          -0.795391429211958,
          0.5145436162551661,
          -1.17644678201426,
          0.011191592090796853,
          -2.664750053974455,
          -0.7052058747591703,
          0.4318577646237392,
          0.3482634341301973,
          0.6748205565464416,
          -0.34169023793862807,
          -0.07989141803255546,
          -0.1006525565267022,
          0.7334329357689917,
          0.8392098396231535,
          -0.4553307130666966,
          -0.7064260571420193,
          0.15230984770640202,
          0.6237041195854198,
          0.5318919831274378,
          0.5221352231397314,
          -0.8174059688720081,
          2.4389763497413726,
          -0.1242766171971954,
          1.9621837956400514,
          -0.09450483861151593,
          -0.27813013860092584,
          1.8763100787933222,
          -1.149197127466469,
          -0.33071258304144435,
          -0.903204616889579,
          -0.38847979647058817,
          -1.1896469966014003,
          -0.20764447487221024,
          1.243884872816924,
          -0.5090636362684436,
          -1.0423055947393969,
          -0.06350848782566847,
          -0.715011626851832,
          -0.004311390566099713,
          0.35968046038437906,
          0.3482155214518224,
          1.5642585538961675,
          0.05372460015033393,
          0.26927859988825925,
          0.9459316001975121,
          -1.3231038977865164,
          -0.13177750479968495,
          2.894936439883955,
          1.2620145095169104,
          -2.673128848304644
         ],
         "yaxis": "y8"
        },
        {
         "line": {
          "color": "rgba(128, 128, 128, 1.0)",
          "dash": "solid",
          "shape": "linear",
          "width": 1.3
         },
         "marker": {
          "size": 2,
          "symbol": "circle"
         },
         "mode": "markers",
         "name": "C",
         "text": "",
         "type": "scatter",
         "x": [
          0.08548394392684941,
          -0.5893916978546746,
          -0.8419665667833715,
          1.0653294037412206,
          -0.30404866925348994,
          0.3220582584509832,
          1.1049131997268444,
          0.32518021155482785,
          2.7803713071535303,
          -0.6512650673063205,
          0.49199825674186487,
          -0.08508963549565635,
          0.5726425435043762,
          2.1386501290862214,
          -0.9950235584665907,
          2.0052327231453364,
          1.9086945678707794,
          -0.4672730441548413,
          0.09809372512041015,
          0.20776175313101258,
          -0.13008291273505135,
          -0.213716607920109,
          -0.752971396659258,
          -0.8856345833042678,
          -0.21828897744131906,
          -1.5221842260642924,
          1.7597176132531838,
          0.368692867252797,
          0.012002423023914443,
          -0.3300847199674508,
          -1.174027326022618,
          0.27669897261410636,
          0.9022235975340244,
          0.1237670623846236,
          0.27474926924742754,
          -1.2318138433306547,
          -0.9291362405434669,
          0.2581841484670674,
          -0.35557870411472275,
          0.31329107322223737,
          -0.10998911435349933,
          -0.6056942752510703,
          0.5496119520128204,
          0.7217212678834122,
          1.1080438778814063,
          1.194652068448999,
          1.9452460051287748,
          -1.0096690093450156,
          0.06886112821121931,
          -0.22386569878334348,
          0.3722266141668129,
          2.3949425017894628,
          -1.5415993206560856,
          0.31051517323586425,
          -0.9007115672683569,
          -0.37250269015414444,
          0.12892868685879072,
          -2.093099841220505,
          0.19281052497404821,
          -0.14026793411748828,
          0.7202355995317967,
          1.9985914284907331,
          -0.024224308482236806,
          0.01896759967272472,
          -1.5884383627946148,
          0.14382833009913976,
          0.8208787993291673,
          0.11647492827936208,
          0.8148442245171553,
          -0.9944542791659978,
          -1.5826860570144032,
          -1.0027608392246807,
          0.6405945754015209,
          -1.2307004748798553,
          -0.9114975696364512,
          1.37764411838987,
          0.5203887980053448,
          -0.6308501093425088,
          -0.04108239600910254,
          -0.14803345522911654,
          0.27240046321175776,
          -0.0984268942816003,
          -0.7917134062519374,
          -0.6755333627675957,
          0.5021187599504238,
          -1.489214963700235,
          0.08552835376163205,
          -1.8220289030449843,
          1.3610498831089615,
          -1.5377662111236543,
          0.4413929766677556,
          1.1406361331627282,
          1.7219831491686641,
          -0.154773148802657,
          -0.2652967487886054,
          1.0404378705960964,
          -0.9175907022603449,
          -0.8622776172416078,
          -1.3999208590790715,
          0.09066006069192459
         ],
         "xaxis": "x9",
         "y": [
          0.6412589089125755,
          1.472567741037022,
          -0.2687466186269782,
          -1.7735064924519603,
          0.5601400122075234,
          0.25217416536870757,
          -1.3215997730280071,
          -1.7262086242966832,
          -0.9738853524478275,
          1.2500283602315663,
          0.5249984551350043,
          -1.502163493955724,
          0.9113486982285866,
          0.6796501710359869,
          -0.635856076990072,
          -1.5901119656069276,
          -0.7904035535920758,
          0.34955478363036163,
          -0.6636661473619723,
          1.1783113790227202,
          -1.2808617434642788,
          1.2370923961343416,
          0.4925215168066359,
          1.0590414161745894,
          0.3818303607994144,
          0.3309854097822343,
          0.16466632880907464,
          0.15742594633466814,
          0.24139038536893875,
          0.20974639260906272,
          -0.4376340808291526,
          0.45307155889739953,
          -0.1195415538869707,
          0.7050934558410267,
          -0.16505543858861943,
          -0.0744610225167786,
          -1.5359055532970263,
          -0.3179748445068104,
          -0.9355433150515867,
          0.7763428615270302,
          -0.7570288525819087,
          -0.5232076867983879,
          -1.052788698551844,
          -1.2789749060079498,
          2.1658442574234646,
          0.6516143243986185,
          -0.46556438374990194,
          -0.2868044646248472,
          0.44127415645197704,
          -1.292478675144893,
          0.02701392480956382,
          1.1674132319349262,
          -0.34019771545061356,
          0.9321924054092174,
          -0.7928124486847574,
          -0.16498525070646566,
          1.2217990862318404,
          0.44302455085292114,
          -1.6612556202937296,
          -0.47056999434915275,
          0.7476295398312772,
          0.2122729890849066,
          -0.6474087501116943,
          -1.498408832541912,
          0.6061541873041607,
          -0.46516793267155004,
          0.6289680770835141,
          -0.46396714401992867,
          0.3091540300280098,
          -1.049917603902546,
          1.1484605009911824,
          -0.7755442675016427,
          -0.16128609405326352,
          0.5540049239205772,
          -0.6041047593824724,
          0.6312424861158306,
          -1.7140095898951782,
          -0.27122334414049487,
          -1.7643029354927504,
          -1.2568226575240087,
          -0.8211420844568663,
          0.7368746723538686,
          0.41721452554864924,
          0.07562441066740945,
          0.676921980063291,
          0.43084182319755937,
          -0.04001504424991739,
          -0.11533662855753606,
          0.04023772431325562,
          0.11617110860078872,
          2.1731346128638154,
          0.445067331245984,
          -1.0448362291742717,
          0.24246137636291806,
          1.0033335882793126,
          -0.844881667918056,
          1.1021227464217307,
          0.47606015853335476,
          -0.06914169012261069,
          -1.0479609140632111
         ],
         "yaxis": "y9"
        },
        {
         "line": {
          "color": "rgba(128, 128, 128, 1.0)",
          "dash": "solid",
          "shape": "linear",
          "width": 1.3
         },
         "marker": {
          "size": 2,
          "symbol": "circle"
         },
         "mode": "markers",
         "name": "C",
         "text": "",
         "type": "scatter",
         "x": [
          -0.1624050135760886,
          0.980851981664618,
          1.6263758604043954,
          0.6670449829300747,
          0.8463914642614553,
          -0.5557547356556708,
          1.3335019465823352,
          -0.30360500311515876,
          -0.5572485277306021,
          1.7923193575265437,
          0.5230714474292316,
          1.3962847654068788,
          0.5454202975825965,
          0.8220066168038932,
          0.1333294140157902,
          -0.4580923125178034,
          -1.8702657688987048,
          0.19165599638946365,
          -1.5441476695946914,
          1.489985153554788,
          0.08513682537748908,
          0.5884943933265148,
          -0.37527778093043845,
          -1.2420986135906638,
          -0.09359385888729599,
          -0.8993751877593811,
          0.9038336626818552,
          0.19897941905376915,
          -0.3499682664519889,
          -0.813255283672789,
          -0.761601608488013,
          0.6852647594122985,
          0.7444146965136054,
          -0.10824902571549988,
          1.0343766589925962,
          0.6794742299814396,
          -1.377108827556193,
          -0.9198084554974598,
          1.2754158682756254,
          -0.6805171783915703,
          1.6295186194490634,
          1.3058104975166638,
          -0.008015691590719798,
          0.37945370182803906,
          -0.9344148723391815,
          0.33642615175310187,
          -1.117113472484452,
          1.2098097732957693,
          1.890729615247962,
          -0.3020317509780135,
          -0.795391429211958,
          0.5145436162551661,
          -1.17644678201426,
          0.011191592090796853,
          -2.664750053974455,
          -0.7052058747591703,
          0.4318577646237392,
          0.3482634341301973,
          0.6748205565464416,
          -0.34169023793862807,
          -0.07989141803255546,
          -0.1006525565267022,
          0.7334329357689917,
          0.8392098396231535,
          -0.4553307130666966,
          -0.7064260571420193,
          0.15230984770640202,
          0.6237041195854198,
          0.5318919831274378,
          0.5221352231397314,
          -0.8174059688720081,
          2.4389763497413726,
          -0.1242766171971954,
          1.9621837956400514,
          -0.09450483861151593,
          -0.27813013860092584,
          1.8763100787933222,
          -1.149197127466469,
          -0.33071258304144435,
          -0.903204616889579,
          -0.38847979647058817,
          -1.1896469966014003,
          -0.20764447487221024,
          1.243884872816924,
          -0.5090636362684436,
          -1.0423055947393969,
          -0.06350848782566847,
          -0.715011626851832,
          -0.004311390566099713,
          0.35968046038437906,
          0.3482155214518224,
          1.5642585538961675,
          0.05372460015033393,
          0.26927859988825925,
          0.9459316001975121,
          -1.3231038977865164,
          -0.13177750479968495,
          2.894936439883955,
          1.2620145095169104,
          -2.673128848304644
         ],
         "xaxis": "x10",
         "y": [
          0.6412589089125755,
          1.472567741037022,
          -0.2687466186269782,
          -1.7735064924519603,
          0.5601400122075234,
          0.25217416536870757,
          -1.3215997730280071,
          -1.7262086242966832,
          -0.9738853524478275,
          1.2500283602315663,
          0.5249984551350043,
          -1.502163493955724,
          0.9113486982285866,
          0.6796501710359869,
          -0.635856076990072,
          -1.5901119656069276,
          -0.7904035535920758,
          0.34955478363036163,
          -0.6636661473619723,
          1.1783113790227202,
          -1.2808617434642788,
          1.2370923961343416,
          0.4925215168066359,
          1.0590414161745894,
          0.3818303607994144,
          0.3309854097822343,
          0.16466632880907464,
          0.15742594633466814,
          0.24139038536893875,
          0.20974639260906272,
          -0.4376340808291526,
          0.45307155889739953,
          -0.1195415538869707,
          0.7050934558410267,
          -0.16505543858861943,
          -0.0744610225167786,
          -1.5359055532970263,
          -0.3179748445068104,
          -0.9355433150515867,
          0.7763428615270302,
          -0.7570288525819087,
          -0.5232076867983879,
          -1.052788698551844,
          -1.2789749060079498,
          2.1658442574234646,
          0.6516143243986185,
          -0.46556438374990194,
          -0.2868044646248472,
          0.44127415645197704,
          -1.292478675144893,
          0.02701392480956382,
          1.1674132319349262,
          -0.34019771545061356,
          0.9321924054092174,
          -0.7928124486847574,
          -0.16498525070646566,
          1.2217990862318404,
          0.44302455085292114,
          -1.6612556202937296,
          -0.47056999434915275,
          0.7476295398312772,
          0.2122729890849066,
          -0.6474087501116943,
          -1.498408832541912,
          0.6061541873041607,
          -0.46516793267155004,
          0.6289680770835141,
          -0.46396714401992867,
          0.3091540300280098,
          -1.049917603902546,
          1.1484605009911824,
          -0.7755442675016427,
          -0.16128609405326352,
          0.5540049239205772,
          -0.6041047593824724,
          0.6312424861158306,
          -1.7140095898951782,
          -0.27122334414049487,
          -1.7643029354927504,
          -1.2568226575240087,
          -0.8211420844568663,
          0.7368746723538686,
          0.41721452554864924,
          0.07562441066740945,
          0.676921980063291,
          0.43084182319755937,
          -0.04001504424991739,
          -0.11533662855753606,
          0.04023772431325562,
          0.11617110860078872,
          2.1731346128638154,
          0.445067331245984,
          -1.0448362291742717,
          0.24246137636291806,
          1.0033335882793126,
          -0.844881667918056,
          1.1021227464217307,
          0.47606015853335476,
          -0.06914169012261069,
          -1.0479609140632111
         ],
         "yaxis": "y10"
        },
        {
         "histfunc": "count",
         "histnorm": "",
         "marker": {
          "color": "rgba(50, 171, 96, 1.0)",
          "line": {
           "color": "#4D5663",
           "width": 1.3
          }
         },
         "name": "C",
         "nbinsx": 10,
         "opacity": 0.8,
         "orientation": "v",
         "type": "histogram",
         "x": [
          0.6412589089125755,
          1.472567741037022,
          -0.2687466186269782,
          -1.7735064924519603,
          0.5601400122075234,
          0.25217416536870757,
          -1.3215997730280071,
          -1.7262086242966832,
          -0.9738853524478275,
          1.2500283602315663,
          0.5249984551350043,
          -1.502163493955724,
          0.9113486982285866,
          0.6796501710359869,
          -0.635856076990072,
          -1.5901119656069276,
          -0.7904035535920758,
          0.34955478363036163,
          -0.6636661473619723,
          1.1783113790227202,
          -1.2808617434642788,
          1.2370923961343416,
          0.4925215168066359,
          1.0590414161745894,
          0.3818303607994144,
          0.3309854097822343,
          0.16466632880907464,
          0.15742594633466814,
          0.24139038536893875,
          0.20974639260906272,
          -0.4376340808291526,
          0.45307155889739953,
          -0.1195415538869707,
          0.7050934558410267,
          -0.16505543858861943,
          -0.0744610225167786,
          -1.5359055532970263,
          -0.3179748445068104,
          -0.9355433150515867,
          0.7763428615270302,
          -0.7570288525819087,
          -0.5232076867983879,
          -1.052788698551844,
          -1.2789749060079498,
          2.1658442574234646,
          0.6516143243986185,
          -0.46556438374990194,
          -0.2868044646248472,
          0.44127415645197704,
          -1.292478675144893,
          0.02701392480956382,
          1.1674132319349262,
          -0.34019771545061356,
          0.9321924054092174,
          -0.7928124486847574,
          -0.16498525070646566,
          1.2217990862318404,
          0.44302455085292114,
          -1.6612556202937296,
          -0.47056999434915275,
          0.7476295398312772,
          0.2122729890849066,
          -0.6474087501116943,
          -1.498408832541912,
          0.6061541873041607,
          -0.46516793267155004,
          0.6289680770835141,
          -0.46396714401992867,
          0.3091540300280098,
          -1.049917603902546,
          1.1484605009911824,
          -0.7755442675016427,
          -0.16128609405326352,
          0.5540049239205772,
          -0.6041047593824724,
          0.6312424861158306,
          -1.7140095898951782,
          -0.27122334414049487,
          -1.7643029354927504,
          -1.2568226575240087,
          -0.8211420844568663,
          0.7368746723538686,
          0.41721452554864924,
          0.07562441066740945,
          0.676921980063291,
          0.43084182319755937,
          -0.04001504424991739,
          -0.11533662855753606,
          0.04023772431325562,
          0.11617110860078872,
          2.1731346128638154,
          0.445067331245984,
          -1.0448362291742717,
          0.24246137636291806,
          1.0033335882793126,
          -0.844881667918056,
          1.1021227464217307,
          0.47606015853335476,
          -0.06914169012261069,
          -1.0479609140632111
         ],
         "xaxis": "x11",
         "yaxis": "y11"
        },
        {
         "line": {
          "color": "rgba(128, 128, 128, 1.0)",
          "dash": "solid",
          "shape": "linear",
          "width": 1.3
         },
         "marker": {
          "size": 2,
          "symbol": "circle"
         },
         "mode": "markers",
         "name": "C",
         "text": "",
         "type": "scatter",
         "x": [
          -1.7822917875091935,
          0.1915208695213333,
          -1.1467068976703902,
          0.30624681099494816,
          0.03229961002316076,
          -0.41019555202988855,
          0.9234459150834765,
          0.6845490151314748,
          1.3976402216500794,
          0.34078001060667357,
          -0.04312938263882135,
          1.1579173247188355,
          -0.24375085798034005,
          0.6635410586107904,
          -0.41214106415805,
          0.20783347409624986,
          1.9778035277350121,
          1.8035219152401591,
          0.8672718446751185,
          1.1225593110805672,
          1.3585885827802862,
          0.09615802852056259,
          -2.1654458285904705,
          0.801827621288512,
          1.0912870409177637,
          -0.47755874710532253,
          0.8669663674008047,
          1.4450890511468257,
          0.020537975107899877,
          -1.1305545949149578,
          -1.4042787535845844,
          -1.047192049958398,
          -1.7062430433981837,
          1.0406748783313535,
          2.603230292200818,
          -0.45588335299079275,
          1.0172306316579824,
          -0.693019405978078,
          0.3229610115017036,
          -0.1277257660468025,
          -0.1807752695669388,
          -0.27881021294072755,
          -0.507580865896411,
          0.5046709690440891,
          0.05779397036814958,
          -0.8739310677129855,
          -1.5171668436546109,
          0.2103284547817714,
          -0.2876494863559525,
          -0.27380897287263584,
          -0.39468103443361874,
          1.2138186670235764,
          -1.1763908107905696,
          -0.6905409504347623,
          0.06320490997305743,
          -0.7156225632534614,
          -1.5693393310807464,
          1.3000718895120567,
          -0.8974172400966365,
          -1.1879501225629767,
          0.11384289484320421,
          -0.0650235497763702,
          -0.17192387639926812,
          0.1822730143198839,
          -1.2890501348396302,
          -0.08631434729283817,
          0.9314827288196189,
          -0.343699859315308,
          0.3321520635968143,
          -0.2792076671860723,
          0.5902727958788655,
          -0.9797952884959037,
          1.3233738189549666,
          -0.9833479609096336,
          -0.824933730173071,
          -0.2900561002124916,
          0.98159145364883,
          1.7616843811085157,
          0.9194420221106,
          -2.678004829352987,
          1.7157153410166455,
          -1.3658609547855702,
          -0.5917148213076168,
          -1.113407552973405,
          1.5438265040803627,
          0.0916017762288628,
          -1.3891670183006424,
          -0.06210004705111074,
          -0.10160228286509329,
          -0.10034150180669871,
          2.098253749252335,
          -1.9136082063618318,
          2.2509058712518946,
          0.8327274034959132,
          0.3033332957175999,
          2.6833417001980493,
          0.7576534733306034,
          0.9500571946556061,
          0.04208920924634037,
          0.8425203307201007
         ],
         "xaxis": "x12",
         "y": [
          0.6412589089125755,
          1.472567741037022,
          -0.2687466186269782,
          -1.7735064924519603,
          0.5601400122075234,
          0.25217416536870757,
          -1.3215997730280071,
          -1.7262086242966832,
          -0.9738853524478275,
          1.2500283602315663,
          0.5249984551350043,
          -1.502163493955724,
          0.9113486982285866,
          0.6796501710359869,
          -0.635856076990072,
          -1.5901119656069276,
          -0.7904035535920758,
          0.34955478363036163,
          -0.6636661473619723,
          1.1783113790227202,
          -1.2808617434642788,
          1.2370923961343416,
          0.4925215168066359,
          1.0590414161745894,
          0.3818303607994144,
          0.3309854097822343,
          0.16466632880907464,
          0.15742594633466814,
          0.24139038536893875,
          0.20974639260906272,
          -0.4376340808291526,
          0.45307155889739953,
          -0.1195415538869707,
          0.7050934558410267,
          -0.16505543858861943,
          -0.0744610225167786,
          -1.5359055532970263,
          -0.3179748445068104,
          -0.9355433150515867,
          0.7763428615270302,
          -0.7570288525819087,
          -0.5232076867983879,
          -1.052788698551844,
          -1.2789749060079498,
          2.1658442574234646,
          0.6516143243986185,
          -0.46556438374990194,
          -0.2868044646248472,
          0.44127415645197704,
          -1.292478675144893,
          0.02701392480956382,
          1.1674132319349262,
          -0.34019771545061356,
          0.9321924054092174,
          -0.7928124486847574,
          -0.16498525070646566,
          1.2217990862318404,
          0.44302455085292114,
          -1.6612556202937296,
          -0.47056999434915275,
          0.7476295398312772,
          0.2122729890849066,
          -0.6474087501116943,
          -1.498408832541912,
          0.6061541873041607,
          -0.46516793267155004,
          0.6289680770835141,
          -0.46396714401992867,
          0.3091540300280098,
          -1.049917603902546,
          1.1484605009911824,
          -0.7755442675016427,
          -0.16128609405326352,
          0.5540049239205772,
          -0.6041047593824724,
          0.6312424861158306,
          -1.7140095898951782,
          -0.27122334414049487,
          -1.7643029354927504,
          -1.2568226575240087,
          -0.8211420844568663,
          0.7368746723538686,
          0.41721452554864924,
          0.07562441066740945,
          0.676921980063291,
          0.43084182319755937,
          -0.04001504424991739,
          -0.11533662855753606,
          0.04023772431325562,
          0.11617110860078872,
          2.1731346128638154,
          0.445067331245984,
          -1.0448362291742717,
          0.24246137636291806,
          1.0033335882793126,
          -0.844881667918056,
          1.1021227464217307,
          0.47606015853335476,
          -0.06914169012261069,
          -1.0479609140632111
         ],
         "yaxis": "y12"
        },
        {
         "line": {
          "color": "rgba(128, 128, 128, 1.0)",
          "dash": "solid",
          "shape": "linear",
          "width": 1.3
         },
         "marker": {
          "size": 2,
          "symbol": "circle"
         },
         "mode": "markers",
         "name": "D",
         "text": "",
         "type": "scatter",
         "x": [
          0.08548394392684941,
          -0.5893916978546746,
          -0.8419665667833715,
          1.0653294037412206,
          -0.30404866925348994,
          0.3220582584509832,
          1.1049131997268444,
          0.32518021155482785,
          2.7803713071535303,
          -0.6512650673063205,
          0.49199825674186487,
          -0.08508963549565635,
          0.5726425435043762,
          2.1386501290862214,
          -0.9950235584665907,
          2.0052327231453364,
          1.9086945678707794,
          -0.4672730441548413,
          0.09809372512041015,
          0.20776175313101258,
          -0.13008291273505135,
          -0.213716607920109,
          -0.752971396659258,
          -0.8856345833042678,
          -0.21828897744131906,
          -1.5221842260642924,
          1.7597176132531838,
          0.368692867252797,
          0.012002423023914443,
          -0.3300847199674508,
          -1.174027326022618,
          0.27669897261410636,
          0.9022235975340244,
          0.1237670623846236,
          0.27474926924742754,
          -1.2318138433306547,
          -0.9291362405434669,
          0.2581841484670674,
          -0.35557870411472275,
          0.31329107322223737,
          -0.10998911435349933,
          -0.6056942752510703,
          0.5496119520128204,
          0.7217212678834122,
          1.1080438778814063,
          1.194652068448999,
          1.9452460051287748,
          -1.0096690093450156,
          0.06886112821121931,
          -0.22386569878334348,
          0.3722266141668129,
          2.3949425017894628,
          -1.5415993206560856,
          0.31051517323586425,
          -0.9007115672683569,
          -0.37250269015414444,
          0.12892868685879072,
          -2.093099841220505,
          0.19281052497404821,
          -0.14026793411748828,
          0.7202355995317967,
          1.9985914284907331,
          -0.024224308482236806,
          0.01896759967272472,
          -1.5884383627946148,
          0.14382833009913976,
          0.8208787993291673,
          0.11647492827936208,
          0.8148442245171553,
          -0.9944542791659978,
          -1.5826860570144032,
          -1.0027608392246807,
          0.6405945754015209,
          -1.2307004748798553,
          -0.9114975696364512,
          1.37764411838987,
          0.5203887980053448,
          -0.6308501093425088,
          -0.04108239600910254,
          -0.14803345522911654,
          0.27240046321175776,
          -0.0984268942816003,
          -0.7917134062519374,
          -0.6755333627675957,
          0.5021187599504238,
          -1.489214963700235,
          0.08552835376163205,
          -1.8220289030449843,
          1.3610498831089615,
          -1.5377662111236543,
          0.4413929766677556,
          1.1406361331627282,
          1.7219831491686641,
          -0.154773148802657,
          -0.2652967487886054,
          1.0404378705960964,
          -0.9175907022603449,
          -0.8622776172416078,
          -1.3999208590790715,
          0.09066006069192459
         ],
         "xaxis": "x13",
         "y": [
          -1.7822917875091935,
          0.1915208695213333,
          -1.1467068976703902,
          0.30624681099494816,
          0.03229961002316076,
          -0.41019555202988855,
          0.9234459150834765,
          0.6845490151314748,
          1.3976402216500794,
          0.34078001060667357,
          -0.04312938263882135,
          1.1579173247188355,
          -0.24375085798034005,
          0.6635410586107904,
          -0.41214106415805,
          0.20783347409624986,
          1.9778035277350121,
          1.8035219152401591,
          0.8672718446751185,
          1.1225593110805672,
          1.3585885827802862,
          0.09615802852056259,
          -2.1654458285904705,
          0.801827621288512,
          1.0912870409177637,
          -0.47755874710532253,
          0.8669663674008047,
          1.4450890511468257,
          0.020537975107899877,
          -1.1305545949149578,
          -1.4042787535845844,
          -1.047192049958398,
          -1.7062430433981837,
          1.0406748783313535,
          2.603230292200818,
          -0.45588335299079275,
          1.0172306316579824,
          -0.693019405978078,
          0.3229610115017036,
          -0.1277257660468025,
          -0.1807752695669388,
          -0.27881021294072755,
          -0.507580865896411,
          0.5046709690440891,
          0.05779397036814958,
          -0.8739310677129855,
          -1.5171668436546109,
          0.2103284547817714,
          -0.2876494863559525,
          -0.27380897287263584,
          -0.39468103443361874,
          1.2138186670235764,
          -1.1763908107905696,
          -0.6905409504347623,
          0.06320490997305743,
          -0.7156225632534614,
          -1.5693393310807464,
          1.3000718895120567,
          -0.8974172400966365,
          -1.1879501225629767,
          0.11384289484320421,
          -0.0650235497763702,
          -0.17192387639926812,
          0.1822730143198839,
          -1.2890501348396302,
          -0.08631434729283817,
          0.9314827288196189,
          -0.343699859315308,
          0.3321520635968143,
          -0.2792076671860723,
          0.5902727958788655,
          -0.9797952884959037,
          1.3233738189549666,
          -0.9833479609096336,
          -0.824933730173071,
          -0.2900561002124916,
          0.98159145364883,
          1.7616843811085157,
          0.9194420221106,
          -2.678004829352987,
          1.7157153410166455,
          -1.3658609547855702,
          -0.5917148213076168,
          -1.113407552973405,
          1.5438265040803627,
          0.0916017762288628,
          -1.3891670183006424,
          -0.06210004705111074,
          -0.10160228286509329,
          -0.10034150180669871,
          2.098253749252335,
          -1.9136082063618318,
          2.2509058712518946,
          0.8327274034959132,
          0.3033332957175999,
          2.6833417001980493,
          0.7576534733306034,
          0.9500571946556061,
          0.04208920924634037,
          0.8425203307201007
         ],
         "yaxis": "y13"
        },
        {
         "line": {
          "color": "rgba(128, 128, 128, 1.0)",
          "dash": "solid",
          "shape": "linear",
          "width": 1.3
         },
         "marker": {
          "size": 2,
          "symbol": "circle"
         },
         "mode": "markers",
         "name": "D",
         "text": "",
         "type": "scatter",
         "x": [
          -0.1624050135760886,
          0.980851981664618,
          1.6263758604043954,
          0.6670449829300747,
          0.8463914642614553,
          -0.5557547356556708,
          1.3335019465823352,
          -0.30360500311515876,
          -0.5572485277306021,
          1.7923193575265437,
          0.5230714474292316,
          1.3962847654068788,
          0.5454202975825965,
          0.8220066168038932,
          0.1333294140157902,
          -0.4580923125178034,
          -1.8702657688987048,
          0.19165599638946365,
          -1.5441476695946914,
          1.489985153554788,
          0.08513682537748908,
          0.5884943933265148,
          -0.37527778093043845,
          -1.2420986135906638,
          -0.09359385888729599,
          -0.8993751877593811,
          0.9038336626818552,
          0.19897941905376915,
          -0.3499682664519889,
          -0.813255283672789,
          -0.761601608488013,
          0.6852647594122985,
          0.7444146965136054,
          -0.10824902571549988,
          1.0343766589925962,
          0.6794742299814396,
          -1.377108827556193,
          -0.9198084554974598,
          1.2754158682756254,
          -0.6805171783915703,
          1.6295186194490634,
          1.3058104975166638,
          -0.008015691590719798,
          0.37945370182803906,
          -0.9344148723391815,
          0.33642615175310187,
          -1.117113472484452,
          1.2098097732957693,
          1.890729615247962,
          -0.3020317509780135,
          -0.795391429211958,
          0.5145436162551661,
          -1.17644678201426,
          0.011191592090796853,
          -2.664750053974455,
          -0.7052058747591703,
          0.4318577646237392,
          0.3482634341301973,
          0.6748205565464416,
          -0.34169023793862807,
          -0.07989141803255546,
          -0.1006525565267022,
          0.7334329357689917,
          0.8392098396231535,
          -0.4553307130666966,
          -0.7064260571420193,
          0.15230984770640202,
          0.6237041195854198,
          0.5318919831274378,
          0.5221352231397314,
          -0.8174059688720081,
          2.4389763497413726,
          -0.1242766171971954,
          1.9621837956400514,
          -0.09450483861151593,
          -0.27813013860092584,
          1.8763100787933222,
          -1.149197127466469,
          -0.33071258304144435,
          -0.903204616889579,
          -0.38847979647058817,
          -1.1896469966014003,
          -0.20764447487221024,
          1.243884872816924,
          -0.5090636362684436,
          -1.0423055947393969,
          -0.06350848782566847,
          -0.715011626851832,
          -0.004311390566099713,
          0.35968046038437906,
          0.3482155214518224,
          1.5642585538961675,
          0.05372460015033393,
          0.26927859988825925,
          0.9459316001975121,
          -1.3231038977865164,
          -0.13177750479968495,
          2.894936439883955,
          1.2620145095169104,
          -2.673128848304644
         ],
         "xaxis": "x14",
         "y": [
          -1.7822917875091935,
          0.1915208695213333,
          -1.1467068976703902,
          0.30624681099494816,
          0.03229961002316076,
          -0.41019555202988855,
          0.9234459150834765,
          0.6845490151314748,
          1.3976402216500794,
          0.34078001060667357,
          -0.04312938263882135,
          1.1579173247188355,
          -0.24375085798034005,
          0.6635410586107904,
          -0.41214106415805,
          0.20783347409624986,
          1.9778035277350121,
          1.8035219152401591,
          0.8672718446751185,
          1.1225593110805672,
          1.3585885827802862,
          0.09615802852056259,
          -2.1654458285904705,
          0.801827621288512,
          1.0912870409177637,
          -0.47755874710532253,
          0.8669663674008047,
          1.4450890511468257,
          0.020537975107899877,
          -1.1305545949149578,
          -1.4042787535845844,
          -1.047192049958398,
          -1.7062430433981837,
          1.0406748783313535,
          2.603230292200818,
          -0.45588335299079275,
          1.0172306316579824,
          -0.693019405978078,
          0.3229610115017036,
          -0.1277257660468025,
          -0.1807752695669388,
          -0.27881021294072755,
          -0.507580865896411,
          0.5046709690440891,
          0.05779397036814958,
          -0.8739310677129855,
          -1.5171668436546109,
          0.2103284547817714,
          -0.2876494863559525,
          -0.27380897287263584,
          -0.39468103443361874,
          1.2138186670235764,
          -1.1763908107905696,
          -0.6905409504347623,
          0.06320490997305743,
          -0.7156225632534614,
          -1.5693393310807464,
          1.3000718895120567,
          -0.8974172400966365,
          -1.1879501225629767,
          0.11384289484320421,
          -0.0650235497763702,
          -0.17192387639926812,
          0.1822730143198839,
          -1.2890501348396302,
          -0.08631434729283817,
          0.9314827288196189,
          -0.343699859315308,
          0.3321520635968143,
          -0.2792076671860723,
          0.5902727958788655,
          -0.9797952884959037,
          1.3233738189549666,
          -0.9833479609096336,
          -0.824933730173071,
          -0.2900561002124916,
          0.98159145364883,
          1.7616843811085157,
          0.9194420221106,
          -2.678004829352987,
          1.7157153410166455,
          -1.3658609547855702,
          -0.5917148213076168,
          -1.113407552973405,
          1.5438265040803627,
          0.0916017762288628,
          -1.3891670183006424,
          -0.06210004705111074,
          -0.10160228286509329,
          -0.10034150180669871,
          2.098253749252335,
          -1.9136082063618318,
          2.2509058712518946,
          0.8327274034959132,
          0.3033332957175999,
          2.6833417001980493,
          0.7576534733306034,
          0.9500571946556061,
          0.04208920924634037,
          0.8425203307201007
         ],
         "yaxis": "y14"
        },
        {
         "line": {
          "color": "rgba(128, 128, 128, 1.0)",
          "dash": "solid",
          "shape": "linear",
          "width": 1.3
         },
         "marker": {
          "size": 2,
          "symbol": "circle"
         },
         "mode": "markers",
         "name": "D",
         "text": "",
         "type": "scatter",
         "x": [
          0.6412589089125755,
          1.472567741037022,
          -0.2687466186269782,
          -1.7735064924519603,
          0.5601400122075234,
          0.25217416536870757,
          -1.3215997730280071,
          -1.7262086242966832,
          -0.9738853524478275,
          1.2500283602315663,
          0.5249984551350043,
          -1.502163493955724,
          0.9113486982285866,
          0.6796501710359869,
          -0.635856076990072,
          -1.5901119656069276,
          -0.7904035535920758,
          0.34955478363036163,
          -0.6636661473619723,
          1.1783113790227202,
          -1.2808617434642788,
          1.2370923961343416,
          0.4925215168066359,
          1.0590414161745894,
          0.3818303607994144,
          0.3309854097822343,
          0.16466632880907464,
          0.15742594633466814,
          0.24139038536893875,
          0.20974639260906272,
          -0.4376340808291526,
          0.45307155889739953,
          -0.1195415538869707,
          0.7050934558410267,
          -0.16505543858861943,
          -0.0744610225167786,
          -1.5359055532970263,
          -0.3179748445068104,
          -0.9355433150515867,
          0.7763428615270302,
          -0.7570288525819087,
          -0.5232076867983879,
          -1.052788698551844,
          -1.2789749060079498,
          2.1658442574234646,
          0.6516143243986185,
          -0.46556438374990194,
          -0.2868044646248472,
          0.44127415645197704,
          -1.292478675144893,
          0.02701392480956382,
          1.1674132319349262,
          -0.34019771545061356,
          0.9321924054092174,
          -0.7928124486847574,
          -0.16498525070646566,
          1.2217990862318404,
          0.44302455085292114,
          -1.6612556202937296,
          -0.47056999434915275,
          0.7476295398312772,
          0.2122729890849066,
          -0.6474087501116943,
          -1.498408832541912,
          0.6061541873041607,
          -0.46516793267155004,
          0.6289680770835141,
          -0.46396714401992867,
          0.3091540300280098,
          -1.049917603902546,
          1.1484605009911824,
          -0.7755442675016427,
          -0.16128609405326352,
          0.5540049239205772,
          -0.6041047593824724,
          0.6312424861158306,
          -1.7140095898951782,
          -0.27122334414049487,
          -1.7643029354927504,
          -1.2568226575240087,
          -0.8211420844568663,
          0.7368746723538686,
          0.41721452554864924,
          0.07562441066740945,
          0.676921980063291,
          0.43084182319755937,
          -0.04001504424991739,
          -0.11533662855753606,
          0.04023772431325562,
          0.11617110860078872,
          2.1731346128638154,
          0.445067331245984,
          -1.0448362291742717,
          0.24246137636291806,
          1.0033335882793126,
          -0.844881667918056,
          1.1021227464217307,
          0.47606015853335476,
          -0.06914169012261069,
          -1.0479609140632111
         ],
         "xaxis": "x15",
         "y": [
          -1.7822917875091935,
          0.1915208695213333,
          -1.1467068976703902,
          0.30624681099494816,
          0.03229961002316076,
          -0.41019555202988855,
          0.9234459150834765,
          0.6845490151314748,
          1.3976402216500794,
          0.34078001060667357,
          -0.04312938263882135,
          1.1579173247188355,
          -0.24375085798034005,
          0.6635410586107904,
          -0.41214106415805,
          0.20783347409624986,
          1.9778035277350121,
          1.8035219152401591,
          0.8672718446751185,
          1.1225593110805672,
          1.3585885827802862,
          0.09615802852056259,
          -2.1654458285904705,
          0.801827621288512,
          1.0912870409177637,
          -0.47755874710532253,
          0.8669663674008047,
          1.4450890511468257,
          0.020537975107899877,
          -1.1305545949149578,
          -1.4042787535845844,
          -1.047192049958398,
          -1.7062430433981837,
          1.0406748783313535,
          2.603230292200818,
          -0.45588335299079275,
          1.0172306316579824,
          -0.693019405978078,
          0.3229610115017036,
          -0.1277257660468025,
          -0.1807752695669388,
          -0.27881021294072755,
          -0.507580865896411,
          0.5046709690440891,
          0.05779397036814958,
          -0.8739310677129855,
          -1.5171668436546109,
          0.2103284547817714,
          -0.2876494863559525,
          -0.27380897287263584,
          -0.39468103443361874,
          1.2138186670235764,
          -1.1763908107905696,
          -0.6905409504347623,
          0.06320490997305743,
          -0.7156225632534614,
          -1.5693393310807464,
          1.3000718895120567,
          -0.8974172400966365,
          -1.1879501225629767,
          0.11384289484320421,
          -0.0650235497763702,
          -0.17192387639926812,
          0.1822730143198839,
          -1.2890501348396302,
          -0.08631434729283817,
          0.9314827288196189,
          -0.343699859315308,
          0.3321520635968143,
          -0.2792076671860723,
          0.5902727958788655,
          -0.9797952884959037,
          1.3233738189549666,
          -0.9833479609096336,
          -0.824933730173071,
          -0.2900561002124916,
          0.98159145364883,
          1.7616843811085157,
          0.9194420221106,
          -2.678004829352987,
          1.7157153410166455,
          -1.3658609547855702,
          -0.5917148213076168,
          -1.113407552973405,
          1.5438265040803627,
          0.0916017762288628,
          -1.3891670183006424,
          -0.06210004705111074,
          -0.10160228286509329,
          -0.10034150180669871,
          2.098253749252335,
          -1.9136082063618318,
          2.2509058712518946,
          0.8327274034959132,
          0.3033332957175999,
          2.6833417001980493,
          0.7576534733306034,
          0.9500571946556061,
          0.04208920924634037,
          0.8425203307201007
         ],
         "yaxis": "y15"
        },
        {
         "histfunc": "count",
         "histnorm": "",
         "marker": {
          "color": "rgba(128, 0, 128, 1.0)",
          "line": {
           "color": "#4D5663",
           "width": 1.3
          }
         },
         "name": "D",
         "nbinsx": 10,
         "opacity": 0.8,
         "orientation": "v",
         "type": "histogram",
         "x": [
          -1.7822917875091935,
          0.1915208695213333,
          -1.1467068976703902,
          0.30624681099494816,
          0.03229961002316076,
          -0.41019555202988855,
          0.9234459150834765,
          0.6845490151314748,
          1.3976402216500794,
          0.34078001060667357,
          -0.04312938263882135,
          1.1579173247188355,
          -0.24375085798034005,
          0.6635410586107904,
          -0.41214106415805,
          0.20783347409624986,
          1.9778035277350121,
          1.8035219152401591,
          0.8672718446751185,
          1.1225593110805672,
          1.3585885827802862,
          0.09615802852056259,
          -2.1654458285904705,
          0.801827621288512,
          1.0912870409177637,
          -0.47755874710532253,
          0.8669663674008047,
          1.4450890511468257,
          0.020537975107899877,
          -1.1305545949149578,
          -1.4042787535845844,
          -1.047192049958398,
          -1.7062430433981837,
          1.0406748783313535,
          2.603230292200818,
          -0.45588335299079275,
          1.0172306316579824,
          -0.693019405978078,
          0.3229610115017036,
          -0.1277257660468025,
          -0.1807752695669388,
          -0.27881021294072755,
          -0.507580865896411,
          0.5046709690440891,
          0.05779397036814958,
          -0.8739310677129855,
          -1.5171668436546109,
          0.2103284547817714,
          -0.2876494863559525,
          -0.27380897287263584,
          -0.39468103443361874,
          1.2138186670235764,
          -1.1763908107905696,
          -0.6905409504347623,
          0.06320490997305743,
          -0.7156225632534614,
          -1.5693393310807464,
          1.3000718895120567,
          -0.8974172400966365,
          -1.1879501225629767,
          0.11384289484320421,
          -0.0650235497763702,
          -0.17192387639926812,
          0.1822730143198839,
          -1.2890501348396302,
          -0.08631434729283817,
          0.9314827288196189,
          -0.343699859315308,
          0.3321520635968143,
          -0.2792076671860723,
          0.5902727958788655,
          -0.9797952884959037,
          1.3233738189549666,
          -0.9833479609096336,
          -0.824933730173071,
          -0.2900561002124916,
          0.98159145364883,
          1.7616843811085157,
          0.9194420221106,
          -2.678004829352987,
          1.7157153410166455,
          -1.3658609547855702,
          -0.5917148213076168,
          -1.113407552973405,
          1.5438265040803627,
          0.0916017762288628,
          -1.3891670183006424,
          -0.06210004705111074,
          -0.10160228286509329,
          -0.10034150180669871,
          2.098253749252335,
          -1.9136082063618318,
          2.2509058712518946,
          0.8327274034959132,
          0.3033332957175999,
          2.6833417001980493,
          0.7576534733306034,
          0.9500571946556061,
          0.04208920924634037,
          0.8425203307201007
         ],
         "xaxis": "x16",
         "yaxis": "y16"
        }
       ],
       "layout": {
        "bargap": 0.02,
        "legend": {
         "bgcolor": "#F5F6F9",
         "font": {
          "color": "#4D5663"
         }
        },
        "paper_bgcolor": "#F5F6F9",
        "plot_bgcolor": "#F5F6F9",
        "showlegend": false,
        "template": {
         "data": {
          "bar": [
           {
            "error_x": {
             "color": "#2a3f5f"
            },
            "error_y": {
             "color": "#2a3f5f"
            },
            "marker": {
             "line": {
              "color": "#E5ECF6",
              "width": 0.5
             },
             "pattern": {
              "fillmode": "overlay",
              "size": 10,
              "solidity": 0.2
             }
            },
            "type": "bar"
           }
          ],
          "barpolar": [
           {
            "marker": {
             "line": {
              "color": "#E5ECF6",
              "width": 0.5
             },
             "pattern": {
              "fillmode": "overlay",
              "size": 10,
              "solidity": 0.2
             }
            },
            "type": "barpolar"
           }
          ],
          "carpet": [
           {
            "aaxis": {
             "endlinecolor": "#2a3f5f",
             "gridcolor": "white",
             "linecolor": "white",
             "minorgridcolor": "white",
             "startlinecolor": "#2a3f5f"
            },
            "baxis": {
             "endlinecolor": "#2a3f5f",
             "gridcolor": "white",
             "linecolor": "white",
             "minorgridcolor": "white",
             "startlinecolor": "#2a3f5f"
            },
            "type": "carpet"
           }
          ],
          "choropleth": [
           {
            "colorbar": {
             "outlinewidth": 0,
             "ticks": ""
            },
            "type": "choropleth"
           }
          ],
          "contour": [
           {
            "colorbar": {
             "outlinewidth": 0,
             "ticks": ""
            },
            "colorscale": [
             [
              0,
              "#0d0887"
             ],
             [
              0.1111111111111111,
              "#46039f"
             ],
             [
              0.2222222222222222,
              "#7201a8"
             ],
             [
              0.3333333333333333,
              "#9c179e"
             ],
             [
              0.4444444444444444,
              "#bd3786"
             ],
             [
              0.5555555555555556,
              "#d8576b"
             ],
             [
              0.6666666666666666,
              "#ed7953"
             ],
             [
              0.7777777777777778,
              "#fb9f3a"
             ],
             [
              0.8888888888888888,
              "#fdca26"
             ],
             [
              1,
              "#f0f921"
             ]
            ],
            "type": "contour"
           }
          ],
          "contourcarpet": [
           {
            "colorbar": {
             "outlinewidth": 0,
             "ticks": ""
            },
            "type": "contourcarpet"
           }
          ],
          "heatmap": [
           {
            "colorbar": {
             "outlinewidth": 0,
             "ticks": ""
            },
            "colorscale": [
             [
              0,
              "#0d0887"
             ],
             [
              0.1111111111111111,
              "#46039f"
             ],
             [
              0.2222222222222222,
              "#7201a8"
             ],
             [
              0.3333333333333333,
              "#9c179e"
             ],
             [
              0.4444444444444444,
              "#bd3786"
             ],
             [
              0.5555555555555556,
              "#d8576b"
             ],
             [
              0.6666666666666666,
              "#ed7953"
             ],
             [
              0.7777777777777778,
              "#fb9f3a"
             ],
             [
              0.8888888888888888,
              "#fdca26"
             ],
             [
              1,
              "#f0f921"
             ]
            ],
            "type": "heatmap"
           }
          ],
          "heatmapgl": [
           {
            "colorbar": {
             "outlinewidth": 0,
             "ticks": ""
            },
            "colorscale": [
             [
              0,
              "#0d0887"
             ],
             [
              0.1111111111111111,
              "#46039f"
             ],
             [
              0.2222222222222222,
              "#7201a8"
             ],
             [
              0.3333333333333333,
              "#9c179e"
             ],
             [
              0.4444444444444444,
              "#bd3786"
             ],
             [
              0.5555555555555556,
              "#d8576b"
             ],
             [
              0.6666666666666666,
              "#ed7953"
             ],
             [
              0.7777777777777778,
              "#fb9f3a"
             ],
             [
              0.8888888888888888,
              "#fdca26"
             ],
             [
              1,
              "#f0f921"
             ]
            ],
            "type": "heatmapgl"
           }
          ],
          "histogram": [
           {
            "marker": {
             "pattern": {
              "fillmode": "overlay",
              "size": 10,
              "solidity": 0.2
             }
            },
            "type": "histogram"
           }
          ],
          "histogram2d": [
           {
            "colorbar": {
             "outlinewidth": 0,
             "ticks": ""
            },
            "colorscale": [
             [
              0,
              "#0d0887"
             ],
             [
              0.1111111111111111,
              "#46039f"
             ],
             [
              0.2222222222222222,
              "#7201a8"
             ],
             [
              0.3333333333333333,
              "#9c179e"
             ],
             [
              0.4444444444444444,
              "#bd3786"
             ],
             [
              0.5555555555555556,
              "#d8576b"
             ],
             [
              0.6666666666666666,
              "#ed7953"
             ],
             [
              0.7777777777777778,
              "#fb9f3a"
             ],
             [
              0.8888888888888888,
              "#fdca26"
             ],
             [
              1,
              "#f0f921"
             ]
            ],
            "type": "histogram2d"
           }
          ],
          "histogram2dcontour": [
           {
            "colorbar": {
             "outlinewidth": 0,
             "ticks": ""
            },
            "colorscale": [
             [
              0,
              "#0d0887"
             ],
             [
              0.1111111111111111,
              "#46039f"
             ],
             [
              0.2222222222222222,
              "#7201a8"
             ],
             [
              0.3333333333333333,
              "#9c179e"
             ],
             [
              0.4444444444444444,
              "#bd3786"
             ],
             [
              0.5555555555555556,
              "#d8576b"
             ],
             [
              0.6666666666666666,
              "#ed7953"
             ],
             [
              0.7777777777777778,
              "#fb9f3a"
             ],
             [
              0.8888888888888888,
              "#fdca26"
             ],
             [
              1,
              "#f0f921"
             ]
            ],
            "type": "histogram2dcontour"
           }
          ],
          "mesh3d": [
           {
            "colorbar": {
             "outlinewidth": 0,
             "ticks": ""
            },
            "type": "mesh3d"
           }
          ],
          "parcoords": [
           {
            "line": {
             "colorbar": {
              "outlinewidth": 0,
              "ticks": ""
             }
            },
            "type": "parcoords"
           }
          ],
          "pie": [
           {
            "automargin": true,
            "type": "pie"
           }
          ],
          "scatter": [
           {
            "fillpattern": {
             "fillmode": "overlay",
             "size": 10,
             "solidity": 0.2
            },
            "type": "scatter"
           }
          ],
          "scatter3d": [
           {
            "line": {
             "colorbar": {
              "outlinewidth": 0,
              "ticks": ""
             }
            },
            "marker": {
             "colorbar": {
              "outlinewidth": 0,
              "ticks": ""
             }
            },
            "type": "scatter3d"
           }
          ],
          "scattercarpet": [
           {
            "marker": {
             "colorbar": {
              "outlinewidth": 0,
              "ticks": ""
             }
            },
            "type": "scattercarpet"
           }
          ],
          "scattergeo": [
           {
            "marker": {
             "colorbar": {
              "outlinewidth": 0,
              "ticks": ""
             }
            },
            "type": "scattergeo"
           }
          ],
          "scattergl": [
           {
            "marker": {
             "colorbar": {
              "outlinewidth": 0,
              "ticks": ""
             }
            },
            "type": "scattergl"
           }
          ],
          "scattermapbox": [
           {
            "marker": {
             "colorbar": {
              "outlinewidth": 0,
              "ticks": ""
             }
            },
            "type": "scattermapbox"
           }
          ],
          "scatterpolar": [
           {
            "marker": {
             "colorbar": {
              "outlinewidth": 0,
              "ticks": ""
             }
            },
            "type": "scatterpolar"
           }
          ],
          "scatterpolargl": [
           {
            "marker": {
             "colorbar": {
              "outlinewidth": 0,
              "ticks": ""
             }
            },
            "type": "scatterpolargl"
           }
          ],
          "scatterternary": [
           {
            "marker": {
             "colorbar": {
              "outlinewidth": 0,
              "ticks": ""
             }
            },
            "type": "scatterternary"
           }
          ],
          "surface": [
           {
            "colorbar": {
             "outlinewidth": 0,
             "ticks": ""
            },
            "colorscale": [
             [
              0,
              "#0d0887"
             ],
             [
              0.1111111111111111,
              "#46039f"
             ],
             [
              0.2222222222222222,
              "#7201a8"
             ],
             [
              0.3333333333333333,
              "#9c179e"
             ],
             [
              0.4444444444444444,
              "#bd3786"
             ],
             [
              0.5555555555555556,
              "#d8576b"
             ],
             [
              0.6666666666666666,
              "#ed7953"
             ],
             [
              0.7777777777777778,
              "#fb9f3a"
             ],
             [
              0.8888888888888888,
              "#fdca26"
             ],
             [
              1,
              "#f0f921"
             ]
            ],
            "type": "surface"
           }
          ],
          "table": [
           {
            "cells": {
             "fill": {
              "color": "#EBF0F8"
             },
             "line": {
              "color": "white"
             }
            },
            "header": {
             "fill": {
              "color": "#C8D4E3"
             },
             "line": {
              "color": "white"
             }
            },
            "type": "table"
           }
          ]
         },
         "layout": {
          "annotationdefaults": {
           "arrowcolor": "#2a3f5f",
           "arrowhead": 0,
           "arrowwidth": 1
          },
          "autotypenumbers": "strict",
          "coloraxis": {
           "colorbar": {
            "outlinewidth": 0,
            "ticks": ""
           }
          },
          "colorscale": {
           "diverging": [
            [
             0,
             "#8e0152"
            ],
            [
             0.1,
             "#c51b7d"
            ],
            [
             0.2,
             "#de77ae"
            ],
            [
             0.3,
             "#f1b6da"
            ],
            [
             0.4,
             "#fde0ef"
            ],
            [
             0.5,
             "#f7f7f7"
            ],
            [
             0.6,
             "#e6f5d0"
            ],
            [
             0.7,
             "#b8e186"
            ],
            [
             0.8,
             "#7fbc41"
            ],
            [
             0.9,
             "#4d9221"
            ],
            [
             1,
             "#276419"
            ]
           ],
           "sequential": [
            [
             0,
             "#0d0887"
            ],
            [
             0.1111111111111111,
             "#46039f"
            ],
            [
             0.2222222222222222,
             "#7201a8"
            ],
            [
             0.3333333333333333,
             "#9c179e"
            ],
            [
             0.4444444444444444,
             "#bd3786"
            ],
            [
             0.5555555555555556,
             "#d8576b"
            ],
            [
             0.6666666666666666,
             "#ed7953"
            ],
            [
             0.7777777777777778,
             "#fb9f3a"
            ],
            [
             0.8888888888888888,
             "#fdca26"
            ],
            [
             1,
             "#f0f921"
            ]
           ],
           "sequentialminus": [
            [
             0,
             "#0d0887"
            ],
            [
             0.1111111111111111,
             "#46039f"
            ],
            [
             0.2222222222222222,
             "#7201a8"
            ],
            [
             0.3333333333333333,
             "#9c179e"
            ],
            [
             0.4444444444444444,
             "#bd3786"
            ],
            [
             0.5555555555555556,
             "#d8576b"
            ],
            [
             0.6666666666666666,
             "#ed7953"
            ],
            [
             0.7777777777777778,
             "#fb9f3a"
            ],
            [
             0.8888888888888888,
             "#fdca26"
            ],
            [
             1,
             "#f0f921"
            ]
           ]
          },
          "colorway": [
           "#636efa",
           "#EF553B",
           "#00cc96",
           "#ab63fa",
           "#FFA15A",
           "#19d3f3",
           "#FF6692",
           "#B6E880",
           "#FF97FF",
           "#FECB52"
          ],
          "font": {
           "color": "#2a3f5f"
          },
          "geo": {
           "bgcolor": "white",
           "lakecolor": "white",
           "landcolor": "#E5ECF6",
           "showlakes": true,
           "showland": true,
           "subunitcolor": "white"
          },
          "hoverlabel": {
           "align": "left"
          },
          "hovermode": "closest",
          "mapbox": {
           "style": "light"
          },
          "paper_bgcolor": "white",
          "plot_bgcolor": "#E5ECF6",
          "polar": {
           "angularaxis": {
            "gridcolor": "white",
            "linecolor": "white",
            "ticks": ""
           },
           "bgcolor": "#E5ECF6",
           "radialaxis": {
            "gridcolor": "white",
            "linecolor": "white",
            "ticks": ""
           }
          },
          "scene": {
           "xaxis": {
            "backgroundcolor": "#E5ECF6",
            "gridcolor": "white",
            "gridwidth": 2,
            "linecolor": "white",
            "showbackground": true,
            "ticks": "",
            "zerolinecolor": "white"
           },
           "yaxis": {
            "backgroundcolor": "#E5ECF6",
            "gridcolor": "white",
            "gridwidth": 2,
            "linecolor": "white",
            "showbackground": true,
            "ticks": "",
            "zerolinecolor": "white"
           },
           "zaxis": {
            "backgroundcolor": "#E5ECF6",
            "gridcolor": "white",
            "gridwidth": 2,
            "linecolor": "white",
            "showbackground": true,
            "ticks": "",
            "zerolinecolor": "white"
           }
          },
          "shapedefaults": {
           "line": {
            "color": "#2a3f5f"
           }
          },
          "ternary": {
           "aaxis": {
            "gridcolor": "white",
            "linecolor": "white",
            "ticks": ""
           },
           "baxis": {
            "gridcolor": "white",
            "linecolor": "white",
            "ticks": ""
           },
           "bgcolor": "#E5ECF6",
           "caxis": {
            "gridcolor": "white",
            "linecolor": "white",
            "ticks": ""
           }
          },
          "title": {
           "x": 0.05
          },
          "xaxis": {
           "automargin": true,
           "gridcolor": "white",
           "linecolor": "white",
           "ticks": "",
           "title": {
            "standoff": 15
           },
           "zerolinecolor": "white",
           "zerolinewidth": 2
          },
          "yaxis": {
           "automargin": true,
           "gridcolor": "white",
           "linecolor": "white",
           "ticks": "",
           "title": {
            "standoff": 15
           },
           "zerolinecolor": "white",
           "zerolinewidth": 2
          }
         }
        },
        "title": {
         "font": {
          "color": "#4D5663"
         }
        },
        "xaxis": {
         "anchor": "y",
         "domain": [
          0,
          0.2125
         ],
         "gridcolor": "#E1E5ED",
         "showgrid": false,
         "tickfont": {
          "color": "#4D5663"
         },
         "title": {
          "font": {
           "color": "#4D5663"
          },
          "text": ""
         },
         "zerolinecolor": "#E1E5ED"
        },
        "xaxis10": {
         "anchor": "y10",
         "domain": [
          0.2625,
          0.475
         ],
         "gridcolor": "#E1E5ED",
         "showgrid": false,
         "tickfont": {
          "color": "#4D5663"
         },
         "title": {
          "font": {
           "color": "#4D5663"
          },
          "text": ""
         },
         "zerolinecolor": "#E1E5ED"
        },
        "xaxis11": {
         "anchor": "y11",
         "domain": [
          0.525,
          0.7375
         ],
         "gridcolor": "#E1E5ED",
         "showgrid": false,
         "tickfont": {
          "color": "#4D5663"
         },
         "title": {
          "font": {
           "color": "#4D5663"
          },
          "text": ""
         },
         "zerolinecolor": "#E1E5ED"
        },
        "xaxis12": {
         "anchor": "y12",
         "domain": [
          0.7875,
          1
         ],
         "gridcolor": "#E1E5ED",
         "showgrid": false,
         "tickfont": {
          "color": "#4D5663"
         },
         "title": {
          "font": {
           "color": "#4D5663"
          },
          "text": ""
         },
         "zerolinecolor": "#E1E5ED"
        },
        "xaxis13": {
         "anchor": "y13",
         "domain": [
          0,
          0.2125
         ],
         "gridcolor": "#E1E5ED",
         "showgrid": false,
         "tickfont": {
          "color": "#4D5663"
         },
         "title": {
          "font": {
           "color": "#4D5663"
          },
          "text": ""
         },
         "zerolinecolor": "#E1E5ED"
        },
        "xaxis14": {
         "anchor": "y14",
         "domain": [
          0.2625,
          0.475
         ],
         "gridcolor": "#E1E5ED",
         "showgrid": false,
         "tickfont": {
          "color": "#4D5663"
         },
         "title": {
          "font": {
           "color": "#4D5663"
          },
          "text": ""
         },
         "zerolinecolor": "#E1E5ED"
        },
        "xaxis15": {
         "anchor": "y15",
         "domain": [
          0.525,
          0.7375
         ],
         "gridcolor": "#E1E5ED",
         "showgrid": false,
         "tickfont": {
          "color": "#4D5663"
         },
         "title": {
          "font": {
           "color": "#4D5663"
          },
          "text": ""
         },
         "zerolinecolor": "#E1E5ED"
        },
        "xaxis16": {
         "anchor": "y16",
         "domain": [
          0.7875,
          1
         ],
         "gridcolor": "#E1E5ED",
         "showgrid": false,
         "tickfont": {
          "color": "#4D5663"
         },
         "title": {
          "font": {
           "color": "#4D5663"
          },
          "text": ""
         },
         "zerolinecolor": "#E1E5ED"
        },
        "xaxis2": {
         "anchor": "y2",
         "domain": [
          0.2625,
          0.475
         ],
         "gridcolor": "#E1E5ED",
         "showgrid": false,
         "tickfont": {
          "color": "#4D5663"
         },
         "title": {
          "font": {
           "color": "#4D5663"
          },
          "text": ""
         },
         "zerolinecolor": "#E1E5ED"
        },
        "xaxis3": {
         "anchor": "y3",
         "domain": [
          0.525,
          0.7375
         ],
         "gridcolor": "#E1E5ED",
         "showgrid": false,
         "tickfont": {
          "color": "#4D5663"
         },
         "title": {
          "font": {
           "color": "#4D5663"
          },
          "text": ""
         },
         "zerolinecolor": "#E1E5ED"
        },
        "xaxis4": {
         "anchor": "y4",
         "domain": [
          0.7875,
          1
         ],
         "gridcolor": "#E1E5ED",
         "showgrid": false,
         "tickfont": {
          "color": "#4D5663"
         },
         "title": {
          "font": {
           "color": "#4D5663"
          },
          "text": ""
         },
         "zerolinecolor": "#E1E5ED"
        },
        "xaxis5": {
         "anchor": "y5",
         "domain": [
          0,
          0.2125
         ],
         "gridcolor": "#E1E5ED",
         "showgrid": false,
         "tickfont": {
          "color": "#4D5663"
         },
         "title": {
          "font": {
           "color": "#4D5663"
          },
          "text": ""
         },
         "zerolinecolor": "#E1E5ED"
        },
        "xaxis6": {
         "anchor": "y6",
         "domain": [
          0.2625,
          0.475
         ],
         "gridcolor": "#E1E5ED",
         "showgrid": false,
         "tickfont": {
          "color": "#4D5663"
         },
         "title": {
          "font": {
           "color": "#4D5663"
          },
          "text": ""
         },
         "zerolinecolor": "#E1E5ED"
        },
        "xaxis7": {
         "anchor": "y7",
         "domain": [
          0.525,
          0.7375
         ],
         "gridcolor": "#E1E5ED",
         "showgrid": false,
         "tickfont": {
          "color": "#4D5663"
         },
         "title": {
          "font": {
           "color": "#4D5663"
          },
          "text": ""
         },
         "zerolinecolor": "#E1E5ED"
        },
        "xaxis8": {
         "anchor": "y8",
         "domain": [
          0.7875,
          1
         ],
         "gridcolor": "#E1E5ED",
         "showgrid": false,
         "tickfont": {
          "color": "#4D5663"
         },
         "title": {
          "font": {
           "color": "#4D5663"
          },
          "text": ""
         },
         "zerolinecolor": "#E1E5ED"
        },
        "xaxis9": {
         "anchor": "y9",
         "domain": [
          0,
          0.2125
         ],
         "gridcolor": "#E1E5ED",
         "showgrid": false,
         "tickfont": {
          "color": "#4D5663"
         },
         "title": {
          "font": {
           "color": "#4D5663"
          },
          "text": ""
         },
         "zerolinecolor": "#E1E5ED"
        },
        "yaxis": {
         "anchor": "x",
         "domain": [
          0.8025,
          1
         ],
         "gridcolor": "#E1E5ED",
         "showgrid": false,
         "tickfont": {
          "color": "#4D5663"
         },
         "title": {
          "font": {
           "color": "#4D5663"
          },
          "text": ""
         },
         "zerolinecolor": "#E1E5ED"
        },
        "yaxis10": {
         "anchor": "x10",
         "domain": [
          0.2675,
          0.465
         ],
         "gridcolor": "#E1E5ED",
         "showgrid": false,
         "tickfont": {
          "color": "#4D5663"
         },
         "title": {
          "font": {
           "color": "#4D5663"
          },
          "text": ""
         },
         "zerolinecolor": "#E1E5ED"
        },
        "yaxis11": {
         "anchor": "x11",
         "domain": [
          0.2675,
          0.465
         ],
         "gridcolor": "#E1E5ED",
         "showgrid": false,
         "tickfont": {
          "color": "#4D5663"
         },
         "title": {
          "font": {
           "color": "#4D5663"
          },
          "text": ""
         },
         "zerolinecolor": "#E1E5ED"
        },
        "yaxis12": {
         "anchor": "x12",
         "domain": [
          0.2675,
          0.465
         ],
         "gridcolor": "#E1E5ED",
         "showgrid": false,
         "tickfont": {
          "color": "#4D5663"
         },
         "title": {
          "font": {
           "color": "#4D5663"
          },
          "text": ""
         },
         "zerolinecolor": "#E1E5ED"
        },
        "yaxis13": {
         "anchor": "x13",
         "domain": [
          0,
          0.1975
         ],
         "gridcolor": "#E1E5ED",
         "showgrid": false,
         "tickfont": {
          "color": "#4D5663"
         },
         "title": {
          "font": {
           "color": "#4D5663"
          },
          "text": ""
         },
         "zerolinecolor": "#E1E5ED"
        },
        "yaxis14": {
         "anchor": "x14",
         "domain": [
          0,
          0.1975
         ],
         "gridcolor": "#E1E5ED",
         "showgrid": false,
         "tickfont": {
          "color": "#4D5663"
         },
         "title": {
          "font": {
           "color": "#4D5663"
          },
          "text": ""
         },
         "zerolinecolor": "#E1E5ED"
        },
        "yaxis15": {
         "anchor": "x15",
         "domain": [
          0,
          0.1975
         ],
         "gridcolor": "#E1E5ED",
         "showgrid": false,
         "tickfont": {
          "color": "#4D5663"
         },
         "title": {
          "font": {
           "color": "#4D5663"
          },
          "text": ""
         },
         "zerolinecolor": "#E1E5ED"
        },
        "yaxis16": {
         "anchor": "x16",
         "domain": [
          0,
          0.1975
         ],
         "gridcolor": "#E1E5ED",
         "showgrid": false,
         "tickfont": {
          "color": "#4D5663"
         },
         "title": {
          "font": {
           "color": "#4D5663"
          },
          "text": ""
         },
         "zerolinecolor": "#E1E5ED"
        },
        "yaxis2": {
         "anchor": "x2",
         "domain": [
          0.8025,
          1
         ],
         "gridcolor": "#E1E5ED",
         "showgrid": false,
         "tickfont": {
          "color": "#4D5663"
         },
         "title": {
          "font": {
           "color": "#4D5663"
          },
          "text": ""
         },
         "zerolinecolor": "#E1E5ED"
        },
        "yaxis3": {
         "anchor": "x3",
         "domain": [
          0.8025,
          1
         ],
         "gridcolor": "#E1E5ED",
         "showgrid": false,
         "tickfont": {
          "color": "#4D5663"
         },
         "title": {
          "font": {
           "color": "#4D5663"
          },
          "text": ""
         },
         "zerolinecolor": "#E1E5ED"
        },
        "yaxis4": {
         "anchor": "x4",
         "domain": [
          0.8025,
          1
         ],
         "gridcolor": "#E1E5ED",
         "showgrid": false,
         "tickfont": {
          "color": "#4D5663"
         },
         "title": {
          "font": {
           "color": "#4D5663"
          },
          "text": ""
         },
         "zerolinecolor": "#E1E5ED"
        },
        "yaxis5": {
         "anchor": "x5",
         "domain": [
          0.535,
          0.7325
         ],
         "gridcolor": "#E1E5ED",
         "showgrid": false,
         "tickfont": {
          "color": "#4D5663"
         },
         "title": {
          "font": {
           "color": "#4D5663"
          },
          "text": ""
         },
         "zerolinecolor": "#E1E5ED"
        },
        "yaxis6": {
         "anchor": "x6",
         "domain": [
          0.535,
          0.7325
         ],
         "gridcolor": "#E1E5ED",
         "showgrid": false,
         "tickfont": {
          "color": "#4D5663"
         },
         "title": {
          "font": {
           "color": "#4D5663"
          },
          "text": ""
         },
         "zerolinecolor": "#E1E5ED"
        },
        "yaxis7": {
         "anchor": "x7",
         "domain": [
          0.535,
          0.7325
         ],
         "gridcolor": "#E1E5ED",
         "showgrid": false,
         "tickfont": {
          "color": "#4D5663"
         },
         "title": {
          "font": {
           "color": "#4D5663"
          },
          "text": ""
         },
         "zerolinecolor": "#E1E5ED"
        },
        "yaxis8": {
         "anchor": "x8",
         "domain": [
          0.535,
          0.7325
         ],
         "gridcolor": "#E1E5ED",
         "showgrid": false,
         "tickfont": {
          "color": "#4D5663"
         },
         "title": {
          "font": {
           "color": "#4D5663"
          },
          "text": ""
         },
         "zerolinecolor": "#E1E5ED"
        },
        "yaxis9": {
         "anchor": "x9",
         "domain": [
          0.2675,
          0.465
         ],
         "gridcolor": "#E1E5ED",
         "showgrid": false,
         "tickfont": {
          "color": "#4D5663"
         },
         "title": {
          "font": {
           "color": "#4D5663"
          },
          "text": ""
         },
         "zerolinecolor": "#E1E5ED"
        }
       }
      },
      "text/html": [
       "<div>                            <div id=\"5721b30b-c7ad-42e3-a4f2-19271b2e4ec2\" class=\"plotly-graph-div\" style=\"height:525px; width:100%;\"></div>            <script type=\"text/javascript\">                require([\"plotly\"], function(Plotly) {                    window.PLOTLYENV=window.PLOTLYENV || {};\n",
       "                    window.PLOTLYENV.BASE_URL='https://plot.ly';                                    if (document.getElementById(\"5721b30b-c7ad-42e3-a4f2-19271b2e4ec2\")) {                    Plotly.newPlot(                        \"5721b30b-c7ad-42e3-a4f2-19271b2e4ec2\",                        [{\"histfunc\":\"count\",\"histnorm\":\"\",\"marker\":{\"color\":\"rgba(255, 153, 51, 1.0)\",\"line\":{\"color\":\"#4D5663\",\"width\":1.3}},\"name\":\"A\",\"nbinsx\":10,\"opacity\":0.8,\"orientation\":\"v\",\"x\":[0.08548394392684941,-0.5893916978546746,-0.8419665667833715,1.0653294037412206,-0.30404866925348994,0.3220582584509832,1.1049131997268444,0.32518021155482785,2.7803713071535303,-0.6512650673063205,0.49199825674186487,-0.08508963549565635,0.5726425435043762,2.1386501290862214,-0.9950235584665907,2.0052327231453364,1.9086945678707794,-0.4672730441548413,0.09809372512041015,0.20776175313101258,-0.13008291273505135,-0.213716607920109,-0.752971396659258,-0.8856345833042678,-0.21828897744131906,-1.5221842260642924,1.7597176132531838,0.368692867252797,0.012002423023914443,-0.3300847199674508,-1.174027326022618,0.27669897261410636,0.9022235975340244,0.1237670623846236,0.27474926924742754,-1.2318138433306547,-0.9291362405434669,0.2581841484670674,-0.35557870411472275,0.31329107322223737,-0.10998911435349933,-0.6056942752510703,0.5496119520128204,0.7217212678834122,1.1080438778814063,1.194652068448999,1.9452460051287748,-1.0096690093450156,0.06886112821121931,-0.22386569878334348,0.3722266141668129,2.3949425017894628,-1.5415993206560856,0.31051517323586425,-0.9007115672683569,-0.37250269015414444,0.12892868685879072,-2.093099841220505,0.19281052497404821,-0.14026793411748828,0.7202355995317967,1.9985914284907331,-0.024224308482236806,0.01896759967272472,-1.5884383627946148,0.14382833009913976,0.8208787993291673,0.11647492827936208,0.8148442245171553,-0.9944542791659978,-1.5826860570144032,-1.0027608392246807,0.6405945754015209,-1.2307004748798553,-0.9114975696364512,1.37764411838987,0.5203887980053448,-0.6308501093425088,-0.04108239600910254,-0.14803345522911654,0.27240046321175776,-0.0984268942816003,-0.7917134062519374,-0.6755333627675957,0.5021187599504238,-1.489214963700235,0.08552835376163205,-1.8220289030449843,1.3610498831089615,-1.5377662111236543,0.4413929766677556,1.1406361331627282,1.7219831491686641,-0.154773148802657,-0.2652967487886054,1.0404378705960964,-0.9175907022603449,-0.8622776172416078,-1.3999208590790715,0.09066006069192459],\"xaxis\":\"x\",\"yaxis\":\"y\",\"type\":\"histogram\"},{\"line\":{\"color\":\"rgba(128, 128, 128, 1.0)\",\"dash\":\"solid\",\"shape\":\"linear\",\"width\":1.3},\"marker\":{\"size\":2,\"symbol\":\"circle\"},\"mode\":\"markers\",\"name\":\"A\",\"text\":\"\",\"x\":[-0.1624050135760886,0.980851981664618,1.6263758604043954,0.6670449829300747,0.8463914642614553,-0.5557547356556708,1.3335019465823352,-0.30360500311515876,-0.5572485277306021,1.7923193575265437,0.5230714474292316,1.3962847654068788,0.5454202975825965,0.8220066168038932,0.1333294140157902,-0.4580923125178034,-1.8702657688987048,0.19165599638946365,-1.5441476695946914,1.489985153554788,0.08513682537748908,0.5884943933265148,-0.37527778093043845,-1.2420986135906638,-0.09359385888729599,-0.8993751877593811,0.9038336626818552,0.19897941905376915,-0.3499682664519889,-0.813255283672789,-0.761601608488013,0.6852647594122985,0.7444146965136054,-0.10824902571549988,1.0343766589925962,0.6794742299814396,-1.377108827556193,-0.9198084554974598,1.2754158682756254,-0.6805171783915703,1.6295186194490634,1.3058104975166638,-0.008015691590719798,0.37945370182803906,-0.9344148723391815,0.33642615175310187,-1.117113472484452,1.2098097732957693,1.890729615247962,-0.3020317509780135,-0.795391429211958,0.5145436162551661,-1.17644678201426,0.011191592090796853,-2.664750053974455,-0.7052058747591703,0.4318577646237392,0.3482634341301973,0.6748205565464416,-0.34169023793862807,-0.07989141803255546,-0.1006525565267022,0.7334329357689917,0.8392098396231535,-0.4553307130666966,-0.7064260571420193,0.15230984770640202,0.6237041195854198,0.5318919831274378,0.5221352231397314,-0.8174059688720081,2.4389763497413726,-0.1242766171971954,1.9621837956400514,-0.09450483861151593,-0.27813013860092584,1.8763100787933222,-1.149197127466469,-0.33071258304144435,-0.903204616889579,-0.38847979647058817,-1.1896469966014003,-0.20764447487221024,1.243884872816924,-0.5090636362684436,-1.0423055947393969,-0.06350848782566847,-0.715011626851832,-0.004311390566099713,0.35968046038437906,0.3482155214518224,1.5642585538961675,0.05372460015033393,0.26927859988825925,0.9459316001975121,-1.3231038977865164,-0.13177750479968495,2.894936439883955,1.2620145095169104,-2.673128848304644],\"xaxis\":\"x2\",\"y\":[0.08548394392684941,-0.5893916978546746,-0.8419665667833715,1.0653294037412206,-0.30404866925348994,0.3220582584509832,1.1049131997268444,0.32518021155482785,2.7803713071535303,-0.6512650673063205,0.49199825674186487,-0.08508963549565635,0.5726425435043762,2.1386501290862214,-0.9950235584665907,2.0052327231453364,1.9086945678707794,-0.4672730441548413,0.09809372512041015,0.20776175313101258,-0.13008291273505135,-0.213716607920109,-0.752971396659258,-0.8856345833042678,-0.21828897744131906,-1.5221842260642924,1.7597176132531838,0.368692867252797,0.012002423023914443,-0.3300847199674508,-1.174027326022618,0.27669897261410636,0.9022235975340244,0.1237670623846236,0.27474926924742754,-1.2318138433306547,-0.9291362405434669,0.2581841484670674,-0.35557870411472275,0.31329107322223737,-0.10998911435349933,-0.6056942752510703,0.5496119520128204,0.7217212678834122,1.1080438778814063,1.194652068448999,1.9452460051287748,-1.0096690093450156,0.06886112821121931,-0.22386569878334348,0.3722266141668129,2.3949425017894628,-1.5415993206560856,0.31051517323586425,-0.9007115672683569,-0.37250269015414444,0.12892868685879072,-2.093099841220505,0.19281052497404821,-0.14026793411748828,0.7202355995317967,1.9985914284907331,-0.024224308482236806,0.01896759967272472,-1.5884383627946148,0.14382833009913976,0.8208787993291673,0.11647492827936208,0.8148442245171553,-0.9944542791659978,-1.5826860570144032,-1.0027608392246807,0.6405945754015209,-1.2307004748798553,-0.9114975696364512,1.37764411838987,0.5203887980053448,-0.6308501093425088,-0.04108239600910254,-0.14803345522911654,0.27240046321175776,-0.0984268942816003,-0.7917134062519374,-0.6755333627675957,0.5021187599504238,-1.489214963700235,0.08552835376163205,-1.8220289030449843,1.3610498831089615,-1.5377662111236543,0.4413929766677556,1.1406361331627282,1.7219831491686641,-0.154773148802657,-0.2652967487886054,1.0404378705960964,-0.9175907022603449,-0.8622776172416078,-1.3999208590790715,0.09066006069192459],\"yaxis\":\"y2\",\"type\":\"scatter\"},{\"line\":{\"color\":\"rgba(128, 128, 128, 1.0)\",\"dash\":\"solid\",\"shape\":\"linear\",\"width\":1.3},\"marker\":{\"size\":2,\"symbol\":\"circle\"},\"mode\":\"markers\",\"name\":\"A\",\"text\":\"\",\"x\":[0.6412589089125755,1.472567741037022,-0.2687466186269782,-1.7735064924519603,0.5601400122075234,0.25217416536870757,-1.3215997730280071,-1.7262086242966832,-0.9738853524478275,1.2500283602315663,0.5249984551350043,-1.502163493955724,0.9113486982285866,0.6796501710359869,-0.635856076990072,-1.5901119656069276,-0.7904035535920758,0.34955478363036163,-0.6636661473619723,1.1783113790227202,-1.2808617434642788,1.2370923961343416,0.4925215168066359,1.0590414161745894,0.3818303607994144,0.3309854097822343,0.16466632880907464,0.15742594633466814,0.24139038536893875,0.20974639260906272,-0.4376340808291526,0.45307155889739953,-0.1195415538869707,0.7050934558410267,-0.16505543858861943,-0.0744610225167786,-1.5359055532970263,-0.3179748445068104,-0.9355433150515867,0.7763428615270302,-0.7570288525819087,-0.5232076867983879,-1.052788698551844,-1.2789749060079498,2.1658442574234646,0.6516143243986185,-0.46556438374990194,-0.2868044646248472,0.44127415645197704,-1.292478675144893,0.02701392480956382,1.1674132319349262,-0.34019771545061356,0.9321924054092174,-0.7928124486847574,-0.16498525070646566,1.2217990862318404,0.44302455085292114,-1.6612556202937296,-0.47056999434915275,0.7476295398312772,0.2122729890849066,-0.6474087501116943,-1.498408832541912,0.6061541873041607,-0.46516793267155004,0.6289680770835141,-0.46396714401992867,0.3091540300280098,-1.049917603902546,1.1484605009911824,-0.7755442675016427,-0.16128609405326352,0.5540049239205772,-0.6041047593824724,0.6312424861158306,-1.7140095898951782,-0.27122334414049487,-1.7643029354927504,-1.2568226575240087,-0.8211420844568663,0.7368746723538686,0.41721452554864924,0.07562441066740945,0.676921980063291,0.43084182319755937,-0.04001504424991739,-0.11533662855753606,0.04023772431325562,0.11617110860078872,2.1731346128638154,0.445067331245984,-1.0448362291742717,0.24246137636291806,1.0033335882793126,-0.844881667918056,1.1021227464217307,0.47606015853335476,-0.06914169012261069,-1.0479609140632111],\"xaxis\":\"x3\",\"y\":[0.08548394392684941,-0.5893916978546746,-0.8419665667833715,1.0653294037412206,-0.30404866925348994,0.3220582584509832,1.1049131997268444,0.32518021155482785,2.7803713071535303,-0.6512650673063205,0.49199825674186487,-0.08508963549565635,0.5726425435043762,2.1386501290862214,-0.9950235584665907,2.0052327231453364,1.9086945678707794,-0.4672730441548413,0.09809372512041015,0.20776175313101258,-0.13008291273505135,-0.213716607920109,-0.752971396659258,-0.8856345833042678,-0.21828897744131906,-1.5221842260642924,1.7597176132531838,0.368692867252797,0.012002423023914443,-0.3300847199674508,-1.174027326022618,0.27669897261410636,0.9022235975340244,0.1237670623846236,0.27474926924742754,-1.2318138433306547,-0.9291362405434669,0.2581841484670674,-0.35557870411472275,0.31329107322223737,-0.10998911435349933,-0.6056942752510703,0.5496119520128204,0.7217212678834122,1.1080438778814063,1.194652068448999,1.9452460051287748,-1.0096690093450156,0.06886112821121931,-0.22386569878334348,0.3722266141668129,2.3949425017894628,-1.5415993206560856,0.31051517323586425,-0.9007115672683569,-0.37250269015414444,0.12892868685879072,-2.093099841220505,0.19281052497404821,-0.14026793411748828,0.7202355995317967,1.9985914284907331,-0.024224308482236806,0.01896759967272472,-1.5884383627946148,0.14382833009913976,0.8208787993291673,0.11647492827936208,0.8148442245171553,-0.9944542791659978,-1.5826860570144032,-1.0027608392246807,0.6405945754015209,-1.2307004748798553,-0.9114975696364512,1.37764411838987,0.5203887980053448,-0.6308501093425088,-0.04108239600910254,-0.14803345522911654,0.27240046321175776,-0.0984268942816003,-0.7917134062519374,-0.6755333627675957,0.5021187599504238,-1.489214963700235,0.08552835376163205,-1.8220289030449843,1.3610498831089615,-1.5377662111236543,0.4413929766677556,1.1406361331627282,1.7219831491686641,-0.154773148802657,-0.2652967487886054,1.0404378705960964,-0.9175907022603449,-0.8622776172416078,-1.3999208590790715,0.09066006069192459],\"yaxis\":\"y3\",\"type\":\"scatter\"},{\"line\":{\"color\":\"rgba(128, 128, 128, 1.0)\",\"dash\":\"solid\",\"shape\":\"linear\",\"width\":1.3},\"marker\":{\"size\":2,\"symbol\":\"circle\"},\"mode\":\"markers\",\"name\":\"A\",\"text\":\"\",\"x\":[-1.7822917875091935,0.1915208695213333,-1.1467068976703902,0.30624681099494816,0.03229961002316076,-0.41019555202988855,0.9234459150834765,0.6845490151314748,1.3976402216500794,0.34078001060667357,-0.04312938263882135,1.1579173247188355,-0.24375085798034005,0.6635410586107904,-0.41214106415805,0.20783347409624986,1.9778035277350121,1.8035219152401591,0.8672718446751185,1.1225593110805672,1.3585885827802862,0.09615802852056259,-2.1654458285904705,0.801827621288512,1.0912870409177637,-0.47755874710532253,0.8669663674008047,1.4450890511468257,0.020537975107899877,-1.1305545949149578,-1.4042787535845844,-1.047192049958398,-1.7062430433981837,1.0406748783313535,2.603230292200818,-0.45588335299079275,1.0172306316579824,-0.693019405978078,0.3229610115017036,-0.1277257660468025,-0.1807752695669388,-0.27881021294072755,-0.507580865896411,0.5046709690440891,0.05779397036814958,-0.8739310677129855,-1.5171668436546109,0.2103284547817714,-0.2876494863559525,-0.27380897287263584,-0.39468103443361874,1.2138186670235764,-1.1763908107905696,-0.6905409504347623,0.06320490997305743,-0.7156225632534614,-1.5693393310807464,1.3000718895120567,-0.8974172400966365,-1.1879501225629767,0.11384289484320421,-0.0650235497763702,-0.17192387639926812,0.1822730143198839,-1.2890501348396302,-0.08631434729283817,0.9314827288196189,-0.343699859315308,0.3321520635968143,-0.2792076671860723,0.5902727958788655,-0.9797952884959037,1.3233738189549666,-0.9833479609096336,-0.824933730173071,-0.2900561002124916,0.98159145364883,1.7616843811085157,0.9194420221106,-2.678004829352987,1.7157153410166455,-1.3658609547855702,-0.5917148213076168,-1.113407552973405,1.5438265040803627,0.0916017762288628,-1.3891670183006424,-0.06210004705111074,-0.10160228286509329,-0.10034150180669871,2.098253749252335,-1.9136082063618318,2.2509058712518946,0.8327274034959132,0.3033332957175999,2.6833417001980493,0.7576534733306034,0.9500571946556061,0.04208920924634037,0.8425203307201007],\"xaxis\":\"x4\",\"y\":[0.08548394392684941,-0.5893916978546746,-0.8419665667833715,1.0653294037412206,-0.30404866925348994,0.3220582584509832,1.1049131997268444,0.32518021155482785,2.7803713071535303,-0.6512650673063205,0.49199825674186487,-0.08508963549565635,0.5726425435043762,2.1386501290862214,-0.9950235584665907,2.0052327231453364,1.9086945678707794,-0.4672730441548413,0.09809372512041015,0.20776175313101258,-0.13008291273505135,-0.213716607920109,-0.752971396659258,-0.8856345833042678,-0.21828897744131906,-1.5221842260642924,1.7597176132531838,0.368692867252797,0.012002423023914443,-0.3300847199674508,-1.174027326022618,0.27669897261410636,0.9022235975340244,0.1237670623846236,0.27474926924742754,-1.2318138433306547,-0.9291362405434669,0.2581841484670674,-0.35557870411472275,0.31329107322223737,-0.10998911435349933,-0.6056942752510703,0.5496119520128204,0.7217212678834122,1.1080438778814063,1.194652068448999,1.9452460051287748,-1.0096690093450156,0.06886112821121931,-0.22386569878334348,0.3722266141668129,2.3949425017894628,-1.5415993206560856,0.31051517323586425,-0.9007115672683569,-0.37250269015414444,0.12892868685879072,-2.093099841220505,0.19281052497404821,-0.14026793411748828,0.7202355995317967,1.9985914284907331,-0.024224308482236806,0.01896759967272472,-1.5884383627946148,0.14382833009913976,0.8208787993291673,0.11647492827936208,0.8148442245171553,-0.9944542791659978,-1.5826860570144032,-1.0027608392246807,0.6405945754015209,-1.2307004748798553,-0.9114975696364512,1.37764411838987,0.5203887980053448,-0.6308501093425088,-0.04108239600910254,-0.14803345522911654,0.27240046321175776,-0.0984268942816003,-0.7917134062519374,-0.6755333627675957,0.5021187599504238,-1.489214963700235,0.08552835376163205,-1.8220289030449843,1.3610498831089615,-1.5377662111236543,0.4413929766677556,1.1406361331627282,1.7219831491686641,-0.154773148802657,-0.2652967487886054,1.0404378705960964,-0.9175907022603449,-0.8622776172416078,-1.3999208590790715,0.09066006069192459],\"yaxis\":\"y4\",\"type\":\"scatter\"},{\"line\":{\"color\":\"rgba(128, 128, 128, 1.0)\",\"dash\":\"solid\",\"shape\":\"linear\",\"width\":1.3},\"marker\":{\"size\":2,\"symbol\":\"circle\"},\"mode\":\"markers\",\"name\":\"B\",\"text\":\"\",\"x\":[0.08548394392684941,-0.5893916978546746,-0.8419665667833715,1.0653294037412206,-0.30404866925348994,0.3220582584509832,1.1049131997268444,0.32518021155482785,2.7803713071535303,-0.6512650673063205,0.49199825674186487,-0.08508963549565635,0.5726425435043762,2.1386501290862214,-0.9950235584665907,2.0052327231453364,1.9086945678707794,-0.4672730441548413,0.09809372512041015,0.20776175313101258,-0.13008291273505135,-0.213716607920109,-0.752971396659258,-0.8856345833042678,-0.21828897744131906,-1.5221842260642924,1.7597176132531838,0.368692867252797,0.012002423023914443,-0.3300847199674508,-1.174027326022618,0.27669897261410636,0.9022235975340244,0.1237670623846236,0.27474926924742754,-1.2318138433306547,-0.9291362405434669,0.2581841484670674,-0.35557870411472275,0.31329107322223737,-0.10998911435349933,-0.6056942752510703,0.5496119520128204,0.7217212678834122,1.1080438778814063,1.194652068448999,1.9452460051287748,-1.0096690093450156,0.06886112821121931,-0.22386569878334348,0.3722266141668129,2.3949425017894628,-1.5415993206560856,0.31051517323586425,-0.9007115672683569,-0.37250269015414444,0.12892868685879072,-2.093099841220505,0.19281052497404821,-0.14026793411748828,0.7202355995317967,1.9985914284907331,-0.024224308482236806,0.01896759967272472,-1.5884383627946148,0.14382833009913976,0.8208787993291673,0.11647492827936208,0.8148442245171553,-0.9944542791659978,-1.5826860570144032,-1.0027608392246807,0.6405945754015209,-1.2307004748798553,-0.9114975696364512,1.37764411838987,0.5203887980053448,-0.6308501093425088,-0.04108239600910254,-0.14803345522911654,0.27240046321175776,-0.0984268942816003,-0.7917134062519374,-0.6755333627675957,0.5021187599504238,-1.489214963700235,0.08552835376163205,-1.8220289030449843,1.3610498831089615,-1.5377662111236543,0.4413929766677556,1.1406361331627282,1.7219831491686641,-0.154773148802657,-0.2652967487886054,1.0404378705960964,-0.9175907022603449,-0.8622776172416078,-1.3999208590790715,0.09066006069192459],\"xaxis\":\"x5\",\"y\":[-0.1624050135760886,0.980851981664618,1.6263758604043954,0.6670449829300747,0.8463914642614553,-0.5557547356556708,1.3335019465823352,-0.30360500311515876,-0.5572485277306021,1.7923193575265437,0.5230714474292316,1.3962847654068788,0.5454202975825965,0.8220066168038932,0.1333294140157902,-0.4580923125178034,-1.8702657688987048,0.19165599638946365,-1.5441476695946914,1.489985153554788,0.08513682537748908,0.5884943933265148,-0.37527778093043845,-1.2420986135906638,-0.09359385888729599,-0.8993751877593811,0.9038336626818552,0.19897941905376915,-0.3499682664519889,-0.813255283672789,-0.761601608488013,0.6852647594122985,0.7444146965136054,-0.10824902571549988,1.0343766589925962,0.6794742299814396,-1.377108827556193,-0.9198084554974598,1.2754158682756254,-0.6805171783915703,1.6295186194490634,1.3058104975166638,-0.008015691590719798,0.37945370182803906,-0.9344148723391815,0.33642615175310187,-1.117113472484452,1.2098097732957693,1.890729615247962,-0.3020317509780135,-0.795391429211958,0.5145436162551661,-1.17644678201426,0.011191592090796853,-2.664750053974455,-0.7052058747591703,0.4318577646237392,0.3482634341301973,0.6748205565464416,-0.34169023793862807,-0.07989141803255546,-0.1006525565267022,0.7334329357689917,0.8392098396231535,-0.4553307130666966,-0.7064260571420193,0.15230984770640202,0.6237041195854198,0.5318919831274378,0.5221352231397314,-0.8174059688720081,2.4389763497413726,-0.1242766171971954,1.9621837956400514,-0.09450483861151593,-0.27813013860092584,1.8763100787933222,-1.149197127466469,-0.33071258304144435,-0.903204616889579,-0.38847979647058817,-1.1896469966014003,-0.20764447487221024,1.243884872816924,-0.5090636362684436,-1.0423055947393969,-0.06350848782566847,-0.715011626851832,-0.004311390566099713,0.35968046038437906,0.3482155214518224,1.5642585538961675,0.05372460015033393,0.26927859988825925,0.9459316001975121,-1.3231038977865164,-0.13177750479968495,2.894936439883955,1.2620145095169104,-2.673128848304644],\"yaxis\":\"y5\",\"type\":\"scatter\"},{\"histfunc\":\"count\",\"histnorm\":\"\",\"marker\":{\"color\":\"rgba(55, 128, 191, 1.0)\",\"line\":{\"color\":\"#4D5663\",\"width\":1.3}},\"name\":\"B\",\"nbinsx\":10,\"opacity\":0.8,\"orientation\":\"v\",\"x\":[-0.1624050135760886,0.980851981664618,1.6263758604043954,0.6670449829300747,0.8463914642614553,-0.5557547356556708,1.3335019465823352,-0.30360500311515876,-0.5572485277306021,1.7923193575265437,0.5230714474292316,1.3962847654068788,0.5454202975825965,0.8220066168038932,0.1333294140157902,-0.4580923125178034,-1.8702657688987048,0.19165599638946365,-1.5441476695946914,1.489985153554788,0.08513682537748908,0.5884943933265148,-0.37527778093043845,-1.2420986135906638,-0.09359385888729599,-0.8993751877593811,0.9038336626818552,0.19897941905376915,-0.3499682664519889,-0.813255283672789,-0.761601608488013,0.6852647594122985,0.7444146965136054,-0.10824902571549988,1.0343766589925962,0.6794742299814396,-1.377108827556193,-0.9198084554974598,1.2754158682756254,-0.6805171783915703,1.6295186194490634,1.3058104975166638,-0.008015691590719798,0.37945370182803906,-0.9344148723391815,0.33642615175310187,-1.117113472484452,1.2098097732957693,1.890729615247962,-0.3020317509780135,-0.795391429211958,0.5145436162551661,-1.17644678201426,0.011191592090796853,-2.664750053974455,-0.7052058747591703,0.4318577646237392,0.3482634341301973,0.6748205565464416,-0.34169023793862807,-0.07989141803255546,-0.1006525565267022,0.7334329357689917,0.8392098396231535,-0.4553307130666966,-0.7064260571420193,0.15230984770640202,0.6237041195854198,0.5318919831274378,0.5221352231397314,-0.8174059688720081,2.4389763497413726,-0.1242766171971954,1.9621837956400514,-0.09450483861151593,-0.27813013860092584,1.8763100787933222,-1.149197127466469,-0.33071258304144435,-0.903204616889579,-0.38847979647058817,-1.1896469966014003,-0.20764447487221024,1.243884872816924,-0.5090636362684436,-1.0423055947393969,-0.06350848782566847,-0.715011626851832,-0.004311390566099713,0.35968046038437906,0.3482155214518224,1.5642585538961675,0.05372460015033393,0.26927859988825925,0.9459316001975121,-1.3231038977865164,-0.13177750479968495,2.894936439883955,1.2620145095169104,-2.673128848304644],\"xaxis\":\"x6\",\"yaxis\":\"y6\",\"type\":\"histogram\"},{\"line\":{\"color\":\"rgba(128, 128, 128, 1.0)\",\"dash\":\"solid\",\"shape\":\"linear\",\"width\":1.3},\"marker\":{\"size\":2,\"symbol\":\"circle\"},\"mode\":\"markers\",\"name\":\"B\",\"text\":\"\",\"x\":[0.6412589089125755,1.472567741037022,-0.2687466186269782,-1.7735064924519603,0.5601400122075234,0.25217416536870757,-1.3215997730280071,-1.7262086242966832,-0.9738853524478275,1.2500283602315663,0.5249984551350043,-1.502163493955724,0.9113486982285866,0.6796501710359869,-0.635856076990072,-1.5901119656069276,-0.7904035535920758,0.34955478363036163,-0.6636661473619723,1.1783113790227202,-1.2808617434642788,1.2370923961343416,0.4925215168066359,1.0590414161745894,0.3818303607994144,0.3309854097822343,0.16466632880907464,0.15742594633466814,0.24139038536893875,0.20974639260906272,-0.4376340808291526,0.45307155889739953,-0.1195415538869707,0.7050934558410267,-0.16505543858861943,-0.0744610225167786,-1.5359055532970263,-0.3179748445068104,-0.9355433150515867,0.7763428615270302,-0.7570288525819087,-0.5232076867983879,-1.052788698551844,-1.2789749060079498,2.1658442574234646,0.6516143243986185,-0.46556438374990194,-0.2868044646248472,0.44127415645197704,-1.292478675144893,0.02701392480956382,1.1674132319349262,-0.34019771545061356,0.9321924054092174,-0.7928124486847574,-0.16498525070646566,1.2217990862318404,0.44302455085292114,-1.6612556202937296,-0.47056999434915275,0.7476295398312772,0.2122729890849066,-0.6474087501116943,-1.498408832541912,0.6061541873041607,-0.46516793267155004,0.6289680770835141,-0.46396714401992867,0.3091540300280098,-1.049917603902546,1.1484605009911824,-0.7755442675016427,-0.16128609405326352,0.5540049239205772,-0.6041047593824724,0.6312424861158306,-1.7140095898951782,-0.27122334414049487,-1.7643029354927504,-1.2568226575240087,-0.8211420844568663,0.7368746723538686,0.41721452554864924,0.07562441066740945,0.676921980063291,0.43084182319755937,-0.04001504424991739,-0.11533662855753606,0.04023772431325562,0.11617110860078872,2.1731346128638154,0.445067331245984,-1.0448362291742717,0.24246137636291806,1.0033335882793126,-0.844881667918056,1.1021227464217307,0.47606015853335476,-0.06914169012261069,-1.0479609140632111],\"xaxis\":\"x7\",\"y\":[-0.1624050135760886,0.980851981664618,1.6263758604043954,0.6670449829300747,0.8463914642614553,-0.5557547356556708,1.3335019465823352,-0.30360500311515876,-0.5572485277306021,1.7923193575265437,0.5230714474292316,1.3962847654068788,0.5454202975825965,0.8220066168038932,0.1333294140157902,-0.4580923125178034,-1.8702657688987048,0.19165599638946365,-1.5441476695946914,1.489985153554788,0.08513682537748908,0.5884943933265148,-0.37527778093043845,-1.2420986135906638,-0.09359385888729599,-0.8993751877593811,0.9038336626818552,0.19897941905376915,-0.3499682664519889,-0.813255283672789,-0.761601608488013,0.6852647594122985,0.7444146965136054,-0.10824902571549988,1.0343766589925962,0.6794742299814396,-1.377108827556193,-0.9198084554974598,1.2754158682756254,-0.6805171783915703,1.6295186194490634,1.3058104975166638,-0.008015691590719798,0.37945370182803906,-0.9344148723391815,0.33642615175310187,-1.117113472484452,1.2098097732957693,1.890729615247962,-0.3020317509780135,-0.795391429211958,0.5145436162551661,-1.17644678201426,0.011191592090796853,-2.664750053974455,-0.7052058747591703,0.4318577646237392,0.3482634341301973,0.6748205565464416,-0.34169023793862807,-0.07989141803255546,-0.1006525565267022,0.7334329357689917,0.8392098396231535,-0.4553307130666966,-0.7064260571420193,0.15230984770640202,0.6237041195854198,0.5318919831274378,0.5221352231397314,-0.8174059688720081,2.4389763497413726,-0.1242766171971954,1.9621837956400514,-0.09450483861151593,-0.27813013860092584,1.8763100787933222,-1.149197127466469,-0.33071258304144435,-0.903204616889579,-0.38847979647058817,-1.1896469966014003,-0.20764447487221024,1.243884872816924,-0.5090636362684436,-1.0423055947393969,-0.06350848782566847,-0.715011626851832,-0.004311390566099713,0.35968046038437906,0.3482155214518224,1.5642585538961675,0.05372460015033393,0.26927859988825925,0.9459316001975121,-1.3231038977865164,-0.13177750479968495,2.894936439883955,1.2620145095169104,-2.673128848304644],\"yaxis\":\"y7\",\"type\":\"scatter\"},{\"line\":{\"color\":\"rgba(128, 128, 128, 1.0)\",\"dash\":\"solid\",\"shape\":\"linear\",\"width\":1.3},\"marker\":{\"size\":2,\"symbol\":\"circle\"},\"mode\":\"markers\",\"name\":\"B\",\"text\":\"\",\"x\":[-1.7822917875091935,0.1915208695213333,-1.1467068976703902,0.30624681099494816,0.03229961002316076,-0.41019555202988855,0.9234459150834765,0.6845490151314748,1.3976402216500794,0.34078001060667357,-0.04312938263882135,1.1579173247188355,-0.24375085798034005,0.6635410586107904,-0.41214106415805,0.20783347409624986,1.9778035277350121,1.8035219152401591,0.8672718446751185,1.1225593110805672,1.3585885827802862,0.09615802852056259,-2.1654458285904705,0.801827621288512,1.0912870409177637,-0.47755874710532253,0.8669663674008047,1.4450890511468257,0.020537975107899877,-1.1305545949149578,-1.4042787535845844,-1.047192049958398,-1.7062430433981837,1.0406748783313535,2.603230292200818,-0.45588335299079275,1.0172306316579824,-0.693019405978078,0.3229610115017036,-0.1277257660468025,-0.1807752695669388,-0.27881021294072755,-0.507580865896411,0.5046709690440891,0.05779397036814958,-0.8739310677129855,-1.5171668436546109,0.2103284547817714,-0.2876494863559525,-0.27380897287263584,-0.39468103443361874,1.2138186670235764,-1.1763908107905696,-0.6905409504347623,0.06320490997305743,-0.7156225632534614,-1.5693393310807464,1.3000718895120567,-0.8974172400966365,-1.1879501225629767,0.11384289484320421,-0.0650235497763702,-0.17192387639926812,0.1822730143198839,-1.2890501348396302,-0.08631434729283817,0.9314827288196189,-0.343699859315308,0.3321520635968143,-0.2792076671860723,0.5902727958788655,-0.9797952884959037,1.3233738189549666,-0.9833479609096336,-0.824933730173071,-0.2900561002124916,0.98159145364883,1.7616843811085157,0.9194420221106,-2.678004829352987,1.7157153410166455,-1.3658609547855702,-0.5917148213076168,-1.113407552973405,1.5438265040803627,0.0916017762288628,-1.3891670183006424,-0.06210004705111074,-0.10160228286509329,-0.10034150180669871,2.098253749252335,-1.9136082063618318,2.2509058712518946,0.8327274034959132,0.3033332957175999,2.6833417001980493,0.7576534733306034,0.9500571946556061,0.04208920924634037,0.8425203307201007],\"xaxis\":\"x8\",\"y\":[-0.1624050135760886,0.980851981664618,1.6263758604043954,0.6670449829300747,0.8463914642614553,-0.5557547356556708,1.3335019465823352,-0.30360500311515876,-0.5572485277306021,1.7923193575265437,0.5230714474292316,1.3962847654068788,0.5454202975825965,0.8220066168038932,0.1333294140157902,-0.4580923125178034,-1.8702657688987048,0.19165599638946365,-1.5441476695946914,1.489985153554788,0.08513682537748908,0.5884943933265148,-0.37527778093043845,-1.2420986135906638,-0.09359385888729599,-0.8993751877593811,0.9038336626818552,0.19897941905376915,-0.3499682664519889,-0.813255283672789,-0.761601608488013,0.6852647594122985,0.7444146965136054,-0.10824902571549988,1.0343766589925962,0.6794742299814396,-1.377108827556193,-0.9198084554974598,1.2754158682756254,-0.6805171783915703,1.6295186194490634,1.3058104975166638,-0.008015691590719798,0.37945370182803906,-0.9344148723391815,0.33642615175310187,-1.117113472484452,1.2098097732957693,1.890729615247962,-0.3020317509780135,-0.795391429211958,0.5145436162551661,-1.17644678201426,0.011191592090796853,-2.664750053974455,-0.7052058747591703,0.4318577646237392,0.3482634341301973,0.6748205565464416,-0.34169023793862807,-0.07989141803255546,-0.1006525565267022,0.7334329357689917,0.8392098396231535,-0.4553307130666966,-0.7064260571420193,0.15230984770640202,0.6237041195854198,0.5318919831274378,0.5221352231397314,-0.8174059688720081,2.4389763497413726,-0.1242766171971954,1.9621837956400514,-0.09450483861151593,-0.27813013860092584,1.8763100787933222,-1.149197127466469,-0.33071258304144435,-0.903204616889579,-0.38847979647058817,-1.1896469966014003,-0.20764447487221024,1.243884872816924,-0.5090636362684436,-1.0423055947393969,-0.06350848782566847,-0.715011626851832,-0.004311390566099713,0.35968046038437906,0.3482155214518224,1.5642585538961675,0.05372460015033393,0.26927859988825925,0.9459316001975121,-1.3231038977865164,-0.13177750479968495,2.894936439883955,1.2620145095169104,-2.673128848304644],\"yaxis\":\"y8\",\"type\":\"scatter\"},{\"line\":{\"color\":\"rgba(128, 128, 128, 1.0)\",\"dash\":\"solid\",\"shape\":\"linear\",\"width\":1.3},\"marker\":{\"size\":2,\"symbol\":\"circle\"},\"mode\":\"markers\",\"name\":\"C\",\"text\":\"\",\"x\":[0.08548394392684941,-0.5893916978546746,-0.8419665667833715,1.0653294037412206,-0.30404866925348994,0.3220582584509832,1.1049131997268444,0.32518021155482785,2.7803713071535303,-0.6512650673063205,0.49199825674186487,-0.08508963549565635,0.5726425435043762,2.1386501290862214,-0.9950235584665907,2.0052327231453364,1.9086945678707794,-0.4672730441548413,0.09809372512041015,0.20776175313101258,-0.13008291273505135,-0.213716607920109,-0.752971396659258,-0.8856345833042678,-0.21828897744131906,-1.5221842260642924,1.7597176132531838,0.368692867252797,0.012002423023914443,-0.3300847199674508,-1.174027326022618,0.27669897261410636,0.9022235975340244,0.1237670623846236,0.27474926924742754,-1.2318138433306547,-0.9291362405434669,0.2581841484670674,-0.35557870411472275,0.31329107322223737,-0.10998911435349933,-0.6056942752510703,0.5496119520128204,0.7217212678834122,1.1080438778814063,1.194652068448999,1.9452460051287748,-1.0096690093450156,0.06886112821121931,-0.22386569878334348,0.3722266141668129,2.3949425017894628,-1.5415993206560856,0.31051517323586425,-0.9007115672683569,-0.37250269015414444,0.12892868685879072,-2.093099841220505,0.19281052497404821,-0.14026793411748828,0.7202355995317967,1.9985914284907331,-0.024224308482236806,0.01896759967272472,-1.5884383627946148,0.14382833009913976,0.8208787993291673,0.11647492827936208,0.8148442245171553,-0.9944542791659978,-1.5826860570144032,-1.0027608392246807,0.6405945754015209,-1.2307004748798553,-0.9114975696364512,1.37764411838987,0.5203887980053448,-0.6308501093425088,-0.04108239600910254,-0.14803345522911654,0.27240046321175776,-0.0984268942816003,-0.7917134062519374,-0.6755333627675957,0.5021187599504238,-1.489214963700235,0.08552835376163205,-1.8220289030449843,1.3610498831089615,-1.5377662111236543,0.4413929766677556,1.1406361331627282,1.7219831491686641,-0.154773148802657,-0.2652967487886054,1.0404378705960964,-0.9175907022603449,-0.8622776172416078,-1.3999208590790715,0.09066006069192459],\"xaxis\":\"x9\",\"y\":[0.6412589089125755,1.472567741037022,-0.2687466186269782,-1.7735064924519603,0.5601400122075234,0.25217416536870757,-1.3215997730280071,-1.7262086242966832,-0.9738853524478275,1.2500283602315663,0.5249984551350043,-1.502163493955724,0.9113486982285866,0.6796501710359869,-0.635856076990072,-1.5901119656069276,-0.7904035535920758,0.34955478363036163,-0.6636661473619723,1.1783113790227202,-1.2808617434642788,1.2370923961343416,0.4925215168066359,1.0590414161745894,0.3818303607994144,0.3309854097822343,0.16466632880907464,0.15742594633466814,0.24139038536893875,0.20974639260906272,-0.4376340808291526,0.45307155889739953,-0.1195415538869707,0.7050934558410267,-0.16505543858861943,-0.0744610225167786,-1.5359055532970263,-0.3179748445068104,-0.9355433150515867,0.7763428615270302,-0.7570288525819087,-0.5232076867983879,-1.052788698551844,-1.2789749060079498,2.1658442574234646,0.6516143243986185,-0.46556438374990194,-0.2868044646248472,0.44127415645197704,-1.292478675144893,0.02701392480956382,1.1674132319349262,-0.34019771545061356,0.9321924054092174,-0.7928124486847574,-0.16498525070646566,1.2217990862318404,0.44302455085292114,-1.6612556202937296,-0.47056999434915275,0.7476295398312772,0.2122729890849066,-0.6474087501116943,-1.498408832541912,0.6061541873041607,-0.46516793267155004,0.6289680770835141,-0.46396714401992867,0.3091540300280098,-1.049917603902546,1.1484605009911824,-0.7755442675016427,-0.16128609405326352,0.5540049239205772,-0.6041047593824724,0.6312424861158306,-1.7140095898951782,-0.27122334414049487,-1.7643029354927504,-1.2568226575240087,-0.8211420844568663,0.7368746723538686,0.41721452554864924,0.07562441066740945,0.676921980063291,0.43084182319755937,-0.04001504424991739,-0.11533662855753606,0.04023772431325562,0.11617110860078872,2.1731346128638154,0.445067331245984,-1.0448362291742717,0.24246137636291806,1.0033335882793126,-0.844881667918056,1.1021227464217307,0.47606015853335476,-0.06914169012261069,-1.0479609140632111],\"yaxis\":\"y9\",\"type\":\"scatter\"},{\"line\":{\"color\":\"rgba(128, 128, 128, 1.0)\",\"dash\":\"solid\",\"shape\":\"linear\",\"width\":1.3},\"marker\":{\"size\":2,\"symbol\":\"circle\"},\"mode\":\"markers\",\"name\":\"C\",\"text\":\"\",\"x\":[-0.1624050135760886,0.980851981664618,1.6263758604043954,0.6670449829300747,0.8463914642614553,-0.5557547356556708,1.3335019465823352,-0.30360500311515876,-0.5572485277306021,1.7923193575265437,0.5230714474292316,1.3962847654068788,0.5454202975825965,0.8220066168038932,0.1333294140157902,-0.4580923125178034,-1.8702657688987048,0.19165599638946365,-1.5441476695946914,1.489985153554788,0.08513682537748908,0.5884943933265148,-0.37527778093043845,-1.2420986135906638,-0.09359385888729599,-0.8993751877593811,0.9038336626818552,0.19897941905376915,-0.3499682664519889,-0.813255283672789,-0.761601608488013,0.6852647594122985,0.7444146965136054,-0.10824902571549988,1.0343766589925962,0.6794742299814396,-1.377108827556193,-0.9198084554974598,1.2754158682756254,-0.6805171783915703,1.6295186194490634,1.3058104975166638,-0.008015691590719798,0.37945370182803906,-0.9344148723391815,0.33642615175310187,-1.117113472484452,1.2098097732957693,1.890729615247962,-0.3020317509780135,-0.795391429211958,0.5145436162551661,-1.17644678201426,0.011191592090796853,-2.664750053974455,-0.7052058747591703,0.4318577646237392,0.3482634341301973,0.6748205565464416,-0.34169023793862807,-0.07989141803255546,-0.1006525565267022,0.7334329357689917,0.8392098396231535,-0.4553307130666966,-0.7064260571420193,0.15230984770640202,0.6237041195854198,0.5318919831274378,0.5221352231397314,-0.8174059688720081,2.4389763497413726,-0.1242766171971954,1.9621837956400514,-0.09450483861151593,-0.27813013860092584,1.8763100787933222,-1.149197127466469,-0.33071258304144435,-0.903204616889579,-0.38847979647058817,-1.1896469966014003,-0.20764447487221024,1.243884872816924,-0.5090636362684436,-1.0423055947393969,-0.06350848782566847,-0.715011626851832,-0.004311390566099713,0.35968046038437906,0.3482155214518224,1.5642585538961675,0.05372460015033393,0.26927859988825925,0.9459316001975121,-1.3231038977865164,-0.13177750479968495,2.894936439883955,1.2620145095169104,-2.673128848304644],\"xaxis\":\"x10\",\"y\":[0.6412589089125755,1.472567741037022,-0.2687466186269782,-1.7735064924519603,0.5601400122075234,0.25217416536870757,-1.3215997730280071,-1.7262086242966832,-0.9738853524478275,1.2500283602315663,0.5249984551350043,-1.502163493955724,0.9113486982285866,0.6796501710359869,-0.635856076990072,-1.5901119656069276,-0.7904035535920758,0.34955478363036163,-0.6636661473619723,1.1783113790227202,-1.2808617434642788,1.2370923961343416,0.4925215168066359,1.0590414161745894,0.3818303607994144,0.3309854097822343,0.16466632880907464,0.15742594633466814,0.24139038536893875,0.20974639260906272,-0.4376340808291526,0.45307155889739953,-0.1195415538869707,0.7050934558410267,-0.16505543858861943,-0.0744610225167786,-1.5359055532970263,-0.3179748445068104,-0.9355433150515867,0.7763428615270302,-0.7570288525819087,-0.5232076867983879,-1.052788698551844,-1.2789749060079498,2.1658442574234646,0.6516143243986185,-0.46556438374990194,-0.2868044646248472,0.44127415645197704,-1.292478675144893,0.02701392480956382,1.1674132319349262,-0.34019771545061356,0.9321924054092174,-0.7928124486847574,-0.16498525070646566,1.2217990862318404,0.44302455085292114,-1.6612556202937296,-0.47056999434915275,0.7476295398312772,0.2122729890849066,-0.6474087501116943,-1.498408832541912,0.6061541873041607,-0.46516793267155004,0.6289680770835141,-0.46396714401992867,0.3091540300280098,-1.049917603902546,1.1484605009911824,-0.7755442675016427,-0.16128609405326352,0.5540049239205772,-0.6041047593824724,0.6312424861158306,-1.7140095898951782,-0.27122334414049487,-1.7643029354927504,-1.2568226575240087,-0.8211420844568663,0.7368746723538686,0.41721452554864924,0.07562441066740945,0.676921980063291,0.43084182319755937,-0.04001504424991739,-0.11533662855753606,0.04023772431325562,0.11617110860078872,2.1731346128638154,0.445067331245984,-1.0448362291742717,0.24246137636291806,1.0033335882793126,-0.844881667918056,1.1021227464217307,0.47606015853335476,-0.06914169012261069,-1.0479609140632111],\"yaxis\":\"y10\",\"type\":\"scatter\"},{\"histfunc\":\"count\",\"histnorm\":\"\",\"marker\":{\"color\":\"rgba(50, 171, 96, 1.0)\",\"line\":{\"color\":\"#4D5663\",\"width\":1.3}},\"name\":\"C\",\"nbinsx\":10,\"opacity\":0.8,\"orientation\":\"v\",\"x\":[0.6412589089125755,1.472567741037022,-0.2687466186269782,-1.7735064924519603,0.5601400122075234,0.25217416536870757,-1.3215997730280071,-1.7262086242966832,-0.9738853524478275,1.2500283602315663,0.5249984551350043,-1.502163493955724,0.9113486982285866,0.6796501710359869,-0.635856076990072,-1.5901119656069276,-0.7904035535920758,0.34955478363036163,-0.6636661473619723,1.1783113790227202,-1.2808617434642788,1.2370923961343416,0.4925215168066359,1.0590414161745894,0.3818303607994144,0.3309854097822343,0.16466632880907464,0.15742594633466814,0.24139038536893875,0.20974639260906272,-0.4376340808291526,0.45307155889739953,-0.1195415538869707,0.7050934558410267,-0.16505543858861943,-0.0744610225167786,-1.5359055532970263,-0.3179748445068104,-0.9355433150515867,0.7763428615270302,-0.7570288525819087,-0.5232076867983879,-1.052788698551844,-1.2789749060079498,2.1658442574234646,0.6516143243986185,-0.46556438374990194,-0.2868044646248472,0.44127415645197704,-1.292478675144893,0.02701392480956382,1.1674132319349262,-0.34019771545061356,0.9321924054092174,-0.7928124486847574,-0.16498525070646566,1.2217990862318404,0.44302455085292114,-1.6612556202937296,-0.47056999434915275,0.7476295398312772,0.2122729890849066,-0.6474087501116943,-1.498408832541912,0.6061541873041607,-0.46516793267155004,0.6289680770835141,-0.46396714401992867,0.3091540300280098,-1.049917603902546,1.1484605009911824,-0.7755442675016427,-0.16128609405326352,0.5540049239205772,-0.6041047593824724,0.6312424861158306,-1.7140095898951782,-0.27122334414049487,-1.7643029354927504,-1.2568226575240087,-0.8211420844568663,0.7368746723538686,0.41721452554864924,0.07562441066740945,0.676921980063291,0.43084182319755937,-0.04001504424991739,-0.11533662855753606,0.04023772431325562,0.11617110860078872,2.1731346128638154,0.445067331245984,-1.0448362291742717,0.24246137636291806,1.0033335882793126,-0.844881667918056,1.1021227464217307,0.47606015853335476,-0.06914169012261069,-1.0479609140632111],\"xaxis\":\"x11\",\"yaxis\":\"y11\",\"type\":\"histogram\"},{\"line\":{\"color\":\"rgba(128, 128, 128, 1.0)\",\"dash\":\"solid\",\"shape\":\"linear\",\"width\":1.3},\"marker\":{\"size\":2,\"symbol\":\"circle\"},\"mode\":\"markers\",\"name\":\"C\",\"text\":\"\",\"x\":[-1.7822917875091935,0.1915208695213333,-1.1467068976703902,0.30624681099494816,0.03229961002316076,-0.41019555202988855,0.9234459150834765,0.6845490151314748,1.3976402216500794,0.34078001060667357,-0.04312938263882135,1.1579173247188355,-0.24375085798034005,0.6635410586107904,-0.41214106415805,0.20783347409624986,1.9778035277350121,1.8035219152401591,0.8672718446751185,1.1225593110805672,1.3585885827802862,0.09615802852056259,-2.1654458285904705,0.801827621288512,1.0912870409177637,-0.47755874710532253,0.8669663674008047,1.4450890511468257,0.020537975107899877,-1.1305545949149578,-1.4042787535845844,-1.047192049958398,-1.7062430433981837,1.0406748783313535,2.603230292200818,-0.45588335299079275,1.0172306316579824,-0.693019405978078,0.3229610115017036,-0.1277257660468025,-0.1807752695669388,-0.27881021294072755,-0.507580865896411,0.5046709690440891,0.05779397036814958,-0.8739310677129855,-1.5171668436546109,0.2103284547817714,-0.2876494863559525,-0.27380897287263584,-0.39468103443361874,1.2138186670235764,-1.1763908107905696,-0.6905409504347623,0.06320490997305743,-0.7156225632534614,-1.5693393310807464,1.3000718895120567,-0.8974172400966365,-1.1879501225629767,0.11384289484320421,-0.0650235497763702,-0.17192387639926812,0.1822730143198839,-1.2890501348396302,-0.08631434729283817,0.9314827288196189,-0.343699859315308,0.3321520635968143,-0.2792076671860723,0.5902727958788655,-0.9797952884959037,1.3233738189549666,-0.9833479609096336,-0.824933730173071,-0.2900561002124916,0.98159145364883,1.7616843811085157,0.9194420221106,-2.678004829352987,1.7157153410166455,-1.3658609547855702,-0.5917148213076168,-1.113407552973405,1.5438265040803627,0.0916017762288628,-1.3891670183006424,-0.06210004705111074,-0.10160228286509329,-0.10034150180669871,2.098253749252335,-1.9136082063618318,2.2509058712518946,0.8327274034959132,0.3033332957175999,2.6833417001980493,0.7576534733306034,0.9500571946556061,0.04208920924634037,0.8425203307201007],\"xaxis\":\"x12\",\"y\":[0.6412589089125755,1.472567741037022,-0.2687466186269782,-1.7735064924519603,0.5601400122075234,0.25217416536870757,-1.3215997730280071,-1.7262086242966832,-0.9738853524478275,1.2500283602315663,0.5249984551350043,-1.502163493955724,0.9113486982285866,0.6796501710359869,-0.635856076990072,-1.5901119656069276,-0.7904035535920758,0.34955478363036163,-0.6636661473619723,1.1783113790227202,-1.2808617434642788,1.2370923961343416,0.4925215168066359,1.0590414161745894,0.3818303607994144,0.3309854097822343,0.16466632880907464,0.15742594633466814,0.24139038536893875,0.20974639260906272,-0.4376340808291526,0.45307155889739953,-0.1195415538869707,0.7050934558410267,-0.16505543858861943,-0.0744610225167786,-1.5359055532970263,-0.3179748445068104,-0.9355433150515867,0.7763428615270302,-0.7570288525819087,-0.5232076867983879,-1.052788698551844,-1.2789749060079498,2.1658442574234646,0.6516143243986185,-0.46556438374990194,-0.2868044646248472,0.44127415645197704,-1.292478675144893,0.02701392480956382,1.1674132319349262,-0.34019771545061356,0.9321924054092174,-0.7928124486847574,-0.16498525070646566,1.2217990862318404,0.44302455085292114,-1.6612556202937296,-0.47056999434915275,0.7476295398312772,0.2122729890849066,-0.6474087501116943,-1.498408832541912,0.6061541873041607,-0.46516793267155004,0.6289680770835141,-0.46396714401992867,0.3091540300280098,-1.049917603902546,1.1484605009911824,-0.7755442675016427,-0.16128609405326352,0.5540049239205772,-0.6041047593824724,0.6312424861158306,-1.7140095898951782,-0.27122334414049487,-1.7643029354927504,-1.2568226575240087,-0.8211420844568663,0.7368746723538686,0.41721452554864924,0.07562441066740945,0.676921980063291,0.43084182319755937,-0.04001504424991739,-0.11533662855753606,0.04023772431325562,0.11617110860078872,2.1731346128638154,0.445067331245984,-1.0448362291742717,0.24246137636291806,1.0033335882793126,-0.844881667918056,1.1021227464217307,0.47606015853335476,-0.06914169012261069,-1.0479609140632111],\"yaxis\":\"y12\",\"type\":\"scatter\"},{\"line\":{\"color\":\"rgba(128, 128, 128, 1.0)\",\"dash\":\"solid\",\"shape\":\"linear\",\"width\":1.3},\"marker\":{\"size\":2,\"symbol\":\"circle\"},\"mode\":\"markers\",\"name\":\"D\",\"text\":\"\",\"x\":[0.08548394392684941,-0.5893916978546746,-0.8419665667833715,1.0653294037412206,-0.30404866925348994,0.3220582584509832,1.1049131997268444,0.32518021155482785,2.7803713071535303,-0.6512650673063205,0.49199825674186487,-0.08508963549565635,0.5726425435043762,2.1386501290862214,-0.9950235584665907,2.0052327231453364,1.9086945678707794,-0.4672730441548413,0.09809372512041015,0.20776175313101258,-0.13008291273505135,-0.213716607920109,-0.752971396659258,-0.8856345833042678,-0.21828897744131906,-1.5221842260642924,1.7597176132531838,0.368692867252797,0.012002423023914443,-0.3300847199674508,-1.174027326022618,0.27669897261410636,0.9022235975340244,0.1237670623846236,0.27474926924742754,-1.2318138433306547,-0.9291362405434669,0.2581841484670674,-0.35557870411472275,0.31329107322223737,-0.10998911435349933,-0.6056942752510703,0.5496119520128204,0.7217212678834122,1.1080438778814063,1.194652068448999,1.9452460051287748,-1.0096690093450156,0.06886112821121931,-0.22386569878334348,0.3722266141668129,2.3949425017894628,-1.5415993206560856,0.31051517323586425,-0.9007115672683569,-0.37250269015414444,0.12892868685879072,-2.093099841220505,0.19281052497404821,-0.14026793411748828,0.7202355995317967,1.9985914284907331,-0.024224308482236806,0.01896759967272472,-1.5884383627946148,0.14382833009913976,0.8208787993291673,0.11647492827936208,0.8148442245171553,-0.9944542791659978,-1.5826860570144032,-1.0027608392246807,0.6405945754015209,-1.2307004748798553,-0.9114975696364512,1.37764411838987,0.5203887980053448,-0.6308501093425088,-0.04108239600910254,-0.14803345522911654,0.27240046321175776,-0.0984268942816003,-0.7917134062519374,-0.6755333627675957,0.5021187599504238,-1.489214963700235,0.08552835376163205,-1.8220289030449843,1.3610498831089615,-1.5377662111236543,0.4413929766677556,1.1406361331627282,1.7219831491686641,-0.154773148802657,-0.2652967487886054,1.0404378705960964,-0.9175907022603449,-0.8622776172416078,-1.3999208590790715,0.09066006069192459],\"xaxis\":\"x13\",\"y\":[-1.7822917875091935,0.1915208695213333,-1.1467068976703902,0.30624681099494816,0.03229961002316076,-0.41019555202988855,0.9234459150834765,0.6845490151314748,1.3976402216500794,0.34078001060667357,-0.04312938263882135,1.1579173247188355,-0.24375085798034005,0.6635410586107904,-0.41214106415805,0.20783347409624986,1.9778035277350121,1.8035219152401591,0.8672718446751185,1.1225593110805672,1.3585885827802862,0.09615802852056259,-2.1654458285904705,0.801827621288512,1.0912870409177637,-0.47755874710532253,0.8669663674008047,1.4450890511468257,0.020537975107899877,-1.1305545949149578,-1.4042787535845844,-1.047192049958398,-1.7062430433981837,1.0406748783313535,2.603230292200818,-0.45588335299079275,1.0172306316579824,-0.693019405978078,0.3229610115017036,-0.1277257660468025,-0.1807752695669388,-0.27881021294072755,-0.507580865896411,0.5046709690440891,0.05779397036814958,-0.8739310677129855,-1.5171668436546109,0.2103284547817714,-0.2876494863559525,-0.27380897287263584,-0.39468103443361874,1.2138186670235764,-1.1763908107905696,-0.6905409504347623,0.06320490997305743,-0.7156225632534614,-1.5693393310807464,1.3000718895120567,-0.8974172400966365,-1.1879501225629767,0.11384289484320421,-0.0650235497763702,-0.17192387639926812,0.1822730143198839,-1.2890501348396302,-0.08631434729283817,0.9314827288196189,-0.343699859315308,0.3321520635968143,-0.2792076671860723,0.5902727958788655,-0.9797952884959037,1.3233738189549666,-0.9833479609096336,-0.824933730173071,-0.2900561002124916,0.98159145364883,1.7616843811085157,0.9194420221106,-2.678004829352987,1.7157153410166455,-1.3658609547855702,-0.5917148213076168,-1.113407552973405,1.5438265040803627,0.0916017762288628,-1.3891670183006424,-0.06210004705111074,-0.10160228286509329,-0.10034150180669871,2.098253749252335,-1.9136082063618318,2.2509058712518946,0.8327274034959132,0.3033332957175999,2.6833417001980493,0.7576534733306034,0.9500571946556061,0.04208920924634037,0.8425203307201007],\"yaxis\":\"y13\",\"type\":\"scatter\"},{\"line\":{\"color\":\"rgba(128, 128, 128, 1.0)\",\"dash\":\"solid\",\"shape\":\"linear\",\"width\":1.3},\"marker\":{\"size\":2,\"symbol\":\"circle\"},\"mode\":\"markers\",\"name\":\"D\",\"text\":\"\",\"x\":[-0.1624050135760886,0.980851981664618,1.6263758604043954,0.6670449829300747,0.8463914642614553,-0.5557547356556708,1.3335019465823352,-0.30360500311515876,-0.5572485277306021,1.7923193575265437,0.5230714474292316,1.3962847654068788,0.5454202975825965,0.8220066168038932,0.1333294140157902,-0.4580923125178034,-1.8702657688987048,0.19165599638946365,-1.5441476695946914,1.489985153554788,0.08513682537748908,0.5884943933265148,-0.37527778093043845,-1.2420986135906638,-0.09359385888729599,-0.8993751877593811,0.9038336626818552,0.19897941905376915,-0.3499682664519889,-0.813255283672789,-0.761601608488013,0.6852647594122985,0.7444146965136054,-0.10824902571549988,1.0343766589925962,0.6794742299814396,-1.377108827556193,-0.9198084554974598,1.2754158682756254,-0.6805171783915703,1.6295186194490634,1.3058104975166638,-0.008015691590719798,0.37945370182803906,-0.9344148723391815,0.33642615175310187,-1.117113472484452,1.2098097732957693,1.890729615247962,-0.3020317509780135,-0.795391429211958,0.5145436162551661,-1.17644678201426,0.011191592090796853,-2.664750053974455,-0.7052058747591703,0.4318577646237392,0.3482634341301973,0.6748205565464416,-0.34169023793862807,-0.07989141803255546,-0.1006525565267022,0.7334329357689917,0.8392098396231535,-0.4553307130666966,-0.7064260571420193,0.15230984770640202,0.6237041195854198,0.5318919831274378,0.5221352231397314,-0.8174059688720081,2.4389763497413726,-0.1242766171971954,1.9621837956400514,-0.09450483861151593,-0.27813013860092584,1.8763100787933222,-1.149197127466469,-0.33071258304144435,-0.903204616889579,-0.38847979647058817,-1.1896469966014003,-0.20764447487221024,1.243884872816924,-0.5090636362684436,-1.0423055947393969,-0.06350848782566847,-0.715011626851832,-0.004311390566099713,0.35968046038437906,0.3482155214518224,1.5642585538961675,0.05372460015033393,0.26927859988825925,0.9459316001975121,-1.3231038977865164,-0.13177750479968495,2.894936439883955,1.2620145095169104,-2.673128848304644],\"xaxis\":\"x14\",\"y\":[-1.7822917875091935,0.1915208695213333,-1.1467068976703902,0.30624681099494816,0.03229961002316076,-0.41019555202988855,0.9234459150834765,0.6845490151314748,1.3976402216500794,0.34078001060667357,-0.04312938263882135,1.1579173247188355,-0.24375085798034005,0.6635410586107904,-0.41214106415805,0.20783347409624986,1.9778035277350121,1.8035219152401591,0.8672718446751185,1.1225593110805672,1.3585885827802862,0.09615802852056259,-2.1654458285904705,0.801827621288512,1.0912870409177637,-0.47755874710532253,0.8669663674008047,1.4450890511468257,0.020537975107899877,-1.1305545949149578,-1.4042787535845844,-1.047192049958398,-1.7062430433981837,1.0406748783313535,2.603230292200818,-0.45588335299079275,1.0172306316579824,-0.693019405978078,0.3229610115017036,-0.1277257660468025,-0.1807752695669388,-0.27881021294072755,-0.507580865896411,0.5046709690440891,0.05779397036814958,-0.8739310677129855,-1.5171668436546109,0.2103284547817714,-0.2876494863559525,-0.27380897287263584,-0.39468103443361874,1.2138186670235764,-1.1763908107905696,-0.6905409504347623,0.06320490997305743,-0.7156225632534614,-1.5693393310807464,1.3000718895120567,-0.8974172400966365,-1.1879501225629767,0.11384289484320421,-0.0650235497763702,-0.17192387639926812,0.1822730143198839,-1.2890501348396302,-0.08631434729283817,0.9314827288196189,-0.343699859315308,0.3321520635968143,-0.2792076671860723,0.5902727958788655,-0.9797952884959037,1.3233738189549666,-0.9833479609096336,-0.824933730173071,-0.2900561002124916,0.98159145364883,1.7616843811085157,0.9194420221106,-2.678004829352987,1.7157153410166455,-1.3658609547855702,-0.5917148213076168,-1.113407552973405,1.5438265040803627,0.0916017762288628,-1.3891670183006424,-0.06210004705111074,-0.10160228286509329,-0.10034150180669871,2.098253749252335,-1.9136082063618318,2.2509058712518946,0.8327274034959132,0.3033332957175999,2.6833417001980493,0.7576534733306034,0.9500571946556061,0.04208920924634037,0.8425203307201007],\"yaxis\":\"y14\",\"type\":\"scatter\"},{\"line\":{\"color\":\"rgba(128, 128, 128, 1.0)\",\"dash\":\"solid\",\"shape\":\"linear\",\"width\":1.3},\"marker\":{\"size\":2,\"symbol\":\"circle\"},\"mode\":\"markers\",\"name\":\"D\",\"text\":\"\",\"x\":[0.6412589089125755,1.472567741037022,-0.2687466186269782,-1.7735064924519603,0.5601400122075234,0.25217416536870757,-1.3215997730280071,-1.7262086242966832,-0.9738853524478275,1.2500283602315663,0.5249984551350043,-1.502163493955724,0.9113486982285866,0.6796501710359869,-0.635856076990072,-1.5901119656069276,-0.7904035535920758,0.34955478363036163,-0.6636661473619723,1.1783113790227202,-1.2808617434642788,1.2370923961343416,0.4925215168066359,1.0590414161745894,0.3818303607994144,0.3309854097822343,0.16466632880907464,0.15742594633466814,0.24139038536893875,0.20974639260906272,-0.4376340808291526,0.45307155889739953,-0.1195415538869707,0.7050934558410267,-0.16505543858861943,-0.0744610225167786,-1.5359055532970263,-0.3179748445068104,-0.9355433150515867,0.7763428615270302,-0.7570288525819087,-0.5232076867983879,-1.052788698551844,-1.2789749060079498,2.1658442574234646,0.6516143243986185,-0.46556438374990194,-0.2868044646248472,0.44127415645197704,-1.292478675144893,0.02701392480956382,1.1674132319349262,-0.34019771545061356,0.9321924054092174,-0.7928124486847574,-0.16498525070646566,1.2217990862318404,0.44302455085292114,-1.6612556202937296,-0.47056999434915275,0.7476295398312772,0.2122729890849066,-0.6474087501116943,-1.498408832541912,0.6061541873041607,-0.46516793267155004,0.6289680770835141,-0.46396714401992867,0.3091540300280098,-1.049917603902546,1.1484605009911824,-0.7755442675016427,-0.16128609405326352,0.5540049239205772,-0.6041047593824724,0.6312424861158306,-1.7140095898951782,-0.27122334414049487,-1.7643029354927504,-1.2568226575240087,-0.8211420844568663,0.7368746723538686,0.41721452554864924,0.07562441066740945,0.676921980063291,0.43084182319755937,-0.04001504424991739,-0.11533662855753606,0.04023772431325562,0.11617110860078872,2.1731346128638154,0.445067331245984,-1.0448362291742717,0.24246137636291806,1.0033335882793126,-0.844881667918056,1.1021227464217307,0.47606015853335476,-0.06914169012261069,-1.0479609140632111],\"xaxis\":\"x15\",\"y\":[-1.7822917875091935,0.1915208695213333,-1.1467068976703902,0.30624681099494816,0.03229961002316076,-0.41019555202988855,0.9234459150834765,0.6845490151314748,1.3976402216500794,0.34078001060667357,-0.04312938263882135,1.1579173247188355,-0.24375085798034005,0.6635410586107904,-0.41214106415805,0.20783347409624986,1.9778035277350121,1.8035219152401591,0.8672718446751185,1.1225593110805672,1.3585885827802862,0.09615802852056259,-2.1654458285904705,0.801827621288512,1.0912870409177637,-0.47755874710532253,0.8669663674008047,1.4450890511468257,0.020537975107899877,-1.1305545949149578,-1.4042787535845844,-1.047192049958398,-1.7062430433981837,1.0406748783313535,2.603230292200818,-0.45588335299079275,1.0172306316579824,-0.693019405978078,0.3229610115017036,-0.1277257660468025,-0.1807752695669388,-0.27881021294072755,-0.507580865896411,0.5046709690440891,0.05779397036814958,-0.8739310677129855,-1.5171668436546109,0.2103284547817714,-0.2876494863559525,-0.27380897287263584,-0.39468103443361874,1.2138186670235764,-1.1763908107905696,-0.6905409504347623,0.06320490997305743,-0.7156225632534614,-1.5693393310807464,1.3000718895120567,-0.8974172400966365,-1.1879501225629767,0.11384289484320421,-0.0650235497763702,-0.17192387639926812,0.1822730143198839,-1.2890501348396302,-0.08631434729283817,0.9314827288196189,-0.343699859315308,0.3321520635968143,-0.2792076671860723,0.5902727958788655,-0.9797952884959037,1.3233738189549666,-0.9833479609096336,-0.824933730173071,-0.2900561002124916,0.98159145364883,1.7616843811085157,0.9194420221106,-2.678004829352987,1.7157153410166455,-1.3658609547855702,-0.5917148213076168,-1.113407552973405,1.5438265040803627,0.0916017762288628,-1.3891670183006424,-0.06210004705111074,-0.10160228286509329,-0.10034150180669871,2.098253749252335,-1.9136082063618318,2.2509058712518946,0.8327274034959132,0.3033332957175999,2.6833417001980493,0.7576534733306034,0.9500571946556061,0.04208920924634037,0.8425203307201007],\"yaxis\":\"y15\",\"type\":\"scatter\"},{\"histfunc\":\"count\",\"histnorm\":\"\",\"marker\":{\"color\":\"rgba(128, 0, 128, 1.0)\",\"line\":{\"color\":\"#4D5663\",\"width\":1.3}},\"name\":\"D\",\"nbinsx\":10,\"opacity\":0.8,\"orientation\":\"v\",\"x\":[-1.7822917875091935,0.1915208695213333,-1.1467068976703902,0.30624681099494816,0.03229961002316076,-0.41019555202988855,0.9234459150834765,0.6845490151314748,1.3976402216500794,0.34078001060667357,-0.04312938263882135,1.1579173247188355,-0.24375085798034005,0.6635410586107904,-0.41214106415805,0.20783347409624986,1.9778035277350121,1.8035219152401591,0.8672718446751185,1.1225593110805672,1.3585885827802862,0.09615802852056259,-2.1654458285904705,0.801827621288512,1.0912870409177637,-0.47755874710532253,0.8669663674008047,1.4450890511468257,0.020537975107899877,-1.1305545949149578,-1.4042787535845844,-1.047192049958398,-1.7062430433981837,1.0406748783313535,2.603230292200818,-0.45588335299079275,1.0172306316579824,-0.693019405978078,0.3229610115017036,-0.1277257660468025,-0.1807752695669388,-0.27881021294072755,-0.507580865896411,0.5046709690440891,0.05779397036814958,-0.8739310677129855,-1.5171668436546109,0.2103284547817714,-0.2876494863559525,-0.27380897287263584,-0.39468103443361874,1.2138186670235764,-1.1763908107905696,-0.6905409504347623,0.06320490997305743,-0.7156225632534614,-1.5693393310807464,1.3000718895120567,-0.8974172400966365,-1.1879501225629767,0.11384289484320421,-0.0650235497763702,-0.17192387639926812,0.1822730143198839,-1.2890501348396302,-0.08631434729283817,0.9314827288196189,-0.343699859315308,0.3321520635968143,-0.2792076671860723,0.5902727958788655,-0.9797952884959037,1.3233738189549666,-0.9833479609096336,-0.824933730173071,-0.2900561002124916,0.98159145364883,1.7616843811085157,0.9194420221106,-2.678004829352987,1.7157153410166455,-1.3658609547855702,-0.5917148213076168,-1.113407552973405,1.5438265040803627,0.0916017762288628,-1.3891670183006424,-0.06210004705111074,-0.10160228286509329,-0.10034150180669871,2.098253749252335,-1.9136082063618318,2.2509058712518946,0.8327274034959132,0.3033332957175999,2.6833417001980493,0.7576534733306034,0.9500571946556061,0.04208920924634037,0.8425203307201007],\"xaxis\":\"x16\",\"yaxis\":\"y16\",\"type\":\"histogram\"}],                        {\"bargap\":0.02,\"legend\":{\"bgcolor\":\"#F5F6F9\",\"font\":{\"color\":\"#4D5663\"}},\"paper_bgcolor\":\"#F5F6F9\",\"plot_bgcolor\":\"#F5F6F9\",\"showlegend\":false,\"template\":{\"data\":{\"barpolar\":[{\"marker\":{\"line\":{\"color\":\"#E5ECF6\",\"width\":0.5},\"pattern\":{\"fillmode\":\"overlay\",\"size\":10,\"solidity\":0.2}},\"type\":\"barpolar\"}],\"bar\":[{\"error_x\":{\"color\":\"#2a3f5f\"},\"error_y\":{\"color\":\"#2a3f5f\"},\"marker\":{\"line\":{\"color\":\"#E5ECF6\",\"width\":0.5},\"pattern\":{\"fillmode\":\"overlay\",\"size\":10,\"solidity\":0.2}},\"type\":\"bar\"}],\"carpet\":[{\"aaxis\":{\"endlinecolor\":\"#2a3f5f\",\"gridcolor\":\"white\",\"linecolor\":\"white\",\"minorgridcolor\":\"white\",\"startlinecolor\":\"#2a3f5f\"},\"baxis\":{\"endlinecolor\":\"#2a3f5f\",\"gridcolor\":\"white\",\"linecolor\":\"white\",\"minorgridcolor\":\"white\",\"startlinecolor\":\"#2a3f5f\"},\"type\":\"carpet\"}],\"choropleth\":[{\"colorbar\":{\"outlinewidth\":0,\"ticks\":\"\"},\"type\":\"choropleth\"}],\"contourcarpet\":[{\"colorbar\":{\"outlinewidth\":0,\"ticks\":\"\"},\"type\":\"contourcarpet\"}],\"contour\":[{\"colorbar\":{\"outlinewidth\":0,\"ticks\":\"\"},\"colorscale\":[[0.0,\"#0d0887\"],[0.1111111111111111,\"#46039f\"],[0.2222222222222222,\"#7201a8\"],[0.3333333333333333,\"#9c179e\"],[0.4444444444444444,\"#bd3786\"],[0.5555555555555556,\"#d8576b\"],[0.6666666666666666,\"#ed7953\"],[0.7777777777777778,\"#fb9f3a\"],[0.8888888888888888,\"#fdca26\"],[1.0,\"#f0f921\"]],\"type\":\"contour\"}],\"heatmapgl\":[{\"colorbar\":{\"outlinewidth\":0,\"ticks\":\"\"},\"colorscale\":[[0.0,\"#0d0887\"],[0.1111111111111111,\"#46039f\"],[0.2222222222222222,\"#7201a8\"],[0.3333333333333333,\"#9c179e\"],[0.4444444444444444,\"#bd3786\"],[0.5555555555555556,\"#d8576b\"],[0.6666666666666666,\"#ed7953\"],[0.7777777777777778,\"#fb9f3a\"],[0.8888888888888888,\"#fdca26\"],[1.0,\"#f0f921\"]],\"type\":\"heatmapgl\"}],\"heatmap\":[{\"colorbar\":{\"outlinewidth\":0,\"ticks\":\"\"},\"colorscale\":[[0.0,\"#0d0887\"],[0.1111111111111111,\"#46039f\"],[0.2222222222222222,\"#7201a8\"],[0.3333333333333333,\"#9c179e\"],[0.4444444444444444,\"#bd3786\"],[0.5555555555555556,\"#d8576b\"],[0.6666666666666666,\"#ed7953\"],[0.7777777777777778,\"#fb9f3a\"],[0.8888888888888888,\"#fdca26\"],[1.0,\"#f0f921\"]],\"type\":\"heatmap\"}],\"histogram2dcontour\":[{\"colorbar\":{\"outlinewidth\":0,\"ticks\":\"\"},\"colorscale\":[[0.0,\"#0d0887\"],[0.1111111111111111,\"#46039f\"],[0.2222222222222222,\"#7201a8\"],[0.3333333333333333,\"#9c179e\"],[0.4444444444444444,\"#bd3786\"],[0.5555555555555556,\"#d8576b\"],[0.6666666666666666,\"#ed7953\"],[0.7777777777777778,\"#fb9f3a\"],[0.8888888888888888,\"#fdca26\"],[1.0,\"#f0f921\"]],\"type\":\"histogram2dcontour\"}],\"histogram2d\":[{\"colorbar\":{\"outlinewidth\":0,\"ticks\":\"\"},\"colorscale\":[[0.0,\"#0d0887\"],[0.1111111111111111,\"#46039f\"],[0.2222222222222222,\"#7201a8\"],[0.3333333333333333,\"#9c179e\"],[0.4444444444444444,\"#bd3786\"],[0.5555555555555556,\"#d8576b\"],[0.6666666666666666,\"#ed7953\"],[0.7777777777777778,\"#fb9f3a\"],[0.8888888888888888,\"#fdca26\"],[1.0,\"#f0f921\"]],\"type\":\"histogram2d\"}],\"histogram\":[{\"marker\":{\"pattern\":{\"fillmode\":\"overlay\",\"size\":10,\"solidity\":0.2}},\"type\":\"histogram\"}],\"mesh3d\":[{\"colorbar\":{\"outlinewidth\":0,\"ticks\":\"\"},\"type\":\"mesh3d\"}],\"parcoords\":[{\"line\":{\"colorbar\":{\"outlinewidth\":0,\"ticks\":\"\"}},\"type\":\"parcoords\"}],\"pie\":[{\"automargin\":true,\"type\":\"pie\"}],\"scatter3d\":[{\"line\":{\"colorbar\":{\"outlinewidth\":0,\"ticks\":\"\"}},\"marker\":{\"colorbar\":{\"outlinewidth\":0,\"ticks\":\"\"}},\"type\":\"scatter3d\"}],\"scattercarpet\":[{\"marker\":{\"colorbar\":{\"outlinewidth\":0,\"ticks\":\"\"}},\"type\":\"scattercarpet\"}],\"scattergeo\":[{\"marker\":{\"colorbar\":{\"outlinewidth\":0,\"ticks\":\"\"}},\"type\":\"scattergeo\"}],\"scattergl\":[{\"marker\":{\"colorbar\":{\"outlinewidth\":0,\"ticks\":\"\"}},\"type\":\"scattergl\"}],\"scattermapbox\":[{\"marker\":{\"colorbar\":{\"outlinewidth\":0,\"ticks\":\"\"}},\"type\":\"scattermapbox\"}],\"scatterpolargl\":[{\"marker\":{\"colorbar\":{\"outlinewidth\":0,\"ticks\":\"\"}},\"type\":\"scatterpolargl\"}],\"scatterpolar\":[{\"marker\":{\"colorbar\":{\"outlinewidth\":0,\"ticks\":\"\"}},\"type\":\"scatterpolar\"}],\"scatter\":[{\"fillpattern\":{\"fillmode\":\"overlay\",\"size\":10,\"solidity\":0.2},\"type\":\"scatter\"}],\"scatterternary\":[{\"marker\":{\"colorbar\":{\"outlinewidth\":0,\"ticks\":\"\"}},\"type\":\"scatterternary\"}],\"surface\":[{\"colorbar\":{\"outlinewidth\":0,\"ticks\":\"\"},\"colorscale\":[[0.0,\"#0d0887\"],[0.1111111111111111,\"#46039f\"],[0.2222222222222222,\"#7201a8\"],[0.3333333333333333,\"#9c179e\"],[0.4444444444444444,\"#bd3786\"],[0.5555555555555556,\"#d8576b\"],[0.6666666666666666,\"#ed7953\"],[0.7777777777777778,\"#fb9f3a\"],[0.8888888888888888,\"#fdca26\"],[1.0,\"#f0f921\"]],\"type\":\"surface\"}],\"table\":[{\"cells\":{\"fill\":{\"color\":\"#EBF0F8\"},\"line\":{\"color\":\"white\"}},\"header\":{\"fill\":{\"color\":\"#C8D4E3\"},\"line\":{\"color\":\"white\"}},\"type\":\"table\"}]},\"layout\":{\"annotationdefaults\":{\"arrowcolor\":\"#2a3f5f\",\"arrowhead\":0,\"arrowwidth\":1},\"autotypenumbers\":\"strict\",\"coloraxis\":{\"colorbar\":{\"outlinewidth\":0,\"ticks\":\"\"}},\"colorscale\":{\"diverging\":[[0,\"#8e0152\"],[0.1,\"#c51b7d\"],[0.2,\"#de77ae\"],[0.3,\"#f1b6da\"],[0.4,\"#fde0ef\"],[0.5,\"#f7f7f7\"],[0.6,\"#e6f5d0\"],[0.7,\"#b8e186\"],[0.8,\"#7fbc41\"],[0.9,\"#4d9221\"],[1,\"#276419\"]],\"sequential\":[[0.0,\"#0d0887\"],[0.1111111111111111,\"#46039f\"],[0.2222222222222222,\"#7201a8\"],[0.3333333333333333,\"#9c179e\"],[0.4444444444444444,\"#bd3786\"],[0.5555555555555556,\"#d8576b\"],[0.6666666666666666,\"#ed7953\"],[0.7777777777777778,\"#fb9f3a\"],[0.8888888888888888,\"#fdca26\"],[1.0,\"#f0f921\"]],\"sequentialminus\":[[0.0,\"#0d0887\"],[0.1111111111111111,\"#46039f\"],[0.2222222222222222,\"#7201a8\"],[0.3333333333333333,\"#9c179e\"],[0.4444444444444444,\"#bd3786\"],[0.5555555555555556,\"#d8576b\"],[0.6666666666666666,\"#ed7953\"],[0.7777777777777778,\"#fb9f3a\"],[0.8888888888888888,\"#fdca26\"],[1.0,\"#f0f921\"]]},\"colorway\":[\"#636efa\",\"#EF553B\",\"#00cc96\",\"#ab63fa\",\"#FFA15A\",\"#19d3f3\",\"#FF6692\",\"#B6E880\",\"#FF97FF\",\"#FECB52\"],\"font\":{\"color\":\"#2a3f5f\"},\"geo\":{\"bgcolor\":\"white\",\"lakecolor\":\"white\",\"landcolor\":\"#E5ECF6\",\"showlakes\":true,\"showland\":true,\"subunitcolor\":\"white\"},\"hoverlabel\":{\"align\":\"left\"},\"hovermode\":\"closest\",\"mapbox\":{\"style\":\"light\"},\"paper_bgcolor\":\"white\",\"plot_bgcolor\":\"#E5ECF6\",\"polar\":{\"angularaxis\":{\"gridcolor\":\"white\",\"linecolor\":\"white\",\"ticks\":\"\"},\"bgcolor\":\"#E5ECF6\",\"radialaxis\":{\"gridcolor\":\"white\",\"linecolor\":\"white\",\"ticks\":\"\"}},\"scene\":{\"xaxis\":{\"backgroundcolor\":\"#E5ECF6\",\"gridcolor\":\"white\",\"gridwidth\":2,\"linecolor\":\"white\",\"showbackground\":true,\"ticks\":\"\",\"zerolinecolor\":\"white\"},\"yaxis\":{\"backgroundcolor\":\"#E5ECF6\",\"gridcolor\":\"white\",\"gridwidth\":2,\"linecolor\":\"white\",\"showbackground\":true,\"ticks\":\"\",\"zerolinecolor\":\"white\"},\"zaxis\":{\"backgroundcolor\":\"#E5ECF6\",\"gridcolor\":\"white\",\"gridwidth\":2,\"linecolor\":\"white\",\"showbackground\":true,\"ticks\":\"\",\"zerolinecolor\":\"white\"}},\"shapedefaults\":{\"line\":{\"color\":\"#2a3f5f\"}},\"ternary\":{\"aaxis\":{\"gridcolor\":\"white\",\"linecolor\":\"white\",\"ticks\":\"\"},\"baxis\":{\"gridcolor\":\"white\",\"linecolor\":\"white\",\"ticks\":\"\"},\"bgcolor\":\"#E5ECF6\",\"caxis\":{\"gridcolor\":\"white\",\"linecolor\":\"white\",\"ticks\":\"\"}},\"title\":{\"x\":0.05},\"xaxis\":{\"automargin\":true,\"gridcolor\":\"white\",\"linecolor\":\"white\",\"ticks\":\"\",\"title\":{\"standoff\":15},\"zerolinecolor\":\"white\",\"zerolinewidth\":2},\"yaxis\":{\"automargin\":true,\"gridcolor\":\"white\",\"linecolor\":\"white\",\"ticks\":\"\",\"title\":{\"standoff\":15},\"zerolinecolor\":\"white\",\"zerolinewidth\":2}}},\"title\":{\"font\":{\"color\":\"#4D5663\"}},\"xaxis\":{\"anchor\":\"y\",\"domain\":[0.0,0.2125],\"gridcolor\":\"#E1E5ED\",\"showgrid\":false,\"tickfont\":{\"color\":\"#4D5663\"},\"title\":{\"font\":{\"color\":\"#4D5663\"},\"text\":\"\"},\"zerolinecolor\":\"#E1E5ED\"},\"yaxis\":{\"anchor\":\"x\",\"domain\":[0.8025,1.0],\"gridcolor\":\"#E1E5ED\",\"showgrid\":false,\"tickfont\":{\"color\":\"#4D5663\"},\"title\":{\"font\":{\"color\":\"#4D5663\"},\"text\":\"\"},\"zerolinecolor\":\"#E1E5ED\"},\"xaxis2\":{\"anchor\":\"y2\",\"domain\":[0.2625,0.475],\"gridcolor\":\"#E1E5ED\",\"showgrid\":false,\"tickfont\":{\"color\":\"#4D5663\"},\"title\":{\"font\":{\"color\":\"#4D5663\"},\"text\":\"\"},\"zerolinecolor\":\"#E1E5ED\"},\"yaxis2\":{\"anchor\":\"x2\",\"domain\":[0.8025,1.0],\"gridcolor\":\"#E1E5ED\",\"showgrid\":false,\"tickfont\":{\"color\":\"#4D5663\"},\"title\":{\"font\":{\"color\":\"#4D5663\"},\"text\":\"\"},\"zerolinecolor\":\"#E1E5ED\"},\"xaxis3\":{\"anchor\":\"y3\",\"domain\":[0.525,0.7375],\"gridcolor\":\"#E1E5ED\",\"showgrid\":false,\"tickfont\":{\"color\":\"#4D5663\"},\"title\":{\"font\":{\"color\":\"#4D5663\"},\"text\":\"\"},\"zerolinecolor\":\"#E1E5ED\"},\"yaxis3\":{\"anchor\":\"x3\",\"domain\":[0.8025,1.0],\"gridcolor\":\"#E1E5ED\",\"showgrid\":false,\"tickfont\":{\"color\":\"#4D5663\"},\"title\":{\"font\":{\"color\":\"#4D5663\"},\"text\":\"\"},\"zerolinecolor\":\"#E1E5ED\"},\"xaxis4\":{\"anchor\":\"y4\",\"domain\":[0.7875,1.0],\"gridcolor\":\"#E1E5ED\",\"showgrid\":false,\"tickfont\":{\"color\":\"#4D5663\"},\"title\":{\"font\":{\"color\":\"#4D5663\"},\"text\":\"\"},\"zerolinecolor\":\"#E1E5ED\"},\"yaxis4\":{\"anchor\":\"x4\",\"domain\":[0.8025,1.0],\"gridcolor\":\"#E1E5ED\",\"showgrid\":false,\"tickfont\":{\"color\":\"#4D5663\"},\"title\":{\"font\":{\"color\":\"#4D5663\"},\"text\":\"\"},\"zerolinecolor\":\"#E1E5ED\"},\"xaxis5\":{\"anchor\":\"y5\",\"domain\":[0.0,0.2125],\"gridcolor\":\"#E1E5ED\",\"showgrid\":false,\"tickfont\":{\"color\":\"#4D5663\"},\"title\":{\"font\":{\"color\":\"#4D5663\"},\"text\":\"\"},\"zerolinecolor\":\"#E1E5ED\"},\"yaxis5\":{\"anchor\":\"x5\",\"domain\":[0.535,0.7325],\"gridcolor\":\"#E1E5ED\",\"showgrid\":false,\"tickfont\":{\"color\":\"#4D5663\"},\"title\":{\"font\":{\"color\":\"#4D5663\"},\"text\":\"\"},\"zerolinecolor\":\"#E1E5ED\"},\"xaxis6\":{\"anchor\":\"y6\",\"domain\":[0.2625,0.475],\"gridcolor\":\"#E1E5ED\",\"showgrid\":false,\"tickfont\":{\"color\":\"#4D5663\"},\"title\":{\"font\":{\"color\":\"#4D5663\"},\"text\":\"\"},\"zerolinecolor\":\"#E1E5ED\"},\"yaxis6\":{\"anchor\":\"x6\",\"domain\":[0.535,0.7325],\"gridcolor\":\"#E1E5ED\",\"showgrid\":false,\"tickfont\":{\"color\":\"#4D5663\"},\"title\":{\"font\":{\"color\":\"#4D5663\"},\"text\":\"\"},\"zerolinecolor\":\"#E1E5ED\"},\"xaxis7\":{\"anchor\":\"y7\",\"domain\":[0.525,0.7375],\"gridcolor\":\"#E1E5ED\",\"showgrid\":false,\"tickfont\":{\"color\":\"#4D5663\"},\"title\":{\"font\":{\"color\":\"#4D5663\"},\"text\":\"\"},\"zerolinecolor\":\"#E1E5ED\"},\"yaxis7\":{\"anchor\":\"x7\",\"domain\":[0.535,0.7325],\"gridcolor\":\"#E1E5ED\",\"showgrid\":false,\"tickfont\":{\"color\":\"#4D5663\"},\"title\":{\"font\":{\"color\":\"#4D5663\"},\"text\":\"\"},\"zerolinecolor\":\"#E1E5ED\"},\"xaxis8\":{\"anchor\":\"y8\",\"domain\":[0.7875,1.0],\"gridcolor\":\"#E1E5ED\",\"showgrid\":false,\"tickfont\":{\"color\":\"#4D5663\"},\"title\":{\"font\":{\"color\":\"#4D5663\"},\"text\":\"\"},\"zerolinecolor\":\"#E1E5ED\"},\"yaxis8\":{\"anchor\":\"x8\",\"domain\":[0.535,0.7325],\"gridcolor\":\"#E1E5ED\",\"showgrid\":false,\"tickfont\":{\"color\":\"#4D5663\"},\"title\":{\"font\":{\"color\":\"#4D5663\"},\"text\":\"\"},\"zerolinecolor\":\"#E1E5ED\"},\"xaxis9\":{\"anchor\":\"y9\",\"domain\":[0.0,0.2125],\"gridcolor\":\"#E1E5ED\",\"showgrid\":false,\"tickfont\":{\"color\":\"#4D5663\"},\"title\":{\"font\":{\"color\":\"#4D5663\"},\"text\":\"\"},\"zerolinecolor\":\"#E1E5ED\"},\"yaxis9\":{\"anchor\":\"x9\",\"domain\":[0.2675,0.465],\"gridcolor\":\"#E1E5ED\",\"showgrid\":false,\"tickfont\":{\"color\":\"#4D5663\"},\"title\":{\"font\":{\"color\":\"#4D5663\"},\"text\":\"\"},\"zerolinecolor\":\"#E1E5ED\"},\"xaxis10\":{\"anchor\":\"y10\",\"domain\":[0.2625,0.475],\"gridcolor\":\"#E1E5ED\",\"showgrid\":false,\"tickfont\":{\"color\":\"#4D5663\"},\"title\":{\"font\":{\"color\":\"#4D5663\"},\"text\":\"\"},\"zerolinecolor\":\"#E1E5ED\"},\"yaxis10\":{\"anchor\":\"x10\",\"domain\":[0.2675,0.465],\"gridcolor\":\"#E1E5ED\",\"showgrid\":false,\"tickfont\":{\"color\":\"#4D5663\"},\"title\":{\"font\":{\"color\":\"#4D5663\"},\"text\":\"\"},\"zerolinecolor\":\"#E1E5ED\"},\"xaxis11\":{\"anchor\":\"y11\",\"domain\":[0.525,0.7375],\"gridcolor\":\"#E1E5ED\",\"showgrid\":false,\"tickfont\":{\"color\":\"#4D5663\"},\"title\":{\"font\":{\"color\":\"#4D5663\"},\"text\":\"\"},\"zerolinecolor\":\"#E1E5ED\"},\"yaxis11\":{\"anchor\":\"x11\",\"domain\":[0.2675,0.465],\"gridcolor\":\"#E1E5ED\",\"showgrid\":false,\"tickfont\":{\"color\":\"#4D5663\"},\"title\":{\"font\":{\"color\":\"#4D5663\"},\"text\":\"\"},\"zerolinecolor\":\"#E1E5ED\"},\"xaxis12\":{\"anchor\":\"y12\",\"domain\":[0.7875,1.0],\"gridcolor\":\"#E1E5ED\",\"showgrid\":false,\"tickfont\":{\"color\":\"#4D5663\"},\"title\":{\"font\":{\"color\":\"#4D5663\"},\"text\":\"\"},\"zerolinecolor\":\"#E1E5ED\"},\"yaxis12\":{\"anchor\":\"x12\",\"domain\":[0.2675,0.465],\"gridcolor\":\"#E1E5ED\",\"showgrid\":false,\"tickfont\":{\"color\":\"#4D5663\"},\"title\":{\"font\":{\"color\":\"#4D5663\"},\"text\":\"\"},\"zerolinecolor\":\"#E1E5ED\"},\"xaxis13\":{\"anchor\":\"y13\",\"domain\":[0.0,0.2125],\"gridcolor\":\"#E1E5ED\",\"showgrid\":false,\"tickfont\":{\"color\":\"#4D5663\"},\"title\":{\"font\":{\"color\":\"#4D5663\"},\"text\":\"\"},\"zerolinecolor\":\"#E1E5ED\"},\"yaxis13\":{\"anchor\":\"x13\",\"domain\":[0.0,0.1975],\"gridcolor\":\"#E1E5ED\",\"showgrid\":false,\"tickfont\":{\"color\":\"#4D5663\"},\"title\":{\"font\":{\"color\":\"#4D5663\"},\"text\":\"\"},\"zerolinecolor\":\"#E1E5ED\"},\"xaxis14\":{\"anchor\":\"y14\",\"domain\":[0.2625,0.475],\"gridcolor\":\"#E1E5ED\",\"showgrid\":false,\"tickfont\":{\"color\":\"#4D5663\"},\"title\":{\"font\":{\"color\":\"#4D5663\"},\"text\":\"\"},\"zerolinecolor\":\"#E1E5ED\"},\"yaxis14\":{\"anchor\":\"x14\",\"domain\":[0.0,0.1975],\"gridcolor\":\"#E1E5ED\",\"showgrid\":false,\"tickfont\":{\"color\":\"#4D5663\"},\"title\":{\"font\":{\"color\":\"#4D5663\"},\"text\":\"\"},\"zerolinecolor\":\"#E1E5ED\"},\"xaxis15\":{\"anchor\":\"y15\",\"domain\":[0.525,0.7375],\"gridcolor\":\"#E1E5ED\",\"showgrid\":false,\"tickfont\":{\"color\":\"#4D5663\"},\"title\":{\"font\":{\"color\":\"#4D5663\"},\"text\":\"\"},\"zerolinecolor\":\"#E1E5ED\"},\"yaxis15\":{\"anchor\":\"x15\",\"domain\":[0.0,0.1975],\"gridcolor\":\"#E1E5ED\",\"showgrid\":false,\"tickfont\":{\"color\":\"#4D5663\"},\"title\":{\"font\":{\"color\":\"#4D5663\"},\"text\":\"\"},\"zerolinecolor\":\"#E1E5ED\"},\"xaxis16\":{\"anchor\":\"y16\",\"domain\":[0.7875,1.0],\"gridcolor\":\"#E1E5ED\",\"showgrid\":false,\"tickfont\":{\"color\":\"#4D5663\"},\"title\":{\"font\":{\"color\":\"#4D5663\"},\"text\":\"\"},\"zerolinecolor\":\"#E1E5ED\"},\"yaxis16\":{\"anchor\":\"x16\",\"domain\":[0.0,0.1975],\"gridcolor\":\"#E1E5ED\",\"showgrid\":false,\"tickfont\":{\"color\":\"#4D5663\"},\"title\":{\"font\":{\"color\":\"#4D5663\"},\"text\":\"\"},\"zerolinecolor\":\"#E1E5ED\"}},                        {\"showLink\": true, \"linkText\": \"Export to plot.ly\", \"plotlyServerURL\": \"https://plot.ly\", \"responsive\": true}                    ).then(function(){\n",
       "                            \n",
       "var gd = document.getElementById('5721b30b-c7ad-42e3-a4f2-19271b2e4ec2');\n",
       "var x = new MutationObserver(function (mutations, observer) {{\n",
       "        var display = window.getComputedStyle(gd).display;\n",
       "        if (!display || display === 'none') {{\n",
       "            console.log([gd, 'removed!']);\n",
       "            Plotly.purge(gd);\n",
       "            observer.disconnect();\n",
       "        }}\n",
       "}});\n",
       "\n",
       "// Listen for the removal of the full notebook cells\n",
       "var notebookContainer = gd.closest('#notebook-container');\n",
       "if (notebookContainer) {{\n",
       "    x.observe(notebookContainer, {childList: true});\n",
       "}}\n",
       "\n",
       "// Listen for the clearing of the current output cell\n",
       "var outputEl = gd.closest('.output');\n",
       "if (outputEl) {{\n",
       "    x.observe(outputEl, {childList: true});\n",
       "}}\n",
       "\n",
       "                        })                };                });            </script>        </div>"
      ]
     },
     "metadata": {},
     "output_type": "display_data"
    }
   ],
   "source": [
    "df.scatter_matrix()"
   ]
  },
  {
   "cell_type": "code",
   "execution_count": null,
   "metadata": {},
   "outputs": [],
   "source": []
  }
 ],
 "metadata": {
  "kernelspec": {
   "display_name": "Python 3",
   "language": "python",
   "name": "python3"
  },
  "language_info": {
   "codemirror_mode": {
    "name": "ipython",
    "version": 3
   },
   "file_extension": ".py",
   "mimetype": "text/x-python",
   "name": "python",
   "nbconvert_exporter": "python",
   "pygments_lexer": "ipython3",
   "version": "3.8.5"
  }
 },
 "nbformat": 4,
 "nbformat_minor": 4
}
